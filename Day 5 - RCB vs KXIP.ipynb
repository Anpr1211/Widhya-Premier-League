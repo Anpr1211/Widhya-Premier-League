{
 "cells": [
  {
   "cell_type": "code",
   "execution_count": null,
   "metadata": {},
   "outputs": [],
   "source": [
    "# importing libraries\n",
    "import pandas as pd\n",
    "import matplotlib.pyplot as plt"
   ]
  },
  {
   "cell_type": "code",
   "execution_count": null,
   "metadata": {},
   "outputs": [],
   "source": [
    "# read datasets\n",
    "matches = pd.read_csv(\"matches.csv\")\n",
    "deli = pd.read_csv(\"deliveries.csv\")"
   ]
  },
  {
   "cell_type": "markdown",
   "metadata": {},
   "source": [
    "Today's match between KXIP and RCB is going to take place at the venue of Sharjah. Sharjah is a small high scoring ground, similar to the home ground of RCB, M. Chinnaswamy Stadium. Owing to this fact, the analysis has also taken the performances of the two teams at M. Chinnaswamy Stadium into consideration."
   ]
  },
  {
   "cell_type": "markdown",
   "metadata": {},
   "source": [
    "# Question 1:"
   ]
  },
  {
   "cell_type": "code",
   "execution_count": null,
   "metadata": {},
   "outputs": [],
   "source": [
    "# all matches between RCB and KXIP\n",
    "rcb_kxip = matches.query(\"team1.isin(['Royal Challengers Bangalore', 'Kings XI Punjab']) and team2.isin(['Royal Challengers Bangalore', 'Kings XI Punjab'])\")"
   ]
  },
  {
   "cell_type": "code",
   "execution_count": null,
   "metadata": {},
   "outputs": [],
   "source": [
    "# victories of the two teams against each other\n",
    "rcb_kxip.winner.value_counts()"
   ]
  },
  {
   "cell_type": "markdown",
   "metadata": {},
   "source": [
    "Both the teams have equal victories against each other."
   ]
  },
  {
   "cell_type": "code",
   "execution_count": null,
   "metadata": {},
   "outputs": [],
   "source": [
    "# victories of the two teams against each other  at M Chinnaswamy Stadium\n",
    "rcb_kxip.query(\"city == 'Bangalore' or city == 'Bengaluru'\").winner.value_counts()"
   ]
  },
  {
   "cell_type": "markdown",
   "metadata": {},
   "source": [
    "RCB has won one match more than KXIP at M. Chinnaawamy Stadium."
   ]
  },
  {
   "cell_type": "code",
   "execution_count": null,
   "metadata": {},
   "outputs": [],
   "source": [
    "# matches of RCB\n",
    "rcb = matches.query(\"team1 == 'Royal Challengers Bangalore' or team2 == 'Royal Challengers Bangalore'\")"
   ]
  },
  {
   "cell_type": "code",
   "execution_count": null,
   "metadata": {},
   "outputs": [],
   "source": [
    "# RCB win ratio\n",
    "len(rcb[rcb.winner == \"Royal Challengers Bangalore\"])/len(rcb)"
   ]
  },
  {
   "cell_type": "code",
   "execution_count": null,
   "metadata": {},
   "outputs": [],
   "source": [
    "# matches of KXIP\n",
    "kxip = matches.query(\"team1 == 'Kings XI Punjab' or team2 == 'Kings XI Punjab'\")"
   ]
  },
  {
   "cell_type": "code",
   "execution_count": null,
   "metadata": {},
   "outputs": [],
   "source": [
    "# KXIP win ratio\n",
    "len(kxip[kxip.winner == \"Kings XI Punjab\"])/len(kxip)"
   ]
  },
  {
   "cell_type": "markdown",
   "metadata": {},
   "source": [
    "Both the teams have an almost equal win ratio in IPL history."
   ]
  },
  {
   "cell_type": "code",
   "execution_count": null,
   "metadata": {},
   "outputs": [],
   "source": [
    "# filtering on venue\n",
    "venue = matches.query(\"city == 'Bangalore' or city == 'Bengaluru'\")\n",
    "\n",
    "venue.head()"
   ]
  },
  {
   "cell_type": "code",
   "execution_count": null,
   "metadata": {},
   "outputs": [],
   "source": [
    "# count of victories at M Chinnaswamy Stadium by the different teams\n",
    "venue.winner.value_counts()"
   ]
  },
  {
   "cell_type": "code",
   "execution_count": null,
   "metadata": {},
   "outputs": [],
   "source": [
    "# matches played by RCB at the M Chinnaswamy Stadium\n",
    "len(venue.query(\"team1 == 'Royal Challengers Bangalore' or team2 == 'Royal Challengers Bangalore'\"))"
   ]
  },
  {
   "cell_type": "code",
   "execution_count": null,
   "metadata": {},
   "outputs": [],
   "source": [
    "# matches played by KXIP at the M Chinnaswamy Stadium\n",
    "len(venue.query(\"team1 == 'Kings XI Punjab' or team2 == 'Kings XI Punjab'\"))"
   ]
  },
  {
   "cell_type": "code",
   "execution_count": null,
   "metadata": {},
   "outputs": [],
   "source": [
    "# win ratio of RCB at M Chinnaswamy Stadium\n",
    "print(37/76)\n",
    "\n",
    "# win ratio of KXIP at M Chinnaswamy Stadium\n",
    "print(5/12)"
   ]
  },
  {
   "cell_type": "markdown",
   "metadata": {},
   "source": [
    "RCB has a higher win ratio on the M. Chinnaswamy Stadium compared to KXIP."
   ]
  },
  {
   "cell_type": "markdown",
   "metadata": {},
   "source": [
    "## Explanation:\n",
    "\n",
    "On the basis of the historical data of matches between KXIP and RCB and the performance of the two teams at the M. Chinnaswamy Stadium, it seems that RCB will win today's match."
   ]
  },
  {
   "cell_type": "markdown",
   "metadata": {},
   "source": [
    "# Question 2:"
   ]
  },
  {
   "cell_type": "code",
   "execution_count": null,
   "metadata": {},
   "outputs": [],
   "source": [
    "# all deliveries faced by KXIP\n",
    "kxip_bat = deli.query(\"batting_team == 'Kings XI Punjab'\")"
   ]
  },
  {
   "cell_type": "code",
   "execution_count": null,
   "metadata": {},
   "outputs": [],
   "source": [
    "# wickets lost per match by KXIP\n",
    "wickets_ipl = kxip_bat[kxip_bat.player_dismissed.notnull()].groupby(\"match_id\").count().player_dismissed"
   ]
  },
  {
   "cell_type": "code",
   "execution_count": null,
   "metadata": {},
   "outputs": [],
   "source": [
    "# histogram\n",
    "plt.hist(wickets_ipl, bins=[0, 3, 6, 9, 10]);\n",
    "plt.title(\"Wickets lost per match by KXIP in IPL history\")\n",
    "plt.xlabel(\"No. of wickets\")\n",
    "plt.ylabel(\"Frequency\")\n",
    "plt.show()"
   ]
  },
  {
   "cell_type": "markdown",
   "metadata": {},
   "source": [
    "Generally, KXIP loses 6-8 wickets per innings."
   ]
  },
  {
   "cell_type": "code",
   "execution_count": null,
   "metadata": {},
   "outputs": [],
   "source": [
    "# measures of central tendency\n",
    "print(wickets_ipl.mean())\n",
    "print(wickets_ipl.median())"
   ]
  },
  {
   "cell_type": "code",
   "execution_count": null,
   "metadata": {},
   "outputs": [],
   "source": [
    "# all deliveries faced by KXIP against RCB\n",
    "kxip_bat_rcb = deli.query(\"batting_team == 'Kings XI Punjab' and bowling_team == 'Royal Challengers Bangalore'\")"
   ]
  },
  {
   "cell_type": "code",
   "execution_count": null,
   "metadata": {},
   "outputs": [],
   "source": [
    "# wickets lost per match by KXIP against RCB\n",
    "wickets_rcb = kxip_bat_rcb[kxip_bat_rcb.player_dismissed.notnull()].groupby(\"match_id\").count().player_dismissed"
   ]
  },
  {
   "cell_type": "code",
   "execution_count": null,
   "metadata": {},
   "outputs": [],
   "source": [
    "# histogram\n",
    "plt.hist(wickets_rcb, bins=[0, 3, 6, 9, 10]);\n",
    "plt.title(\"Wickets lost per match by KXIP against RCB\")\n",
    "plt.xlabel(\"No. of wickets\")\n",
    "plt.ylabel(\"Frequency\")\n",
    "plt.show()"
   ]
  },
  {
   "cell_type": "markdown",
   "metadata": {},
   "source": [
    "Generally, KXIP loses 3-5 wickets against RCB."
   ]
  },
  {
   "cell_type": "code",
   "execution_count": null,
   "metadata": {},
   "outputs": [],
   "source": [
    "# measures of central tendency\n",
    "print(wickets_rcb.mean())\n",
    "print(wickets_rcb.median())"
   ]
  },
  {
   "cell_type": "code",
   "execution_count": null,
   "metadata": {},
   "outputs": [],
   "source": [
    "# renaming the column\n",
    "rcb_kxip = rcb_kxip.rename(columns={\"id\":\"match_id\"})"
   ]
  },
  {
   "cell_type": "code",
   "execution_count": null,
   "metadata": {},
   "outputs": [],
   "source": [
    "# all deliveries faced by KXIP against RCB at Bengaluru \n",
    "wickets_rcb_mcs = wickets_rcb.reset_index().merge(rcb_kxip, on=\"match_id\")"
   ]
  },
  {
   "cell_type": "code",
   "execution_count": null,
   "metadata": {},
   "outputs": [],
   "source": [
    "# histogram\n",
    "plt.hist(wickets_rcb_mcs.query(\"city == 'Bangalore' or city == 'Bengaluru'\").player_dismissed,\n",
    "         bins=[0, 3, 6, 9, 10])\n",
    "plt.title(\"Wickets lost per match by KXIP against RCB at Bengaluru \")\n",
    "plt.xlabel(\"No. of wickets\")\n",
    "plt.ylabel(\"Frequency\")\n",
    "plt.show()"
   ]
  },
  {
   "cell_type": "markdown",
   "metadata": {},
   "source": [
    "At the venue of Bengaluru, the KXIP team lost 6-8 wickets."
   ]
  },
  {
   "cell_type": "code",
   "execution_count": null,
   "metadata": {},
   "outputs": [],
   "source": [
    "# measures of central tendency\n",
    "print(wickets_rcb_mcs.query(\"city == 'Bangalore' or city == 'Bengaluru'\").player_dismissed.mean())\n",
    "print(wickets_rcb_mcs.query(\"city == 'Bangalore' or city == 'Bengaluru'\").player_dismissed.median())"
   ]
  },
  {
   "cell_type": "code",
   "execution_count": null,
   "metadata": {},
   "outputs": [],
   "source": [
    "# performance of main batsmen of KXIP against RCB\n",
    "batsman = deli.query(\"batsman.isin(['KL Rahul', 'MA Agarwal', 'N Pooran', 'Mandeep Singh', 'GJ Maxwell']) and bowling_team == 'Royal Challengers Bangalore'\")"
   ]
  },
  {
   "cell_type": "code",
   "execution_count": null,
   "metadata": {},
   "outputs": [],
   "source": [
    "# bowlers that have taken the wickets\n",
    "batsman[batsman.player_dismissed.notnull()].bowler.value_counts()"
   ]
  },
  {
   "cell_type": "code",
   "execution_count": null,
   "metadata": {},
   "outputs": [],
   "source": [
    "# total wickets\n",
    "len(batsman[batsman.player_dismissed.notnull()])"
   ]
  },
  {
   "cell_type": "code",
   "execution_count": null,
   "metadata": {},
   "outputs": [],
   "source": [
    "# YS Chahal, N Saini and M Ali are the 3 bowlers who are there in the current team\n",
    "# wickets by them out of total wickets\n",
    "8/24"
   ]
  },
  {
   "cell_type": "markdown",
   "metadata": {},
   "source": [
    "## Explanation:\n",
    "\n",
    "It seems that KXIP will lose 6-8 wickets in today's match, giving weight to its performance at the venue of Bengaluru."
   ]
  },
  {
   "cell_type": "markdown",
   "metadata": {},
   "source": [
    "# Question 3:"
   ]
  },
  {
   "cell_type": "code",
   "execution_count": null,
   "metadata": {},
   "outputs": [],
   "source": [
    "# all deliveries faced by the partnership of Virat and AB\n",
    "partnership_ipl = deli.query(\"batsman.isin(['AB de Villiers', 'V Kohli']) and non_striker.isin(['AB de Villiers', 'V Kohli'])\")"
   ]
  },
  {
   "cell_type": "code",
   "execution_count": null,
   "metadata": {},
   "outputs": [],
   "source": [
    "# histogram\n",
    "plt.hist(partnership_ipl.groupby(\"match_id\").sum()[\"total_runs\"], bins=[0, 15, 25, 40, 230])\n",
    "plt.title(\"Runs in the partnership of Virat Kohli and AB de Villiers\")\n",
    "plt.xlabel(\"No. of runs\")\n",
    "plt.ylabel(\"Frequency\")\n",
    "plt.show()"
   ]
  },
  {
   "cell_type": "code",
   "execution_count": null,
   "metadata": {},
   "outputs": [],
   "source": [
    "# partnership against KXIP\n",
    "partnership_ipl[partnership_ipl.bowling_team == 'Kings XI Punjab'].groupby(\"match_id\").sum()[\"total_runs\"]"
   ]
  },
  {
   "cell_type": "code",
   "execution_count": null,
   "metadata": {},
   "outputs": [],
   "source": [
    "# renaming the column\n",
    "venue = venue.rename(columns={\"id\":\"match_id\"})"
   ]
  },
  {
   "cell_type": "code",
   "execution_count": null,
   "metadata": {},
   "outputs": [],
   "source": [
    "# partnership at the venue of Bangalore\n",
    "partnership_mcs = pd.DataFrame(partnership_ipl.groupby(\"match_id\").sum()[\"total_runs\"]).merge(venue, on=\"match_id\")[\"total_runs\"]"
   ]
  },
  {
   "cell_type": "code",
   "execution_count": null,
   "metadata": {},
   "outputs": [],
   "source": [
    "# histogram\n",
    "plt.hist(partnership_mcs, bins=[0, 15, 25, 40, 230])\n",
    "plt.title(\"Runs in the partnership of Virat Kohli and AB de Villiers at the venue of Bangalore\")\n",
    "plt.xlabel(\"No. of runs\")\n",
    "plt.ylabel(\"Frequency\")\n",
    "plt.show()"
   ]
  },
  {
   "cell_type": "markdown",
   "metadata": {},
   "source": [
    "## Explanation: \n",
    "\n",
    "Virat Kohli and AB de Villiers either have a partnership of 0-15 runs or 40+ runs the most number of times. However, this number has been consistently low against KXIP. Taking this into factor, it seems Virat and AB will score <15 runs in today's partnership."
   ]
  },
  {
   "cell_type": "markdown",
   "metadata": {},
   "source": [
    "# Question 4:"
   ]
  },
  {
   "cell_type": "code",
   "execution_count": null,
   "metadata": {},
   "outputs": [],
   "source": [
    "# all deliveries in KXIP vs RCB matches\n",
    "rcb_kxip_deli = deli.query(\"batting_team.isin(['Royal Challengers Bangalore', 'Kings XI Punjab']) and bowling_team.isin(['Royal Challengers Bangalore', 'Kings XI Punjab'])\")\n",
    "\n",
    "len(rcb_kxip_deli)"
   ]
  },
  {
   "cell_type": "code",
   "execution_count": null,
   "metadata": {},
   "outputs": [],
   "source": [
    "# all 6s\n",
    "rcb_kxip_6 = rcb_kxip_deli[rcb_kxip_deli.batsman_runs == 6].groupby(\"match_id\").count()[\"batsman_runs\"]"
   ]
  },
  {
   "cell_type": "code",
   "execution_count": null,
   "metadata": {},
   "outputs": [],
   "source": [
    "# histogram\n",
    "plt.hist(rcb_kxip_6, bins=[0, 5, 10, 15, 21])\n",
    "plt.title(\"6s in KXIP vs RCB matches\")\n",
    "plt.xlabel(\"No. of 6s\")\n",
    "plt.ylabel(\"Frequency\")\n",
    "plt.show()"
   ]
  },
  {
   "cell_type": "code",
   "execution_count": null,
   "metadata": {},
   "outputs": [],
   "source": [
    "# histogram\n",
    "plt.hist(pd.DataFrame(rcb_kxip_6).merge(venue, on=\"match_id\")['batsman_runs'],\n",
    "         bins=[0, 5, 10, 15, 21]);\n",
    "plt.title(\"6s in KXIP vs RCB matches at Bangalore\")\n",
    "plt.xlabel(\"No. of 6s\")\n",
    "plt.ylabel(\"Frequency\")\n",
    "plt.show()"
   ]
  },
  {
   "cell_type": "code",
   "execution_count": null,
   "metadata": {},
   "outputs": [],
   "source": [
    "# all 6s at Bangalore\n",
    "mcs_6 = pd.DataFrame(deli[deli.batsman_runs == 6].groupby(\"match_id\").count()[\"batsman_runs\"]).merge(venue, \n",
    "                                                                                             on=\"match_id\")[\"batsman_runs\"]"
   ]
  },
  {
   "cell_type": "code",
   "execution_count": null,
   "metadata": {},
   "outputs": [],
   "source": [
    "# histogram\n",
    "plt.hist(mcs_6,\n",
    "         bins=[0, 5, 10, 15, 21])\n",
    "plt.title(\"6s at Bangalore\")\n",
    "plt.xlabel(\"No. of 6s\")\n",
    "plt.ylabel(\"Frequency\")\n",
    "plt.show()"
   ]
  },
  {
   "cell_type": "markdown",
   "metadata": {},
   "source": [
    "## Explanation:\n",
    "\n",
    "Taking the venue into account, more than 15 sixes can be expected to be hit during today's match."
   ]
  },
  {
   "cell_type": "markdown",
   "metadata": {},
   "source": [
    "# Question 5:"
   ]
  },
  {
   "cell_type": "code",
   "execution_count": null,
   "metadata": {},
   "outputs": [],
   "source": [
    "# Total no. of no balls in IPL history\n",
    "len(deli[deli.noball_runs != 0]) "
   ]
  },
  {
   "cell_type": "code",
   "execution_count": null,
   "metadata": {},
   "outputs": [],
   "source": [
    "# Total no. of matches in IPL history\n",
    "len(deli.match_id.unique())"
   ]
  },
  {
   "cell_type": "code",
   "execution_count": null,
   "metadata": {},
   "outputs": [],
   "source": [
    "# average no. of no balls per match\n",
    "714/756"
   ]
  },
  {
   "cell_type": "code",
   "execution_count": null,
   "metadata": {},
   "outputs": [],
   "source": [
    "# finding out the no. of no balls bowled by KXIP and RCB\n",
    "noballs_kxip_rcb = deli[deli.noball_runs != 0].query(\"bowling_team.isin(['Royal Challengers Bangalore', 'Kings XI Punjab'])\")"
   ]
  },
  {
   "cell_type": "code",
   "execution_count": null,
   "metadata": {},
   "outputs": [],
   "source": [
    "# no balls bowled by KXIP and RCB\n",
    "len(noballs_kxip_rcb)"
   ]
  },
  {
   "cell_type": "code",
   "execution_count": null,
   "metadata": {},
   "outputs": [],
   "source": [
    "# no. of matches in which KXIP and RCB have bowled\n",
    "len(noballs_kxip_rcb.match_id.unique())"
   ]
  },
  {
   "cell_type": "code",
   "execution_count": null,
   "metadata": {},
   "outputs": [],
   "source": [
    "# average no. of no balls per match by KXIP and RCB\n",
    "128/187"
   ]
  },
  {
   "cell_type": "code",
   "execution_count": null,
   "metadata": {},
   "outputs": [],
   "source": [
    "# no. of no balls per match by KKR and RCB\n",
    "noballs_kxip_rcb.groupby(\"match_id\").count()[\"inning\"].value_counts()"
   ]
  },
  {
   "cell_type": "code",
   "execution_count": null,
   "metadata": {},
   "outputs": [],
   "source": [
    "# no balls at Bengaluru\n",
    "pd.DataFrame(noballs_kxip_rcb.groupby(\"match_id\").count()[\"inning\"]).merge(venue, on=\"match_id\")[\"inning\"].value_counts()"
   ]
  },
  {
   "cell_type": "markdown",
   "metadata": {},
   "source": [
    "## Explanation:\n",
    "\n",
    "Considering all the statistics, 1-2 no balls can be expected to be bowled in today's match."
   ]
  },
  {
   "cell_type": "code",
   "execution_count": null,
   "metadata": {},
   "outputs": [],
   "source": []
  }
 ],
 "metadata": {
  "kernelspec": {
   "display_name": "Python 3",
   "language": "python",
   "name": "python3"
  },
  "language_info": {
   "codemirror_mode": {
    "name": "ipython",
    "version": 3
   },
   "file_extension": ".py",
   "mimetype": "text/x-python",
   "name": "python",
   "nbconvert_exporter": "python",
   "pygments_lexer": "ipython3",
   "version": "3.7.6"
  }
 },
 "nbformat": 4,
 "nbformat_minor": 4
}
