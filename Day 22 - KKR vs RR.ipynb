{
 "cells": [
  {
   "cell_type": "code",
   "execution_count": null,
   "metadata": {},
   "outputs": [],
   "source": [
    "# import library\n",
    "library(dplyr)"
   ]
  },
  {
   "cell_type": "code",
   "execution_count": null,
   "metadata": {},
   "outputs": [],
   "source": [
    "# read datasets\n",
    "matches = read.csv(\"matches.csv\")\n",
    "deli = read.csv(\"deliveries.csv\")"
   ]
  },
  {
   "cell_type": "markdown",
   "metadata": {},
   "source": [
    "# Question 1:"
   ]
  },
  {
   "cell_type": "code",
   "execution_count": null,
   "metadata": {},
   "outputs": [],
   "source": [
    "# teams playing today's match\n",
    "teams = c(\"Rajasthan Royals\", \"Kolkata Knight Riders\")"
   ]
  },
  {
   "cell_type": "code",
   "execution_count": null,
   "metadata": {},
   "outputs": [],
   "source": [
    "# all matches between KKR and RR\n",
    "kkr_rr = subset(matches, (team1 %in% teams & team2 %in% teams))\n",
    "\n",
    "head(kkr_rr)"
   ]
  },
  {
   "cell_type": "code",
   "execution_count": null,
   "metadata": {},
   "outputs": [],
   "source": [
    "kkr_rr$winner"
   ]
  },
  {
   "cell_type": "code",
   "execution_count": null,
   "metadata": {},
   "outputs": [],
   "source": [
    "# victories of the teams against each other\n",
    "count(kkr_rr, winner)"
   ]
  },
  {
   "cell_type": "code",
   "execution_count": null,
   "metadata": {},
   "outputs": [],
   "source": [
    "# matches of RR\n",
    "rr = subset(matches, (team1 == 'Rajasthan Royals'| team2 == 'Rajasthan Royals'))"
   ]
  },
  {
   "cell_type": "code",
   "execution_count": null,
   "metadata": {},
   "outputs": [],
   "source": [
    "# total no. of matches played by RR\n",
    "nrow(rr)"
   ]
  },
  {
   "cell_type": "code",
   "execution_count": null,
   "metadata": {},
   "outputs": [],
   "source": [
    "# winners in those matches\n",
    "count(rr, winner)"
   ]
  },
  {
   "cell_type": "code",
   "execution_count": null,
   "metadata": {},
   "outputs": [],
   "source": [
    "# win ratio of RR\n",
    "75/147"
   ]
  },
  {
   "cell_type": "code",
   "execution_count": null,
   "metadata": {},
   "outputs": [],
   "source": [
    "# matches of KKR\n",
    "kkr = subset(matches, (team1 == 'Kolkata Knight Riders'| team2 == 'Kolkata Knight Riders'))"
   ]
  },
  {
   "cell_type": "code",
   "execution_count": null,
   "metadata": {},
   "outputs": [],
   "source": [
    "# total no. of matches played by KKR\n",
    "nrow(kkr)"
   ]
  },
  {
   "cell_type": "code",
   "execution_count": null,
   "metadata": {},
   "outputs": [],
   "source": [
    "# winners in those matches\n",
    "count(kkr, winner)"
   ]
  },
  {
   "cell_type": "code",
   "execution_count": null,
   "metadata": {},
   "outputs": [],
   "source": [
    "# win ratio of KKR\n",
    "92/178"
   ]
  },
  {
   "cell_type": "markdown",
   "metadata": {},
   "source": [
    "# Question 2:"
   ]
  },
  {
   "cell_type": "code",
   "execution_count": null,
   "metadata": {},
   "outputs": [],
   "source": [
    "# total wickets taken in each IPL match\n",
    "total_wickets = subset(deli, player_dismissed != '') %>% group_by(match_id) %>% summarise(wickets = n())\n",
    "\n",
    "head(total_wickets)"
   ]
  },
  {
   "cell_type": "code",
   "execution_count": null,
   "metadata": {},
   "outputs": [],
   "source": [
    "# histogram\n",
    "hist(total_wickets$wickets, freq=TRUE, breaks=c(0, 5, 10, 15, max(total_wickets$wickets)))"
   ]
  },
  {
   "cell_type": "code",
   "execution_count": null,
   "metadata": {},
   "outputs": [],
   "source": [
    "# all deliveries in KKR vs RR matches\n",
    "kkr_rr_deli = subset(deli, (bowling_team %in% teams & batting_team %in% teams))\n",
    "\n",
    "head(kkr_rr_deli)"
   ]
  },
  {
   "cell_type": "code",
   "execution_count": null,
   "metadata": {},
   "outputs": [],
   "source": [
    "# total wickets taken in KKR vs RR matches\n",
    "wickets_kkr_rr = subset(kkr_rr_deli, player_dismissed != '') %>% group_by(match_id) %>% summarise(wickets = n())\n",
    "\n",
    "# histogram\n",
    "hist(wickets_kkr_rr$wickets, freq=TRUE, breaks=c(0, 5, 10, 15, max(wickets_kkr_rr$wickets)))"
   ]
  },
  {
   "cell_type": "code",
   "execution_count": null,
   "metadata": {},
   "outputs": [],
   "source": [
    "# all deliveries faced by KKR\n",
    "kkr_bat = subset(deli, batting_team == 'Kolkata Knight Riders')\n",
    "\n",
    "# total wickets lost by KKR in each match\n",
    "wickets_kkr = subset(kkr_bat, player_dismissed != '') %>% group_by(match_id) %>% summarise(wickets = n())\n",
    "\n",
    "#statistical measures\n",
    "summary(wickets_kkr$wickets)"
   ]
  },
  {
   "cell_type": "code",
   "execution_count": null,
   "metadata": {},
   "outputs": [],
   "source": [
    "# all deliveries faced by RR\n",
    "rr_bat = subset(deli, batting_team == 'Rajasthan Royals')\n",
    "\n",
    "# total wickets lost by RR in each match\n",
    "wickets_rr = subset(rr_bat, player_dismissed != '') %>% group_by(match_id) %>% summarise(wickets = n())\n",
    "\n",
    "#statistical measures\n",
    "summary(wickets_rr$wickets)"
   ]
  },
  {
   "cell_type": "markdown",
   "metadata": {},
   "source": [
    "# Question 3:"
   ]
  },
  {
   "cell_type": "code",
   "execution_count": null,
   "metadata": {},
   "outputs": [],
   "source": [
    "# batsmen playing today's match\n",
    "batsmen = c('RV Uthappa', 'BA Stokes', 'SV Samson', 'SPD Smith', 'JC Buttler', 'R Parag',\n",
    "           'S Gill', 'N Rana', 'RA Tripathi', 'KD Karthik', 'EJG Morgan', 'R Singh', 'SP Narine')"
   ]
  },
  {
   "cell_type": "code",
   "execution_count": null,
   "metadata": {},
   "outputs": [],
   "source": [
    "# function to get the runs ratio for the batsman\n",
    "get_runs_ratio = function(deli_data, b_name){\n",
    "    \n",
    "    data = distinct(subset(deli_data, with(deli_data, grepl(b_name, batsman))))\n",
    "    runs_notb = subset(data, batsman_runs %in% c(1, 2, 3)) %>%  group_by(match_id) %>% summarise(runs_nb=sum(batsman_runs))\n",
    "\n",
    "    runs_b = subset(data, batsman_runs %in% c(4, 6)) %>%  group_by(match_id) %>% summarise(runs_b=sum(batsman_runs))\n",
    "\n",
    "    total_runs = data %>%  group_by(match_id) %>% summarise(total_runs=sum(batsman_runs))\n",
    "\n",
    "    \n",
    "    balls = data %>%  group_by(match_id) %>% summarise(balls=n())\n",
    "\n",
    "    df1 = merge(runs_notb, runs_b, by='match_id', all=TRUE)\n",
    "    df2 = merge(total_runs, balls, by='match_id', all=TRUE)\n",
    "    df = merge(df1, df2, all=TRUE)\n",
    "    df[is.na(df)] = 0\n",
    "    df = subset(df, balls>10)\n",
    "    df$ratio = (df$runs_b - df$runs_nb)/df$total_runs\n",
    "    return (summary(df$ratio))\n",
    "}"
   ]
  },
  {
   "cell_type": "code",
   "execution_count": null,
   "metadata": {},
   "outputs": [],
   "source": [
    "for (b_name in batsmen){\n",
    "    print(b_name)\n",
    "    print(get_runs_ratio(deli, b_name))\n",
    "}"
   ]
  },
  {
   "cell_type": "code",
   "execution_count": null,
   "metadata": {},
   "outputs": [],
   "source": [
    "for (b_name in batsmen){\n",
    "    print(b_name)\n",
    "    print(get_runs_ratio(subset(deli, match_id >11000), b_name))\n",
    "}"
   ]
  },
  {
   "cell_type": "markdown",
   "metadata": {},
   "source": [
    "# Question 4:"
   ]
  },
  {
   "cell_type": "code",
   "execution_count": null,
   "metadata": {},
   "outputs": [],
   "source": [
    "archer = subset(deli, with(deli, grepl('J Archer', bowler)))"
   ]
  },
  {
   "cell_type": "code",
   "execution_count": null,
   "metadata": {},
   "outputs": [],
   "source": [
    "archer = distinct(archer)"
   ]
  },
  {
   "cell_type": "code",
   "execution_count": null,
   "metadata": {},
   "outputs": [],
   "source": [
    "runs = archer %>%  group_by(match_id) %>% summarise(runs=sum(wide_runs, noball_runs, batsman_runs))"
   ]
  },
  {
   "cell_type": "code",
   "execution_count": null,
   "metadata": {},
   "outputs": [],
   "source": [
    "overs = archer %>%  group_by(match_id) %>% summarise(overs=length(unique(over)))"
   ]
  },
  {
   "cell_type": "code",
   "execution_count": null,
   "metadata": {},
   "outputs": [],
   "source": [
    "df = merge(runs, overs)\n",
    "\n",
    "df$economy = df$runs/df$overs"
   ]
  },
  {
   "cell_type": "code",
   "execution_count": null,
   "metadata": {},
   "outputs": [],
   "source": [
    "hist(df$economy, freq=TRUE, breaks=c(0, 7.5, max(df$economy)))"
   ]
  },
  {
   "cell_type": "code",
   "execution_count": null,
   "metadata": {},
   "outputs": [],
   "source": [
    "boundaries = subset(archer, batsman_runs %in% c(4, 6)) %>%  group_by(match_id) %>% summarise(boundaries=n())\n",
    "\n",
    "hist(boundaries$boundaries, freq=TRUE, breaks=c(0, 4, max(boundaries$boundaries)))"
   ]
  },
  {
   "cell_type": "code",
   "execution_count": null,
   "metadata": {},
   "outputs": [],
   "source": [
    "kkr_match_ids = unique(subset(archer, batting_team=='Kolkata Knight Riders')$match_id)"
   ]
  },
  {
   "cell_type": "code",
   "execution_count": null,
   "metadata": {},
   "outputs": [],
   "source": [
    "subset(df, match_id %in% kkr_match_ids)"
   ]
  },
  {
   "cell_type": "code",
   "execution_count": null,
   "metadata": {},
   "outputs": [],
   "source": [
    "subset(boundaries, match_id %in% kkr_match_ids)"
   ]
  },
  {
   "cell_type": "markdown",
   "metadata": {},
   "source": [
    "# Question 5:"
   ]
  },
  {
   "cell_type": "code",
   "execution_count": null,
   "metadata": {},
   "outputs": [],
   "source": [
    "bowlers = c('V Chakravarthy', 'L Ferguson', 'PJ Cummins', 'P Krishna', 'S Mavi', 'SP Narine',\n",
    "           'J Archer', 'VR Aaron', 'S Gopal', 'R Tewatia', 'AS Rajpoot')"
   ]
  },
  {
   "cell_type": "code",
   "execution_count": null,
   "metadata": {},
   "outputs": [],
   "source": [
    "get_economy = function(deli_data, b_name){\n",
    "    data = distinct(subset(deli_data, with(deli_data, grepl(b_name, bowler))))\n",
    "    runs = data %>%  group_by(match_id) %>% summarise(runs=sum(wide_runs, noball_runs, batsman_runs))\n",
    "    overs = data %>%  group_by(match_id) %>% summarise(overs=length(unique(over)))\n",
    "    df = merge(runs, overs)\n",
    "    df = subset(df, overs>1)\n",
    "    df$economy = df$runs/df$overs\n",
    "    return (summary(df$economy))\n",
    "}"
   ]
  },
  {
   "cell_type": "code",
   "execution_count": null,
   "metadata": {},
   "outputs": [],
   "source": [
    "for (b_name in bowlers){\n",
    "    print(b_name)\n",
    "    print(get_economy(deli, b_name))\n",
    "}"
   ]
  },
  {
   "cell_type": "code",
   "execution_count": null,
   "metadata": {},
   "outputs": [],
   "source": [
    "for (b_name in bowlers){\n",
    "    print(b_name)\n",
    "    print(get_economy(subset(deli, match_id>11000), b_name))\n",
    "}"
   ]
  }
 ],
 "metadata": {
  "kernelspec": {
   "display_name": "R",
   "language": "R",
   "name": "ir"
  },
  "language_info": {
   "codemirror_mode": "r",
   "file_extension": ".r",
   "mimetype": "text/x-r-source",
   "name": "R",
   "pygments_lexer": "r",
   "version": "3.5.1"
  }
 },
 "nbformat": 4,
 "nbformat_minor": 4
}
