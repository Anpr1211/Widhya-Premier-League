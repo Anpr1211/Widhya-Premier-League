{
 "cells": [
  {
   "cell_type": "code",
   "execution_count": null,
   "metadata": {},
   "outputs": [],
   "source": [
    "# import libraries\n",
    "import pandas as pd\n",
    "import matplotlib.pyplot as plt\n",
    "import seaborn as sns"
   ]
  },
  {
   "cell_type": "code",
   "execution_count": null,
   "metadata": {},
   "outputs": [],
   "source": [
    "# read dataset\n",
    "matches = pd.read_csv(\"matches.csv\")\n",
    "deli = pd.read_csv(\"deliveries.csv\")"
   ]
  },
  {
   "cell_type": "markdown",
   "metadata": {},
   "source": [
    "# Question 1:"
   ]
  },
  {
   "cell_type": "code",
   "execution_count": null,
   "metadata": {},
   "outputs": [],
   "source": [
    "# all matches between CSK and RR\n",
    "csk_rr = matches.query(\"team1.isin(['Chennai Super Kings', 'Rajasthan Royals']) and team2.isin(['Chennai Super Kings', 'Rajasthan Royals'])\")"
   ]
  },
  {
   "cell_type": "code",
   "execution_count": null,
   "metadata": {},
   "outputs": [],
   "source": [
    "# victories of the two teams against each other \n",
    "csk_rr.winner.value_counts()"
   ]
  },
  {
   "cell_type": "code",
   "execution_count": null,
   "metadata": {},
   "outputs": [],
   "source": [
    "# matches of CSK\n",
    "csk = matches.query(\"team1 == 'Chennai Super Kings' or team2 == 'Chennai Super Kings'\")\n",
    "len(csk)"
   ]
  },
  {
   "cell_type": "code",
   "execution_count": null,
   "metadata": {},
   "outputs": [],
   "source": [
    "# count of winners in CSK matches\n",
    "csk.winner.value_counts()"
   ]
  },
  {
   "cell_type": "code",
   "execution_count": null,
   "metadata": {},
   "outputs": [],
   "source": [
    "# CSK win ratio\n",
    "100/164"
   ]
  },
  {
   "cell_type": "code",
   "execution_count": null,
   "metadata": {},
   "outputs": [],
   "source": [
    "# matches of RR\n",
    "rr = matches.query(\"team1 == 'Rajasthan Royals' or team2 == 'Rajasthan Royals'\")\n",
    "len(rr)"
   ]
  },
  {
   "cell_type": "code",
   "execution_count": null,
   "metadata": {},
   "outputs": [],
   "source": [
    "# count of winners in RR matches\n",
    "rr.winner.value_counts()"
   ]
  },
  {
   "cell_type": "code",
   "execution_count": null,
   "metadata": {},
   "outputs": [],
   "source": [
    "# RR win ratio\n",
    "75/147"
   ]
  },
  {
   "cell_type": "markdown",
   "metadata": {},
   "source": [
    "# Explanation:\n",
    "\n",
    "Solely based on historical data, it seems that CSK will win today's match."
   ]
  },
  {
   "cell_type": "markdown",
   "metadata": {},
   "source": [
    "# Question 2:"
   ]
  },
  {
   "cell_type": "code",
   "execution_count": null,
   "metadata": {},
   "outputs": [],
   "source": [
    "# all deliveries faced by RR\n",
    "rr_bat = deli.query(\"batting_team == 'Rajasthan Royals'\")"
   ]
  },
  {
   "cell_type": "code",
   "execution_count": null,
   "metadata": {},
   "outputs": [],
   "source": [
    "# RR deliveries between 1-6 overs\n",
    "rr_1_6 = rr_bat.query(\"over.isin([1, 2, 3, 4, 5, 6])\")"
   ]
  },
  {
   "cell_type": "code",
   "execution_count": null,
   "metadata": {},
   "outputs": [],
   "source": [
    "# runs scored by RR between 1-6 overs\n",
    "runs = rr_1_6.groupby(\"match_id\").sum()[\"total_runs\"]"
   ]
  },
  {
   "cell_type": "code",
   "execution_count": null,
   "metadata": {},
   "outputs": [],
   "source": [
    "# histogram\n",
    "plt.hist(runs, bins=[0, 29, 39, 49, max(runs)])\n",
    "plt.title(\"Runs scored per match by RR in IPL history in 1-6 overs\")\n",
    "plt.xlabel(\"No. of runs\")\n",
    "plt.ylabel(\"Frequency\")\n",
    "plt.show()"
   ]
  },
  {
   "cell_type": "code",
   "execution_count": null,
   "metadata": {},
   "outputs": [],
   "source": [
    "# measures of central tendency\n",
    "print(runs.mean())\n",
    "print(runs.median())"
   ]
  },
  {
   "cell_type": "code",
   "execution_count": null,
   "metadata": {},
   "outputs": [],
   "source": [
    "# RR runs between 1-6 against CSK\n",
    "runs_csk =  rr_1_6.query(\"bowling_team == 'Chennai Super Kings'\").groupby(\"match_id\").sum()[\"total_runs\"]"
   ]
  },
  {
   "cell_type": "code",
   "execution_count": null,
   "metadata": {},
   "outputs": [],
   "source": [
    "# histogram\n",
    "plt.hist(runs_csk, bins=[0, 29, 39, 49, max(runs)])\n",
    "plt.title(\"Runs scored per match by RR against CSK in IPL history in 1-6 overs\")\n",
    "plt.xlabel(\"No. of runs\")\n",
    "plt.ylabel(\"Frequency\")\n",
    "plt.show()"
   ]
  },
  {
   "cell_type": "markdown",
   "metadata": {},
   "source": [
    "# Explanation:\n",
    "\n",
    "RR hasn't been able to perform as well as its usual against CSK. Hence, it will score 40-49 runs in the first 6 overs of the match."
   ]
  },
  {
   "cell_type": "markdown",
   "metadata": {},
   "source": [
    "# Question 3:"
   ]
  },
  {
   "cell_type": "code",
   "execution_count": null,
   "metadata": {},
   "outputs": [],
   "source": [
    "# all deliveries bowled by Deepak Chahar\n",
    "chahar = deli[deli.bowler == \"DL Chahar\"]"
   ]
  },
  {
   "cell_type": "code",
   "execution_count": null,
   "metadata": {},
   "outputs": [],
   "source": [
    "# runs scored on his balls per match\n",
    "runs = pd.DataFrame(chahar.groupby(\"match_id\").sum()[\"total_runs\"]).reset_index()"
   ]
  },
  {
   "cell_type": "code",
   "execution_count": null,
   "metadata": {},
   "outputs": [],
   "source": [
    "# overs bowled per match\n",
    "overs = pd.DataFrame(chahar.groupby([\"match_id\", \"over\"], as_index=False).count()[\"match_id\"].value_counts()).reset_index()\n",
    "overs.columns = [\"match_id\", \"overs\"]"
   ]
  },
  {
   "cell_type": "code",
   "execution_count": null,
   "metadata": {},
   "outputs": [],
   "source": [
    "# dataframe to store the number of runs and overs per match\n",
    "economy = runs.merge(overs, on=\"match_id\")"
   ]
  },
  {
   "cell_type": "code",
   "execution_count": null,
   "metadata": {},
   "outputs": [],
   "source": [
    "# calculating the economy in each match\n",
    "economy[\"economy\"] = economy[\"total_runs\"]/economy[\"overs\"]"
   ]
  },
  {
   "cell_type": "code",
   "execution_count": null,
   "metadata": {},
   "outputs": [],
   "source": [
    "# measures of central tendency\n",
    "print(economy[\"economy\"].mean())\n",
    "print(economy[\"economy\"].median())"
   ]
  },
  {
   "cell_type": "code",
   "execution_count": null,
   "metadata": {},
   "outputs": [],
   "source": [
    "# histogram\n",
    "plt.hist(economy[\"economy\"], bins=[0, 6, 7.3, 8.2, max(economy[\"economy\"])]);\n",
    "plt.title(\"Economy of Deepak Chahar in IPL history\")\n",
    "plt.xlabel(\"Economy\")\n",
    "plt.ylabel(\"Frequency\")\n",
    "plt.show()"
   ]
  },
  {
   "cell_type": "code",
   "execution_count": null,
   "metadata": {},
   "outputs": [],
   "source": [
    "# renaming columns\n",
    "matches = matches.rename(columns={\"id\":\"match_id\"})"
   ]
  },
  {
   "cell_type": "code",
   "execution_count": null,
   "metadata": {},
   "outputs": [],
   "source": [
    "# economy against RR\n",
    "economy.merge(matches, on=\"match_id\").query(\"team1 == 'Rajasthan Royals' or team2 == 'Rajasthan Royals'\")[\"economy\"]"
   ]
  },
  {
   "cell_type": "markdown",
   "metadata": {},
   "source": [
    "# Explanation:\n",
    "\n",
    "On the basis of the previous performances of Deepak Chahar and in the current season, his economy will lie in the range 7.31-8.2 in today's match."
   ]
  },
  {
   "cell_type": "markdown",
   "metadata": {},
   "source": [
    "# Question 4:"
   ]
  },
  {
   "cell_type": "code",
   "execution_count": null,
   "metadata": {},
   "outputs": [],
   "source": [
    "# all deliveries bowled by Jofra Archer\n",
    "archer = deli[deli.bowler == \"J Archer\"]"
   ]
  },
  {
   "cell_type": "code",
   "execution_count": null,
   "metadata": {},
   "outputs": [],
   "source": [
    "# all deliveries bowled by Jofra Archer in the death overs\n",
    "archer_death = archer.query(\"over.isin([16, 17, 18, 19, 20])\")"
   ]
  },
  {
   "cell_type": "code",
   "execution_count": null,
   "metadata": {},
   "outputs": [],
   "source": [
    "# wickets taken by Jofra Archer in the death overs\n",
    "wickets = archer_death.groupby(\"match_id\").count()[\"player_dismissed\"]"
   ]
  },
  {
   "cell_type": "code",
   "execution_count": null,
   "metadata": {},
   "outputs": [],
   "source": [
    "# histogram\n",
    "sns.countplot(wickets)\n",
    "plt.title(\"Wickets taken by Jofra Archer in IPL history in 16-20 overs\")\n",
    "plt.xlabel(\"No. of wickets\")\n",
    "plt.ylabel(\"Frequency\")\n",
    "plt.show()"
   ]
  },
  {
   "cell_type": "code",
   "execution_count": null,
   "metadata": {},
   "outputs": [],
   "source": [
    "# wickets taken by Jofra Archer in the death overs against CSK\n",
    "archer_death.query(\"batting_team == 'Chennai Super Kings'\").groupby(\"match_id\").count()[\"player_dismissed\"]"
   ]
  },
  {
   "cell_type": "markdown",
   "metadata": {},
   "source": [
    "# Explanation:\n",
    "\n",
    "Previously, Jofra Archer didnot take wickets in the death overs. This scenario has changed in the current season. The performance of CSK middle order has also bee unsatisfactory in this season. Hence,owing to these two factors, it seems that Jofra Archer will take  wickets today. "
   ]
  },
  {
   "cell_type": "markdown",
   "metadata": {},
   "source": [
    "# Question 5:"
   ]
  },
  {
   "cell_type": "code",
   "execution_count": null,
   "metadata": {},
   "outputs": [],
   "source": [
    "# all deliveries faced by Steve Smith\n",
    "smith = deli[deli.batsman == \"SPD Smith\"]"
   ]
  },
  {
   "cell_type": "code",
   "execution_count": null,
   "metadata": {},
   "outputs": [],
   "source": [
    "# runs scored by Steve Smith per match\n",
    "runs = pd.DataFrame(smith.groupby(\"match_id\").sum()[\"batsman_runs\"]).reset_index()"
   ]
  },
  {
   "cell_type": "code",
   "execution_count": null,
   "metadata": {},
   "outputs": [],
   "source": [
    "# balls faced by Steve Smith per match\n",
    "balls = pd.DataFrame(smith.groupby(\"match_id\").count()[\"ball\"]).reset_index()"
   ]
  },
  {
   "cell_type": "code",
   "execution_count": null,
   "metadata": {},
   "outputs": [],
   "source": [
    "# dataframe to store runs scored, balls faced and match_id of each match\n",
    "smith_sr = runs.merge(balls, on=\"match_id\")"
   ]
  },
  {
   "cell_type": "code",
   "execution_count": null,
   "metadata": {},
   "outputs": [],
   "source": [
    "# calculate strike rate\n",
    "smith_sr[\"Strike Rate\"] = smith_sr[\"batsman_runs\"]/smith_sr[\"ball\"]*100"
   ]
  },
  {
   "cell_type": "code",
   "execution_count": null,
   "metadata": {},
   "outputs": [],
   "source": [
    "# statistical measures\n",
    "print(smith_sr[\"Strike Rate\"].describe())"
   ]
  },
  {
   "cell_type": "code",
   "execution_count": null,
   "metadata": {},
   "outputs": [],
   "source": [
    "# histogram\n",
    "plt.hist(smith_sr[\"Strike Rate\"], bins=[min(smith_sr[\"Strike Rate\"]), 120, 133, 143, max(smith_sr[\"Strike Rate\"])]);\n",
    "plt.title(\"Strike Rate of Steve Smith in IPL history\")\n",
    "plt.xlabel(\"Strike Rate\")\n",
    "plt.ylabel(\"Frequency\")\n",
    "plt.show()"
   ]
  },
  {
   "cell_type": "code",
   "execution_count": null,
   "metadata": {},
   "outputs": [],
   "source": [
    "# strike rate against CSK\n",
    "sr_csk = smith_sr.merge(matches, on=\"match_id\").query(\"team1 == 'Chennai Super Kings' or team2 == 'Chennai Super Kings'\")[\"Strike Rate\"]"
   ]
  },
  {
   "cell_type": "code",
   "execution_count": null,
   "metadata": {},
   "outputs": [],
   "source": [
    "# histogram\n",
    "plt.hist(sr_csk, bins=[min(sr_csk), 120, 133, 143, max(sr_csk)]);\n",
    "plt.title(\"Strike Rate of Steve Smith against CSK in IPL history\")\n",
    "plt.xlabel(\"Strike Rate\")\n",
    "plt.ylabel(\"Frequency\")\n",
    "plt.show()"
   ]
  },
  {
   "cell_type": "markdown",
   "metadata": {},
   "source": [
    "# Explanation:\n",
    "\n",
    "Steve Smith usually has a strike rate of less than 120. However, in the previous match, he scored 57 runs with a strike rate of 158. Taking into account his current form, a strike rate of 121-133 could be a safe estimate for him. "
   ]
  }
 ],
 "metadata": {
  "kernelspec": {
   "display_name": "Python 3",
   "language": "python",
   "name": "python3"
  },
  "language_info": {
   "codemirror_mode": {
    "name": "ipython",
    "version": 3
   },
   "file_extension": ".py",
   "mimetype": "text/x-python",
   "name": "python",
   "nbconvert_exporter": "python",
   "pygments_lexer": "ipython3",
   "version": "3.7.6"
  }
 },
 "nbformat": 4,
 "nbformat_minor": 4
}
