{
 "cells": [
  {
   "cell_type": "code",
   "execution_count": 1,
   "metadata": {},
   "outputs": [
    {
     "name": "stderr",
     "output_type": "stream",
     "text": [
      "\n",
      "Attaching package: ‘dplyr’\n",
      "\n",
      "\n",
      "The following objects are masked from ‘package:stats’:\n",
      "\n",
      "    filter, lag\n",
      "\n",
      "\n",
      "The following objects are masked from ‘package:base’:\n",
      "\n",
      "    intersect, setdiff, setequal, union\n",
      "\n",
      "\n"
     ]
    }
   ],
   "source": [
    "# import library\n",
    "library(dplyr)"
   ]
  },
  {
   "cell_type": "code",
   "execution_count": 2,
   "metadata": {},
   "outputs": [],
   "source": [
    "# read datasets\n",
    "matches = read.csv(\"matches.csv\")\n",
    "deli = read.csv(\"deliveries.csv\")"
   ]
  },
  {
   "cell_type": "markdown",
   "metadata": {},
   "source": [
    "# Question 1:"
   ]
  },
  {
   "cell_type": "code",
   "execution_count": 3,
   "metadata": {},
   "outputs": [],
   "source": [
    "# teams playing today's match\n",
    "teams = c(\"Mumbai Indians\", \"Royal Challengers Bangalore\")"
   ]
  },
  {
   "cell_type": "code",
   "execution_count": 4,
   "metadata": {},
   "outputs": [],
   "source": [
    "# all matches between MI and RCB\n",
    "mi_rcb = subset(matches, (team1 %in% teams & team2 %in% teams))"
   ]
  },
  {
   "cell_type": "code",
   "execution_count": 5,
   "metadata": {},
   "outputs": [
    {
     "data": {
      "text/html": [
       "<ol class=list-inline>\n",
       "\t<li>Mumbai Indians</li>\n",
       "\t<li>Mumbai Indians</li>\n",
       "\t<li>Royal Challengers Bangalore</li>\n",
       "\t<li>Mumbai Indians</li>\n",
       "\t<li>Royal Challengers Bangalore</li>\n",
       "\t<li>Mumbai Indians</li>\n",
       "\t<li>Royal Challengers Bangalore</li>\n",
       "\t<li>Mumbai Indians</li>\n",
       "\t<li>Mumbai Indians</li>\n",
       "\t<li>Mumbai Indians</li>\n",
       "\t<li>Royal Challengers Bangalore</li>\n",
       "\t<li>Royal Challengers Bangalore</li>\n",
       "\t<li>Mumbai Indians</li>\n",
       "\t<li>Royal Challengers Bangalore</li>\n",
       "\t<li>Mumbai Indians</li>\n",
       "\t<li>Royal Challengers Bangalore</li>\n",
       "\t<li>Mumbai Indians</li>\n",
       "\t<li>Mumbai Indians</li>\n",
       "\t<li>Royal Challengers Bangalore</li>\n",
       "\t<li>Mumbai Indians</li>\n",
       "\t<li>Mumbai Indians</li>\n",
       "\t<li>Mumbai Indians</li>\n",
       "\t<li>Royal Challengers Bangalore</li>\n",
       "\t<li>Mumbai Indians</li>\n",
       "\t<li>Mumbai Indians</li>\n",
       "</ol>\n",
       "\n",
       "<details>\n",
       "\t<summary style=display:list-item;cursor:pointer>\n",
       "\t\t<strong>Levels</strong>:\n",
       "\t</summary>\n",
       "\t<ol class=list-inline>\n",
       "\t\t<li>''</li>\n",
       "\t\t<li>'Chennai Super Kings'</li>\n",
       "\t\t<li>'Deccan Chargers'</li>\n",
       "\t\t<li>'Delhi Capitals'</li>\n",
       "\t\t<li>'Delhi Daredevils'</li>\n",
       "\t\t<li>'Gujarat Lions'</li>\n",
       "\t\t<li>'Kings XI Punjab'</li>\n",
       "\t\t<li>'Kochi Tuskers Kerala'</li>\n",
       "\t\t<li>'Kolkata Knight Riders'</li>\n",
       "\t\t<li>'Mumbai Indians'</li>\n",
       "\t\t<li>'Pune Warriors'</li>\n",
       "\t\t<li>'Rajasthan Royals'</li>\n",
       "\t\t<li>'Rising Pune Supergiant'</li>\n",
       "\t\t<li>'Rising Pune Supergiants'</li>\n",
       "\t\t<li>'Royal Challengers Bangalore'</li>\n",
       "\t\t<li>'Sunrisers Hyderabad'</li>\n",
       "\t</ol>\n",
       "</details>"
      ],
      "text/latex": [
       "\\begin{enumerate*}\n",
       "\\item Mumbai Indians\n",
       "\\item Mumbai Indians\n",
       "\\item Royal Challengers Bangalore\n",
       "\\item Mumbai Indians\n",
       "\\item Royal Challengers Bangalore\n",
       "\\item Mumbai Indians\n",
       "\\item Royal Challengers Bangalore\n",
       "\\item Mumbai Indians\n",
       "\\item Mumbai Indians\n",
       "\\item Mumbai Indians\n",
       "\\item Royal Challengers Bangalore\n",
       "\\item Royal Challengers Bangalore\n",
       "\\item Mumbai Indians\n",
       "\\item Royal Challengers Bangalore\n",
       "\\item Mumbai Indians\n",
       "\\item Royal Challengers Bangalore\n",
       "\\item Mumbai Indians\n",
       "\\item Mumbai Indians\n",
       "\\item Royal Challengers Bangalore\n",
       "\\item Mumbai Indians\n",
       "\\item Mumbai Indians\n",
       "\\item Mumbai Indians\n",
       "\\item Royal Challengers Bangalore\n",
       "\\item Mumbai Indians\n",
       "\\item Mumbai Indians\n",
       "\\end{enumerate*}\n",
       "\n",
       "\\emph{Levels}: \\begin{enumerate*}\n",
       "\\item ''\n",
       "\\item 'Chennai Super Kings'\n",
       "\\item 'Deccan Chargers'\n",
       "\\item 'Delhi Capitals'\n",
       "\\item 'Delhi Daredevils'\n",
       "\\item 'Gujarat Lions'\n",
       "\\item 'Kings XI Punjab'\n",
       "\\item 'Kochi Tuskers Kerala'\n",
       "\\item 'Kolkata Knight Riders'\n",
       "\\item 'Mumbai Indians'\n",
       "\\item 'Pune Warriors'\n",
       "\\item 'Rajasthan Royals'\n",
       "\\item 'Rising Pune Supergiant'\n",
       "\\item 'Rising Pune Supergiants'\n",
       "\\item 'Royal Challengers Bangalore'\n",
       "\\item 'Sunrisers Hyderabad'\n",
       "\\end{enumerate*}\n"
      ],
      "text/markdown": [
       "1. Mumbai Indians\n",
       "2. Mumbai Indians\n",
       "3. Royal Challengers Bangalore\n",
       "4. Mumbai Indians\n",
       "5. Royal Challengers Bangalore\n",
       "6. Mumbai Indians\n",
       "7. Royal Challengers Bangalore\n",
       "8. Mumbai Indians\n",
       "9. Mumbai Indians\n",
       "10. Mumbai Indians\n",
       "11. Royal Challengers Bangalore\n",
       "12. Royal Challengers Bangalore\n",
       "13. Mumbai Indians\n",
       "14. Royal Challengers Bangalore\n",
       "15. Mumbai Indians\n",
       "16. Royal Challengers Bangalore\n",
       "17. Mumbai Indians\n",
       "18. Mumbai Indians\n",
       "19. Royal Challengers Bangalore\n",
       "20. Mumbai Indians\n",
       "21. Mumbai Indians\n",
       "22. Mumbai Indians\n",
       "23. Royal Challengers Bangalore\n",
       "24. Mumbai Indians\n",
       "25. Mumbai Indians\n",
       "\n",
       "\n",
       "\n",
       "**Levels**: 1. ''\n",
       "2. 'Chennai Super Kings'\n",
       "3. 'Deccan Chargers'\n",
       "4. 'Delhi Capitals'\n",
       "5. 'Delhi Daredevils'\n",
       "6. 'Gujarat Lions'\n",
       "7. 'Kings XI Punjab'\n",
       "8. 'Kochi Tuskers Kerala'\n",
       "9. 'Kolkata Knight Riders'\n",
       "10. 'Mumbai Indians'\n",
       "11. 'Pune Warriors'\n",
       "12. 'Rajasthan Royals'\n",
       "13. 'Rising Pune Supergiant'\n",
       "14. 'Rising Pune Supergiants'\n",
       "15. 'Royal Challengers Bangalore'\n",
       "16. 'Sunrisers Hyderabad'\n",
       "\n",
       "\n"
      ],
      "text/plain": [
       " [1] Mumbai Indians              Mumbai Indians             \n",
       " [3] Royal Challengers Bangalore Mumbai Indians             \n",
       " [5] Royal Challengers Bangalore Mumbai Indians             \n",
       " [7] Royal Challengers Bangalore Mumbai Indians             \n",
       " [9] Mumbai Indians              Mumbai Indians             \n",
       "[11] Royal Challengers Bangalore Royal Challengers Bangalore\n",
       "[13] Mumbai Indians              Royal Challengers Bangalore\n",
       "[15] Mumbai Indians              Royal Challengers Bangalore\n",
       "[17] Mumbai Indians              Mumbai Indians             \n",
       "[19] Royal Challengers Bangalore Mumbai Indians             \n",
       "[21] Mumbai Indians              Mumbai Indians             \n",
       "[23] Royal Challengers Bangalore Mumbai Indians             \n",
       "[25] Mumbai Indians             \n",
       "16 Levels:  Chennai Super Kings Deccan Chargers ... Sunrisers Hyderabad"
      ]
     },
     "metadata": {},
     "output_type": "display_data"
    }
   ],
   "source": [
    "mi_rcb$winner"
   ]
  },
  {
   "cell_type": "code",
   "execution_count": 6,
   "metadata": {},
   "outputs": [
    {
     "data": {
      "text/html": [
       "<table>\n",
       "<thead><tr><th scope=col>winner</th><th scope=col>n</th></tr></thead>\n",
       "<tbody>\n",
       "\t<tr><td>Mumbai Indians             </td><td>16                         </td></tr>\n",
       "\t<tr><td>Royal Challengers Bangalore</td><td> 9                         </td></tr>\n",
       "</tbody>\n",
       "</table>\n"
      ],
      "text/latex": [
       "\\begin{tabular}{r|ll}\n",
       " winner & n\\\\\n",
       "\\hline\n",
       "\t Mumbai Indians              & 16                         \\\\\n",
       "\t Royal Challengers Bangalore &  9                         \\\\\n",
       "\\end{tabular}\n"
      ],
      "text/markdown": [
       "\n",
       "winner | n | \n",
       "|---|---|\n",
       "| Mumbai Indians              | 16                          | \n",
       "| Royal Challengers Bangalore |  9                          | \n",
       "\n",
       "\n"
      ],
      "text/plain": [
       "  winner                      n \n",
       "1 Mumbai Indians              16\n",
       "2 Royal Challengers Bangalore  9"
      ]
     },
     "metadata": {},
     "output_type": "display_data"
    }
   ],
   "source": [
    "# victories of the teams against each other\n",
    "count(mi_rcb, winner)"
   ]
  },
  {
   "cell_type": "code",
   "execution_count": 7,
   "metadata": {},
   "outputs": [],
   "source": [
    "# matches of MI\n",
    "mi = subset(matches, (team1 == 'Mumbai Indians'| team2 == 'Mumbai Indians' ))"
   ]
  },
  {
   "cell_type": "code",
   "execution_count": 8,
   "metadata": {},
   "outputs": [
    {
     "data": {
      "text/html": [
       "187"
      ],
      "text/latex": [
       "187"
      ],
      "text/markdown": [
       "187"
      ],
      "text/plain": [
       "[1] 187"
      ]
     },
     "metadata": {},
     "output_type": "display_data"
    }
   ],
   "source": [
    "# total no. of matches played by MI\n",
    "nrow(mi)"
   ]
  },
  {
   "cell_type": "code",
   "execution_count": 9,
   "metadata": {},
   "outputs": [
    {
     "data": {
      "text/html": [
       "<table>\n",
       "<thead><tr><th scope=col>winner</th><th scope=col>n</th></tr></thead>\n",
       "<tbody>\n",
       "\t<tr><td>Chennai Super Kings        </td><td> 11                        </td></tr>\n",
       "\t<tr><td>Deccan Chargers            </td><td>  4                        </td></tr>\n",
       "\t<tr><td>Delhi Capitals             </td><td>  1                        </td></tr>\n",
       "\t<tr><td>Delhi Daredevils           </td><td> 11                        </td></tr>\n",
       "\t<tr><td>Gujarat Lions              </td><td>  2                        </td></tr>\n",
       "\t<tr><td>Kings XI Punjab            </td><td> 11                        </td></tr>\n",
       "\t<tr><td>Kochi Tuskers Kerala       </td><td>  1                        </td></tr>\n",
       "\t<tr><td>Kolkata Knight Riders      </td><td>  6                        </td></tr>\n",
       "\t<tr><td>Mumbai Indians             </td><td>109                        </td></tr>\n",
       "\t<tr><td>Pune Warriors              </td><td>  1                        </td></tr>\n",
       "\t<tr><td>Rajasthan Royals           </td><td> 10                        </td></tr>\n",
       "\t<tr><td>Rising Pune Supergiant     </td><td>  3                        </td></tr>\n",
       "\t<tr><td>Rising Pune Supergiants    </td><td>  1                        </td></tr>\n",
       "\t<tr><td>Royal Challengers Bangalore</td><td>  9                        </td></tr>\n",
       "\t<tr><td>Sunrisers Hyderabad        </td><td>  7                        </td></tr>\n",
       "</tbody>\n",
       "</table>\n"
      ],
      "text/latex": [
       "\\begin{tabular}{r|ll}\n",
       " winner & n\\\\\n",
       "\\hline\n",
       "\t Chennai Super Kings         &  11                        \\\\\n",
       "\t Deccan Chargers             &   4                        \\\\\n",
       "\t Delhi Capitals              &   1                        \\\\\n",
       "\t Delhi Daredevils            &  11                        \\\\\n",
       "\t Gujarat Lions               &   2                        \\\\\n",
       "\t Kings XI Punjab             &  11                        \\\\\n",
       "\t Kochi Tuskers Kerala        &   1                        \\\\\n",
       "\t Kolkata Knight Riders       &   6                        \\\\\n",
       "\t Mumbai Indians              & 109                        \\\\\n",
       "\t Pune Warriors               &   1                        \\\\\n",
       "\t Rajasthan Royals            &  10                        \\\\\n",
       "\t Rising Pune Supergiant      &   3                        \\\\\n",
       "\t Rising Pune Supergiants     &   1                        \\\\\n",
       "\t Royal Challengers Bangalore &   9                        \\\\\n",
       "\t Sunrisers Hyderabad         &   7                        \\\\\n",
       "\\end{tabular}\n"
      ],
      "text/markdown": [
       "\n",
       "winner | n | \n",
       "|---|---|---|---|---|---|---|---|---|---|---|---|---|---|---|\n",
       "| Chennai Super Kings         |  11                         | \n",
       "| Deccan Chargers             |   4                         | \n",
       "| Delhi Capitals              |   1                         | \n",
       "| Delhi Daredevils            |  11                         | \n",
       "| Gujarat Lions               |   2                         | \n",
       "| Kings XI Punjab             |  11                         | \n",
       "| Kochi Tuskers Kerala        |   1                         | \n",
       "| Kolkata Knight Riders       |   6                         | \n",
       "| Mumbai Indians              | 109                         | \n",
       "| Pune Warriors               |   1                         | \n",
       "| Rajasthan Royals            |  10                         | \n",
       "| Rising Pune Supergiant      |   3                         | \n",
       "| Rising Pune Supergiants     |   1                         | \n",
       "| Royal Challengers Bangalore |   9                         | \n",
       "| Sunrisers Hyderabad         |   7                         | \n",
       "\n",
       "\n"
      ],
      "text/plain": [
       "   winner                      n  \n",
       "1  Chennai Super Kings          11\n",
       "2  Deccan Chargers               4\n",
       "3  Delhi Capitals                1\n",
       "4  Delhi Daredevils             11\n",
       "5  Gujarat Lions                 2\n",
       "6  Kings XI Punjab              11\n",
       "7  Kochi Tuskers Kerala          1\n",
       "8  Kolkata Knight Riders         6\n",
       "9  Mumbai Indians              109\n",
       "10 Pune Warriors                 1\n",
       "11 Rajasthan Royals             10\n",
       "12 Rising Pune Supergiant        3\n",
       "13 Rising Pune Supergiants       1\n",
       "14 Royal Challengers Bangalore   9\n",
       "15 Sunrisers Hyderabad           7"
      ]
     },
     "metadata": {},
     "output_type": "display_data"
    }
   ],
   "source": [
    "# winners in those matches\n",
    "count(mi, winner)"
   ]
  },
  {
   "cell_type": "code",
   "execution_count": 10,
   "metadata": {},
   "outputs": [
    {
     "data": {
      "text/html": [
       "0.582887700534759"
      ],
      "text/latex": [
       "0.582887700534759"
      ],
      "text/markdown": [
       "0.582887700534759"
      ],
      "text/plain": [
       "[1] 0.5828877"
      ]
     },
     "metadata": {},
     "output_type": "display_data"
    }
   ],
   "source": [
    "# win ratio of MI\n",
    "(109)/187"
   ]
  },
  {
   "cell_type": "code",
   "execution_count": 11,
   "metadata": {},
   "outputs": [],
   "source": [
    "# matches of RCB\n",
    "rcb = subset(matches, (team1 == 'Royal Challengers Bangalore' | team2 == 'Royal Challengers Bangalore' ))"
   ]
  },
  {
   "cell_type": "code",
   "execution_count": 12,
   "metadata": {},
   "outputs": [
    {
     "data": {
      "text/html": [
       "180"
      ],
      "text/latex": [
       "180"
      ],
      "text/markdown": [
       "180"
      ],
      "text/plain": [
       "[1] 180"
      ]
     },
     "metadata": {},
     "output_type": "display_data"
    }
   ],
   "source": [
    "# total no. of matches played by RCB\n",
    "nrow(rcb)"
   ]
  },
  {
   "cell_type": "code",
   "execution_count": 13,
   "metadata": {},
   "outputs": [
    {
     "data": {
      "text/html": [
       "<table>\n",
       "<thead><tr><th scope=col>winner</th><th scope=col>n</th></tr></thead>\n",
       "<tbody>\n",
       "\t<tr><td>                           </td><td> 3                         </td></tr>\n",
       "\t<tr><td>Chennai Super Kings        </td><td>15                         </td></tr>\n",
       "\t<tr><td>Deccan Chargers            </td><td> 6                         </td></tr>\n",
       "\t<tr><td>Delhi Capitals             </td><td> 2                         </td></tr>\n",
       "\t<tr><td>Delhi Daredevils           </td><td> 6                         </td></tr>\n",
       "\t<tr><td>Gujarat Lions              </td><td> 2                         </td></tr>\n",
       "\t<tr><td>Kings XI Punjab            </td><td>12                         </td></tr>\n",
       "\t<tr><td>Kolkata Knight Riders      </td><td>14                         </td></tr>\n",
       "\t<tr><td>Mumbai Indians             </td><td>16                         </td></tr>\n",
       "\t<tr><td>Rajasthan Royals           </td><td>10                         </td></tr>\n",
       "\t<tr><td>Rising Pune Supergiant     </td><td> 2                         </td></tr>\n",
       "\t<tr><td>Royal Challengers Bangalore</td><td>84                         </td></tr>\n",
       "\t<tr><td>Sunrisers Hyderabad        </td><td> 8                         </td></tr>\n",
       "</tbody>\n",
       "</table>\n"
      ],
      "text/latex": [
       "\\begin{tabular}{r|ll}\n",
       " winner & n\\\\\n",
       "\\hline\n",
       "\t                             &  3                         \\\\\n",
       "\t Chennai Super Kings         & 15                         \\\\\n",
       "\t Deccan Chargers             &  6                         \\\\\n",
       "\t Delhi Capitals              &  2                         \\\\\n",
       "\t Delhi Daredevils            &  6                         \\\\\n",
       "\t Gujarat Lions               &  2                         \\\\\n",
       "\t Kings XI Punjab             & 12                         \\\\\n",
       "\t Kolkata Knight Riders       & 14                         \\\\\n",
       "\t Mumbai Indians              & 16                         \\\\\n",
       "\t Rajasthan Royals            & 10                         \\\\\n",
       "\t Rising Pune Supergiant      &  2                         \\\\\n",
       "\t Royal Challengers Bangalore & 84                         \\\\\n",
       "\t Sunrisers Hyderabad         &  8                         \\\\\n",
       "\\end{tabular}\n"
      ],
      "text/markdown": [
       "\n",
       "winner | n | \n",
       "|---|---|---|---|---|---|---|---|---|---|---|---|---|\n",
       "|                             |  3                          | \n",
       "| Chennai Super Kings         | 15                          | \n",
       "| Deccan Chargers             |  6                          | \n",
       "| Delhi Capitals              |  2                          | \n",
       "| Delhi Daredevils            |  6                          | \n",
       "| Gujarat Lions               |  2                          | \n",
       "| Kings XI Punjab             | 12                          | \n",
       "| Kolkata Knight Riders       | 14                          | \n",
       "| Mumbai Indians              | 16                          | \n",
       "| Rajasthan Royals            | 10                          | \n",
       "| Rising Pune Supergiant      |  2                          | \n",
       "| Royal Challengers Bangalore | 84                          | \n",
       "| Sunrisers Hyderabad         |  8                          | \n",
       "\n",
       "\n"
      ],
      "text/plain": [
       "   winner                      n \n",
       "1                               3\n",
       "2  Chennai Super Kings         15\n",
       "3  Deccan Chargers              6\n",
       "4  Delhi Capitals               2\n",
       "5  Delhi Daredevils             6\n",
       "6  Gujarat Lions                2\n",
       "7  Kings XI Punjab             12\n",
       "8  Kolkata Knight Riders       14\n",
       "9  Mumbai Indians              16\n",
       "10 Rajasthan Royals            10\n",
       "11 Rising Pune Supergiant       2\n",
       "12 Royal Challengers Bangalore 84\n",
       "13 Sunrisers Hyderabad          8"
      ]
     },
     "metadata": {},
     "output_type": "display_data"
    }
   ],
   "source": [
    "# winners in those matches\n",
    "count(rcb, winner)"
   ]
  },
  {
   "cell_type": "code",
   "execution_count": 14,
   "metadata": {},
   "outputs": [
    {
     "data": {
      "text/html": [
       "0.466666666666667"
      ],
      "text/latex": [
       "0.466666666666667"
      ],
      "text/markdown": [
       "0.466666666666667"
      ],
      "text/plain": [
       "[1] 0.4666667"
      ]
     },
     "metadata": {},
     "output_type": "display_data"
    }
   ],
   "source": [
    "# win ratio of RCB\n",
    "84/180"
   ]
  },
  {
   "cell_type": "markdown",
   "metadata": {},
   "source": [
    "# Question 2:"
   ]
  },
  {
   "cell_type": "code",
   "execution_count": 33,
   "metadata": {},
   "outputs": [],
   "source": [
    "mi_bowlers = c('HH Pandya', 'KH Pandya', 'KA Pollard', 'RD Chahar', 'TA Boult', 'JJ Bumrah')"
   ]
  },
  {
   "cell_type": "code",
   "execution_count": 40,
   "metadata": {},
   "outputs": [],
   "source": [
    "rcb_bowlers = c('CH Morris', 'Washington Sundar', 'N Saini', 'Mohammed Siraj', 'YS Chahal')"
   ]
  },
  {
   "cell_type": "code",
   "execution_count": 46,
   "metadata": {},
   "outputs": [
    {
     "name": "stdout",
     "output_type": "stream",
     "text": [
      "[1] \"CH Morris\"\n",
      "[1] \"Washington Sundar\"\n",
      "[1] \"N Saini\"\n",
      "[1] \"Mohammed Siraj\"\n",
      "[1] \"YS Chahal\"\n"
     ]
    }
   ],
   "source": [
    "for (b in rcb_bowlers)\n",
    "    {\n",
    "    print(b)\n",
    "}"
   ]
  },
  {
   "cell_type": "code",
   "execution_count": 142,
   "metadata": {},
   "outputs": [
    {
     "data": {
      "text/html": [
       "<table>\n",
       "<thead><tr><th scope=col>CH Morris</th><th scope=col>Washington Sundar</th><th scope=col>N Saini</th><th scope=col>Mohammed Siraj</th><th scope=col>YS Chahal</th></tr></thead>\n",
       "<tbody>\n",
       "\t<tr><td>3 </td><td>NA</td><td>NA</td><td>NA</td><td>NA</td></tr>\n",
       "\t<tr><td>1 </td><td>NA</td><td>NA</td><td>NA</td><td>NA</td></tr>\n",
       "\t<tr><td>3 </td><td>NA</td><td>NA</td><td>NA</td><td>NA</td></tr>\n",
       "\t<tr><td>1 </td><td>NA</td><td>NA</td><td>NA</td><td>NA</td></tr>\n",
       "\t<tr><td>4 </td><td>NA</td><td>NA</td><td>NA</td><td>NA</td></tr>\n",
       "\t<tr><td>2 </td><td>NA</td><td>NA</td><td>NA</td><td>NA</td></tr>\n",
       "\t<tr><td>2 </td><td>NA</td><td>NA</td><td>NA</td><td>NA</td></tr>\n",
       "\t<tr><td>3 </td><td>NA</td><td>NA</td><td>NA</td><td>NA</td></tr>\n",
       "\t<tr><td>2 </td><td>NA</td><td>NA</td><td>NA</td><td>NA</td></tr>\n",
       "\t<tr><td>1 </td><td>NA</td><td>NA</td><td>NA</td><td>NA</td></tr>\n",
       "\t<tr><td>1 </td><td>NA</td><td>NA</td><td>NA</td><td>NA</td></tr>\n",
       "\t<tr><td>1 </td><td>NA</td><td>NA</td><td>NA</td><td>NA</td></tr>\n",
       "\t<tr><td>2 </td><td>NA</td><td>NA</td><td>NA</td><td>NA</td></tr>\n",
       "\t<tr><td>1 </td><td>NA</td><td>NA</td><td>NA</td><td>NA</td></tr>\n",
       "\t<tr><td>1 </td><td>NA</td><td>NA</td><td>NA</td><td>NA</td></tr>\n",
       "\t<tr><td>1 </td><td>NA</td><td>NA</td><td>NA</td><td>NA</td></tr>\n",
       "\t<tr><td>2 </td><td>NA</td><td>NA</td><td>NA</td><td>NA</td></tr>\n",
       "\t<tr><td>2 </td><td>NA</td><td>NA</td><td>NA</td><td>NA</td></tr>\n",
       "\t<tr><td>1 </td><td>NA</td><td>NA</td><td>NA</td><td>NA</td></tr>\n",
       "\t<tr><td>1 </td><td>NA</td><td>NA</td><td>NA</td><td>NA</td></tr>\n",
       "\t<tr><td>3 </td><td>NA</td><td>NA</td><td>NA</td><td>NA</td></tr>\n",
       "\t<tr><td>3 </td><td>NA</td><td>NA</td><td>NA</td><td>NA</td></tr>\n",
       "\t<tr><td>4 </td><td>NA</td><td>NA</td><td>NA</td><td>NA</td></tr>\n",
       "\t<tr><td>1 </td><td>NA</td><td>NA</td><td>NA</td><td>NA</td></tr>\n",
       "\t<tr><td>1 </td><td>NA</td><td>NA</td><td>NA</td><td>NA</td></tr>\n",
       "\t<tr><td>2 </td><td>NA</td><td>NA</td><td>NA</td><td>NA</td></tr>\n",
       "\t<tr><td>2 </td><td>NA</td><td>NA</td><td>NA</td><td>NA</td></tr>\n",
       "\t<tr><td>2 </td><td>NA</td><td>NA</td><td>NA</td><td>NA</td></tr>\n",
       "\t<tr><td>1 </td><td>NA</td><td>NA</td><td>NA</td><td>NA</td></tr>\n",
       "\t<tr><td>2 </td><td>NA</td><td>NA</td><td>NA</td><td>NA</td></tr>\n",
       "\t<tr><td>⋮</td><td>⋮</td><td>⋮</td><td>⋮</td><td>⋮</td></tr>\n",
       "\t<tr><td>NA</td><td>NA</td><td>NA</td><td>NA</td><td>1 </td></tr>\n",
       "\t<tr><td>NA</td><td>NA</td><td>NA</td><td>NA</td><td>2 </td></tr>\n",
       "\t<tr><td>NA</td><td>NA</td><td>NA</td><td>NA</td><td>1 </td></tr>\n",
       "\t<tr><td>NA</td><td>NA</td><td>NA</td><td>NA</td><td>2 </td></tr>\n",
       "\t<tr><td>NA</td><td>NA</td><td>NA</td><td>NA</td><td>1 </td></tr>\n",
       "\t<tr><td>NA</td><td>NA</td><td>NA</td><td>NA</td><td>3 </td></tr>\n",
       "\t<tr><td>NA</td><td>NA</td><td>NA</td><td>NA</td><td>1 </td></tr>\n",
       "\t<tr><td>NA</td><td>NA</td><td>NA</td><td>NA</td><td>4 </td></tr>\n",
       "\t<tr><td>NA</td><td>NA</td><td>NA</td><td>NA</td><td>3 </td></tr>\n",
       "\t<tr><td>NA</td><td>NA</td><td>NA</td><td>NA</td><td>1 </td></tr>\n",
       "\t<tr><td>NA</td><td>NA</td><td>NA</td><td>NA</td><td>1 </td></tr>\n",
       "\t<tr><td>NA</td><td>NA</td><td>NA</td><td>NA</td><td>1 </td></tr>\n",
       "\t<tr><td>NA</td><td>NA</td><td>NA</td><td>NA</td><td>2 </td></tr>\n",
       "\t<tr><td>NA</td><td>NA</td><td>NA</td><td>NA</td><td>2 </td></tr>\n",
       "\t<tr><td>NA</td><td>NA</td><td>NA</td><td>NA</td><td>2 </td></tr>\n",
       "\t<tr><td>NA</td><td>NA</td><td>NA</td><td>NA</td><td>1 </td></tr>\n",
       "\t<tr><td>NA</td><td>NA</td><td>NA</td><td>NA</td><td>2 </td></tr>\n",
       "\t<tr><td>NA</td><td>NA</td><td>NA</td><td>NA</td><td>1 </td></tr>\n",
       "\t<tr><td>NA</td><td>NA</td><td>NA</td><td>NA</td><td>1 </td></tr>\n",
       "\t<tr><td>NA</td><td>NA</td><td>NA</td><td>NA</td><td>1 </td></tr>\n",
       "\t<tr><td>NA</td><td>NA</td><td>NA</td><td>NA</td><td>4 </td></tr>\n",
       "\t<tr><td>NA</td><td>NA</td><td>NA</td><td>NA</td><td>1 </td></tr>\n",
       "\t<tr><td>NA</td><td>NA</td><td>NA</td><td>NA</td><td>2 </td></tr>\n",
       "\t<tr><td>NA</td><td>NA</td><td>NA</td><td>NA</td><td>1 </td></tr>\n",
       "\t<tr><td>NA</td><td>NA</td><td>NA</td><td>NA</td><td>2 </td></tr>\n",
       "\t<tr><td>NA</td><td>NA</td><td>NA</td><td>NA</td><td>2 </td></tr>\n",
       "\t<tr><td>NA</td><td>NA</td><td>NA</td><td>NA</td><td>1 </td></tr>\n",
       "\t<tr><td>NA</td><td>NA</td><td>NA</td><td>NA</td><td>2 </td></tr>\n",
       "\t<tr><td>NA</td><td>NA</td><td>NA</td><td>NA</td><td>1 </td></tr>\n",
       "\t<tr><td>NA</td><td>NA</td><td>NA</td><td>NA</td><td>1 </td></tr>\n",
       "</tbody>\n",
       "</table>\n"
      ],
      "text/latex": [
       "\\begin{tabular}{r|lllll}\n",
       " CH Morris & Washington Sundar & N Saini & Mohammed Siraj & YS Chahal\\\\\n",
       "\\hline\n",
       "\t 3  & NA & NA & NA & NA\\\\\n",
       "\t 1  & NA & NA & NA & NA\\\\\n",
       "\t 3  & NA & NA & NA & NA\\\\\n",
       "\t 1  & NA & NA & NA & NA\\\\\n",
       "\t 4  & NA & NA & NA & NA\\\\\n",
       "\t 2  & NA & NA & NA & NA\\\\\n",
       "\t 2  & NA & NA & NA & NA\\\\\n",
       "\t 3  & NA & NA & NA & NA\\\\\n",
       "\t 2  & NA & NA & NA & NA\\\\\n",
       "\t 1  & NA & NA & NA & NA\\\\\n",
       "\t 1  & NA & NA & NA & NA\\\\\n",
       "\t 1  & NA & NA & NA & NA\\\\\n",
       "\t 2  & NA & NA & NA & NA\\\\\n",
       "\t 1  & NA & NA & NA & NA\\\\\n",
       "\t 1  & NA & NA & NA & NA\\\\\n",
       "\t 1  & NA & NA & NA & NA\\\\\n",
       "\t 2  & NA & NA & NA & NA\\\\\n",
       "\t 2  & NA & NA & NA & NA\\\\\n",
       "\t 1  & NA & NA & NA & NA\\\\\n",
       "\t 1  & NA & NA & NA & NA\\\\\n",
       "\t 3  & NA & NA & NA & NA\\\\\n",
       "\t 3  & NA & NA & NA & NA\\\\\n",
       "\t 4  & NA & NA & NA & NA\\\\\n",
       "\t 1  & NA & NA & NA & NA\\\\\n",
       "\t 1  & NA & NA & NA & NA\\\\\n",
       "\t 2  & NA & NA & NA & NA\\\\\n",
       "\t 2  & NA & NA & NA & NA\\\\\n",
       "\t 2  & NA & NA & NA & NA\\\\\n",
       "\t 1  & NA & NA & NA & NA\\\\\n",
       "\t 2  & NA & NA & NA & NA\\\\\n",
       "\t ⋮ & ⋮ & ⋮ & ⋮ & ⋮\\\\\n",
       "\t NA & NA & NA & NA & 1 \\\\\n",
       "\t NA & NA & NA & NA & 2 \\\\\n",
       "\t NA & NA & NA & NA & 1 \\\\\n",
       "\t NA & NA & NA & NA & 2 \\\\\n",
       "\t NA & NA & NA & NA & 1 \\\\\n",
       "\t NA & NA & NA & NA & 3 \\\\\n",
       "\t NA & NA & NA & NA & 1 \\\\\n",
       "\t NA & NA & NA & NA & 4 \\\\\n",
       "\t NA & NA & NA & NA & 3 \\\\\n",
       "\t NA & NA & NA & NA & 1 \\\\\n",
       "\t NA & NA & NA & NA & 1 \\\\\n",
       "\t NA & NA & NA & NA & 1 \\\\\n",
       "\t NA & NA & NA & NA & 2 \\\\\n",
       "\t NA & NA & NA & NA & 2 \\\\\n",
       "\t NA & NA & NA & NA & 2 \\\\\n",
       "\t NA & NA & NA & NA & 1 \\\\\n",
       "\t NA & NA & NA & NA & 2 \\\\\n",
       "\t NA & NA & NA & NA & 1 \\\\\n",
       "\t NA & NA & NA & NA & 1 \\\\\n",
       "\t NA & NA & NA & NA & 1 \\\\\n",
       "\t NA & NA & NA & NA & 4 \\\\\n",
       "\t NA & NA & NA & NA & 1 \\\\\n",
       "\t NA & NA & NA & NA & 2 \\\\\n",
       "\t NA & NA & NA & NA & 1 \\\\\n",
       "\t NA & NA & NA & NA & 2 \\\\\n",
       "\t NA & NA & NA & NA & 2 \\\\\n",
       "\t NA & NA & NA & NA & 1 \\\\\n",
       "\t NA & NA & NA & NA & 2 \\\\\n",
       "\t NA & NA & NA & NA & 1 \\\\\n",
       "\t NA & NA & NA & NA & 1 \\\\\n",
       "\\end{tabular}\n"
      ],
      "text/markdown": [
       "\n",
       "CH Morris | Washington Sundar | N Saini | Mohammed Siraj | YS Chahal | \n",
       "|---|---|---|---|---|---|---|---|---|---|---|---|---|---|---|---|---|---|---|---|---|---|---|---|---|---|---|---|---|---|---|---|---|---|---|---|---|---|---|---|---|---|---|---|---|---|---|---|---|---|---|---|---|---|---|---|---|---|---|---|---|\n",
       "| 3  | NA | NA | NA | NA | \n",
       "| 1  | NA | NA | NA | NA | \n",
       "| 3  | NA | NA | NA | NA | \n",
       "| 1  | NA | NA | NA | NA | \n",
       "| 4  | NA | NA | NA | NA | \n",
       "| 2  | NA | NA | NA | NA | \n",
       "| 2  | NA | NA | NA | NA | \n",
       "| 3  | NA | NA | NA | NA | \n",
       "| 2  | NA | NA | NA | NA | \n",
       "| 1  | NA | NA | NA | NA | \n",
       "| 1  | NA | NA | NA | NA | \n",
       "| 1  | NA | NA | NA | NA | \n",
       "| 2  | NA | NA | NA | NA | \n",
       "| 1  | NA | NA | NA | NA | \n",
       "| 1  | NA | NA | NA | NA | \n",
       "| 1  | NA | NA | NA | NA | \n",
       "| 2  | NA | NA | NA | NA | \n",
       "| 2  | NA | NA | NA | NA | \n",
       "| 1  | NA | NA | NA | NA | \n",
       "| 1  | NA | NA | NA | NA | \n",
       "| 3  | NA | NA | NA | NA | \n",
       "| 3  | NA | NA | NA | NA | \n",
       "| 4  | NA | NA | NA | NA | \n",
       "| 1  | NA | NA | NA | NA | \n",
       "| 1  | NA | NA | NA | NA | \n",
       "| 2  | NA | NA | NA | NA | \n",
       "| 2  | NA | NA | NA | NA | \n",
       "| 2  | NA | NA | NA | NA | \n",
       "| 1  | NA | NA | NA | NA | \n",
       "| 2  | NA | NA | NA | NA | \n",
       "| ⋮ | ⋮ | ⋮ | ⋮ | ⋮ | \n",
       "| NA | NA | NA | NA | 1  | \n",
       "| NA | NA | NA | NA | 2  | \n",
       "| NA | NA | NA | NA | 1  | \n",
       "| NA | NA | NA | NA | 2  | \n",
       "| NA | NA | NA | NA | 1  | \n",
       "| NA | NA | NA | NA | 3  | \n",
       "| NA | NA | NA | NA | 1  | \n",
       "| NA | NA | NA | NA | 4  | \n",
       "| NA | NA | NA | NA | 3  | \n",
       "| NA | NA | NA | NA | 1  | \n",
       "| NA | NA | NA | NA | 1  | \n",
       "| NA | NA | NA | NA | 1  | \n",
       "| NA | NA | NA | NA | 2  | \n",
       "| NA | NA | NA | NA | 2  | \n",
       "| NA | NA | NA | NA | 2  | \n",
       "| NA | NA | NA | NA | 1  | \n",
       "| NA | NA | NA | NA | 2  | \n",
       "| NA | NA | NA | NA | 1  | \n",
       "| NA | NA | NA | NA | 1  | \n",
       "| NA | NA | NA | NA | 1  | \n",
       "| NA | NA | NA | NA | 4  | \n",
       "| NA | NA | NA | NA | 1  | \n",
       "| NA | NA | NA | NA | 2  | \n",
       "| NA | NA | NA | NA | 1  | \n",
       "| NA | NA | NA | NA | 2  | \n",
       "| NA | NA | NA | NA | 2  | \n",
       "| NA | NA | NA | NA | 1  | \n",
       "| NA | NA | NA | NA | 2  | \n",
       "| NA | NA | NA | NA | 1  | \n",
       "| NA | NA | NA | NA | 1  | \n",
       "\n",
       "\n"
      ],
      "text/plain": [
       "    CH Morris Washington Sundar N Saini Mohammed Siraj YS Chahal\n",
       "1   3         NA                NA      NA             NA       \n",
       "2   1         NA                NA      NA             NA       \n",
       "3   3         NA                NA      NA             NA       \n",
       "4   1         NA                NA      NA             NA       \n",
       "5   4         NA                NA      NA             NA       \n",
       "6   2         NA                NA      NA             NA       \n",
       "7   2         NA                NA      NA             NA       \n",
       "8   3         NA                NA      NA             NA       \n",
       "9   2         NA                NA      NA             NA       \n",
       "10  1         NA                NA      NA             NA       \n",
       "11  1         NA                NA      NA             NA       \n",
       "12  1         NA                NA      NA             NA       \n",
       "13  2         NA                NA      NA             NA       \n",
       "14  1         NA                NA      NA             NA       \n",
       "15  1         NA                NA      NA             NA       \n",
       "16  1         NA                NA      NA             NA       \n",
       "17  2         NA                NA      NA             NA       \n",
       "18  2         NA                NA      NA             NA       \n",
       "19  1         NA                NA      NA             NA       \n",
       "20  1         NA                NA      NA             NA       \n",
       "21  3         NA                NA      NA             NA       \n",
       "22  3         NA                NA      NA             NA       \n",
       "23  4         NA                NA      NA             NA       \n",
       "24  1         NA                NA      NA             NA       \n",
       "25  1         NA                NA      NA             NA       \n",
       "26  2         NA                NA      NA             NA       \n",
       "27  2         NA                NA      NA             NA       \n",
       "28  2         NA                NA      NA             NA       \n",
       "29  1         NA                NA      NA             NA       \n",
       "30  2         NA                NA      NA             NA       \n",
       "⋮   ⋮         ⋮                 ⋮       ⋮              ⋮        \n",
       "112 NA        NA                NA      NA             1        \n",
       "113 NA        NA                NA      NA             2        \n",
       "114 NA        NA                NA      NA             1        \n",
       "115 NA        NA                NA      NA             2        \n",
       "116 NA        NA                NA      NA             1        \n",
       "117 NA        NA                NA      NA             3        \n",
       "118 NA        NA                NA      NA             1        \n",
       "119 NA        NA                NA      NA             4        \n",
       "120 NA        NA                NA      NA             3        \n",
       "121 NA        NA                NA      NA             1        \n",
       "122 NA        NA                NA      NA             1        \n",
       "123 NA        NA                NA      NA             1        \n",
       "124 NA        NA                NA      NA             2        \n",
       "125 NA        NA                NA      NA             2        \n",
       "126 NA        NA                NA      NA             2        \n",
       "127 NA        NA                NA      NA             1        \n",
       "128 NA        NA                NA      NA             2        \n",
       "129 NA        NA                NA      NA             1        \n",
       "130 NA        NA                NA      NA             1        \n",
       "131 NA        NA                NA      NA             1        \n",
       "132 NA        NA                NA      NA             4        \n",
       "133 NA        NA                NA      NA             1        \n",
       "134 NA        NA                NA      NA             2        \n",
       "135 NA        NA                NA      NA             1        \n",
       "136 NA        NA                NA      NA             2        \n",
       "137 NA        NA                NA      NA             2        \n",
       "138 NA        NA                NA      NA             1        \n",
       "139 NA        NA                NA      NA             2        \n",
       "140 NA        NA                NA      NA             1        \n",
       "141 NA        NA                NA      NA             1        "
      ]
     },
     "metadata": {},
     "output_type": "display_data"
    }
   ],
   "source": [
    "get_wickets(rcb_bowlers)"
   ]
  },
  {
   "cell_type": "code",
   "execution_count": 141,
   "metadata": {},
   "outputs": [],
   "source": [
    "get_wickets = function(bowlers){\n",
    "    result = data.frame()\n",
    "   # result = array()\n",
    "    \n",
    "   # colnames(result) = bowlers\n",
    "    for (b in bowlers)\n",
    "        {\n",
    "        data = subset(deli, with(deli, grepl(b, bowler)))\n",
    "        wickets = subset(data, (player_dismissed != \"\")) %>% group_by(match_id) %>% summarise(wickets = n())\n",
    "        append(result, wickets$wickets)\n",
    "        tmp = data.frame(col=wickets$wickets)\n",
    "        colnames(tmp)[1] = b\n",
    "        result = bind_rows(result, tmp)\n",
    "    }\n",
    "    return(result)\n",
    "}"
   ]
  },
  {
   "cell_type": "code",
   "execution_count": 80,
   "metadata": {},
   "outputs": [
    {
     "data": {
      "text/html": [
       "<table>\n",
       "<tbody>\n",
       "\t<tr><td>24</td><td>24</td><td>21</td><td>18</td><td>8 </td><td>25</td><td>25</td><td>19</td><td>12</td><td>25</td><td>⋯ </td><td>24</td><td>26</td><td>25</td><td>24</td><td>22</td><td>24</td><td>12</td><td>24</td><td>2 </td><td>25</td></tr>\n",
       "</tbody>\n",
       "</table>\n"
      ],
      "text/latex": [
       "\\begin{tabular}{lllllllllllllllllllllllllllllllllllllllllllllllllllllllllllllllllllllllllllllllllll}\n",
       "\t 24 & 24 & 21 & 18 & 8  & 25 & 25 & 19 & 12 & 25 & ⋯  & 24 & 26 & 25 & 24 & 22 & 24 & 12 & 24 & 2  & 25\\\\\n",
       "\\end{tabular}\n"
      ],
      "text/markdown": [
       "\n",
       "| 24 | 24 | 21 | 18 | 8  | 25 | 25 | 19 | 12 | 25 | ⋯  | 24 | 26 | 25 | 24 | 22 | 24 | 12 | 24 | 2  | 25 | \n",
       "\n",
       "\n"
      ],
      "text/plain": [
       "     [,1] [,2] [,3] [,4] [,5] [,6] [,7] [,8] [,9] [,10] [,11] [,12] [,13] [,14]\n",
       "[1,] 24   24   21   18   8    25   25   19   12   25    ⋯     24    26    25   \n",
       "     [,15] [,16] [,17] [,18] [,19] [,20] [,21]\n",
       "[1,] 24    22    24    12    24    2     25   "
      ]
     },
     "metadata": {},
     "output_type": "display_data"
    }
   ],
   "source": [
    "x=subset(deli, with(deli, grepl(\"Chahal\", bowler)) )%>% group_by(match_id) %>% summarise(wickets = n())\n",
    "\n",
    "t(x$wickets)"
   ]
  },
  {
   "cell_type": "markdown",
   "metadata": {},
   "source": [
    "# Question 5:"
   ]
  },
  {
   "cell_type": "code",
   "execution_count": 19,
   "metadata": {},
   "outputs": [
    {
     "data": {
      "text/html": [
       "<table>\n",
       "<thead><tr><th></th><th scope=col>match_id</th><th scope=col>inning</th><th scope=col>batting_team</th><th scope=col>bowling_team</th><th scope=col>over</th><th scope=col>ball</th><th scope=col>batsman</th><th scope=col>non_striker</th><th scope=col>bowler</th><th scope=col>is_super_over</th><th scope=col>⋯</th><th scope=col>bye_runs</th><th scope=col>legbye_runs</th><th scope=col>noball_runs</th><th scope=col>penalty_runs</th><th scope=col>batsman_runs</th><th scope=col>extra_runs</th><th scope=col>total_runs</th><th scope=col>player_dismissed</th><th scope=col>dismissal_kind</th><th scope=col>fielder</th></tr></thead>\n",
       "<tbody>\n",
       "\t<tr><th scope=row>2590</th><td>12                         </td><td>1                          </td><td>Royal Challengers Bangalore</td><td>Mumbai Indians             </td><td>1                          </td><td>1                          </td><td>CH Gayle                   </td><td>V Kohli                    </td><td>TG Southee                 </td><td>0                          </td><td>⋯                          </td><td>0                          </td><td>0                          </td><td>0                          </td><td>0                          </td><td>1                          </td><td>0                          </td><td>1                          </td><td>                           </td><td>                           </td><td>                           </td></tr>\n",
       "\t<tr><th scope=row>2591</th><td>12                         </td><td>1                          </td><td>Royal Challengers Bangalore</td><td>Mumbai Indians             </td><td>1                          </td><td>2                          </td><td>V Kohli                    </td><td>CH Gayle                   </td><td>TG Southee                 </td><td>0                          </td><td>⋯                          </td><td>0                          </td><td>0                          </td><td>0                          </td><td>0                          </td><td>0                          </td><td>1                          </td><td>1                          </td><td>                           </td><td>                           </td><td>                           </td></tr>\n",
       "\t<tr><th scope=row>2592</th><td>12                         </td><td>1                          </td><td>Royal Challengers Bangalore</td><td>Mumbai Indians             </td><td>1                          </td><td>3                          </td><td>V Kohli                    </td><td>CH Gayle                   </td><td>TG Southee                 </td><td>0                          </td><td>⋯                          </td><td>0                          </td><td>0                          </td><td>0                          </td><td>0                          </td><td>1                          </td><td>0                          </td><td>1                          </td><td>                           </td><td>                           </td><td>                           </td></tr>\n",
       "\t<tr><th scope=row>2593</th><td>12                         </td><td>1                          </td><td>Royal Challengers Bangalore</td><td>Mumbai Indians             </td><td>1                          </td><td>4                          </td><td>CH Gayle                   </td><td>V Kohli                    </td><td>TG Southee                 </td><td>0                          </td><td>⋯                          </td><td>0                          </td><td>0                          </td><td>0                          </td><td>0                          </td><td>1                          </td><td>0                          </td><td>1                          </td><td>                           </td><td>                           </td><td>                           </td></tr>\n",
       "\t<tr><th scope=row>2594</th><td>12                         </td><td>1                          </td><td>Royal Challengers Bangalore</td><td>Mumbai Indians             </td><td>1                          </td><td>5                          </td><td>V Kohli                    </td><td>CH Gayle                   </td><td>TG Southee                 </td><td>0                          </td><td>⋯                          </td><td>0                          </td><td>0                          </td><td>0                          </td><td>0                          </td><td>0                          </td><td>0                          </td><td>0                          </td><td>                           </td><td>                           </td><td>                           </td></tr>\n",
       "\t<tr><th scope=row>2595</th><td>12                         </td><td>1                          </td><td>Royal Challengers Bangalore</td><td>Mumbai Indians             </td><td>1                          </td><td>6                          </td><td>V Kohli                    </td><td>CH Gayle                   </td><td>TG Southee                 </td><td>0                          </td><td>⋯                          </td><td>0                          </td><td>0                          </td><td>0                          </td><td>0                          </td><td>1                          </td><td>0                          </td><td>1                          </td><td>                           </td><td>                           </td><td>                           </td></tr>\n",
       "</tbody>\n",
       "</table>\n"
      ],
      "text/latex": [
       "\\begin{tabular}{r|lllllllllllllllllllll}\n",
       "  & match\\_id & inning & batting\\_team & bowling\\_team & over & ball & batsman & non\\_striker & bowler & is\\_super\\_over & ⋯ & bye\\_runs & legbye\\_runs & noball\\_runs & penalty\\_runs & batsman\\_runs & extra\\_runs & total\\_runs & player\\_dismissed & dismissal\\_kind & fielder\\\\\n",
       "\\hline\n",
       "\t2590 & 12                          & 1                           & Royal Challengers Bangalore & Mumbai Indians              & 1                           & 1                           & CH Gayle                    & V Kohli                     & TG Southee                  & 0                           & ⋯                           & 0                           & 0                           & 0                           & 0                           & 1                           & 0                           & 1                           &                             &                             &                            \\\\\n",
       "\t2591 & 12                          & 1                           & Royal Challengers Bangalore & Mumbai Indians              & 1                           & 2                           & V Kohli                     & CH Gayle                    & TG Southee                  & 0                           & ⋯                           & 0                           & 0                           & 0                           & 0                           & 0                           & 1                           & 1                           &                             &                             &                            \\\\\n",
       "\t2592 & 12                          & 1                           & Royal Challengers Bangalore & Mumbai Indians              & 1                           & 3                           & V Kohli                     & CH Gayle                    & TG Southee                  & 0                           & ⋯                           & 0                           & 0                           & 0                           & 0                           & 1                           & 0                           & 1                           &                             &                             &                            \\\\\n",
       "\t2593 & 12                          & 1                           & Royal Challengers Bangalore & Mumbai Indians              & 1                           & 4                           & CH Gayle                    & V Kohli                     & TG Southee                  & 0                           & ⋯                           & 0                           & 0                           & 0                           & 0                           & 1                           & 0                           & 1                           &                             &                             &                            \\\\\n",
       "\t2594 & 12                          & 1                           & Royal Challengers Bangalore & Mumbai Indians              & 1                           & 5                           & V Kohli                     & CH Gayle                    & TG Southee                  & 0                           & ⋯                           & 0                           & 0                           & 0                           & 0                           & 0                           & 0                           & 0                           &                             &                             &                            \\\\\n",
       "\t2595 & 12                          & 1                           & Royal Challengers Bangalore & Mumbai Indians              & 1                           & 6                           & V Kohli                     & CH Gayle                    & TG Southee                  & 0                           & ⋯                           & 0                           & 0                           & 0                           & 0                           & 1                           & 0                           & 1                           &                             &                             &                            \\\\\n",
       "\\end{tabular}\n"
      ],
      "text/markdown": [
       "\n",
       "| <!--/--> | match_id | inning | batting_team | bowling_team | over | ball | batsman | non_striker | bowler | is_super_over | ⋯ | bye_runs | legbye_runs | noball_runs | penalty_runs | batsman_runs | extra_runs | total_runs | player_dismissed | dismissal_kind | fielder | \n",
       "|---|---|---|---|---|---|\n",
       "| 2590 | 12                          | 1                           | Royal Challengers Bangalore | Mumbai Indians              | 1                           | 1                           | CH Gayle                    | V Kohli                     | TG Southee                  | 0                           | ⋯                           | 0                           | 0                           | 0                           | 0                           | 1                           | 0                           | 1                           |                             |                             |                             | \n",
       "| 2591 | 12                          | 1                           | Royal Challengers Bangalore | Mumbai Indians              | 1                           | 2                           | V Kohli                     | CH Gayle                    | TG Southee                  | 0                           | ⋯                           | 0                           | 0                           | 0                           | 0                           | 0                           | 1                           | 1                           |                             |                             |                             | \n",
       "| 2592 | 12                          | 1                           | Royal Challengers Bangalore | Mumbai Indians              | 1                           | 3                           | V Kohli                     | CH Gayle                    | TG Southee                  | 0                           | ⋯                           | 0                           | 0                           | 0                           | 0                           | 1                           | 0                           | 1                           |                             |                             |                             | \n",
       "| 2593 | 12                          | 1                           | Royal Challengers Bangalore | Mumbai Indians              | 1                           | 4                           | CH Gayle                    | V Kohli                     | TG Southee                  | 0                           | ⋯                           | 0                           | 0                           | 0                           | 0                           | 1                           | 0                           | 1                           |                             |                             |                             | \n",
       "| 2594 | 12                          | 1                           | Royal Challengers Bangalore | Mumbai Indians              | 1                           | 5                           | V Kohli                     | CH Gayle                    | TG Southee                  | 0                           | ⋯                           | 0                           | 0                           | 0                           | 0                           | 0                           | 0                           | 0                           |                             |                             |                             | \n",
       "| 2595 | 12                          | 1                           | Royal Challengers Bangalore | Mumbai Indians              | 1                           | 6                           | V Kohli                     | CH Gayle                    | TG Southee                  | 0                           | ⋯                           | 0                           | 0                           | 0                           | 0                           | 1                           | 0                           | 1                           |                             |                             |                             | \n",
       "\n",
       "\n"
      ],
      "text/plain": [
       "     match_id inning batting_team                bowling_team   over ball\n",
       "2590 12       1      Royal Challengers Bangalore Mumbai Indians 1    1   \n",
       "2591 12       1      Royal Challengers Bangalore Mumbai Indians 1    2   \n",
       "2592 12       1      Royal Challengers Bangalore Mumbai Indians 1    3   \n",
       "2593 12       1      Royal Challengers Bangalore Mumbai Indians 1    4   \n",
       "2594 12       1      Royal Challengers Bangalore Mumbai Indians 1    5   \n",
       "2595 12       1      Royal Challengers Bangalore Mumbai Indians 1    6   \n",
       "     batsman  non_striker bowler     is_super_over ⋯ bye_runs legbye_runs\n",
       "2590 CH Gayle V Kohli     TG Southee 0             ⋯ 0        0          \n",
       "2591 V Kohli  CH Gayle    TG Southee 0             ⋯ 0        0          \n",
       "2592 V Kohli  CH Gayle    TG Southee 0             ⋯ 0        0          \n",
       "2593 CH Gayle V Kohli     TG Southee 0             ⋯ 0        0          \n",
       "2594 V Kohli  CH Gayle    TG Southee 0             ⋯ 0        0          \n",
       "2595 V Kohli  CH Gayle    TG Southee 0             ⋯ 0        0          \n",
       "     noball_runs penalty_runs batsman_runs extra_runs total_runs\n",
       "2590 0           0            1            0          1         \n",
       "2591 0           0            0            1          1         \n",
       "2592 0           0            1            0          1         \n",
       "2593 0           0            1            0          1         \n",
       "2594 0           0            0            0          0         \n",
       "2595 0           0            1            0          1         \n",
       "     player_dismissed dismissal_kind fielder\n",
       "2590                                        \n",
       "2591                                        \n",
       "2592                                        \n",
       "2593                                        \n",
       "2594                                        \n",
       "2595                                        "
      ]
     },
     "metadata": {},
     "output_type": "display_data"
    }
   ],
   "source": [
    "# all deliveries in MI vs RCB matches\n",
    "mi_rcb_deli = subset(deli, (bowling_team %in% teams & batting_team %in% teams))\n",
    "\n",
    "head(mi_rcb_deli)"
   ]
  },
  {
   "cell_type": "code",
   "execution_count": 21,
   "metadata": {},
   "outputs": [],
   "source": [
    "# runs scored by MI against RCB in the 1st 6 overs\n",
    "mi_runs = subset(mi_rcb_deli, (batting_team == 'Mumbai Indians'  & over %in% c(1:6))) %>% group_by(match_id) %>% summarise(runs_mi = sum(total_runs))"
   ]
  },
  {
   "cell_type": "code",
   "execution_count": 22,
   "metadata": {},
   "outputs": [],
   "source": [
    "# runs scored by RCB against MI in the 1st 6 overs\n",
    "rcb_runs = subset(mi_rcb_deli, (batting_team == 'Royal Challengers Bangalore'  & over %in% c(1:6))) %>% group_by(match_id) %>% summarise(runs_rcb = sum(total_runs))"
   ]
  },
  {
   "cell_type": "code",
   "execution_count": 23,
   "metadata": {},
   "outputs": [],
   "source": [
    "# merging the two dataframes\n",
    "data = merge(mi_runs, rcb_runs)\n",
    "\n",
    "# calculating the differences in scores\n",
    "data$diff = abs(data$runs_mi - data$runs_rcb)"
   ]
  },
  {
   "cell_type": "code",
   "execution_count": 24,
   "metadata": {},
   "outputs": [
    {
     "data": {
      "text/html": [
       "<table>\n",
       "<thead><tr><th></th><th scope=col>match_id</th><th scope=col>runs_mi</th><th scope=col>runs_rcb</th><th scope=col>diff</th></tr></thead>\n",
       "<tbody>\n",
       "\t<tr><th scope=row>20</th><td>  590</td><td>51   </td><td>49   </td><td> 2   </td></tr>\n",
       "\t<tr><th scope=row>21</th><td>  617</td><td>39   </td><td>25   </td><td>14   </td></tr>\n",
       "\t<tr><th scope=row>22</th><td> 7907</td><td>71   </td><td>57   </td><td>14   </td></tr>\n",
       "\t<tr><th scope=row>23</th><td> 7924</td><td>46   </td><td>44   </td><td> 2   </td></tr>\n",
       "\t<tr><th scope=row>24</th><td>11143</td><td>52   </td><td>60   </td><td> 8   </td></tr>\n",
       "\t<tr><th scope=row>25</th><td>11322</td><td>69   </td><td>50   </td><td>19   </td></tr>\n",
       "</tbody>\n",
       "</table>\n"
      ],
      "text/latex": [
       "\\begin{tabular}{r|llll}\n",
       "  & match\\_id & runs\\_mi & runs\\_rcb & diff\\\\\n",
       "\\hline\n",
       "\t20 &   590 & 51    & 49    &  2   \\\\\n",
       "\t21 &   617 & 39    & 25    & 14   \\\\\n",
       "\t22 &  7907 & 71    & 57    & 14   \\\\\n",
       "\t23 &  7924 & 46    & 44    &  2   \\\\\n",
       "\t24 & 11143 & 52    & 60    &  8   \\\\\n",
       "\t25 & 11322 & 69    & 50    & 19   \\\\\n",
       "\\end{tabular}\n"
      ],
      "text/markdown": [
       "\n",
       "| <!--/--> | match_id | runs_mi | runs_rcb | diff | \n",
       "|---|---|---|---|---|---|\n",
       "| 20 |   590 | 51    | 49    |  2    | \n",
       "| 21 |   617 | 39    | 25    | 14    | \n",
       "| 22 |  7907 | 71    | 57    | 14    | \n",
       "| 23 |  7924 | 46    | 44    |  2    | \n",
       "| 24 | 11143 | 52    | 60    |  8    | \n",
       "| 25 | 11322 | 69    | 50    | 19    | \n",
       "\n",
       "\n"
      ],
      "text/plain": [
       "   match_id runs_mi runs_rcb diff\n",
       "20   590    51      49        2  \n",
       "21   617    39      25       14  \n",
       "22  7907    71      57       14  \n",
       "23  7924    46      44        2  \n",
       "24 11143    52      60        8  \n",
       "25 11322    69      50       19  "
      ]
     },
     "metadata": {},
     "output_type": "display_data"
    }
   ],
   "source": [
    "# displaying the dataframe\n",
    "tail(data)"
   ]
  },
  {
   "cell_type": "code",
   "execution_count": 25,
   "metadata": {},
   "outputs": [
    {
     "name": "stderr",
     "output_type": "stream",
     "text": [
      "Warning message in plot.histogram(r, freq = freq1, col = col, border = border, angle = angle, :\n",
      "“the AREAS in the plot are wrong -- rather use 'freq = FALSE'”\n"
     ]
    },
    {
     "data": {
      "image/png": "[encoded data removed]",
      "text/plain": [
       "Plot with title “Histogram of data$diff”"
      ]
     },
     "metadata": {
      "image/png": {
       "height": 420,
       "width": 420
      }
     },
     "output_type": "display_data"
    }
   ],
   "source": [
    "# histogram\n",
    "hist(data$diff, freq=TRUE, breaks=c(0, 5, 14, 23, max(data$diff)))"
   ]
  },
  {
   "cell_type": "code",
   "execution_count": 15,
   "metadata": {},
   "outputs": [
    {
     "data": {
      "text/html": [
       "<table>\n",
       "<thead><tr><th></th><th scope=col>match_id</th><th scope=col>inning</th><th scope=col>batting_team</th><th scope=col>bowling_team</th><th scope=col>over</th><th scope=col>ball</th><th scope=col>batsman</th><th scope=col>non_striker</th><th scope=col>bowler</th><th scope=col>is_super_over</th><th scope=col>⋯</th><th scope=col>bye_runs</th><th scope=col>legbye_runs</th><th scope=col>noball_runs</th><th scope=col>penalty_runs</th><th scope=col>batsman_runs</th><th scope=col>extra_runs</th><th scope=col>total_runs</th><th scope=col>player_dismissed</th><th scope=col>dismissal_kind</th><th scope=col>fielder</th></tr></thead>\n",
       "<tbody>\n",
       "\t<tr><th scope=row>249</th><td>2                     </td><td>1                     </td><td>Mumbai Indians        </td><td>Rising Pune Supergiant</td><td>1                     </td><td>1                     </td><td>PA Patel              </td><td>JC Buttler            </td><td>AB Dinda              </td><td>0                     </td><td>⋯                     </td><td>0                     </td><td>0                     </td><td>0                     </td><td>0                     </td><td>0                     </td><td>1                     </td><td>1                     </td><td>                      </td><td>                      </td><td>                      </td></tr>\n",
       "\t<tr><th scope=row>250</th><td>2                     </td><td>1                     </td><td>Mumbai Indians        </td><td>Rising Pune Supergiant</td><td>1                     </td><td>2                     </td><td>PA Patel              </td><td>JC Buttler            </td><td>AB Dinda              </td><td>0                     </td><td>⋯                     </td><td>0                     </td><td>0                     </td><td>0                     </td><td>0                     </td><td>0                     </td><td>0                     </td><td>0                     </td><td>                      </td><td>                      </td><td>                      </td></tr>\n",
       "\t<tr><th scope=row>251</th><td>2                     </td><td>1                     </td><td>Mumbai Indians        </td><td>Rising Pune Supergiant</td><td>1                     </td><td>3                     </td><td>PA Patel              </td><td>JC Buttler            </td><td>AB Dinda              </td><td>0                     </td><td>⋯                     </td><td>0                     </td><td>0                     </td><td>0                     </td><td>0                     </td><td>1                     </td><td>0                     </td><td>1                     </td><td>                      </td><td>                      </td><td>                      </td></tr>\n",
       "\t<tr><th scope=row>252</th><td>2                     </td><td>1                     </td><td>Mumbai Indians        </td><td>Rising Pune Supergiant</td><td>1                     </td><td>4                     </td><td>JC Buttler            </td><td>PA Patel              </td><td>AB Dinda              </td><td>0                     </td><td>⋯                     </td><td>0                     </td><td>0                     </td><td>0                     </td><td>0                     </td><td>5                     </td><td>0                     </td><td>5                     </td><td>                      </td><td>                      </td><td>                      </td></tr>\n",
       "\t<tr><th scope=row>253</th><td>2                     </td><td>1                     </td><td>Mumbai Indians        </td><td>Rising Pune Supergiant</td><td>1                     </td><td>5                     </td><td>PA Patel              </td><td>JC Buttler            </td><td>AB Dinda              </td><td>0                     </td><td>⋯                     </td><td>0                     </td><td>0                     </td><td>0                     </td><td>0                     </td><td>4                     </td><td>0                     </td><td>4                     </td><td>                      </td><td>                      </td><td>                      </td></tr>\n",
       "\t<tr><th scope=row>254</th><td>2                     </td><td>1                     </td><td>Mumbai Indians        </td><td>Rising Pune Supergiant</td><td>1                     </td><td>6                     </td><td>PA Patel              </td><td>JC Buttler            </td><td>AB Dinda              </td><td>0                     </td><td>⋯                     </td><td>0                     </td><td>0                     </td><td>0                     </td><td>0                     </td><td>0                     </td><td>0                     </td><td>0                     </td><td>                      </td><td>                      </td><td>                      </td></tr>\n",
       "</tbody>\n",
       "</table>\n"
      ],
      "text/latex": [
       "\\begin{tabular}{r|lllllllllllllllllllll}\n",
       "  & match\\_id & inning & batting\\_team & bowling\\_team & over & ball & batsman & non\\_striker & bowler & is\\_super\\_over & ⋯ & bye\\_runs & legbye\\_runs & noball\\_runs & penalty\\_runs & batsman\\_runs & extra\\_runs & total\\_runs & player\\_dismissed & dismissal\\_kind & fielder\\\\\n",
       "\\hline\n",
       "\t249 & 2                      & 1                      & Mumbai Indians         & Rising Pune Supergiant & 1                      & 1                      & PA Patel               & JC Buttler             & AB Dinda               & 0                      & ⋯                      & 0                      & 0                      & 0                      & 0                      & 0                      & 1                      & 1                      &                        &                        &                       \\\\\n",
       "\t250 & 2                      & 1                      & Mumbai Indians         & Rising Pune Supergiant & 1                      & 2                      & PA Patel               & JC Buttler             & AB Dinda               & 0                      & ⋯                      & 0                      & 0                      & 0                      & 0                      & 0                      & 0                      & 0                      &                        &                        &                       \\\\\n",
       "\t251 & 2                      & 1                      & Mumbai Indians         & Rising Pune Supergiant & 1                      & 3                      & PA Patel               & JC Buttler             & AB Dinda               & 0                      & ⋯                      & 0                      & 0                      & 0                      & 0                      & 1                      & 0                      & 1                      &                        &                        &                       \\\\\n",
       "\t252 & 2                      & 1                      & Mumbai Indians         & Rising Pune Supergiant & 1                      & 4                      & JC Buttler             & PA Patel               & AB Dinda               & 0                      & ⋯                      & 0                      & 0                      & 0                      & 0                      & 5                      & 0                      & 5                      &                        &                        &                       \\\\\n",
       "\t253 & 2                      & 1                      & Mumbai Indians         & Rising Pune Supergiant & 1                      & 5                      & PA Patel               & JC Buttler             & AB Dinda               & 0                      & ⋯                      & 0                      & 0                      & 0                      & 0                      & 4                      & 0                      & 4                      &                        &                        &                       \\\\\n",
       "\t254 & 2                      & 1                      & Mumbai Indians         & Rising Pune Supergiant & 1                      & 6                      & PA Patel               & JC Buttler             & AB Dinda               & 0                      & ⋯                      & 0                      & 0                      & 0                      & 0                      & 0                      & 0                      & 0                      &                        &                        &                       \\\\\n",
       "\\end{tabular}\n"
      ],
      "text/markdown": [
       "\n",
       "| <!--/--> | match_id | inning | batting_team | bowling_team | over | ball | batsman | non_striker | bowler | is_super_over | ⋯ | bye_runs | legbye_runs | noball_runs | penalty_runs | batsman_runs | extra_runs | total_runs | player_dismissed | dismissal_kind | fielder | \n",
       "|---|---|---|---|---|---|\n",
       "| 249 | 2                      | 1                      | Mumbai Indians         | Rising Pune Supergiant | 1                      | 1                      | PA Patel               | JC Buttler             | AB Dinda               | 0                      | ⋯                      | 0                      | 0                      | 0                      | 0                      | 0                      | 1                      | 1                      |                        |                        |                        | \n",
       "| 250 | 2                      | 1                      | Mumbai Indians         | Rising Pune Supergiant | 1                      | 2                      | PA Patel               | JC Buttler             | AB Dinda               | 0                      | ⋯                      | 0                      | 0                      | 0                      | 0                      | 0                      | 0                      | 0                      |                        |                        |                        | \n",
       "| 251 | 2                      | 1                      | Mumbai Indians         | Rising Pune Supergiant | 1                      | 3                      | PA Patel               | JC Buttler             | AB Dinda               | 0                      | ⋯                      | 0                      | 0                      | 0                      | 0                      | 1                      | 0                      | 1                      |                        |                        |                        | \n",
       "| 252 | 2                      | 1                      | Mumbai Indians         | Rising Pune Supergiant | 1                      | 4                      | JC Buttler             | PA Patel               | AB Dinda               | 0                      | ⋯                      | 0                      | 0                      | 0                      | 0                      | 5                      | 0                      | 5                      |                        |                        |                        | \n",
       "| 253 | 2                      | 1                      | Mumbai Indians         | Rising Pune Supergiant | 1                      | 5                      | PA Patel               | JC Buttler             | AB Dinda               | 0                      | ⋯                      | 0                      | 0                      | 0                      | 0                      | 4                      | 0                      | 4                      |                        |                        |                        | \n",
       "| 254 | 2                      | 1                      | Mumbai Indians         | Rising Pune Supergiant | 1                      | 6                      | PA Patel               | JC Buttler             | AB Dinda               | 0                      | ⋯                      | 0                      | 0                      | 0                      | 0                      | 0                      | 0                      | 0                      |                        |                        |                        | \n",
       "\n",
       "\n"
      ],
      "text/plain": [
       "    match_id inning batting_team   bowling_team           over ball batsman   \n",
       "249 2        1      Mumbai Indians Rising Pune Supergiant 1    1    PA Patel  \n",
       "250 2        1      Mumbai Indians Rising Pune Supergiant 1    2    PA Patel  \n",
       "251 2        1      Mumbai Indians Rising Pune Supergiant 1    3    PA Patel  \n",
       "252 2        1      Mumbai Indians Rising Pune Supergiant 1    4    JC Buttler\n",
       "253 2        1      Mumbai Indians Rising Pune Supergiant 1    5    PA Patel  \n",
       "254 2        1      Mumbai Indians Rising Pune Supergiant 1    6    PA Patel  \n",
       "    non_striker bowler   is_super_over ⋯ bye_runs legbye_runs noball_runs\n",
       "249 JC Buttler  AB Dinda 0             ⋯ 0        0           0          \n",
       "250 JC Buttler  AB Dinda 0             ⋯ 0        0           0          \n",
       "251 JC Buttler  AB Dinda 0             ⋯ 0        0           0          \n",
       "252 PA Patel    AB Dinda 0             ⋯ 0        0           0          \n",
       "253 JC Buttler  AB Dinda 0             ⋯ 0        0           0          \n",
       "254 JC Buttler  AB Dinda 0             ⋯ 0        0           0          \n",
       "    penalty_runs batsman_runs extra_runs total_runs player_dismissed\n",
       "249 0            0            1          1                          \n",
       "250 0            0            0          0                          \n",
       "251 0            1            0          1                          \n",
       "252 0            5            0          5                          \n",
       "253 0            4            0          4                          \n",
       "254 0            0            0          0                          \n",
       "    dismissal_kind fielder\n",
       "249                       \n",
       "250                       \n",
       "251                       \n",
       "252                       \n",
       "253                       \n",
       "254                       "
      ]
     },
     "metadata": {},
     "output_type": "display_data"
    }
   ],
   "source": [
    "# all deliveries faced by MI in the 1-6 overs\n",
    "mi_deli_bat = subset(deli, (batting_team == 'Mumbai Indians'  & over %in% c(1:6)))\n",
    "\n",
    "head(mi_deli_bat)"
   ]
  },
  {
   "cell_type": "code",
   "execution_count": 16,
   "metadata": {},
   "outputs": [
    {
     "data": {
      "text/plain": [
       "    match_id            runs      \n",
       " Min.   :    2.0   Min.   :17.00  \n",
       " 1st Qu.:  189.5   1st Qu.:37.00  \n",
       " Median :  383.0   Median :46.00  \n",
       " Mean   : 1825.8   Mean   :45.44  \n",
       " 3rd Qu.:  569.5   3rd Qu.:52.50  \n",
       " Max.   :11415.0   Max.   :90.00  "
      ]
     },
     "metadata": {},
     "output_type": "display_data"
    }
   ],
   "source": [
    "# statistical measures\n",
    "summary(mi_deli_bat %>% group_by(match_id) %>% summarise(runs = sum(total_runs)))"
   ]
  },
  {
   "cell_type": "code",
   "execution_count": 17,
   "metadata": {},
   "outputs": [
    {
     "data": {
      "text/html": [
       "<table>\n",
       "<thead><tr><th></th><th scope=col>match_id</th><th scope=col>inning</th><th scope=col>batting_team</th><th scope=col>bowling_team</th><th scope=col>over</th><th scope=col>ball</th><th scope=col>batsman</th><th scope=col>non_striker</th><th scope=col>bowler</th><th scope=col>is_super_over</th><th scope=col>⋯</th><th scope=col>bye_runs</th><th scope=col>legbye_runs</th><th scope=col>noball_runs</th><th scope=col>penalty_runs</th><th scope=col>batsman_runs</th><th scope=col>extra_runs</th><th scope=col>total_runs</th><th scope=col>player_dismissed</th><th scope=col>dismissal_kind</th><th scope=col>fielder</th></tr></thead>\n",
       "<tbody>\n",
       "\t<tr><th scope=row>126</th><td>1                          </td><td>2                          </td><td>Royal Challengers Bangalore</td><td>Sunrisers Hyderabad        </td><td>1                          </td><td>1                          </td><td>CH Gayle                   </td><td>Mandeep Singh              </td><td>A Nehra                    </td><td>0                          </td><td>⋯                          </td><td>0                          </td><td>0                          </td><td>0                          </td><td>0                          </td><td>1                          </td><td>0                          </td><td>1                          </td><td>                           </td><td>                           </td><td>                           </td></tr>\n",
       "\t<tr><th scope=row>127</th><td>1                          </td><td>2                          </td><td>Royal Challengers Bangalore</td><td>Sunrisers Hyderabad        </td><td>1                          </td><td>2                          </td><td>Mandeep Singh              </td><td>CH Gayle                   </td><td>A Nehra                    </td><td>0                          </td><td>⋯                          </td><td>0                          </td><td>0                          </td><td>0                          </td><td>0                          </td><td>0                          </td><td>0                          </td><td>0                          </td><td>                           </td><td>                           </td><td>                           </td></tr>\n",
       "\t<tr><th scope=row>128</th><td>1                          </td><td>2                          </td><td>Royal Challengers Bangalore</td><td>Sunrisers Hyderabad        </td><td>1                          </td><td>3                          </td><td>Mandeep Singh              </td><td>CH Gayle                   </td><td>A Nehra                    </td><td>0                          </td><td>⋯                          </td><td>0                          </td><td>0                          </td><td>0                          </td><td>0                          </td><td>0                          </td><td>0                          </td><td>0                          </td><td>                           </td><td>                           </td><td>                           </td></tr>\n",
       "\t<tr><th scope=row>129</th><td>1                          </td><td>2                          </td><td>Royal Challengers Bangalore</td><td>Sunrisers Hyderabad        </td><td>1                          </td><td>4                          </td><td>Mandeep Singh              </td><td>CH Gayle                   </td><td>A Nehra                    </td><td>0                          </td><td>⋯                          </td><td>0                          </td><td>0                          </td><td>0                          </td><td>0                          </td><td>2                          </td><td>0                          </td><td>2                          </td><td>                           </td><td>                           </td><td>                           </td></tr>\n",
       "\t<tr><th scope=row>130</th><td>1                          </td><td>2                          </td><td>Royal Challengers Bangalore</td><td>Sunrisers Hyderabad        </td><td>1                          </td><td>5                          </td><td>Mandeep Singh              </td><td>CH Gayle                   </td><td>A Nehra                    </td><td>0                          </td><td>⋯                          </td><td>0                          </td><td>0                          </td><td>0                          </td><td>0                          </td><td>4                          </td><td>0                          </td><td>4                          </td><td>                           </td><td>                           </td><td>                           </td></tr>\n",
       "\t<tr><th scope=row>131</th><td>1                          </td><td>2                          </td><td>Royal Challengers Bangalore</td><td>Sunrisers Hyderabad        </td><td>1                          </td><td>6                          </td><td>Mandeep Singh              </td><td>CH Gayle                   </td><td>A Nehra                    </td><td>0                          </td><td>⋯                          </td><td>0                          </td><td>0                          </td><td>0                          </td><td>0                          </td><td>4                          </td><td>0                          </td><td>4                          </td><td>                           </td><td>                           </td><td>                           </td></tr>\n",
       "</tbody>\n",
       "</table>\n"
      ],
      "text/latex": [
       "\\begin{tabular}{r|lllllllllllllllllllll}\n",
       "  & match\\_id & inning & batting\\_team & bowling\\_team & over & ball & batsman & non\\_striker & bowler & is\\_super\\_over & ⋯ & bye\\_runs & legbye\\_runs & noball\\_runs & penalty\\_runs & batsman\\_runs & extra\\_runs & total\\_runs & player\\_dismissed & dismissal\\_kind & fielder\\\\\n",
       "\\hline\n",
       "\t126 & 1                           & 2                           & Royal Challengers Bangalore & Sunrisers Hyderabad         & 1                           & 1                           & CH Gayle                    & Mandeep Singh               & A Nehra                     & 0                           & ⋯                           & 0                           & 0                           & 0                           & 0                           & 1                           & 0                           & 1                           &                             &                             &                            \\\\\n",
       "\t127 & 1                           & 2                           & Royal Challengers Bangalore & Sunrisers Hyderabad         & 1                           & 2                           & Mandeep Singh               & CH Gayle                    & A Nehra                     & 0                           & ⋯                           & 0                           & 0                           & 0                           & 0                           & 0                           & 0                           & 0                           &                             &                             &                            \\\\\n",
       "\t128 & 1                           & 2                           & Royal Challengers Bangalore & Sunrisers Hyderabad         & 1                           & 3                           & Mandeep Singh               & CH Gayle                    & A Nehra                     & 0                           & ⋯                           & 0                           & 0                           & 0                           & 0                           & 0                           & 0                           & 0                           &                             &                             &                            \\\\\n",
       "\t129 & 1                           & 2                           & Royal Challengers Bangalore & Sunrisers Hyderabad         & 1                           & 4                           & Mandeep Singh               & CH Gayle                    & A Nehra                     & 0                           & ⋯                           & 0                           & 0                           & 0                           & 0                           & 2                           & 0                           & 2                           &                             &                             &                            \\\\\n",
       "\t130 & 1                           & 2                           & Royal Challengers Bangalore & Sunrisers Hyderabad         & 1                           & 5                           & Mandeep Singh               & CH Gayle                    & A Nehra                     & 0                           & ⋯                           & 0                           & 0                           & 0                           & 0                           & 4                           & 0                           & 4                           &                             &                             &                            \\\\\n",
       "\t131 & 1                           & 2                           & Royal Challengers Bangalore & Sunrisers Hyderabad         & 1                           & 6                           & Mandeep Singh               & CH Gayle                    & A Nehra                     & 0                           & ⋯                           & 0                           & 0                           & 0                           & 0                           & 4                           & 0                           & 4                           &                             &                             &                            \\\\\n",
       "\\end{tabular}\n"
      ],
      "text/markdown": [
       "\n",
       "| <!--/--> | match_id | inning | batting_team | bowling_team | over | ball | batsman | non_striker | bowler | is_super_over | ⋯ | bye_runs | legbye_runs | noball_runs | penalty_runs | batsman_runs | extra_runs | total_runs | player_dismissed | dismissal_kind | fielder | \n",
       "|---|---|---|---|---|---|\n",
       "| 126 | 1                           | 2                           | Royal Challengers Bangalore | Sunrisers Hyderabad         | 1                           | 1                           | CH Gayle                    | Mandeep Singh               | A Nehra                     | 0                           | ⋯                           | 0                           | 0                           | 0                           | 0                           | 1                           | 0                           | 1                           |                             |                             |                             | \n",
       "| 127 | 1                           | 2                           | Royal Challengers Bangalore | Sunrisers Hyderabad         | 1                           | 2                           | Mandeep Singh               | CH Gayle                    | A Nehra                     | 0                           | ⋯                           | 0                           | 0                           | 0                           | 0                           | 0                           | 0                           | 0                           |                             |                             |                             | \n",
       "| 128 | 1                           | 2                           | Royal Challengers Bangalore | Sunrisers Hyderabad         | 1                           | 3                           | Mandeep Singh               | CH Gayle                    | A Nehra                     | 0                           | ⋯                           | 0                           | 0                           | 0                           | 0                           | 0                           | 0                           | 0                           |                             |                             |                             | \n",
       "| 129 | 1                           | 2                           | Royal Challengers Bangalore | Sunrisers Hyderabad         | 1                           | 4                           | Mandeep Singh               | CH Gayle                    | A Nehra                     | 0                           | ⋯                           | 0                           | 0                           | 0                           | 0                           | 2                           | 0                           | 2                           |                             |                             |                             | \n",
       "| 130 | 1                           | 2                           | Royal Challengers Bangalore | Sunrisers Hyderabad         | 1                           | 5                           | Mandeep Singh               | CH Gayle                    | A Nehra                     | 0                           | ⋯                           | 0                           | 0                           | 0                           | 0                           | 4                           | 0                           | 4                           |                             |                             |                             | \n",
       "| 131 | 1                           | 2                           | Royal Challengers Bangalore | Sunrisers Hyderabad         | 1                           | 6                           | Mandeep Singh               | CH Gayle                    | A Nehra                     | 0                           | ⋯                           | 0                           | 0                           | 0                           | 0                           | 4                           | 0                           | 4                           |                             |                             |                             | \n",
       "\n",
       "\n"
      ],
      "text/plain": [
       "    match_id inning batting_team                bowling_team        over ball\n",
       "126 1        2      Royal Challengers Bangalore Sunrisers Hyderabad 1    1   \n",
       "127 1        2      Royal Challengers Bangalore Sunrisers Hyderabad 1    2   \n",
       "128 1        2      Royal Challengers Bangalore Sunrisers Hyderabad 1    3   \n",
       "129 1        2      Royal Challengers Bangalore Sunrisers Hyderabad 1    4   \n",
       "130 1        2      Royal Challengers Bangalore Sunrisers Hyderabad 1    5   \n",
       "131 1        2      Royal Challengers Bangalore Sunrisers Hyderabad 1    6   \n",
       "    batsman       non_striker   bowler  is_super_over ⋯ bye_runs legbye_runs\n",
       "126 CH Gayle      Mandeep Singh A Nehra 0             ⋯ 0        0          \n",
       "127 Mandeep Singh CH Gayle      A Nehra 0             ⋯ 0        0          \n",
       "128 Mandeep Singh CH Gayle      A Nehra 0             ⋯ 0        0          \n",
       "129 Mandeep Singh CH Gayle      A Nehra 0             ⋯ 0        0          \n",
       "130 Mandeep Singh CH Gayle      A Nehra 0             ⋯ 0        0          \n",
       "131 Mandeep Singh CH Gayle      A Nehra 0             ⋯ 0        0          \n",
       "    noball_runs penalty_runs batsman_runs extra_runs total_runs\n",
       "126 0           0            1            0          1         \n",
       "127 0           0            0            0          0         \n",
       "128 0           0            0            0          0         \n",
       "129 0           0            2            0          2         \n",
       "130 0           0            4            0          4         \n",
       "131 0           0            4            0          4         \n",
       "    player_dismissed dismissal_kind fielder\n",
       "126                                        \n",
       "127                                        \n",
       "128                                        \n",
       "129                                        \n",
       "130                                        \n",
       "131                                        "
      ]
     },
     "metadata": {},
     "output_type": "display_data"
    }
   ],
   "source": [
    "# all deliveries faced by RCB in the 1-6 overs\n",
    "rcb_deli_bat = subset(deli, (batting_team == 'Royal Challengers Bangalore'  & over %in% c(1:6)))\n",
    "\n",
    "head(rcb_deli_bat)"
   ]
  },
  {
   "cell_type": "code",
   "execution_count": 18,
   "metadata": {},
   "outputs": [
    {
     "data": {
      "text/plain": [
       "    match_id            runs      \n",
       " Min.   :    1.0   Min.   : 2.00  \n",
       " 1st Qu.:  183.2   1st Qu.:35.75  \n",
       " Median :  379.5   Median :44.50  \n",
       " Mean   : 1763.5   Mean   :45.06  \n",
       " 3rd Qu.:  574.2   3rd Qu.:54.00  \n",
       " Max.   :11345.0   Max.   :83.00  "
      ]
     },
     "metadata": {},
     "output_type": "display_data"
    }
   ],
   "source": [
    "# statistical measures\n",
    "summary(rcb_deli_bat %>% group_by(match_id) %>% summarise(runs = sum(total_runs)))"
   ]
  }
 ],
 "metadata": {
  "kernelspec": {
   "display_name": "R",
   "language": "R",
   "name": "ir"
  },
  "language_info": {
   "codemirror_mode": "r",
   "file_extension": ".r",
   "mimetype": "text/x-r-source",
   "name": "R",
   "pygments_lexer": "r",
   "version": "3.5.1"
  }
 },
 "nbformat": 4,
 "nbformat_minor": 4
}
