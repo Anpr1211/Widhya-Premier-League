{
 "cells": [
  {
   "cell_type": "code",
   "execution_count": null,
   "metadata": {},
   "outputs": [],
   "source": [
    "# install the libraries\n",
    "install.packages(\"dplyr\")"
   ]
  },
  {
   "cell_type": "code",
   "execution_count": null,
   "metadata": {},
   "outputs": [],
   "source": [
    "# import library\n",
    "library(dplyr)"
   ]
  },
  {
   "cell_type": "code",
   "execution_count": null,
   "metadata": {},
   "outputs": [],
   "source": [
    "# read datasets\n",
    "matches = read.csv(\"matches.csv\")\n",
    "deli = read.csv(\"deliveries.csv\")"
   ]
  },
  {
   "cell_type": "markdown",
   "metadata": {},
   "source": [
    "# Question 1:"
   ]
  },
  {
   "cell_type": "code",
   "execution_count": null,
   "metadata": {},
   "outputs": [],
   "source": [
    "# teams playing today's match\n",
    "teams = c(\"Kolkata Knight Riders\", \"Kings XI Punjab\")"
   ]
  },
  {
   "cell_type": "code",
   "execution_count": null,
   "metadata": {},
   "outputs": [],
   "source": [
    "# all matches between KKR and KXIP\n",
    "kxip_kkr = subset(matches, (team1 %in% teams & team2 %in% teams))"
   ]
  },
  {
   "cell_type": "code",
   "execution_count": null,
   "metadata": {},
   "outputs": [],
   "source": [
    "kxip_kkr$winner"
   ]
  },
  {
   "cell_type": "code",
   "execution_count": null,
   "metadata": {},
   "outputs": [],
   "source": [
    "# victories of the teams against each other\n",
    "count(kxip_kkr, winner)"
   ]
  },
  {
   "cell_type": "code",
   "execution_count": null,
   "metadata": {},
   "outputs": [],
   "source": [
    "# matches of KKR\n",
    "kkr = subset(matches, (team1 == \"Kolkata Knight Riders\" | team2 == \"Kolkata Knight Riders\"))"
   ]
  },
  {
   "cell_type": "code",
   "execution_count": null,
   "metadata": {},
   "outputs": [],
   "source": [
    "# total no. of matches played by KKR\n",
    "nrow(kkr)"
   ]
  },
  {
   "cell_type": "code",
   "execution_count": null,
   "metadata": {},
   "outputs": [],
   "source": [
    "# winners in those matches\n",
    "count(kkr, winner)"
   ]
  },
  {
   "cell_type": "code",
   "execution_count": null,
   "metadata": {},
   "outputs": [],
   "source": [
    "# win ratio of KKR\n",
    "92/178"
   ]
  },
  {
   "cell_type": "code",
   "execution_count": null,
   "metadata": {},
   "outputs": [],
   "source": [
    "# matches of KXIP\n",
    "kxip = subset(matches, (team1 == \"Kings XI Punjab\" | team2 == \"Kings XI Punjab\"))"
   ]
  },
  {
   "cell_type": "code",
   "execution_count": null,
   "metadata": {},
   "outputs": [],
   "source": [
    "# total no. of matches played by KXIP\n",
    "nrow(kxip)"
   ]
  },
  {
   "cell_type": "code",
   "execution_count": null,
   "metadata": {},
   "outputs": [],
   "source": [
    "# winners in those matches\n",
    "count(kxip, winner)"
   ]
  },
  {
   "cell_type": "code",
   "execution_count": null,
   "metadata": {},
   "outputs": [],
   "source": [
    "# win ratio of KXIP\n",
    "82/176"
   ]
  },
  {
   "cell_type": "markdown",
   "metadata": {},
   "source": [
    "# Question 2:"
   ]
  },
  {
   "cell_type": "code",
   "execution_count": null,
   "metadata": {},
   "outputs": [],
   "source": [
    "# dot deliveries in IPL matches\n",
    "dots = table(deli$match_id, deli$total_runs)"
   ]
  },
  {
   "cell_type": "code",
   "execution_count": null,
   "metadata": {},
   "outputs": [],
   "source": [
    "# making a dataframe of dot balls in IPL matches\n",
    "dot_balls = as.data.frame.matrix(dots)[, 1]"
   ]
  },
  {
   "cell_type": "code",
   "execution_count": null,
   "metadata": {},
   "outputs": [],
   "source": [
    "# histogram\n",
    "hist(dot_balls, breaks=c(0, 60, 90, 120, max(dot_balls)))"
   ]
  },
  {
   "cell_type": "code",
   "execution_count": null,
   "metadata": {},
   "outputs": [],
   "source": [
    "# statistical measures\n",
    "summary(dot_balls)"
   ]
  },
  {
   "cell_type": "code",
   "execution_count": null,
   "metadata": {},
   "outputs": [],
   "source": [
    "# all deliveries in KKR vs KXIP matches\n",
    "kxip_kkr_deli = subset(deli, (bowling_team %in% teams & batting_team %in% teams))"
   ]
  },
  {
   "cell_type": "code",
   "execution_count": null,
   "metadata": {},
   "outputs": [],
   "source": [
    "# all dot balls in KKR vs KXIP matches\n",
    "kxip_kkr_dots = table(kxip_kkr_deli$match_id, kxip_kkr_deli$total_runs)"
   ]
  },
  {
   "cell_type": "code",
   "execution_count": null,
   "metadata": {},
   "outputs": [],
   "source": [
    "# making a dataframe\n",
    "kxip_kkr_dot_balls = as.data.frame.matrix(kxip_kkr_dots)[, 1]"
   ]
  },
  {
   "cell_type": "code",
   "execution_count": null,
   "metadata": {},
   "outputs": [],
   "source": [
    "# histogram\n",
    "hist(kxip_kkr_dot_balls, breaks=c(0, 60, 90, 120, 130))"
   ]
  },
  {
   "cell_type": "code",
   "execution_count": null,
   "metadata": {},
   "outputs": [],
   "source": [
    "# statistical measures\n",
    "summary(kxip_kkr_dot_balls)"
   ]
  },
  {
   "cell_type": "code",
   "execution_count": null,
   "metadata": {},
   "outputs": [],
   "source": [
    "# all deliveries bowled by KKR\n",
    "kkr_deli = subset(deli, (bowling_team == \"Kolkata Knight Riders\"))\n",
    "# all dot balls by KKR\n",
    "kkr_dots = table(kkr_deli$match_id, kkr_deli$total_runs)\n",
    "# making a dataframe\n",
    "kkr_dot_balls = as.data.frame.matrix(kkr_dots)[, 1]\n",
    "# histogram\n",
    "hist(kkr_dot_balls, breaks=c(0, 60, 90, 120, 130))"
   ]
  },
  {
   "cell_type": "code",
   "execution_count": null,
   "metadata": {},
   "outputs": [],
   "source": [
    "# statistical measures\n",
    "summary(kkr_dot_balls)"
   ]
  },
  {
   "cell_type": "code",
   "execution_count": null,
   "metadata": {},
   "outputs": [],
   "source": [
    "# all deliveries bowled by KXIP\n",
    "kxip_deli = subset(deli, (bowling_team == \"Kings XI Punjab\"))\n",
    "# all dot balls by KXIP\n",
    "kxip_dots = table(kxip_deli$match_id, kxip_deli$total_runs)\n",
    "# making a dataframe\n",
    "kxip_dot_balls = as.data.frame.matrix(kxip_dots)[, 1]\n",
    "# histogram\n",
    "hist(kxip_dot_balls, breaks=c(0, 60, 90, 120, 130))"
   ]
  },
  {
   "cell_type": "code",
   "execution_count": null,
   "metadata": {},
   "outputs": [],
   "source": [
    "# statistical measures\n",
    "summary(kxip_dot_balls)"
   ]
  },
  {
   "cell_type": "markdown",
   "metadata": {},
   "source": [
    "# Question 3:"
   ]
  },
  {
   "cell_type": "code",
   "execution_count": null,
   "metadata": {},
   "outputs": [],
   "source": [
    "# all deliveries faced by KKR in the 16-20 overs\n",
    "kkr_deli_bat = subset(deli, (batting_team == \"Kolkata Knight Riders\" & over %in% c(16:20)))"
   ]
  },
  {
   "cell_type": "code",
   "execution_count": null,
   "metadata": {},
   "outputs": [],
   "source": [
    "# displaying the dataframe\n",
    "kkr_deli_bat"
   ]
  },
  {
   "cell_type": "code",
   "execution_count": null,
   "metadata": {},
   "outputs": [],
   "source": [
    "# wickets lost by KKR in 16-20 overs\n",
    "wickets_kkr = subset(kkr_deli_bat, (player_dismissed != \"\")) %>% group_by(match_id) %>% summarise(wickets = n())"
   ]
  },
  {
   "cell_type": "code",
   "execution_count": null,
   "metadata": {},
   "outputs": [],
   "source": [
    "# frequency\n",
    "count(wickets_kkr, wickets)"
   ]
  },
  {
   "cell_type": "code",
   "execution_count": null,
   "metadata": {},
   "outputs": [],
   "source": [
    "# all deliveries faced by KXIP in the 16-20 overs\n",
    "kxip_deli_bat = subset(deli, (batting_team == \"Kings XI Punjab\" & over %in% c(16:20)))"
   ]
  },
  {
   "cell_type": "code",
   "execution_count": null,
   "metadata": {},
   "outputs": [],
   "source": [
    "# displaying the dataframe\n",
    "kxip_deli_bat"
   ]
  },
  {
   "cell_type": "code",
   "execution_count": null,
   "metadata": {},
   "outputs": [],
   "source": [
    "# wickets lost by KXIP in 16-20 overs\n",
    "wickets_kxip = subset(kxip_deli_bat, (player_dismissed != \"\")) %>% group_by(match_id) %>% summarise(wickets = n())"
   ]
  },
  {
   "cell_type": "code",
   "execution_count": null,
   "metadata": {},
   "outputs": [],
   "source": [
    "# frequency\n",
    "count(wickets_kxip, wickets)"
   ]
  },
  {
   "cell_type": "markdown",
   "metadata": {},
   "source": [
    "# Question 4:"
   ]
  },
  {
   "cell_type": "code",
   "execution_count": null,
   "metadata": {},
   "outputs": [],
   "source": [
    "# all deliveries faced by Maxwell\n",
    "maxwell = subset(deli, with(deli, grepl(\"GJ Maxwell\", batsman)) )"
   ]
  },
  {
   "cell_type": "code",
   "execution_count": null,
   "metadata": {},
   "outputs": [],
   "source": [
    "# runs scored per match by Maxwell\n",
    "maxwell_runs = maxwell %>% group_by(match_id) %>% summarise(batsman_runs = sum(batsman_runs))\n",
    "\n",
    "head(maxwell_runs)"
   ]
  },
  {
   "cell_type": "code",
   "execution_count": null,
   "metadata": {},
   "outputs": [],
   "source": [
    "# all matches played by Maxwell for KXIP\n",
    "maxwell_matches = subset(deli, (match_id %in% unique(maxwell$match_id) & batting_team == \"Kings XI Punjab\"))"
   ]
  },
  {
   "cell_type": "code",
   "execution_count": null,
   "metadata": {
    "scrolled": true
   },
   "outputs": [],
   "source": [
    "# total runs of the team\n",
    "total_runs = maxwell_matches %>% group_by(match_id) %>% summarise(total_runs = sum(total_runs))\n",
    "\n",
    "head(total_runs)"
   ]
  },
  {
   "cell_type": "code",
   "execution_count": null,
   "metadata": {
    "scrolled": true
   },
   "outputs": [],
   "source": [
    "# making a merged dataframe of the runs scored by Maxwell for KXIP\n",
    "data = merge(maxwell_runs, total_runs)"
   ]
  },
  {
   "cell_type": "code",
   "execution_count": null,
   "metadata": {},
   "outputs": [],
   "source": [
    "# adding the contribution column\n",
    "data$contrib = data$batsman_runs / data$total_runs * 100"
   ]
  },
  {
   "cell_type": "code",
   "execution_count": null,
   "metadata": {},
   "outputs": [],
   "source": [
    "# displaying the dataframe\n",
    "head(data)"
   ]
  },
  {
   "cell_type": "code",
   "execution_count": null,
   "metadata": {},
   "outputs": [],
   "source": [
    "# median measure\n",
    "median(data$contrib)"
   ]
  },
  {
   "cell_type": "code",
   "execution_count": null,
   "metadata": {},
   "outputs": [],
   "source": [
    "# histogram\n",
    "hist(data$contrib, breaks=c(0, 8, 14, 22, max(data$contrib)))"
   ]
  },
  {
   "cell_type": "markdown",
   "metadata": {},
   "source": [
    "# Question 5:"
   ]
  },
  {
   "cell_type": "code",
   "execution_count": null,
   "metadata": {},
   "outputs": [],
   "source": [
    "# frequency of no balls bowled per match by KKR\n",
    "count(subset(kkr_deli, (noball_runs != 0)) %>% group_by(match_id) %>% summarise(no_balls = n()), no_balls)"
   ]
  },
  {
   "cell_type": "code",
   "execution_count": null,
   "metadata": {},
   "outputs": [],
   "source": [
    "# frequency of no balls bowled per match by KXIP\n",
    "count(subset(kxip_deli, (noball_runs != 0)) %>% group_by(match_id) %>% summarise(no_balls = n()), no_balls)"
   ]
  },
  {
   "cell_type": "code",
   "execution_count": null,
   "metadata": {},
   "outputs": [],
   "source": [
    "# frequency of no balls bowled per KKR vs KXIP match\n",
    "count(subset(kxip_kkr_deli, (noball_runs != 0)) %>% group_by(match_id) %>% summarise(no_balls = n()), no_balls)"
   ]
  }
 ],
 "metadata": {
  "kernelspec": {
   "display_name": "R",
   "language": "R",
   "name": "ir"
  },
  "language_info": {
   "codemirror_mode": "r",
   "file_extension": ".r",
   "mimetype": "text/x-r-source",
   "name": "R",
   "pygments_lexer": "r",
   "version": "3.5.1"
  }
 },
 "nbformat": 4,
 "nbformat_minor": 4
}
