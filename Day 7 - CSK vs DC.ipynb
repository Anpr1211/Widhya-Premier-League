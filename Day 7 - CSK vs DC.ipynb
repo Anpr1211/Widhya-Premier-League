{
 "cells": [
  {
   "cell_type": "code",
   "execution_count": null,
   "metadata": {},
   "outputs": [],
   "source": [
    "# import libraries\n",
    "import pandas as pd\n",
    "import numpy as np\n",
    "import matplotlib.pyplot as plt\n",
    "import seaborn as sns"
   ]
  },
  {
   "cell_type": "code",
   "execution_count": null,
   "metadata": {},
   "outputs": [],
   "source": [
    "# read datasets\n",
    "matches = pd.read_csv(\"matches.csv\")\n",
    "deli = pd.read_csv(\"deliveries.csv\")"
   ]
  },
  {
   "cell_type": "markdown",
   "metadata": {},
   "source": [
    "# Question 1:"
   ]
  },
  {
   "cell_type": "code",
   "execution_count": null,
   "metadata": {},
   "outputs": [],
   "source": [
    "# all matches between DC and CSK\n",
    "dc_csk = matches.query(\"team1.isin(['Delhi Daredevils', 'Delhi Capitals', 'Chennai Super Kings']) and team2.isin(['Delhi Daredevils', 'Delhi Capitals', 'Chennai Super Kings'])\")"
   ]
  },
  {
   "cell_type": "code",
   "execution_count": null,
   "metadata": {},
   "outputs": [],
   "source": [
    "# victories of the two teams against each other \n",
    "dc_csk.winner.value_counts()"
   ]
  },
  {
   "cell_type": "code",
   "execution_count": null,
   "metadata": {},
   "outputs": [],
   "source": [
    "# matches of DC\n",
    "dc = matches.query(\"team1.isin(['Delhi Daredevils', 'Delhi Capitals']) or team2.isin(['Delhi Daredevils', 'Delhi Capitals'])\")\n",
    "\n",
    "len(dc)"
   ]
  },
  {
   "cell_type": "code",
   "execution_count": null,
   "metadata": {},
   "outputs": [],
   "source": [
    "# count of winners in DC matches\n",
    "dc.winner.value_counts()"
   ]
  },
  {
   "cell_type": "code",
   "execution_count": null,
   "metadata": {},
   "outputs": [],
   "source": [
    "# DC win ratio\n",
    "(67+10)/177"
   ]
  },
  {
   "cell_type": "code",
   "execution_count": null,
   "metadata": {},
   "outputs": [],
   "source": [
    "# matches of CSK\n",
    "csk = matches.query(\"team1 == 'Chennai Super Kings' or team2 == 'Chennai Super Kings'\")\n",
    "\n",
    "len(csk)"
   ]
  },
  {
   "cell_type": "code",
   "execution_count": null,
   "metadata": {},
   "outputs": [],
   "source": [
    "# count of winners in CSK matches\n",
    "csk.winner.value_counts()"
   ]
  },
  {
   "cell_type": "code",
   "execution_count": null,
   "metadata": {},
   "outputs": [],
   "source": [
    "# CSK win ratio\n",
    "(100)/194"
   ]
  },
  {
   "cell_type": "markdown",
   "metadata": {},
   "source": [
    "## Explanation:\n",
    "\n",
    "On the basis of the historical data, Chennai Super Kings has been a better performing team than Delhi Capitals. Hence, it can be predicted that Chennai Super Kings will win today's match."
   ]
  },
  {
   "cell_type": "markdown",
   "metadata": {},
   "source": [
    "# Question 2:"
   ]
  },
  {
   "cell_type": "code",
   "execution_count": null,
   "metadata": {},
   "outputs": [],
   "source": [
    "# all deliveries in CSK vs DC matches\n",
    "csk_deli = deli.query(\"batting_team.isin(['Chennai Super Kings']) and bowling_team.isin(['Delhi Daredevils', 'Delhi Capitals'])\")\n",
    "print(len(csk_deli))"
   ]
  },
  {
   "cell_type": "code",
   "execution_count": null,
   "metadata": {},
   "outputs": [],
   "source": [
    "# total runs made in each CSK vs DC match\n",
    "total_runs_match = csk_deli.groupby(\"match_id\").sum()[\"total_runs\"]\n",
    "\n",
    "total_runs_match.mean()"
   ]
  },
  {
   "cell_type": "code",
   "execution_count": null,
   "metadata": {},
   "outputs": [],
   "source": [
    "# histogram\n",
    "plt.hist(total_runs_match, bins=[min(total_runs_match), 150, 165, 175, max(total_runs_match)])\n",
    "plt.title(\"Runs by CSK in matches against DC\")\n",
    "plt.xlabel(\"Runs\")\n",
    "plt.ylabel(\"Frequency\")\n",
    "plt.show()"
   ]
  },
  {
   "cell_type": "code",
   "execution_count": null,
   "metadata": {},
   "outputs": [],
   "source": [
    "# all deliveries of CSK\n",
    "csk_deli = deli.query(\"batting_team.isin(['Chennai Super Kings'])\")\n",
    "\n",
    "len(csk_deli)"
   ]
  },
  {
   "cell_type": "code",
   "execution_count": null,
   "metadata": {},
   "outputs": [],
   "source": [
    "# average runs scored by CSK in a match\n",
    "total_runs_csk = csk_deli.groupby(\"match_id\").sum()[\"total_runs\"]\n",
    "\n",
    "total_runs_csk.mean()"
   ]
  },
  {
   "cell_type": "code",
   "execution_count": null,
   "metadata": {},
   "outputs": [],
   "source": [
    "# histogram\n",
    "plt.hist(total_runs_csk, bins=[min(total_runs_csk), 150, 165, 175, max(total_runs_csk)])\n",
    "plt.title(\"Runs by CSK in matches in IPL\")\n",
    "plt.xlabel(\"Runs\")\n",
    "plt.ylabel(\"Frequency\")\n",
    "plt.show()"
   ]
  },
  {
   "cell_type": "markdown",
   "metadata": {},
   "source": [
    "## Explanation:\n",
    "\n",
    "CSK mostly scores below 150 or more than 175 in IPL matches. However, against DC, it has scored above 175 in majority of the matches. Today's venue is Sharjah, which is a batting friendly pitch. However, CSK's performance has been below par in this season. Hence, it can be expected that CSK will score 166-175 runs in today's match."
   ]
  },
  {
   "cell_type": "markdown",
   "metadata": {},
   "source": [
    "# Question 3:"
   ]
  },
  {
   "cell_type": "code",
   "execution_count": null,
   "metadata": {},
   "outputs": [],
   "source": [
    "# all deliveries faced by DC\n",
    "dc_bat = deli.query(\"batting_team.isin(['Delhi Daredevils', 'Delhi Capitals'])\")"
   ]
  },
  {
   "cell_type": "code",
   "execution_count": null,
   "metadata": {},
   "outputs": [],
   "source": [
    "# DC deliveries between 16-20 overs\n",
    "dc_16_20 = dc_bat.query(\"over.isin([16, 17, 18, 19, 20])\")"
   ]
  },
  {
   "cell_type": "code",
   "execution_count": null,
   "metadata": {},
   "outputs": [],
   "source": [
    "# dc wickets between 16-20 overs\n",
    "wickets_ipl = dc_16_20[dc_16_20.player_dismissed.notnull()].groupby(\"match_id\").count().player_dismissed"
   ]
  },
  {
   "cell_type": "code",
   "execution_count": null,
   "metadata": {},
   "outputs": [],
   "source": [
    "# histogram\n",
    "sns.countplot(wickets_ipl)\n",
    "plt.title(\"Wickets lost per match by DC in IPL history in 16-20 overs\")\n",
    "plt.xlabel(\"No. of wickets\")\n",
    "plt.ylabel(\"Frequency\")\n",
    "plt.show()"
   ]
  },
  {
   "cell_type": "code",
   "execution_count": null,
   "metadata": {},
   "outputs": [],
   "source": [
    "# measures of central tendency\n",
    "print(wickets_ipl.mean())\n",
    "print(wickets_ipl.median())"
   ]
  },
  {
   "cell_type": "code",
   "execution_count": null,
   "metadata": {},
   "outputs": [],
   "source": [
    "# DC wickets between 16-20 overs against CSK\n",
    "dc_16_20.query(\"bowling_team == 'Chennai Super Kings'\").groupby(\"match_id\").count().player_dismissed.value_counts()"
   ]
  },
  {
   "cell_type": "markdown",
   "metadata": {},
   "source": [
    "# Explanation:\n",
    "\n",
    "Wickets taken by CSK in the 16-20 overs is the same as the wickets lost by DC in 16-20 overs. Since the latter has more homogeneity, analysis makes more sense in that scenario. Based on historical data, CSK will take 0-2 wickets in today's match in the 16-20 overs. But allowing for the performance of the two teams in this season, it seems that 3-4 wickets of DC will fall down."
   ]
  },
  {
   "cell_type": "markdown",
   "metadata": {},
   "source": [
    "# Question 4:"
   ]
  },
  {
   "cell_type": "code",
   "execution_count": null,
   "metadata": {},
   "outputs": [],
   "source": [
    "# function to calculate balls taken to score a hundred\n",
    "def get_balls_for_100(df):\n",
    "    \n",
    "    # empty list to store the number of balls\n",
    "    num_balls = []\n",
    "\n",
    "    # iterating over all the matches in the dataframe\n",
    "    for m_id in df.match_id.unique():\n",
    "\n",
    "        # getting the record of one match using the match id\n",
    "        data = df[df.match_id == m_id]\n",
    "        \n",
    "        # calculating cumulative sum of the score\n",
    "        cumsum = np.cumsum(data[\"total_runs\"])\n",
    "        \n",
    "        # finding the index position of the ball on which the score of 100 is crossed\n",
    "        end_pos = pd.DataFrame(cumsum >= 100).idxmax()[0]\n",
    "\n",
    "        # dataframe which stores the details of the balls below the score of 100\n",
    "        balls_taken_df = data.loc[:end_pos][:]\n",
    "\n",
    "        # total balls taken\n",
    "        total_balls = len(balls_taken_df)\n",
    "        # extra balls like wide, no ball, etc. \n",
    "        extra_balls = len(balls_taken_df[balls_taken_df.extra_runs != 0])\n",
    "\n",
    "        # final number of balls\n",
    "        final_balls = total_balls - extra_balls\n",
    "        num_balls.append(final_balls)\n",
    "        \n",
    "        # removing the cases where the score of 100 was not crossed\n",
    "        final = [val for val in num_balls if val>1]\n",
    "        \n",
    "    return final"
   ]
  },
  {
   "cell_type": "code",
   "execution_count": null,
   "metadata": {},
   "outputs": [],
   "source": [
    "# balls taken to score a 100 considering all the matches of CSK\n",
    "num = get_balls_for_100(csk_deli)"
   ]
  },
  {
   "cell_type": "code",
   "execution_count": null,
   "metadata": {},
   "outputs": [],
   "source": [
    "# histogram\n",
    "plt.hist(num, bins=[0, 40, 60, 70, max(num)])\n",
    "plt.title(\"Balls taken to score 100 runs\")\n",
    "plt.xlabel(\"No. of runs\")\n",
    "plt.ylabel(\"Frequency\")\n",
    "plt.show()"
   ]
  },
  {
   "cell_type": "code",
   "execution_count": null,
   "metadata": {},
   "outputs": [],
   "source": [
    "# balls taken to score a 100 considering all the matches of CSK against DC\n",
    "num_dc = get_balls_for_100(csk_deli.query(\"bowling_team.isin(['Delhi Daredevils', 'Delhi Capitals'])\"))\n",
    "\n",
    "# histogram\n",
    "plt.hist(num_dc, bins=[0, 40, 60, 70, max(num)])\n",
    "plt.title(\"Balls taken to score 100 runs\")\n",
    "plt.xlabel(\"No. of runs\")\n",
    "plt.ylabel(\"Frequency\")\n",
    "plt.show()"
   ]
  },
  {
   "cell_type": "markdown",
   "metadata": {},
   "source": [
    "## Explanation:\n",
    "\n",
    "It will take CSK more than 70 balls to reach the score of 100 following the usual trend."
   ]
  },
  {
   "cell_type": "markdown",
   "metadata": {},
   "source": [
    "# Question 5:"
   ]
  },
  {
   "cell_type": "code",
   "execution_count": null,
   "metadata": {},
   "outputs": [],
   "source": [
    "# Total no. of no balls in IPL history\n",
    "len(deli[deli.noball_runs != 0])"
   ]
  },
  {
   "cell_type": "code",
   "execution_count": null,
   "metadata": {},
   "outputs": [],
   "source": [
    "# Total no. of matches in IPL history\n",
    "len(deli.match_id.unique())"
   ]
  },
  {
   "cell_type": "code",
   "execution_count": null,
   "metadata": {},
   "outputs": [],
   "source": [
    "# average no. of no balls per match\n",
    "714/756"
   ]
  },
  {
   "cell_type": "code",
   "execution_count": null,
   "metadata": {},
   "outputs": [],
   "source": [
    "# finding out the no. of no balls bowled by CSK and DC\n",
    "noballs_csk_dc = deli[deli.noball_runs != 0].query(\"bowling_team.isin(['Delhi Daredevils', 'Delhi Capitals', 'Chennai Super Kings'])\")"
   ]
  },
  {
   "cell_type": "code",
   "execution_count": null,
   "metadata": {},
   "outputs": [],
   "source": [
    "# no balls bowled by CSK and DC\n",
    "len(noballs_csk_dc)"
   ]
  },
  {
   "cell_type": "code",
   "execution_count": null,
   "metadata": {},
   "outputs": [],
   "source": [
    "# no. of matches in which CSK and DC have bowled\n",
    "len(noballs_csk_dc.match_id.unique())"
   ]
  },
  {
   "cell_type": "code",
   "execution_count": null,
   "metadata": {},
   "outputs": [],
   "source": [
    "# average no. of no balls per match by CSK and DC\n",
    "115/153"
   ]
  },
  {
   "cell_type": "code",
   "execution_count": null,
   "metadata": {},
   "outputs": [],
   "source": [
    "# no. of no balls per match by CSK and DC\n",
    "noballs_csk_dc.groupby(\"match_id\").count()[\"inning\"].value_counts()"
   ]
  },
  {
   "cell_type": "markdown",
   "metadata": {},
   "source": [
    "## Explanation:\n",
    "\n",
    "Considering all the statistics, 0-1 no balls can be expected to be bowled in today's match."
   ]
  }
 ],
 "metadata": {
  "kernelspec": {
   "display_name": "Python 3",
   "language": "python",
   "name": "python3"
  },
  "language_info": {
   "codemirror_mode": {
    "name": "ipython",
    "version": 3
   },
   "file_extension": ".py",
   "mimetype": "text/x-python",
   "name": "python",
   "nbconvert_exporter": "python",
   "pygments_lexer": "ipython3",
   "version": "3.7.6"
  }
 },
 "nbformat": 4,
 "nbformat_minor": 4
}
