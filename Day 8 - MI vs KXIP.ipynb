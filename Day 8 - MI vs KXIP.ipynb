{
 "cells": [
  {
   "cell_type": "code",
   "execution_count": null,
   "metadata": {},
   "outputs": [],
   "source": [
    "# import libraries\n",
    "import pandas as pd\n",
    "import matplotlib.pyplot as plt\n",
    "import seaborn as sns"
   ]
  },
  {
   "cell_type": "code",
   "execution_count": null,
   "metadata": {},
   "outputs": [],
   "source": [
    "# read dataset\n",
    "matches = pd.read_csv(\"matches.csv\")\n",
    "deli = pd.read_csv(\"deliveries.csv\")"
   ]
  },
  {
   "cell_type": "markdown",
   "metadata": {},
   "source": [
    "# Question 1:"
   ]
  },
  {
   "cell_type": "code",
   "execution_count": null,
   "metadata": {},
   "outputs": [],
   "source": [
    "# all matches between MI and KXIP\n",
    "mi_kxip = matches.query(\"team1.isin(['Mumbai Indians', 'Kings XI Punjab']) and team2.isin(['Mumbai Indians', 'Kings XI Punjab'])\")"
   ]
  },
  {
   "cell_type": "code",
   "execution_count": null,
   "metadata": {},
   "outputs": [],
   "source": [
    "# victories of the two teams against each other \n",
    "mi_kxip.winner.value_counts()"
   ]
  },
  {
   "cell_type": "code",
   "execution_count": null,
   "metadata": {},
   "outputs": [],
   "source": [
    "# matches of KXIP\n",
    "kxip = matches.query(\"team1 == 'Kings XI Punjab' or team2 == 'Kings XI Punjab'\")\n",
    "len(kxip)"
   ]
  },
  {
   "cell_type": "code",
   "execution_count": null,
   "metadata": {},
   "outputs": [],
   "source": [
    "# count of winners in KXIP matches\n",
    "kxip.winner.value_counts()"
   ]
  },
  {
   "cell_type": "code",
   "execution_count": null,
   "metadata": {},
   "outputs": [],
   "source": [
    "# KXIP win ratio\n",
    "82/176"
   ]
  },
  {
   "cell_type": "code",
   "execution_count": null,
   "metadata": {},
   "outputs": [],
   "source": [
    "# matches of MI\n",
    "mi = matches.query(\"team1 == 'Mumbai Indians' or team2 == 'Mumbai Indians'\")\n",
    "len(mi)"
   ]
  },
  {
   "cell_type": "code",
   "execution_count": null,
   "metadata": {},
   "outputs": [],
   "source": [
    "# count of winners in MI matches\n",
    "mi.winner.value_counts()"
   ]
  },
  {
   "cell_type": "code",
   "execution_count": null,
   "metadata": {},
   "outputs": [],
   "source": [
    "# MI win ratio\n",
    "109/187"
   ]
  },
  {
   "cell_type": "markdown",
   "metadata": {},
   "source": [
    "## Explanation: \n",
    "\n",
    "MI has shown a better performance compared to KXIP in IPL history. Even in the current season, MI is the table topper whereas KXIP is at the bottom of the table. The previous match in this season against the two teams was also won by MI. Hence, it can be safely said that MI will also win tomorrow's game."
   ]
  },
  {
   "cell_type": "markdown",
   "metadata": {},
   "source": [
    "# Question 2:"
   ]
  },
  {
   "cell_type": "code",
   "execution_count": null,
   "metadata": {},
   "outputs": [],
   "source": [
    "# all dismissals of Quinton De Kock\n",
    "de_kock = deli[deli.player_dismissed == 'Q de Kock']"
   ]
  },
  {
   "cell_type": "code",
   "execution_count": null,
   "metadata": {},
   "outputs": [],
   "source": [
    "# spinners that he was dismissed by\n",
    "spin = [\"KV Sharma\", \"PV Tambe\", \"YS Chahal\", \"S Kaushik\", \"KH Pandya\", \"PP Chawla\", \"R Ashwin\", \"D Short\",\n",
    "       \"Kuldeep Yadav\", \"M Ali\", \"SP Narine\", \"Harbhajan Singh\", \"S Gopal\"]"
   ]
  },
  {
   "cell_type": "code",
   "execution_count": null,
   "metadata": {},
   "outputs": [],
   "source": [
    "# seamers that he was dismissed by\n",
    "seamer = [\"AB Dinda\", \"P Kumar\", \"MM Sharma\", \"CJ Anderson\", \"UT Yadav\", \"DW Steyn\", \"MA Starc\", \"IC Pandey\",\n",
    "         \"AD Russell\", \"SR Watson\", \"MJ McClenaghan\", \"DS Kulkarni\", \"MP Stoinis\", \"MC Henriques\",\n",
    "         \"BB Sran\", \"DJ Bravo\", \"I Sharma\", \"Mohammed Shami\", \"S Kaul\", \"DL Chahar\", \"J Archer\", \"P Krishna\",\n",
    "         \"SN Thakur\"]"
   ]
  },
  {
   "cell_type": "code",
   "execution_count": null,
   "metadata": {
    "scrolled": false
   },
   "outputs": [],
   "source": [
    "# number of times he was dismissed by a spinner\n",
    "len(de_kock[de_kock.bowler.isin(spin)])"
   ]
  },
  {
   "cell_type": "code",
   "execution_count": null,
   "metadata": {},
   "outputs": [],
   "source": [
    "# number of times he was dismissed by a spinner\n",
    "len(de_kock[de_kock.bowler.isin(seamer)])"
   ]
  },
  {
   "cell_type": "code",
   "execution_count": null,
   "metadata": {},
   "outputs": [],
   "source": [
    "# overs that he has been dismissed in and their frequency\n",
    "de_kock.over.value_counts().sort_index()"
   ]
  },
  {
   "cell_type": "markdown",
   "metadata": {},
   "source": [
    "## Explanation:\n",
    "\n",
    "Quinton de Kock plays as an opening batsman. Hence it is expected that he gets out in the first 6 overs majority of the times. The first 6 overs of a T20 game are the powerplay overs, which are generally bowled by seamers. Due to this fact, he has been dismissed by seamers most of the times. The two main seamers of KXIP this year, Md. Shami and Sheldon Cotrell have dismissed Quinton one each, the former in a previous season and the latter in this very season of IPL. Thus, owing to the position that he plays in, he can be expected to be dismissed by a seamer."
   ]
  },
  {
   "cell_type": "markdown",
   "metadata": {},
   "source": [
    "# Question 3:"
   ]
  },
  {
   "cell_type": "code",
   "execution_count": null,
   "metadata": {},
   "outputs": [],
   "source": [
    "# all deliveries faced by KXIP\n",
    "kxip_bat = deli.query(\"batting_team == 'Kings XI Punjab'\")"
   ]
  },
  {
   "cell_type": "code",
   "execution_count": null,
   "metadata": {},
   "outputs": [],
   "source": [
    "# kxip deliveries between 1-6 overs\n",
    "kxip_1_6 = kxip_bat.query(\"over.isin([1, 2, 3, 4, 5, 6])\")"
   ]
  },
  {
   "cell_type": "code",
   "execution_count": null,
   "metadata": {},
   "outputs": [],
   "source": [
    "# kxip wickets between 1-6 overs\n",
    "wickets_ipl = kxip_1_6[kxip_1_6.player_dismissed.notnull()].groupby(\"match_id\").count().player_dismissed"
   ]
  },
  {
   "cell_type": "code",
   "execution_count": null,
   "metadata": {},
   "outputs": [],
   "source": [
    "# histogram\n",
    "sns.countplot(wickets_ipl)\n",
    "plt.title(\"Wickets lost per match by KXIP in IPL history in 1-6 overs\")\n",
    "plt.xlabel(\"No. of wickets\")\n",
    "plt.ylabel(\"Frequency\")\n",
    "plt.show()"
   ]
  },
  {
   "cell_type": "code",
   "execution_count": null,
   "metadata": {},
   "outputs": [],
   "source": [
    "# measures of central tendency\n",
    "print(wickets_ipl.mean())\n",
    "print(wickets_ipl.median())"
   ]
  },
  {
   "cell_type": "code",
   "execution_count": null,
   "metadata": {},
   "outputs": [],
   "source": [
    "# mi wickets between 1-6 against MI\n",
    "kxip_1_6.query(\"bowling_team == 'Mumbai Indians'\").groupby(\"match_id\").count().player_dismissed.value_counts()"
   ]
  },
  {
   "cell_type": "markdown",
   "metadata": {},
   "source": [
    "## Explanation:\n",
    "\n",
    "Throughout this season of IPL, it has been noted that KXIP have lost 0-1 wickets when batting first, whereas they lose 2-3 wickets when batting second. The data of the previous years says that when batting against MI, the team usually loses a single wicket. Thus, considering the general trend in case KXIP bat first, or the fact that they might have tried to improve on this weakness when batting second, they will lose 0-1 wickets in today's game."
   ]
  },
  {
   "cell_type": "markdown",
   "metadata": {},
   "source": [
    "# Question 4:"
   ]
  },
  {
   "cell_type": "code",
   "execution_count": null,
   "metadata": {},
   "outputs": [],
   "source": [
    "# all deliveries faced by KL Rahul\n",
    "rahul = deli[deli.batsman == \"KL Rahul\"]\n",
    "rahul_out = rahul[rahul.player_dismissed.notnull()]"
   ]
  },
  {
   "cell_type": "code",
   "execution_count": null,
   "metadata": {},
   "outputs": [],
   "source": [
    "# barplot\n",
    "sns.countplot(rahul_out.dismissal_kind)\n",
    "plt.title(\"Dismissals of KL Rahul\")\n",
    "plt.xticks(rotation=90)\n",
    "plt.show()"
   ]
  },
  {
   "cell_type": "code",
   "execution_count": null,
   "metadata": {},
   "outputs": [],
   "source": [
    "# barplot\n",
    "sns.countplot(rahul.query(\"bowling_team == 'Mumbai Indians' and player_dismissed.notnull()\").dismissal_kind)\n",
    "plt.title(\"Dismissals of KL Rahul against MI\")\n",
    "plt.xticks(rotation=90)\n",
    "plt.show()"
   ]
  },
  {
   "cell_type": "code",
   "execution_count": null,
   "metadata": {},
   "outputs": [],
   "source": [
    "# barplot\n",
    "sns.countplot(rahul_out.dismissal_kind[-20:])\n",
    "plt.title(\"Dismissals of KL Rahul in the last 20 matches\")\n",
    "plt.xticks(rotation=90)\n",
    "plt.show()"
   ]
  },
  {
   "cell_type": "markdown",
   "metadata": {},
   "source": [
    "## Explanation:\n",
    "\n",
    "KL Rahul is currently the highest run scorer of the current season of the IPL. The middle order of his team has not been performing well this season, which has resulted in them being at the bottom of the points table. Hence, also taking his role as captain into account, KL Rahul will try to hit the ball to get as many runs as possible and get caught out in the process."
   ]
  },
  {
   "cell_type": "markdown",
   "metadata": {},
   "source": [
    "# Question 5:"
   ]
  },
  {
   "cell_type": "code",
   "execution_count": null,
   "metadata": {},
   "outputs": [],
   "source": [
    "# wickets lost per match by KXIP\n",
    "wickets_ipl_kxip = kxip_bat[kxip_bat.player_dismissed.notnull()].groupby(\"match_id\").count().player_dismissed"
   ]
  },
  {
   "cell_type": "code",
   "execution_count": null,
   "metadata": {},
   "outputs": [],
   "source": [
    "# histogram\n",
    "plt.hist(wickets_ipl_kxip, bins=[0, 3, 6, 9, 10]);\n",
    "plt.title(\"Wickets lost per match by KXIP in IPL history\")\n",
    "plt.xlabel(\"No. of wickets\")\n",
    "plt.ylabel(\"Frequency\")\n",
    "plt.show()"
   ]
  },
  {
   "cell_type": "code",
   "execution_count": null,
   "metadata": {},
   "outputs": [],
   "source": [
    "# measures of central tendency\n",
    "print(wickets_ipl_kxip.mean())\n",
    "print(wickets_ipl_kxip.median())"
   ]
  },
  {
   "cell_type": "code",
   "execution_count": null,
   "metadata": {},
   "outputs": [],
   "source": [
    "# all deliveries faced by MI\n",
    "mi_bat = deli.query(\"batting_team == 'Mumbai Indians'\")"
   ]
  },
  {
   "cell_type": "code",
   "execution_count": null,
   "metadata": {},
   "outputs": [],
   "source": [
    "# wickets lost per match by MI\n",
    "wickets_ipl_mi = mi_bat[mi_bat.player_dismissed.notnull()].groupby(\"match_id\").count().player_dismissed"
   ]
  },
  {
   "cell_type": "code",
   "execution_count": null,
   "metadata": {},
   "outputs": [],
   "source": [
    "# histogram\n",
    "plt.hist(wickets_ipl_mi, bins=[0, 3, 6, 9, 10]);\n",
    "plt.title(\"Wickets lost per match by MI in IPL history\")\n",
    "plt.xlabel(\"No. of wickets\")\n",
    "plt.ylabel(\"Frequency\")\n",
    "plt.show()"
   ]
  },
  {
   "cell_type": "code",
   "execution_count": null,
   "metadata": {},
   "outputs": [],
   "source": [
    "# measures of central tendency\n",
    "print(wickets_ipl_mi.mean())\n",
    "print(wickets_ipl_mi.median())"
   ]
  },
  {
   "cell_type": "code",
   "execution_count": null,
   "metadata": {},
   "outputs": [],
   "source": [
    "# all deliveries in MI vs KXIP matches\n",
    "mi_kxip_deli = deli.query(\"batting_team.isin(['Mumbai Indians', 'Kings XI Punjab']) and bowling_team.isin(['Mumbai Indians', 'Kings XI Punjab'])\")"
   ]
  },
  {
   "cell_type": "code",
   "execution_count": null,
   "metadata": {},
   "outputs": [],
   "source": [
    "# number of wickets per match\n",
    "wickets_mi_kxip = mi_kxip_deli[mi_kxip_deli.player_dismissed.notnull()].groupby(\"match_id\").count().player_dismissed"
   ]
  },
  {
   "cell_type": "code",
   "execution_count": null,
   "metadata": {},
   "outputs": [],
   "source": [
    "# histogram\n",
    "plt.hist(wickets_mi_kxip, bins=[0, 5, 10, 15, 20]);\n",
    "plt.title(\"Wickets lost per MI vs KXIP match in IPL history\")\n",
    "plt.xlabel(\"No. of wickets\")\n",
    "plt.ylabel(\"Frequency\")\n",
    "plt.show()"
   ]
  },
  {
   "cell_type": "code",
   "execution_count": null,
   "metadata": {},
   "outputs": [],
   "source": [
    "# measures of central tendency\n",
    "print(wickets_mi_kxip.mean())\n",
    "print(wickets_mi_kxip.median())"
   ]
  },
  {
   "cell_type": "markdown",
   "metadata": {},
   "source": [
    "## Explanation:\n",
    "\n",
    "Both the teams individually tend to lose 6 wickets in an IPL match. This measure is also extended to all MI vs KXIP matches, where the total number of wickets lost was 12. Considering that the venue of Dubai offers a bowling friendly pitch, it can be expected that 11-15 wickets will fall in total in today's match."
   ]
  }
 ],
 "metadata": {
  "kernelspec": {
   "display_name": "Python 3",
   "language": "python",
   "name": "python3"
  },
  "language_info": {
   "codemirror_mode": {
    "name": "ipython",
    "version": 3
   },
   "file_extension": ".py",
   "mimetype": "text/x-python",
   "name": "python",
   "nbconvert_exporter": "python",
   "pygments_lexer": "ipython3",
   "version": "3.7.6"
  }
 },
 "nbformat": 4,
 "nbformat_minor": 4
}
