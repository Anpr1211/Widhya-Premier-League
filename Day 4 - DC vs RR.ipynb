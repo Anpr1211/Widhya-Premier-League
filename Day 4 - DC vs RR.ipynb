{
 "cells": [
  {
   "cell_type": "code",
   "execution_count": null,
   "metadata": {},
   "outputs": [],
   "source": [
    "# importing libraries\n",
    "import pandas as pd\n",
    "import matplotlib.pyplot as plt"
   ]
  },
  {
   "cell_type": "code",
   "execution_count": null,
   "metadata": {},
   "outputs": [],
   "source": [
    "# read datasets\n",
    "matches = pd.read_csv(\"matches.csv\")\n",
    "deli = pd.read_csv(\"deliveries.csv\")"
   ]
  },
  {
   "cell_type": "markdown",
   "metadata": {},
   "source": [
    "# Question 1:"
   ]
  },
  {
   "cell_type": "code",
   "execution_count": null,
   "metadata": {},
   "outputs": [],
   "source": [
    "# all matches between DC and RR\n",
    "dc_rr = matches.query(\"team1.isin(['Delhi Daredevils', 'Delhi Capitals', 'Rajasthan Royals']) and team2.isin(['Delhi Daredevils', 'Delhi Capitals', 'Rajasthan Royals'])\")"
   ]
  },
  {
   "cell_type": "code",
   "execution_count": null,
   "metadata": {},
   "outputs": [],
   "source": [
    "# victories of the two teams against each other \n",
    "dc_rr.winner.value_counts()"
   ]
  },
  {
   "cell_type": "markdown",
   "metadata": {},
   "source": [
    "Rajasthan Royals has won more matches against the Delhi franchise."
   ]
  },
  {
   "cell_type": "code",
   "execution_count": null,
   "metadata": {},
   "outputs": [],
   "source": [
    "# matches of DC\n",
    "dc = matches.query(\"team1.isin(['Delhi Daredevils', 'Delhi Capitals']) or team2.isin(['Delhi Daredevils', 'Delhi Capitals'])\")\n",
    "\n",
    "len(dc)"
   ]
  },
  {
   "cell_type": "code",
   "execution_count": null,
   "metadata": {},
   "outputs": [],
   "source": [
    "# count of winners in DC matches\n",
    "dc.winner.value_counts()"
   ]
  },
  {
   "cell_type": "code",
   "execution_count": null,
   "metadata": {},
   "outputs": [],
   "source": [
    "# DC win ratio\n",
    "(67+10)/177"
   ]
  },
  {
   "cell_type": "code",
   "execution_count": null,
   "metadata": {},
   "outputs": [],
   "source": [
    "# matches of RR\n",
    "rr = matches.query(\"team1 == 'Rajasthan Royals' or team2 == 'Rajasthan Royals'\")\n",
    "\n",
    "len(rr)"
   ]
  },
  {
   "cell_type": "code",
   "execution_count": null,
   "metadata": {},
   "outputs": [],
   "source": [
    "# counts of winners in RR matches\n",
    "rr.winner.value_counts()"
   ]
  },
  {
   "cell_type": "code",
   "execution_count": null,
   "metadata": {},
   "outputs": [],
   "source": [
    "# RR win ratio\n",
    "75/147"
   ]
  },
  {
   "cell_type": "markdown",
   "metadata": {},
   "source": [
    "On the basis of the historical data, Rajasthan Royals has been a better performing team than Delhi Capitals. Hence, it can be predicted that Rajasthan Royals will win today's match."
   ]
  },
  {
   "cell_type": "markdown",
   "metadata": {},
   "source": [
    "# Question 2:"
   ]
  },
  {
   "cell_type": "code",
   "execution_count": null,
   "metadata": {},
   "outputs": [],
   "source": [
    "dc_batting = deli.query(\"batting_team.isin(['Delhi Daredevils', 'Delhi Capitals'])\")"
   ]
  },
  {
   "cell_type": "code",
   "execution_count": null,
   "metadata": {},
   "outputs": [],
   "source": [
    "pp_runs = dc_batting.query(\"over.isin([1, 2, 3, 4, 5, 6])\").groupby(\"match_id\").sum()[\"total_runs\"]"
   ]
  },
  {
   "cell_type": "code",
   "execution_count": null,
   "metadata": {},
   "outputs": [],
   "source": [
    "# histogram\n",
    "plt.figure(figsize=(15, 5))\n",
    "plt.subplot(1, 2, 1)\n",
    "plt.hist(pp_runs);\n",
    "\n",
    "plt.subplot(1, 2, 2)\n",
    "plt.hist(pp_runs, bins=[0, 30, 40, 50, 75]);"
   ]
  },
  {
   "cell_type": "code",
   "execution_count": null,
   "metadata": {},
   "outputs": [],
   "source": [
    "dc_batting_rr = dc_batting.query(\"bowling_team == 'Rajasthan Royals'\")"
   ]
  },
  {
   "cell_type": "code",
   "execution_count": null,
   "metadata": {},
   "outputs": [],
   "source": [
    "pp_runs_rr = dc_batting_rr.query(\"over.isin([1, 2, 3, 4, 5, 6])\").groupby(\"match_id\").sum()[\"total_runs\"]"
   ]
  },
  {
   "cell_type": "code",
   "execution_count": null,
   "metadata": {},
   "outputs": [],
   "source": [
    "# histogram\n",
    "plt.figure(figsize=(15, 5))\n",
    "plt.subplot(1, 2, 1)\n",
    "plt.hist(pp_runs_rr);\n",
    "\n",
    "plt.subplot(1, 2, 2)\n",
    "plt.hist(pp_runs_rr, bins=[0, 30, 40, 50, 75]);"
   ]
  },
  {
   "cell_type": "markdown",
   "metadata": {},
   "source": [
    "## Explanation:\n",
    "\n",
    "Considering the performance of DC against other teams, specially against RR, the powerplay score has stayed above 50 in majority of the matches. Hence, it can be expected that DC will score above 50 in today's powerplay as well. "
   ]
  },
  {
   "cell_type": "markdown",
   "metadata": {},
   "source": [
    "# Question 3:"
   ]
  },
  {
   "cell_type": "code",
   "execution_count": null,
   "metadata": {},
   "outputs": [],
   "source": [
    "# filtering for Steve Smith\n",
    "smith = deli[deli.batsman == \"SPD Smith\"]\n",
    "\n",
    "len(smith)"
   ]
  },
  {
   "cell_type": "code",
   "execution_count": null,
   "metadata": {},
   "outputs": [],
   "source": [
    "# average no. of runs scored by Smith in IPL history\n",
    "smith.total_runs.sum()/len(smith.match_id.unique())"
   ]
  },
  {
   "cell_type": "code",
   "execution_count": null,
   "metadata": {},
   "outputs": [],
   "source": [
    "# runs scored by Smith in IPL history\n",
    "smith_runs = smith.groupby(\"match_id\").sum()['total_runs']"
   ]
  },
  {
   "cell_type": "code",
   "execution_count": null,
   "metadata": {},
   "outputs": [],
   "source": [
    "# histogram\n",
    "plt.figure(figsize=(15, 5))\n",
    "plt.subplot(1, 2, 1)\n",
    "plt.hist(smith_runs);\n",
    "\n",
    "plt.subplot(1, 2, 2)\n",
    "plt.hist(smith_runs, bins=[0, 15, 30, 40, 102]);"
   ]
  },
  {
   "cell_type": "markdown",
   "metadata": {},
   "source": [
    "Other than the range of 30-40, Steve Smith has scored runs almost the same number of times in the other three ranges, i.e., it can be approximated by a uniform distribution."
   ]
  },
  {
   "cell_type": "code",
   "execution_count": null,
   "metadata": {},
   "outputs": [],
   "source": [
    "# runs scored by Smith against DC in IPL history\n",
    "smith.query(\"bowling_team.isin(['Delhi Daredevils', 'Delhi Capitals'])\").groupby(\"match_id\").sum()['total_runs']"
   ]
  },
  {
   "cell_type": "markdown",
   "metadata": {},
   "source": [
    "However his performance has been much better against DC."
   ]
  },
  {
   "cell_type": "markdown",
   "metadata": {},
   "source": [
    "## Explanation:\n",
    "\n",
    "Considering the fact that Steve Smith has performed well against DC in the previous matches, it can be said that he will score more than 40 runs in today's match."
   ]
  },
  {
   "cell_type": "markdown",
   "metadata": {},
   "source": [
    "# Question 4:"
   ]
  },
  {
   "cell_type": "code",
   "execution_count": null,
   "metadata": {},
   "outputs": [],
   "source": [
    "# Total no. of wides in IPL history\n",
    "len(deli[deli.wide_runs != 0]) "
   ]
  },
  {
   "cell_type": "code",
   "execution_count": null,
   "metadata": {},
   "outputs": [],
   "source": [
    "# Total no. of matches in IPL history\n",
    "len(deli.match_id.unique())"
   ]
  },
  {
   "cell_type": "code",
   "execution_count": null,
   "metadata": {},
   "outputs": [],
   "source": [
    "# average no. of wides per match\n",
    "5405/756"
   ]
  },
  {
   "cell_type": "code",
   "execution_count": null,
   "metadata": {},
   "outputs": [],
   "source": [
    "# all deliveries in DC vs RR matches\n",
    "rr_dc_deli = deli.query(\"bowling_team.isin(['Delhi Daredevils', 'Delhi Capitals', 'Rajasthan Royals']) and batting_team.isin(['Delhi Daredevils', 'Delhi Capitals', 'Rajasthan Royals'])\")\n",
    "print(len(rr_dc_deli))"
   ]
  },
  {
   "cell_type": "code",
   "execution_count": null,
   "metadata": {},
   "outputs": [],
   "source": [
    "# all wide balls in DC va RR matches\n",
    "wides = rr_dc_deli[rr_dc_deli.wide_runs != 0].groupby('match_id').count()['wide_runs']\n",
    "\n",
    "wides.plot(kind=\"hist\")"
   ]
  },
  {
   "cell_type": "code",
   "execution_count": null,
   "metadata": {},
   "outputs": [],
   "source": [
    "wides.median()"
   ]
  },
  {
   "cell_type": "code",
   "execution_count": null,
   "metadata": {},
   "outputs": [],
   "source": [
    "# all deliveries of RR\n",
    "rr_deli = deli.query(\"bowling_team.isin(['Rajasthan Royals'])\")\n",
    "\n",
    "len(rr_deli)"
   ]
  },
  {
   "cell_type": "code",
   "execution_count": null,
   "metadata": {},
   "outputs": [],
   "source": [
    "# all wide balls by RR in an innings\n",
    "wides_rr = rr_deli[rr_deli.wide_runs != 0].groupby('match_id').count()['wide_runs']\n",
    "\n",
    "wides_rr.plot(kind=\"hist\")"
   ]
  },
  {
   "cell_type": "code",
   "execution_count": null,
   "metadata": {},
   "outputs": [],
   "source": [
    "wides_rr.median()"
   ]
  },
  {
   "cell_type": "code",
   "execution_count": null,
   "metadata": {},
   "outputs": [],
   "source": [
    "# all deliveries of DC\n",
    "dc_deli = deli.query(\"bowling_team.isin(['Delhi Daredevils', 'Delhi Capitals'])\")\n",
    "\n",
    "len(dc_deli)"
   ]
  },
  {
   "cell_type": "code",
   "execution_count": null,
   "metadata": {},
   "outputs": [],
   "source": [
    "# all wide balls by DC in an innings\n",
    "wides_dc = dc_deli[dc_deli.wide_runs != 0].groupby('match_id').count()['wide_runs']\n",
    "\n",
    "wides_dc.plot(kind=\"hist\")"
   ]
  },
  {
   "cell_type": "code",
   "execution_count": null,
   "metadata": {},
   "outputs": [],
   "source": [
    "wides_dc.median()"
   ]
  },
  {
   "cell_type": "markdown",
   "metadata": {},
   "source": [
    "## Explanation:\n",
    "\n",
    "RR and DC both throw 3 wide balls per innings on an average. Hence, 6 or more wides will be bowled in the match."
   ]
  },
  {
   "cell_type": "markdown",
   "metadata": {},
   "source": [
    "# Question 5:"
   ]
  },
  {
   "cell_type": "code",
   "execution_count": null,
   "metadata": {},
   "outputs": [],
   "source": [
    "# frequency of wickets lost in all DC vs RR matches\n",
    "rr_dc_deli[rr_dc_deli.player_dismissed.notnull()].groupby(\"match_id\").count().player_dismissed.value_counts()"
   ]
  },
  {
   "cell_type": "code",
   "execution_count": null,
   "metadata": {},
   "outputs": [],
   "source": [
    "# deliveries in RR matches where RR was the batting team\n",
    "rr_bat = deli.query(\"batting_team.isin(['Rajasthan Royals'])\")\n",
    "\n",
    "len(rr_bat)"
   ]
  },
  {
   "cell_type": "code",
   "execution_count": null,
   "metadata": {},
   "outputs": [],
   "source": [
    "# median wickets that RR loses in a match\n",
    "rr_bat[rr_bat.player_dismissed.notnull()].groupby(\"match_id\").count().player_dismissed.median()"
   ]
  },
  {
   "cell_type": "code",
   "execution_count": null,
   "metadata": {},
   "outputs": [],
   "source": [
    "# deliveries in DC matches where DC was the batting team\n",
    "dc_bat = deli.query(\"batting_team.isin(['Delhi Daredevils', 'Delhi Capitals'])\")\n",
    "\n",
    "len(dc_bat)"
   ]
  },
  {
   "cell_type": "code",
   "execution_count": null,
   "metadata": {},
   "outputs": [],
   "source": [
    "# median wickets that DC loses in a match\n",
    "dc_bat[dc_bat.player_dismissed.notnull()].groupby(\"match_id\").count().player_dismissed.median()"
   ]
  },
  {
   "cell_type": "markdown",
   "metadata": {},
   "source": [
    "## Explanation:\n",
    "\n",
    "Since RR and DC both lose an average of 6 wickets per innings, 11-15 wickets will fall in today's match."
   ]
  }
 ],
 "metadata": {
  "kernelspec": {
   "display_name": "Python 3",
   "language": "python",
   "name": "python3"
  },
  "language_info": {
   "codemirror_mode": {
    "name": "ipython",
    "version": 3
   },
   "file_extension": ".py",
   "mimetype": "text/x-python",
   "name": "python",
   "nbconvert_exporter": "python",
   "pygments_lexer": "ipython3",
   "version": "3.7.6"
  }
 },
 "nbformat": 4,
 "nbformat_minor": 4
}
