{
 "cells": [
  {
   "cell_type": "code",
   "execution_count": null,
   "metadata": {},
   "outputs": [],
   "source": [
    "# import library\n",
    "library(dplyr)"
   ]
  },
  {
   "cell_type": "code",
   "execution_count": null,
   "metadata": {},
   "outputs": [],
   "source": [
    "# read datasets\n",
    "matches = read.csv(\"matches.csv\")\n",
    "deli = read.csv(\"deliveries.csv\")"
   ]
  },
  {
   "cell_type": "markdown",
   "metadata": {},
   "source": [
    "# Question 1:"
   ]
  },
  {
   "cell_type": "code",
   "execution_count": null,
   "metadata": {},
   "outputs": [],
   "source": [
    "# teams playing today's match\n",
    "teams = c(\"Sunrisers Hyderabad\", \"Deccan Chargers\", \"Delhi Capitals\", \"Delhi Daredevils\")"
   ]
  },
  {
   "cell_type": "code",
   "execution_count": null,
   "metadata": {},
   "outputs": [],
   "source": [
    "# all matches between SRH and DC\n",
    "srh_dc = subset(matches, (team1 %in% teams & team2 %in% teams))"
   ]
  },
  {
   "cell_type": "code",
   "execution_count": null,
   "metadata": {},
   "outputs": [],
   "source": [
    "srh_dc$winner"
   ]
  },
  {
   "cell_type": "code",
   "execution_count": null,
   "metadata": {},
   "outputs": [],
   "source": [
    "# victories of the teams against each other\n",
    "count(srh_dc, winner)"
   ]
  },
  {
   "cell_type": "code",
   "execution_count": null,
   "metadata": {},
   "outputs": [],
   "source": [
    "# matches of SRH\n",
    "srh = subset(matches, (team1 %in% c(\"Sunrisers Hyderabad\", \"Deccan Chargers\") | team2 %in% c(\"Sunrisers Hyderabad\", \"Deccan Chargers\") ))"
   ]
  },
  {
   "cell_type": "code",
   "execution_count": null,
   "metadata": {},
   "outputs": [],
   "source": [
    "# total no. of matches played by SRH\n",
    "nrow(srh)"
   ]
  },
  {
   "cell_type": "code",
   "execution_count": null,
   "metadata": {},
   "outputs": [],
   "source": [
    "# winners in those matches\n",
    "count(srh, winner)"
   ]
  },
  {
   "cell_type": "code",
   "execution_count": null,
   "metadata": {},
   "outputs": [],
   "source": [
    "# win ratio of SRH\n",
    "(29+58)/183"
   ]
  },
  {
   "cell_type": "code",
   "execution_count": null,
   "metadata": {},
   "outputs": [],
   "source": [
    "# matches of DC\n",
    "dc = subset(matches, (team1 %in% c(\"Delhi Daredevils\", \"Delhi Capitals\") | team2 %in% c(\"Delhi Daredevils\", \"Delhi Capitals\") ))"
   ]
  },
  {
   "cell_type": "code",
   "execution_count": null,
   "metadata": {},
   "outputs": [],
   "source": [
    "# total no. of matches played by DC\n",
    "nrow(dc)"
   ]
  },
  {
   "cell_type": "code",
   "execution_count": null,
   "metadata": {},
   "outputs": [],
   "source": [
    "# winners in those matches\n",
    "count(dc, winner)"
   ]
  },
  {
   "cell_type": "code",
   "execution_count": null,
   "metadata": {},
   "outputs": [],
   "source": [
    "# win ratio of DC\n",
    "(67+10)/177"
   ]
  },
  {
   "cell_type": "markdown",
   "metadata": {},
   "source": [
    "# Question 2:"
   ]
  },
  {
   "cell_type": "code",
   "execution_count": null,
   "metadata": {},
   "outputs": [],
   "source": [
    "# all deliveries faced by SRH\n",
    "srh_bat = subset(deli, batting_team %in% c('Sunrisers Hyderabad', 'Deccan Chargers'))\n",
    "\n",
    "head(srh_bat)"
   ]
  },
  {
   "cell_type": "code",
   "execution_count": null,
   "metadata": {},
   "outputs": [],
   "source": [
    "# all deliveries faced by DC\n",
    "dc_bat = subset(deli, batting_team %in% c(\"Delhi Daredevils\", \"Delhi Capitals\"))\n",
    "\n",
    "head(dc_bat)"
   ]
  },
  {
   "cell_type": "code",
   "execution_count": null,
   "metadata": {},
   "outputs": [],
   "source": [
    "# function to calculate balls taken to score the given runs\n",
    "get_balls_for_runs = function(df, runs){\n",
    "    \n",
    "    # empty list to store the number of balls\n",
    "    num_balls = numeric()\n",
    "    \n",
    "    # iterating over all the matches\n",
    "    for (m_id in unique(df$match_id)){\n",
    "        \n",
    "        # getting the record of one match using the match id\n",
    "        data = subset(df, (match_id == m_id))\n",
    "        \n",
    "        # calculating cumulative sum of the score\n",
    "        cumsum = cumsum(data$total_runs)\n",
    "        \n",
    "        # finding the index position of the ball on which the score of runs is crossed\n",
    "        end_pos = which.max(data.frame(cumsum >= runs)$cumsum....runs)\n",
    "        \n",
    "        # dataframe which stores the details of the balls below the score of 100\n",
    "        balls_taken_df = data[1:end_pos, ]\n",
    "        \n",
    "        # total balls taken\n",
    "        total_balls = nrow(balls_taken_df)\n",
    "        # extra balls like wide, no ball, etc. \n",
    "        extra_balls = nrow(subset(balls_taken_df, (extra_runs != 0)))\n",
    "        \n",
    "        # final number of balls\n",
    "        final_balls = total_balls - extra_balls\n",
    "        num_balls = c(num_balls, final_balls)\n",
    "        \n",
    "        # removing the cases where the score of given runs was not crossed\n",
    "        final = num_balls[num_balls>1]\n",
    "        \n",
    "        \n",
    "    }\n",
    "    # returning the result\n",
    "    return (final)\n",
    "}"
   ]
  },
  {
   "cell_type": "code",
   "execution_count": null,
   "metadata": {},
   "outputs": [],
   "source": [
    "# balls taken to score a 30 considering all the matches of DC\n",
    "num_30 = get_balls_for_runs(dc_bat, 30)\n",
    "\n",
    "summary(num_30)\n",
    "\n",
    "# balls taken to score a 50 considering all the matches of DC\n",
    "num_50 = get_balls_for_runs(dc_bat, 50)\n",
    "\n",
    "summary(num_50)"
   ]
  },
  {
   "cell_type": "code",
   "execution_count": null,
   "metadata": {},
   "outputs": [],
   "source": [
    "# balls taken to score a 30 considering all the matches of SRH\n",
    "num_30 = get_balls_for_runs(srh_bat, 30)\n",
    "\n",
    "summary(num_30)\n",
    "\n",
    "# balls taken to score a 50 considering all the matches of SRH\n",
    "num_50 = get_balls_for_runs(srh_bat, 50)\n",
    "\n",
    "summary(num_50)"
   ]
  },
  {
   "cell_type": "code",
   "execution_count": null,
   "metadata": {},
   "outputs": [],
   "source": [
    "# all deliveries in SRH vs DC matches\n",
    "srh_dc_deli = subset(deli, (bowling_team %in% teams & batting_team %in% teams))\n",
    "\n",
    "head(srh_dc_deli)"
   ]
  },
  {
   "cell_type": "code",
   "execution_count": null,
   "metadata": {},
   "outputs": [],
   "source": [
    "# all deliveries faced by DC against SRH\n",
    "dc_bat_srh = subset(srh_dc_deli, batting_team %in% c(\"Delhi Daredevils\", \"Delhi Capitals\") )\n",
    "\n",
    "# balls taken to score a 30 considering all the matches of DC against SRH\n",
    "num_30 = get_balls_for_runs(dc_bat_srh, 30)\n",
    "\n",
    "summary(num_30)\n",
    "\n",
    "# balls taken to score a 50 considering all the matches of DC against SRH\n",
    "num_50 = get_balls_for_runs(dc_bat_srh, 50)\n",
    "\n",
    "summary(num_50)"
   ]
  },
  {
   "cell_type": "code",
   "execution_count": null,
   "metadata": {},
   "outputs": [],
   "source": [
    "# all deliveries faced by SRH against DC\n",
    "srh_bat_dc = subset(srh_dc_deli, batting_team %in% c('Sunrisers Hyderabad', 'Deccan Chargers'))\n",
    "\n",
    "# balls taken to score a 30 considering all the matches of SRH against DC\n",
    "num_30 = get_balls_for_runs(srh_bat_dc, 30)\n",
    "\n",
    "summary(num_30)\n",
    "\n",
    "# balls taken to score a 50 considering all the matches of SRH against DC\n",
    "num_50 = get_balls_for_runs(srh_bat_dc, 50)\n",
    "\n",
    "summary(num_50)"
   ]
  },
  {
   "cell_type": "markdown",
   "metadata": {},
   "source": [
    "# Question 3:"
   ]
  },
  {
   "cell_type": "code",
   "execution_count": null,
   "metadata": {},
   "outputs": [],
   "source": [
    "# function to get the runs scored on the last 7 balls played by Warner\n",
    "get_runs = function(df){\n",
    "    \n",
    "    # filtering out the deliveries for Warner\n",
    "    data = subset(df, with(df, grepl('DA Warner', batsman)))\n",
    "    \n",
    "    # ids of all the matches that he has played\n",
    "    matches = unique(data$match_id)\n",
    "    \n",
    "    # variable to store the number of matches in which he did not play 7 balls\n",
    "    count = 0\n",
    "    # list to store the runs\n",
    "    runs_per_match = numeric()\n",
    "    \n",
    "    # iterating over the matches\n",
    "    for (m_id in matches){\n",
    "        # all deliveries played by Warner in that specific match\n",
    "        match_data = subset(data, match_id == m_id)\n",
    "        # if he plays less than 7 balls, increase the value of the variable \"count\"\n",
    "        if (nrow(match_data) < 7){\n",
    "            count = count + 1\n",
    "            # otherwise, calculate the sum of runs on the last 7 balls he played\n",
    "        } else {\n",
    "            runs = sum(tail(match_data, 7)$batsman_runs)    # filtering the last 7 balls and calculating the sum\n",
    "            runs_per_match = c(runs_per_match, runs)        # adding to the plist\n",
    "        }\n",
    "    }\n",
    "    # printing the results\n",
    "    print(\"Total number of matches\")\n",
    "    print(length(matches))\n",
    "    print(\"Number of matches in which he did not play 7 or more balls\")\n",
    "    print(count)\n",
    "    # returning the results\n",
    "    return (runs_per_match)\n",
    "}"
   ]
  },
  {
   "cell_type": "code",
   "execution_count": null,
   "metadata": {},
   "outputs": [],
   "source": [
    "# getting the runs scored by Warner in IPL history\n",
    "runs = get_runs(deli)\n",
    "\n",
    "# histogram\n",
    "hist(runs, freq=TRUE, breaks=c(0, 8, 13, 17, max(runs)))"
   ]
  },
  {
   "cell_type": "code",
   "execution_count": null,
   "metadata": {},
   "outputs": [],
   "source": [
    "# getting the runs scored by Warner in IPL 2019\n",
    "runs_19 = get_runs(subset(deli, match_id > 11000))\n",
    "\n",
    "# histogram\n",
    "hist(runs_19, freq=TRUE, breaks=c(0, 8, 13, 17, max(runs_19)))"
   ]
  },
  {
   "cell_type": "code",
   "execution_count": null,
   "metadata": {},
   "outputs": [],
   "source": [
    "# getting the runs scored by Warner against DC\n",
    "runs_dc = get_runs(subset(deli, batting_team %in% c(\"Delhi Daredevils\", \"Delhi Capitals\")))\n",
    "\n",
    "# histogram\n",
    "hist(runs_dc, freq=TRUE, breaks=c(0, 8, 13, 17, max(runs_dc)))"
   ]
  },
  {
   "cell_type": "markdown",
   "metadata": {},
   "source": [
    "# Question 4:"
   ]
  },
  {
   "cell_type": "code",
   "execution_count": null,
   "metadata": {},
   "outputs": [],
   "source": [
    "# batsmen playing today's match\n",
    "batsmen = c('DA Warner', 'WP Saha', 'MK Pandey', 'KS Williamson', 'JO Holder',\n",
    "           'S Dhawan', 'AM Rahane', 'SS Iyer', 'RR Pant', 'S Hetmyer', 'P Shaw', 'MP Stoinis')"
   ]
  },
  {
   "cell_type": "code",
   "execution_count": null,
   "metadata": {},
   "outputs": [],
   "source": [
    "# function to get the boundaries\n",
    "get_boundaries = function(bname, df){\n",
    "    # filtering out the deliveries for each batsman\n",
    "    data = subset(df, with(df, grepl(bname, batsman)))\n",
    "    # 4s hit\n",
    "    runs_4 = subset(data, batsman_runs == 4) %>% group_by(match_id) %>% summarise(runs_4 = n())\n",
    "    # 6s hit\n",
    "    runs_6 = subset(data, batsman_runs == 6) %>% group_by(match_id) %>% summarise(runs_6 = n())\n",
    "    # merging the dataframes\n",
    "    boundaries = merge(runs_4, runs_6, all=TRUE)\n",
    "    # filling the null values with 0\n",
    "    boundaries[is.na(boundaries)] = 0\n",
    "    # finding out the total number of boundaries\n",
    "    boundaries$boundaries = boundaries$runs_4 + boundaries$runs_6\n",
    "    \n",
    "    # returning the results\n",
    "    return(summary(boundaries$boundaries))\n",
    "}"
   ]
  },
  {
   "cell_type": "markdown",
   "metadata": {},
   "source": [
    "## Performance of the batsmen in IPL history"
   ]
  },
  {
   "cell_type": "code",
   "execution_count": null,
   "metadata": {},
   "outputs": [],
   "source": [
    "# for loop to iterate over the batsman names\n",
    "for (b_name in batsmen){\n",
    "    # print batsman name\n",
    "    print(b_name)\n",
    "    # printing the statistical measures \n",
    "    print(get_boundaries(b_name, deli))\n",
    "}"
   ]
  },
  {
   "cell_type": "markdown",
   "metadata": {},
   "source": [
    "## Performance of the batsmen in IPL 2019"
   ]
  },
  {
   "cell_type": "code",
   "execution_count": null,
   "metadata": {},
   "outputs": [],
   "source": [
    "# for loop to iterate over the batsman names\n",
    "for (b_name in batsmen){\n",
    "    # print batsman name\n",
    "    print(b_name)\n",
    "    # printing the statistical measures \n",
    "    print(get_boundaries(b_name, subset(deli, match_id > 11000)))\n",
    "}"
   ]
  },
  {
   "cell_type": "markdown",
   "metadata": {},
   "source": [
    "# Question 5:"
   ]
  },
  {
   "cell_type": "code",
   "execution_count": null,
   "metadata": {},
   "outputs": [],
   "source": [
    "# all deliveries bowled by Rashid Khan\n",
    "rashid = subset(deli, with(deli, grepl(\"Rashid Khan\", bowler)) )\n",
    "\n",
    "head(rashid)"
   ]
  },
  {
   "cell_type": "code",
   "execution_count": null,
   "metadata": {},
   "outputs": [],
   "source": [
    "# wickets taken by Rashid in each match\n",
    "wickets = subset(rashid, player_dismissed != '') %>% group_by(match_id) %>% summarise(num_wickets = n())\n",
    "\n",
    "head(wickets)"
   ]
  },
  {
   "cell_type": "code",
   "execution_count": null,
   "metadata": {},
   "outputs": [],
   "source": [
    "# total matches Rashid has played in IPL\n",
    "length(unique(rashid$match_id))\n",
    "\n",
    "# number of matches in which he could not take a wicket\n",
    "length(unique(rashid$match_id)) - nrow(wickets)"
   ]
  },
  {
   "cell_type": "code",
   "execution_count": null,
   "metadata": {},
   "outputs": [],
   "source": [
    "# frequency table of wickets\n",
    "table(wickets$num_wickets)"
   ]
  },
  {
   "cell_type": "code",
   "execution_count": null,
   "metadata": {},
   "outputs": [],
   "source": [
    "# wickets taken by Rashid in each match in IPL 2019\n",
    "wickets_2019 = subset(rashid, match_id>11000 & player_dismissed != '') %>% group_by(match_id) %>% summarise(num_wickets = n())"
   ]
  },
  {
   "cell_type": "code",
   "execution_count": null,
   "metadata": {},
   "outputs": [],
   "source": [
    "# total matches Rashid has played in IPL 2019\n",
    "length(unique(subset(rashid, match_id>11000)$match_id))\n",
    "\n",
    "# number of matches in which he could not take a wicket\n",
    "length(unique(subset(rashid, match_id>11000)$match_id)) - nrow(wickets_2019)"
   ]
  },
  {
   "cell_type": "code",
   "execution_count": null,
   "metadata": {},
   "outputs": [],
   "source": [
    "# frequency table of wickets\n",
    "table(wickets_2019$num_wickets)"
   ]
  },
  {
   "cell_type": "code",
   "execution_count": null,
   "metadata": {},
   "outputs": [],
   "source": [
    "# wickets taken by Rashid in each match against DC\n",
    "wickets_dc = subset(rashid, batting_team %in% c(\"Delhi Daredevils\", \"Delhi Capitals\") & player_dismissed != '') %>% group_by(match_id) %>% summarise(num_wickets = n())"
   ]
  },
  {
   "cell_type": "code",
   "execution_count": null,
   "metadata": {},
   "outputs": [],
   "source": [
    "# total matches Rashid has played against DC\n",
    "length(unique(subset(rashid, batting_team %in% c(\"Delhi Daredevils\", \"Delhi Capitals\"))$match_id))\n",
    "\n",
    "# number of matches in which he could not take a wicket\n",
    "length(unique(subset(rashid, batting_team %in% c(\"Delhi Daredevils\", \"Delhi Capitals\"))$match_id)) - nrow(wickets_dc)"
   ]
  },
  {
   "cell_type": "code",
   "execution_count": null,
   "metadata": {},
   "outputs": [],
   "source": [
    "# frequency table of wickets\n",
    "table(wickets_dc$num_wickets)"
   ]
  }
 ],
 "metadata": {
  "kernelspec": {
   "display_name": "R",
   "language": "R",
   "name": "ir"
  },
  "language_info": {
   "codemirror_mode": "r",
   "file_extension": ".r",
   "mimetype": "text/x-r-source",
   "name": "R",
   "pygments_lexer": "r",
   "version": "3.5.1"
  }
 },
 "nbformat": 4,
 "nbformat_minor": 4
}
