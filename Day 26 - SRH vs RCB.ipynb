{
 "cells": [
  {
   "cell_type": "code",
   "execution_count": null,
   "metadata": {},
   "outputs": [],
   "source": [
    "# import library\n",
    "library(dplyr)"
   ]
  },
  {
   "cell_type": "code",
   "execution_count": null,
   "metadata": {},
   "outputs": [],
   "source": [
    "# read datasets\n",
    "matches = read.csv(\"matches.csv\")\n",
    "deli = read.csv(\"deliveries.csv\")"
   ]
  },
  {
   "cell_type": "markdown",
   "metadata": {},
   "source": [
    "# Question 1:"
   ]
  },
  {
   "cell_type": "code",
   "execution_count": null,
   "metadata": {},
   "outputs": [],
   "source": [
    "# teams playing today's match\n",
    "teams = c(\"Sunrisers Hyderabad\", \"Deccan Chargers\", \"Royal Challengers Bangalore\")"
   ]
  },
  {
   "cell_type": "code",
   "execution_count": null,
   "metadata": {},
   "outputs": [],
   "source": [
    "# all matches between SRH and RCB\n",
    "srh_rcb = subset(matches, (team1 %in% teams & team2 %in% teams))\n",
    "\n",
    "head(srh_rcb)"
   ]
  },
  {
   "cell_type": "code",
   "execution_count": null,
   "metadata": {},
   "outputs": [],
   "source": [
    "srh_rcb$winner"
   ]
  },
  {
   "cell_type": "code",
   "execution_count": null,
   "metadata": {},
   "outputs": [],
   "source": [
    "# victories of the teams against each other\n",
    "count(srh_rcb, winner)"
   ]
  },
  {
   "cell_type": "code",
   "execution_count": null,
   "metadata": {},
   "outputs": [],
   "source": [
    "# matches of SRH\n",
    "srh = subset(matches, (team1 %in% c('Sunrisers Hyderabad', 'Deccan Chargers')| team2 %in% c('Sunrisers Hyderabad', 'Deccan Chargers')))"
   ]
  },
  {
   "cell_type": "code",
   "execution_count": null,
   "metadata": {},
   "outputs": [],
   "source": [
    "# total no. of matches played by SRH\n",
    "nrow(srh)"
   ]
  },
  {
   "cell_type": "code",
   "execution_count": null,
   "metadata": {},
   "outputs": [],
   "source": [
    "# winners in those matches\n",
    "count(srh, winner)"
   ]
  },
  {
   "cell_type": "code",
   "execution_count": null,
   "metadata": {},
   "outputs": [],
   "source": [
    "# win ratio of SRH\n",
    "(58+29)/183"
   ]
  },
  {
   "cell_type": "code",
   "execution_count": null,
   "metadata": {},
   "outputs": [],
   "source": [
    "# matches of RCB\n",
    "rcb = subset(matches, (team1 == 'Royal Challengers Bangalore'| team2 == 'Royal Challengers Bangalore'))"
   ]
  },
  {
   "cell_type": "code",
   "execution_count": null,
   "metadata": {},
   "outputs": [],
   "source": [
    "# total no. of matches played by RCB\n",
    "nrow(rcb)"
   ]
  },
  {
   "cell_type": "code",
   "execution_count": null,
   "metadata": {},
   "outputs": [],
   "source": [
    "# winners in those matches\n",
    "count(rcb, winner)"
   ]
  },
  {
   "cell_type": "code",
   "execution_count": null,
   "metadata": {},
   "outputs": [],
   "source": [
    "# win ratio of RCB\n",
    "84/180"
   ]
  },
  {
   "cell_type": "markdown",
   "metadata": {},
   "source": [
    "# Question 2:"
   ]
  },
  {
   "cell_type": "code",
   "execution_count": null,
   "metadata": {},
   "outputs": [],
   "source": [
    "# all deliveries bowled by Sandeep Sharma\n",
    "sandeep = subset(deli, with(deli, grepl('Sandeep Sharma', bowler)))"
   ]
  },
  {
   "cell_type": "code",
   "execution_count": null,
   "metadata": {},
   "outputs": [],
   "source": [
    "#runs given by him per match\n",
    "runs = sandeep %>%  group_by(match_id) %>% summarise(runs=sum(wide_runs, noball_runs, batsman_runs))"
   ]
  },
  {
   "cell_type": "code",
   "execution_count": null,
   "metadata": {},
   "outputs": [],
   "source": [
    "# overs bowled by him per match\n",
    "overs = sandeep %>%  group_by(match_id) %>% summarise(overs=length(unique(over)))"
   ]
  },
  {
   "cell_type": "code",
   "execution_count": null,
   "metadata": {},
   "outputs": [],
   "source": [
    "# merging the dataframes\n",
    "df = merge(runs, overs)\n",
    "\n",
    "# calculating the economy\n",
    "df$economy = df$runs/df$overs"
   ]
  },
  {
   "cell_type": "code",
   "execution_count": null,
   "metadata": {},
   "outputs": [],
   "source": [
    "# histogram\n",
    "hist(df$economy, freq=TRUE, breaks=c(0, 7.5, max(df$economy)))"
   ]
  },
  {
   "cell_type": "code",
   "execution_count": null,
   "metadata": {},
   "outputs": [],
   "source": [
    "# boundaries given by him per match\n",
    "boundaries = subset(sandeep, batsman_runs %in% c(4, 6)) %>%  group_by(match_id) %>% summarise(boundaries=n())\n",
    "\n",
    "# histogram\n",
    "hist(boundaries$boundaries, freq=TRUE, breaks=c(0, 4, max(boundaries$boundaries)))"
   ]
  },
  {
   "cell_type": "code",
   "execution_count": null,
   "metadata": {},
   "outputs": [],
   "source": [
    "# all matches he has played against RCB\n",
    "rcb_match_ids = unique(subset(sandeep, batting_team=='Royal Challengers Bangalore')$match_id)"
   ]
  },
  {
   "cell_type": "code",
   "execution_count": null,
   "metadata": {},
   "outputs": [],
   "source": [
    "# economy against RCB\n",
    "subset(df, match_id %in% rcb_match_ids)"
   ]
  },
  {
   "cell_type": "code",
   "execution_count": null,
   "metadata": {},
   "outputs": [],
   "source": [
    "# boundaries against RCB\n",
    "subset(boundaries, match_id %in% rcb_match_ids)"
   ]
  },
  {
   "cell_type": "markdown",
   "metadata": {},
   "source": [
    "# Question 3:"
   ]
  },
  {
   "cell_type": "code",
   "execution_count": null,
   "metadata": {},
   "outputs": [],
   "source": [
    "# batsmen playing today's match\n",
    "batsmen = c('V Kohli', 'AB de Villiers', 'Gurkeerat Singh', 'CH Morris', 'Washington Sundar',\n",
    "           'DA Warner', 'WP Saha', 'J Bairstow', 'MK Pandey', 'KS Williamson', 'JO Holder')"
   ]
  },
  {
   "cell_type": "code",
   "execution_count": null,
   "metadata": {},
   "outputs": [],
   "source": [
    "# function to get batting details\n",
    "get_batting_info = function(bname, df){\n",
    "    \n",
    "    # filtering out the deliveries for each batsman\n",
    "    data = subset(df, with(df, grepl(bname, batsman)))\n",
    "    \n",
    "    # runs scored per match\n",
    "    runs_per_match = data %>% group_by(match_id) %>% summarise(runs = sum(batsman_runs))\n",
    "    # balls faced per match\n",
    "    balls_per_match = subset(data, extra_runs==0) %>% group_by(match_id) %>% summarise(balls = n())\n",
    "    # merging the dataframes\n",
    "    sr = merge(runs_per_match, balls_per_match)\n",
    "    # calculating the strike rate\n",
    "    sr$strike_rate = (sr$runs/sr$balls)*100\n",
    "   \n",
    "    # 4s hit\n",
    "    runs_4 = subset(data, batsman_runs == 4) %>% group_by(match_id) %>% summarise(runs_4 = n())\n",
    "    # 6s hit\n",
    "    runs_6 = subset(data, batsman_runs == 6) %>% group_by(match_id) %>% summarise(runs_6 = n())\n",
    "    # merging the dataframes\n",
    "    boundaries = merge(runs_4, runs_6)\n",
    "    \n",
    "    # final dataframe\n",
    "    final = merge(sr, boundaries)\n",
    "    # finding out the total number of boundaries\n",
    "    final$boundaries = final$runs_4 + final$runs_6\n",
    "    # returning the result\n",
    "    return (summary(final[, c('strike_rate', 'runs_4', 'boundaries')]))\n",
    "}"
   ]
  },
  {
   "cell_type": "markdown",
   "metadata": {},
   "source": [
    "## Performance of the batsmen in IPL"
   ]
  },
  {
   "cell_type": "code",
   "execution_count": null,
   "metadata": {},
   "outputs": [],
   "source": [
    "# for loop to iterate over the batsman names\n",
    "for (b_name in batsmen){\n",
    "    # print batsman name\n",
    "    print(b_name)\n",
    "    # printing the statistical measures \n",
    "    print(get_batting_info(b_name, deli))\n",
    "}"
   ]
  },
  {
   "cell_type": "markdown",
   "metadata": {},
   "source": [
    "## Performance of the batsmen in IPL 2019"
   ]
  },
  {
   "cell_type": "code",
   "execution_count": null,
   "metadata": {},
   "outputs": [],
   "source": [
    "# for loop to iterate over the batsman names\n",
    "for (b_name in batsmen){\n",
    "    # print batsman name\n",
    "    print(b_name)\n",
    "    # printing the statistical measures \n",
    "    print(get_batting_info(b_name, subset(deli, match_id > 11000)))\n",
    "}"
   ]
  },
  {
   "cell_type": "markdown",
   "metadata": {},
   "source": [
    "# Question 4:"
   ]
  },
  {
   "cell_type": "code",
   "execution_count": null,
   "metadata": {},
   "outputs": [],
   "source": [
    "# function to get ratio for the batsman\n",
    "get_ratio = function(bname, df){\n",
    "    # deliveries faced  by the batsman\n",
    "    data = subset(df, with(df, grepl(bname, batsman)))\n",
    "    \n",
    "    # runs scored in 1s, 2s and 3s per match by the batsman\n",
    "    runs_123 = subset(data, batsman_runs %in% c(1, 2, 3)) %>% group_by(match_id) %>% summarise(runs123 = sum(batsman_runs))\n",
    "    # runs scored in boundaries per match by the batsman\n",
    "    runs_boundaries = subset(data, batsman_runs %in% c(4, 6)) %>% group_by(match_id) %>% summarise(runs_b = sum(batsman_runs))\n",
    "    # merging the dataframes\n",
    "    runs = merge(runs_123, runs_boundaries, all=TRUE)\n",
    "    # filling the null values with 0\n",
    "    runs[is.na(runs)] = 0\n",
    "    \n",
    "    # balls faced per match\n",
    "    balls_per_match = data %>% group_by(match_id) %>% summarise(balls = n())\n",
    "    \n",
    "    # merging the dataframes\n",
    "    tmp = merge(runs, balls_per_match, all=TRUE)\n",
    "    # filling the null values with 0\n",
    "    tmp[is.na(tmp)] = 0\n",
    "    \n",
    "    # runs scored per match\n",
    "    runs_per_match = data %>% group_by(match_id) %>% summarise(runs = sum(batsman_runs))\n",
    "    \n",
    "    # merging to create the final dataframe\n",
    "    result = merge(runs_per_match, tmp, all=TRUE)\n",
    "    # filling the null values with 0\n",
    "    result[is.na(result)] = 0\n",
    "    # filtering out the matches in which the batsman scored less than 15 runs\n",
    "    result = subset(result, balls>10)\n",
    "    \n",
    "    # calculating the ratio\n",
    "    result$ratio = (result$runs_b - result$runs123)/result$runs\n",
    "    # returning the median measure\n",
    "    return (summary(result$ratio))\n",
    "}"
   ]
  },
  {
   "cell_type": "markdown",
   "metadata": {},
   "source": [
    "## Performance of the batsmen in IPL"
   ]
  },
  {
   "cell_type": "code",
   "execution_count": null,
   "metadata": {},
   "outputs": [],
   "source": [
    "# for loop to iterate over the batsman names\n",
    "for (b_name in batsmen){\n",
    "    # print batsman name\n",
    "    print(b_name)\n",
    "    # printing the statistical measures \n",
    "    print(get_ratio(b_name, deli))\n",
    "}"
   ]
  },
  {
   "cell_type": "markdown",
   "metadata": {},
   "source": [
    "## Performance of the batsmen in IPL 2019"
   ]
  },
  {
   "cell_type": "code",
   "execution_count": null,
   "metadata": {},
   "outputs": [],
   "source": [
    "# for loop to iterate over the batsman names\n",
    "for (b_name in batsmen){\n",
    "    # print batsman name\n",
    "    print(b_name)\n",
    "    # printing the statistical measures \n",
    "    print(get_ratio(b_name, subset(deli, match_id > 11000)))\n",
    "}"
   ]
  },
  {
   "cell_type": "markdown",
   "metadata": {},
   "source": [
    "# Question 5"
   ]
  },
  {
   "cell_type": "code",
   "execution_count": null,
   "metadata": {},
   "outputs": [],
   "source": [
    "# total wickets taken in each IPL match in the powerplay overs\n",
    "total_wickets = subset(deli, (player_dismissed != '') & (over %in% seq(1, 6, 1))) %>% group_by(match_id) %>% summarise(wickets = n())\n",
    "\n",
    "head(total_wickets)"
   ]
  },
  {
   "cell_type": "code",
   "execution_count": null,
   "metadata": {},
   "outputs": [],
   "source": [
    "# histogram\n",
    "hist(total_wickets$wickets, freq=TRUE, breaks=c(0, 2, 3, 5, 6, max(total_wickets$wickets)))"
   ]
  },
  {
   "cell_type": "code",
   "execution_count": null,
   "metadata": {},
   "outputs": [],
   "source": [
    "# all deliveries in SRH vs RCB matches\n",
    "srh_rcb_deli = subset(deli, (bowling_team %in% teams & batting_team %in% teams))\n",
    "\n",
    "head(srh_rcb_deli)"
   ]
  },
  {
   "cell_type": "code",
   "execution_count": null,
   "metadata": {},
   "outputs": [],
   "source": [
    "# total wickets taken in SRH vs RCB matches in the powerplay overs\n",
    "wickets_srh_rcb = subset(srh_rcb_deli, (player_dismissed != '') & (over %in% seq(1, 6, 1))) %>% group_by(match_id) %>% summarise(wickets = n())\n",
    "\n",
    "# histogram\n",
    "hist(wickets_srh_rcb$wickets, freq=TRUE, breaks=c(0, 2, 3, 5, 6, max(wickets_srh_rcb$wickets)))"
   ]
  },
  {
   "cell_type": "code",
   "execution_count": null,
   "metadata": {},
   "outputs": [],
   "source": [
    "# all deliveries faced by RCB\n",
    "rcb_bat = subset(deli, batting_team == 'Royal Challengers Bangalore')\n",
    "\n",
    "# total wickets lost by RCB in each match in the powerplay overs\n",
    "wickets_rcb = subset(rcb_bat, (player_dismissed != '') & (over %in% seq(1, 6, 1))) %>% group_by(match_id) %>% summarise(wickets = n())\n",
    "\n",
    "#statistical measures\n",
    "summary(wickets_rcb$wickets)"
   ]
  },
  {
   "cell_type": "code",
   "execution_count": null,
   "metadata": {},
   "outputs": [],
   "source": [
    "# all deliveries faced by SRH\n",
    "srh_bat = subset(deli, batting_team %in% c('Deccan Chargers', 'Sunrisers Hyderabad'))\n",
    "\n",
    "# total wickets lost by SRH in each match in the powerplay overs\n",
    "wickets_srh = subset(srh_bat, (player_dismissed != '') & (over %in% seq(1, 6, 1))) %>% group_by(match_id) %>% summarise(wickets = n())\n",
    "\n",
    "#statistical measures\n",
    "summary(wickets_srh$wickets)"
   ]
  }
 ],
 "metadata": {
  "kernelspec": {
   "display_name": "R",
   "language": "R",
   "name": "ir"
  },
  "language_info": {
   "codemirror_mode": "r",
   "file_extension": ".r",
   "mimetype": "text/x-r-source",
   "name": "R",
   "pygments_lexer": "r",
   "version": "3.5.1"
  }
 },
 "nbformat": 4,
 "nbformat_minor": 4
}
