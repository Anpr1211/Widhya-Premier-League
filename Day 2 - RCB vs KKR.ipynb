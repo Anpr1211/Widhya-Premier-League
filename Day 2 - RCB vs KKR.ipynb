{
 "cells": [
  {
   "cell_type": "code",
   "execution_count": 1,
   "metadata": {},
   "outputs": [],
   "source": [
    "# import libraries\n",
    "import pandas as pd"
   ]
  },
  {
   "cell_type": "code",
   "execution_count": 2,
   "metadata": {},
   "outputs": [],
   "source": [
    "# read datasets\n",
    "matches = pd.read_csv(\"matches.csv\")\n",
    "deli = pd.read_csv(\"deliveries.csv\")"
   ]
  },
  {
   "cell_type": "markdown",
   "metadata": {},
   "source": [
    "Today's match between KKR and RCB is going to take place at the venue of Sharjah. Sharjah is a small high scoring ground, similar to the home ground of RCB, M. Chinnaswamy Stadium. Owing to this fact, the analysis has also taken the performances of the two teams at M. Chinnaswamy Stadium into consideration."
   ]
  },
  {
   "cell_type": "markdown",
   "metadata": {},
   "source": [
    "# Question 1:"
   ]
  },
  {
   "cell_type": "code",
   "execution_count": 4,
   "metadata": {},
   "outputs": [],
   "source": [
    "# all matches between RCB and KKR\n",
    "rcb_kkr = matches.query(\"team1.isin(['Royal Challengers Bangalore', 'Kolkata Knight Riders']) and team2.isin(['Royal Challengers Bangalore', 'Kolkata Knight Riders'])\")"
   ]
  },
  {
   "cell_type": "code",
   "execution_count": 6,
   "metadata": {},
   "outputs": [
    {
     "data": {
      "text/plain": [
       "Kolkata Knight Riders          14\n",
       "Royal Challengers Bangalore    10\n",
       "Name: winner, dtype: int64"
      ]
     },
     "execution_count": 6,
     "metadata": {},
     "output_type": "execute_result"
    }
   ],
   "source": [
    "# victories of the two teams against each other \n",
    "rcb_kkr.winner.value_counts()"
   ]
  },
  {
   "cell_type": "markdown",
   "metadata": {},
   "source": [
    "KKR has had a history of more victories over RCB."
   ]
  },
  {
   "cell_type": "code",
   "execution_count": 46,
   "metadata": {},
   "outputs": [
    {
     "data": {
      "text/plain": [
       "Kolkata Knight Riders          5\n",
       "Royal Challengers Bangalore    4\n",
       "Name: winner, dtype: int64"
      ]
     },
     "execution_count": 46,
     "metadata": {},
     "output_type": "execute_result"
    }
   ],
   "source": [
    "# victories of the two teams against each other  at M Chinnaswamy Stadium\n",
    "rcb_kkr[rcb_kkr.venue == 'M Chinnaswamy Stadium'].winner.value_counts()"
   ]
  },
  {
   "cell_type": "markdown",
   "metadata": {},
   "source": [
    "Even at the home ground of RCB against it, KKR had witnessed more victories. "
   ]
  },
  {
   "cell_type": "code",
   "execution_count": 11,
   "metadata": {},
   "outputs": [],
   "source": [
    "# matches of RCB\n",
    "rcb = matches.query(\"team1 == 'Royal Challengers Bangalore' or team2 == 'Royal Challengers Bangalore'\")"
   ]
  },
  {
   "cell_type": "code",
   "execution_count": 13,
   "metadata": {},
   "outputs": [
    {
     "data": {
      "text/plain": [
       "0.4666666666666667"
      ]
     },
     "execution_count": 13,
     "metadata": {},
     "output_type": "execute_result"
    }
   ],
   "source": [
    "# RCB win ratio\n",
    "len(rcb[rcb.winner == \"Royal Challengers Bangalore\"])/len(rcb)"
   ]
  },
  {
   "cell_type": "code",
   "execution_count": 14,
   "metadata": {},
   "outputs": [],
   "source": [
    "# matches of KKR\n",
    "kkr = matches.query(\"team1 == 'Kolkata Knight Riders' or team2 == 'Kolkata Knight Riders'\")"
   ]
  },
  {
   "cell_type": "code",
   "execution_count": 15,
   "metadata": {},
   "outputs": [
    {
     "data": {
      "text/plain": [
       "0.5168539325842697"
      ]
     },
     "execution_count": 15,
     "metadata": {},
     "output_type": "execute_result"
    }
   ],
   "source": [
    "# KKR win ratio\n",
    "len(kkr[kkr.winner == \"Kolkata Knight Riders\"])/len(kkr)"
   ]
  },
  {
   "cell_type": "markdown",
   "metadata": {},
   "source": [
    "KKR has a higher ratio of wins compared to RCB."
   ]
  },
  {
   "cell_type": "code",
   "execution_count": 42,
   "metadata": {},
   "outputs": [
    {
     "data": {
      "text/html": [
       "<div>\n",
       "<style scoped>\n",
       "    .dataframe tbody tr th:only-of-type {\n",
       "        vertical-align: middle;\n",
       "    }\n",
       "\n",
       "    .dataframe tbody tr th {\n",
       "        vertical-align: top;\n",
       "    }\n",
       "\n",
       "    .dataframe thead th {\n",
       "        text-align: right;\n",
       "    }\n",
       "</style>\n",
       "<table border=\"1\" class=\"dataframe\">\n",
       "  <thead>\n",
       "    <tr style=\"text-align: right;\">\n",
       "      <th></th>\n",
       "      <th>id</th>\n",
       "      <th>season</th>\n",
       "      <th>city</th>\n",
       "      <th>date</th>\n",
       "      <th>team1</th>\n",
       "      <th>team2</th>\n",
       "      <th>toss_winner</th>\n",
       "      <th>toss_decision</th>\n",
       "      <th>result</th>\n",
       "      <th>dl_applied</th>\n",
       "      <th>winner</th>\n",
       "      <th>win_by_runs</th>\n",
       "      <th>win_by_wickets</th>\n",
       "      <th>player_of_match</th>\n",
       "      <th>venue</th>\n",
       "      <th>umpire1</th>\n",
       "      <th>umpire2</th>\n",
       "      <th>umpire3</th>\n",
       "    </tr>\n",
       "  </thead>\n",
       "  <tbody>\n",
       "    <tr>\n",
       "      <th>4</th>\n",
       "      <td>5</td>\n",
       "      <td>2017</td>\n",
       "      <td>Bangalore</td>\n",
       "      <td>2017-04-08</td>\n",
       "      <td>Royal Challengers Bangalore</td>\n",
       "      <td>Delhi Daredevils</td>\n",
       "      <td>Royal Challengers Bangalore</td>\n",
       "      <td>bat</td>\n",
       "      <td>normal</td>\n",
       "      <td>0</td>\n",
       "      <td>Royal Challengers Bangalore</td>\n",
       "      <td>15</td>\n",
       "      <td>0</td>\n",
       "      <td>KM Jadhav</td>\n",
       "      <td>M Chinnaswamy Stadium</td>\n",
       "      <td>NaN</td>\n",
       "      <td>NaN</td>\n",
       "      <td>NaN</td>\n",
       "    </tr>\n",
       "    <tr>\n",
       "      <th>11</th>\n",
       "      <td>12</td>\n",
       "      <td>2017</td>\n",
       "      <td>Bangalore</td>\n",
       "      <td>2017-04-14</td>\n",
       "      <td>Royal Challengers Bangalore</td>\n",
       "      <td>Mumbai Indians</td>\n",
       "      <td>Mumbai Indians</td>\n",
       "      <td>field</td>\n",
       "      <td>normal</td>\n",
       "      <td>0</td>\n",
       "      <td>Mumbai Indians</td>\n",
       "      <td>0</td>\n",
       "      <td>4</td>\n",
       "      <td>KA Pollard</td>\n",
       "      <td>M Chinnaswamy Stadium</td>\n",
       "      <td>KN Ananthapadmanabhan</td>\n",
       "      <td>AK Chaudhary</td>\n",
       "      <td>NaN</td>\n",
       "    </tr>\n",
       "    <tr>\n",
       "      <th>16</th>\n",
       "      <td>17</td>\n",
       "      <td>2017</td>\n",
       "      <td>Bangalore</td>\n",
       "      <td>2017-04-16</td>\n",
       "      <td>Rising Pune Supergiant</td>\n",
       "      <td>Royal Challengers Bangalore</td>\n",
       "      <td>Royal Challengers Bangalore</td>\n",
       "      <td>field</td>\n",
       "      <td>normal</td>\n",
       "      <td>0</td>\n",
       "      <td>Rising Pune Supergiant</td>\n",
       "      <td>27</td>\n",
       "      <td>0</td>\n",
       "      <td>BA Stokes</td>\n",
       "      <td>M Chinnaswamy Stadium</td>\n",
       "      <td>KN Ananthapadmanabhan</td>\n",
       "      <td>C Shamshuddin</td>\n",
       "      <td>NaN</td>\n",
       "    </tr>\n",
       "    <tr>\n",
       "      <th>29</th>\n",
       "      <td>30</td>\n",
       "      <td>2017</td>\n",
       "      <td>Bangalore</td>\n",
       "      <td>2017-04-27</td>\n",
       "      <td>Royal Challengers Bangalore</td>\n",
       "      <td>Gujarat Lions</td>\n",
       "      <td>Gujarat Lions</td>\n",
       "      <td>field</td>\n",
       "      <td>normal</td>\n",
       "      <td>0</td>\n",
       "      <td>Gujarat Lions</td>\n",
       "      <td>0</td>\n",
       "      <td>7</td>\n",
       "      <td>AJ Tye</td>\n",
       "      <td>M Chinnaswamy Stadium</td>\n",
       "      <td>AK Chaudhary</td>\n",
       "      <td>C Shamshuddin</td>\n",
       "      <td>NaN</td>\n",
       "    </tr>\n",
       "    <tr>\n",
       "      <th>41</th>\n",
       "      <td>42</td>\n",
       "      <td>2017</td>\n",
       "      <td>Bangalore</td>\n",
       "      <td>2017-05-05</td>\n",
       "      <td>Kings XI Punjab</td>\n",
       "      <td>Royal Challengers Bangalore</td>\n",
       "      <td>Royal Challengers Bangalore</td>\n",
       "      <td>field</td>\n",
       "      <td>normal</td>\n",
       "      <td>0</td>\n",
       "      <td>Kings XI Punjab</td>\n",
       "      <td>19</td>\n",
       "      <td>0</td>\n",
       "      <td>Sandeep Sharma</td>\n",
       "      <td>M Chinnaswamy Stadium</td>\n",
       "      <td>CB Gaffaney</td>\n",
       "      <td>C Shamshuddin</td>\n",
       "      <td>NaN</td>\n",
       "    </tr>\n",
       "  </tbody>\n",
       "</table>\n",
       "</div>"
      ],
      "text/plain": [
       "    id  season       city        date                        team1  \\\n",
       "4    5    2017  Bangalore  2017-04-08  Royal Challengers Bangalore   \n",
       "11  12    2017  Bangalore  2017-04-14  Royal Challengers Bangalore   \n",
       "16  17    2017  Bangalore  2017-04-16       Rising Pune Supergiant   \n",
       "29  30    2017  Bangalore  2017-04-27  Royal Challengers Bangalore   \n",
       "41  42    2017  Bangalore  2017-05-05              Kings XI Punjab   \n",
       "\n",
       "                          team2                  toss_winner toss_decision  \\\n",
       "4              Delhi Daredevils  Royal Challengers Bangalore           bat   \n",
       "11               Mumbai Indians               Mumbai Indians         field   \n",
       "16  Royal Challengers Bangalore  Royal Challengers Bangalore         field   \n",
       "29                Gujarat Lions                Gujarat Lions         field   \n",
       "41  Royal Challengers Bangalore  Royal Challengers Bangalore         field   \n",
       "\n",
       "    result  dl_applied                       winner  win_by_runs  \\\n",
       "4   normal           0  Royal Challengers Bangalore           15   \n",
       "11  normal           0               Mumbai Indians            0   \n",
       "16  normal           0       Rising Pune Supergiant           27   \n",
       "29  normal           0                Gujarat Lions            0   \n",
       "41  normal           0              Kings XI Punjab           19   \n",
       "\n",
       "    win_by_wickets player_of_match                  venue  \\\n",
       "4                0       KM Jadhav  M Chinnaswamy Stadium   \n",
       "11               4      KA Pollard  M Chinnaswamy Stadium   \n",
       "16               0       BA Stokes  M Chinnaswamy Stadium   \n",
       "29               7          AJ Tye  M Chinnaswamy Stadium   \n",
       "41               0  Sandeep Sharma  M Chinnaswamy Stadium   \n",
       "\n",
       "                  umpire1        umpire2 umpire3  \n",
       "4                     NaN            NaN     NaN  \n",
       "11  KN Ananthapadmanabhan   AK Chaudhary     NaN  \n",
       "16  KN Ananthapadmanabhan  C Shamshuddin     NaN  \n",
       "29           AK Chaudhary  C Shamshuddin     NaN  \n",
       "41            CB Gaffaney  C Shamshuddin     NaN  "
      ]
     },
     "execution_count": 42,
     "metadata": {},
     "output_type": "execute_result"
    }
   ],
   "source": [
    "# filtering on venue\n",
    "venue = matches[matches.venue == 'M Chinnaswamy Stadium']\n",
    "\n",
    "venue.head()"
   ]
  },
  {
   "cell_type": "code",
   "execution_count": 109,
   "metadata": {},
   "outputs": [
    {
     "data": {
      "text/plain": [
       "Royal Challengers Bangalore    34\n",
       "Mumbai Indians                  8\n",
       "Kolkata Knight Riders           7\n",
       "Chennai Super Kings             5\n",
       "Kings XI Punjab                 5\n",
       "Rajasthan Royals                4\n",
       "Delhi Daredevils                3\n",
       "Sunrisers Hyderabad             2\n",
       "Deccan Chargers                 1\n",
       "Gujarat Lions                   1\n",
       "Rising Pune Supergiant          1\n",
       "Name: winner, dtype: int64"
      ]
     },
     "execution_count": 109,
     "metadata": {},
     "output_type": "execute_result"
    }
   ],
   "source": [
    "# count of victories at M Chinnaswamy Stadium by the different teams\n",
    "venue.winner.value_counts()"
   ]
  },
  {
   "cell_type": "code",
   "execution_count": 106,
   "metadata": {},
   "outputs": [
    {
     "data": {
      "text/plain": [
       "69"
      ]
     },
     "execution_count": 106,
     "metadata": {},
     "output_type": "execute_result"
    }
   ],
   "source": [
    "# matches played by RCB at the M Chinnaswamy Stadium\n",
    "len(venue.query(\"team1 == 'Royal Challengers Bangalore' or team2 == 'Royal Challengers Bangalore'\"))"
   ]
  },
  {
   "cell_type": "code",
   "execution_count": 107,
   "metadata": {},
   "outputs": [
    {
     "data": {
      "text/plain": [
       "12"
      ]
     },
     "execution_count": 107,
     "metadata": {},
     "output_type": "execute_result"
    }
   ],
   "source": [
    "# matches played by KKR at the M Chinnaswamy Stadium\n",
    "len(venue.query(\"team1 == 'Kolkata Knight Riders' or team2 == 'Kolkata Knight Riders'\"))"
   ]
  },
  {
   "cell_type": "code",
   "execution_count": 108,
   "metadata": {},
   "outputs": [
    {
     "name": "stdout",
     "output_type": "stream",
     "text": [
      "0.4927536231884058\n",
      "0.5833333333333334\n"
     ]
    }
   ],
   "source": [
    "# win ratio of RCB at M Chinnaswamy Stadium\n",
    "print(34/69)\n",
    "\n",
    "# win ratio of KKR at M Chinnaswamy Stadium\n",
    "print(7/12)"
   ]
  },
  {
   "cell_type": "markdown",
   "metadata": {},
   "source": [
    "Even at M Chinnaswamy Stadium, KKR has managed to maintain a higher win ratio than RCB."
   ]
  },
  {
   "cell_type": "markdown",
   "metadata": {},
   "source": [
    "## Explanation:\n",
    "\n",
    "In 24 head-to-head matches between RCB and KKR, KKR has won a higher number of times than RCB. RCB's win percentage over the 12 years of IPL history is also less than that of KKR, even at the M Chinnaswamy Stadium. Currently, the teams hold the 3rd and 4th positions on the points table with equal number of victories and also come off a victorious last match. KKr has a higher Net Run Rate than RCB.\n",
    "\n",
    "It seems that KKR has always had an upper hand over RCB, and hence, it can be expected that KKR will win today's match.\n",
    "\n"
   ]
  },
  {
   "cell_type": "markdown",
   "metadata": {},
   "source": [
    "# Question 2:"
   ]
  },
  {
   "cell_type": "markdown",
   "metadata": {},
   "source": [
    "Toss decisions mainly depend on the conditions of the venue that the match is being played at. "
   ]
  },
  {
   "cell_type": "code",
   "execution_count": 35,
   "metadata": {},
   "outputs": [
    {
     "data": {
      "text/plain": [
       "field    64\n",
       "bat       9\n",
       "Name: toss_decision, dtype: int64"
      ]
     },
     "execution_count": 35,
     "metadata": {},
     "output_type": "execute_result"
    }
   ],
   "source": [
    "# toss decisions at M Chinnaswamy Stadium\n",
    "venue.toss_decision.value_counts()"
   ]
  },
  {
   "cell_type": "markdown",
   "metadata": {},
   "source": [
    "The toss winning captain has chosen to bowl first almost 90% of the times."
   ]
  },
  {
   "cell_type": "code",
   "execution_count": 38,
   "metadata": {},
   "outputs": [
    {
     "data": {
      "text/plain": [
       "field    36\n",
       "bat       4\n",
       "Name: toss_decision, dtype: int64"
      ]
     },
     "execution_count": 38,
     "metadata": {},
     "output_type": "execute_result"
    }
   ],
   "source": [
    "# when the toss winning team also won the match\n",
    "venue[venue.toss_winner == venue.winner].toss_decision.value_counts()"
   ]
  },
  {
   "cell_type": "code",
   "execution_count": 110,
   "metadata": {},
   "outputs": [
    {
     "data": {
      "text/plain": [
       "0.5625"
      ]
     },
     "execution_count": 110,
     "metadata": {},
     "output_type": "execute_result"
    }
   ],
   "source": [
    "# No. of times a decision of bowling first led to a victory\n",
    "36/64"
   ]
  },
  {
   "cell_type": "code",
   "execution_count": 111,
   "metadata": {},
   "outputs": [
    {
     "data": {
      "text/plain": [
       "0.4444444444444444"
      ]
     },
     "execution_count": 111,
     "metadata": {},
     "output_type": "execute_result"
    }
   ],
   "source": [
    "# No. of times a decision of batting first led to a victory\n",
    "4/9"
   ]
  },
  {
   "cell_type": "markdown",
   "metadata": {},
   "source": [
    "## Explanation: \n",
    "\n",
    "Since the teams prefer to bowl first on winning the toss at M. Chinnaswamy Stadium and it has even lead to a victory in more than half of the cases, it can be suggested that the toss winning captain at Sharjah will choose to bowl first."
   ]
  },
  {
   "cell_type": "markdown",
   "metadata": {},
   "source": [
    "# Question 3:"
   ]
  },
  {
   "cell_type": "code",
   "execution_count": 48,
   "metadata": {},
   "outputs": [],
   "source": [
    "# filtering for Dinesh Karthik\n",
    "karthik = deli[deli.batsman == \"KD Karthik\"]"
   ]
  },
  {
   "cell_type": "code",
   "execution_count": 51,
   "metadata": {},
   "outputs": [
    {
     "data": {
      "text/plain": [
       "23.790123456790123"
      ]
     },
     "execution_count": 51,
     "metadata": {},
     "output_type": "execute_result"
    }
   ],
   "source": [
    "# average no. of runs scored by Karthik in IPL history\n",
    "karthik.total_runs.sum()/len(karthik.match_id.unique())"
   ]
  },
  {
   "cell_type": "code",
   "execution_count": 56,
   "metadata": {},
   "outputs": [
    {
     "data": {
      "text/plain": [
       "21.95"
      ]
     },
     "execution_count": 56,
     "metadata": {},
     "output_type": "execute_result"
    }
   ],
   "source": [
    "# average no. of runs scored by Karthik against RCB\n",
    "karthik[karthik.bowling_team == \"Royal Challengers Bangalore\"].total_runs.sum()/len(karthik[karthik.bowling_team == \"Royal Challengers Bangalore\"].match_id.unique())"
   ]
  },
  {
   "cell_type": "markdown",
   "metadata": {},
   "source": [
    "Dinesh Karthik has an average score, which is lesser than his normal average, of ~22 against RCB."
   ]
  },
  {
   "cell_type": "code",
   "execution_count": 61,
   "metadata": {},
   "outputs": [],
   "source": [
    "# runs scored by Karthik against RCB\n",
    "runs = karthik[karthik.bowling_team == \"Royal Challengers Bangalore\"].groupby(\"match_id\").sum().total_runs"
   ]
  },
  {
   "cell_type": "code",
   "execution_count": 70,
   "metadata": {},
   "outputs": [
    {
     "data": {
      "text/plain": [
       "7"
      ]
     },
     "execution_count": 70,
     "metadata": {},
     "output_type": "execute_result"
    }
   ],
   "source": [
    "# No. of instances when Karthik scored runs in the range 0-10 against RCB\n",
    "len(runs[runs <= 10])"
   ]
  },
  {
   "cell_type": "code",
   "execution_count": 76,
   "metadata": {},
   "outputs": [
    {
     "data": {
      "text/plain": [
       "4"
      ]
     },
     "execution_count": 76,
     "metadata": {},
     "output_type": "execute_result"
    }
   ],
   "source": [
    "# No. of instances when Karthik scored runs in the range 11-20 against RCB\n",
    "len(runs[runs.isin(range(11, 21))])"
   ]
  },
  {
   "cell_type": "code",
   "execution_count": 77,
   "metadata": {},
   "outputs": [
    {
     "data": {
      "text/plain": [
       "4"
      ]
     },
     "execution_count": 77,
     "metadata": {},
     "output_type": "execute_result"
    }
   ],
   "source": [
    "# No. of instances when Karthik scored runs in the range 21-35 against RCB\n",
    "len(runs[runs.isin(range(21, 36))])"
   ]
  },
  {
   "cell_type": "code",
   "execution_count": 78,
   "metadata": {},
   "outputs": [
    {
     "data": {
      "text/plain": [
       "5"
      ]
     },
     "execution_count": 78,
     "metadata": {},
     "output_type": "execute_result"
    }
   ],
   "source": [
    "# No. of instances when Karthik scored runs in the range 36 or more against RCB\n",
    "len(runs[runs > 35])"
   ]
  },
  {
   "cell_type": "markdown",
   "metadata": {},
   "source": [
    "However, he has scored in single digits against RCB the most frequently. "
   ]
  },
  {
   "cell_type": "markdown",
   "metadata": {},
   "source": [
    "## Explanation:\n",
    "\n",
    "Based on the past performances of Dinesh Karthik against RCB, it seems that he will score runs in the range of 0-10. "
   ]
  },
  {
   "cell_type": "markdown",
   "metadata": {},
   "source": [
    "# Question 4:"
   ]
  },
  {
   "cell_type": "code",
   "execution_count": 79,
   "metadata": {},
   "outputs": [
    {
     "data": {
      "text/plain": [
       "714"
      ]
     },
     "execution_count": 79,
     "metadata": {},
     "output_type": "execute_result"
    }
   ],
   "source": [
    "# Total no. of no balls in IPL history\n",
    "len(deli[deli.noball_runs != 0]) "
   ]
  },
  {
   "cell_type": "code",
   "execution_count": 80,
   "metadata": {},
   "outputs": [
    {
     "data": {
      "text/plain": [
       "756"
      ]
     },
     "execution_count": 80,
     "metadata": {},
     "output_type": "execute_result"
    }
   ],
   "source": [
    "# Total no. of matches in IPL history\n",
    "len(deli.match_id.unique())"
   ]
  },
  {
   "cell_type": "code",
   "execution_count": 81,
   "metadata": {},
   "outputs": [
    {
     "data": {
      "text/plain": [
       "0.9444444444444444"
      ]
     },
     "execution_count": 81,
     "metadata": {},
     "output_type": "execute_result"
    }
   ],
   "source": [
    "# average no. of no balls per match\n",
    "714/756"
   ]
  },
  {
   "cell_type": "code",
   "execution_count": 86,
   "metadata": {},
   "outputs": [],
   "source": [
    "# finding out the no. of no balls bowled by KKR and RCB\n",
    "noballs_kkr_rcb = deli[deli.noball_runs != 0].query(\"bowling_team.isin(['Royal Challengers Bangalore', 'Kolkata Knight Riders'])\")"
   ]
  },
  {
   "cell_type": "code",
   "execution_count": 87,
   "metadata": {},
   "outputs": [
    {
     "data": {
      "text/plain": [
       "168"
      ]
     },
     "execution_count": 87,
     "metadata": {},
     "output_type": "execute_result"
    }
   ],
   "source": [
    "# no balls bowled by KKR and RCB\n",
    "len(noballs_kkr_rcb)"
   ]
  },
  {
   "cell_type": "code",
   "execution_count": 88,
   "metadata": {},
   "outputs": [
    {
     "data": {
      "text/plain": [
       "120"
      ]
     },
     "execution_count": 88,
     "metadata": {},
     "output_type": "execute_result"
    }
   ],
   "source": [
    "# no. of matches in which KKR and RCB have bowled\n",
    "len(noballs_kkr_rcb.match_id.unique())"
   ]
  },
  {
   "cell_type": "code",
   "execution_count": 89,
   "metadata": {},
   "outputs": [
    {
     "data": {
      "text/plain": [
       "1.4"
      ]
     },
     "execution_count": 89,
     "metadata": {},
     "output_type": "execute_result"
    }
   ],
   "source": [
    "# average no. of no balls per match by KKR and RCB\n",
    "168/120"
   ]
  },
  {
   "cell_type": "markdown",
   "metadata": {},
   "source": [
    "The average no. of no balls by KKR and RCB seems to be higher."
   ]
  },
  {
   "cell_type": "code",
   "execution_count": 118,
   "metadata": {},
   "outputs": [
    {
     "data": {
      "text/plain": [
       "1    83\n",
       "2    29\n",
       "3     5\n",
       "4     3\n",
       "Name: inning, dtype: int64"
      ]
     },
     "execution_count": 118,
     "metadata": {},
     "output_type": "execute_result"
    }
   ],
   "source": [
    "# no. of no balls per match by KKR and RCB\n",
    "noballs_kkr_rcb.groupby(\"match_id\").count()[\"inning\"].value_counts()"
   ]
  },
  {
   "cell_type": "markdown",
   "metadata": {},
   "source": [
    "## Explanation:\n",
    "\n",
    "Since 1 no ball has been bowled in majority of the matches by RCB and KKR, it can be expected that even in today's match there will be one no ball."
   ]
  },
  {
   "cell_type": "markdown",
   "metadata": {},
   "source": [
    "# Question 5:"
   ]
  },
  {
   "cell_type": "code",
   "execution_count": 92,
   "metadata": {},
   "outputs": [],
   "source": [
    "# filtering for Virat Kohli\n",
    "virat = deli[deli.batsman == \"V Kohli\"]"
   ]
  },
  {
   "cell_type": "code",
   "execution_count": 98,
   "metadata": {},
   "outputs": [
    {
     "data": {
      "text/plain": [
       "3.5703703703703704"
      ]
     },
     "execution_count": 98,
     "metadata": {},
     "output_type": "execute_result"
    }
   ],
   "source": [
    "# average numbers of 4's hit by Virat per match\n",
    "len(virat[virat.batsman_runs == 4])/len(virat[virat.batsman_runs == 4].match_id.unique())"
   ]
  },
  {
   "cell_type": "code",
   "execution_count": 102,
   "metadata": {},
   "outputs": [
    {
     "data": {
      "text/plain": [
       "3.625"
      ]
     },
     "execution_count": 102,
     "metadata": {},
     "output_type": "execute_result"
    }
   ],
   "source": [
    "# average numbers of 4's hit by Virat per match against KKR\n",
    "len(virat.query(\" batsman_runs == 4 and bowling_team == 'Kolkata Knight Riders'\"))/len(virat.query(\" batsman_runs == 4 and bowling_team == 'Kolkata Knight Riders'\").match_id.unique())"
   ]
  },
  {
   "cell_type": "code",
   "execution_count": 120,
   "metadata": {},
   "outputs": [
    {
     "data": {
      "text/plain": [
       "4    3\n",
       "3    3\n",
       "2    3\n",
       "1    3\n",
       "9    2\n",
       "5    2\n",
       "Name: inning, dtype: int64"
      ]
     },
     "execution_count": 120,
     "metadata": {},
     "output_type": "execute_result"
    }
   ],
   "source": [
    "# counts of 4's hit by Virat per match against KKR\n",
    "virat.query(\" batsman_runs == 4 and bowling_team == 'Kolkata Knight Riders'\").groupby(\"match_id\").count()[\"inning\"].value_counts()"
   ]
  },
  {
   "cell_type": "markdown",
   "metadata": {},
   "source": [
    "## Explanation:\n",
    "\n",
    "To predict a definite value of no. of 4s seems difficult, hence, going by the average, it can be said that Virat will hit 4 4s in today's match."
   ]
  }
 ],
 "metadata": {
  "kernelspec": {
   "display_name": "Python 3",
   "language": "python",
   "name": "python3"
  },
  "language_info": {
   "codemirror_mode": {
    "name": "ipython",
    "version": 3
   },
   "file_extension": ".py",
   "mimetype": "text/x-python",
   "name": "python",
   "nbconvert_exporter": "python",
   "pygments_lexer": "ipython3",
   "version": "3.7.6"
  }
 },
 "nbformat": 4,
 "nbformat_minor": 4
}
