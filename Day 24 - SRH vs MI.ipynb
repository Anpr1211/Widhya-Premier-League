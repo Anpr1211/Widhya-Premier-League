{
 "cells": [
  {
   "cell_type": "code",
   "execution_count": null,
   "metadata": {},
   "outputs": [],
   "source": [
    "# import library\n",
    "library(dplyr)"
   ]
  },
  {
   "cell_type": "code",
   "execution_count": null,
   "metadata": {},
   "outputs": [],
   "source": [
    "# read datasets\n",
    "matches = read.csv(\"matches.csv\")\n",
    "deli = read.csv(\"deliveries.csv\")"
   ]
  },
  {
   "cell_type": "markdown",
   "metadata": {},
   "source": [
    "# Question 1:"
   ]
  },
  {
   "cell_type": "code",
   "execution_count": null,
   "metadata": {},
   "outputs": [],
   "source": [
    "# teams playing today's match\n",
    "teams = c(\"Sunrisers Hyderabad\", \"Deccan Chargers\", \"Mumbai Indians\")"
   ]
  },
  {
   "cell_type": "code",
   "execution_count": null,
   "metadata": {},
   "outputs": [],
   "source": [
    "# all matches between SRH and MI\n",
    "srh_mi = subset(matches, (team1 %in% teams & team2 %in% teams))\n",
    "\n",
    "head(srh_mi)"
   ]
  },
  {
   "cell_type": "code",
   "execution_count": null,
   "metadata": {},
   "outputs": [],
   "source": [
    "srh_mi$winner"
   ]
  },
  {
   "cell_type": "code",
   "execution_count": null,
   "metadata": {},
   "outputs": [],
   "source": [
    "# victories of the teams against each other\n",
    "count(srh_mi, winner)"
   ]
  },
  {
   "cell_type": "code",
   "execution_count": null,
   "metadata": {},
   "outputs": [],
   "source": [
    "# matches of SRH\n",
    "srh = subset(matches, (team1 %in% c('Sunrisers Hyderabad', 'Deccan Chargers')| team2 %in% c('Sunrisers Hyderabad', 'Deccan Chargers')))"
   ]
  },
  {
   "cell_type": "code",
   "execution_count": null,
   "metadata": {},
   "outputs": [],
   "source": [
    "# total no. of matches played by SRH\n",
    "nrow(srh)"
   ]
  },
  {
   "cell_type": "code",
   "execution_count": null,
   "metadata": {},
   "outputs": [],
   "source": [
    "# winners in those matches\n",
    "count(srh, winner)"
   ]
  },
  {
   "cell_type": "code",
   "execution_count": null,
   "metadata": {},
   "outputs": [],
   "source": [
    "# win ratio of SRH\n",
    "(58+29)/183"
   ]
  },
  {
   "cell_type": "code",
   "execution_count": null,
   "metadata": {},
   "outputs": [],
   "source": [
    "# matches of MI\n",
    "mi = subset(matches, (team1 == 'Mumbai Indians'| team2 == 'Mumbai Indians'))"
   ]
  },
  {
   "cell_type": "code",
   "execution_count": null,
   "metadata": {},
   "outputs": [],
   "source": [
    "# total no. of matches played by MI\n",
    "nrow(mi)"
   ]
  },
  {
   "cell_type": "code",
   "execution_count": null,
   "metadata": {},
   "outputs": [],
   "source": [
    "# winners in those matches\n",
    "count(mi, winner)"
   ]
  },
  {
   "cell_type": "code",
   "execution_count": null,
   "metadata": {},
   "outputs": [],
   "source": [
    "# win ratio of MI\n",
    "109/187"
   ]
  },
  {
   "cell_type": "markdown",
   "metadata": {},
   "source": [
    "# Question 2:"
   ]
  },
  {
   "cell_type": "code",
   "execution_count": null,
   "metadata": {},
   "outputs": [],
   "source": [
    "# names of all batsmen playing today's match\n",
    "batsmen = c('DA Warner', 'WP Saha', 'J Bairstow', 'MK Pandey', 'KS Williamson', 'JO Holder',\n",
    "           'Q de Kock', 'Ishan Kishan', 'SA Yadav', 'SS Tiwary', 'KA Pollard', 'HH Pandya', 'KH Pandya')"
   ]
  },
  {
   "cell_type": "code",
   "execution_count": null,
   "metadata": {},
   "outputs": [],
   "source": [
    "# function to get stamina score for the batsman\n",
    "get_stamina_score = function(bname){\n",
    "    # deliveries faced  by the batsman\n",
    "    data = subset(deli, with(deli, grepl(bname, batsman)))\n",
    "    \n",
    "    # runs scored in 1s, 2s and 3s per match by the batsman\n",
    "    runs_123 = subset(data, batsman_runs %in% c(1, 2, 3)) %>% group_by(match_id) %>% summarise(runs123 = sum(batsman_runs))\n",
    "    # runs scored in boundaries per match by the batsman\n",
    "    runs_boundaries = subset(data, batsman_runs %in% c(4, 6)) %>% group_by(match_id) %>% summarise(runs_b = sum(batsman_runs))\n",
    "    # merging the dataframes\n",
    "    runs = merge(runs_123, runs_boundaries, all=TRUE)\n",
    "    # filling the null values with 0\n",
    "    runs[is.na(runs)] = 0\n",
    "    # balls faced per match\n",
    "    balls_per_match = data %>% group_by(match_id) %>% summarise(balls = n())\n",
    "    # balls faced as a nonstriker\n",
    "    balls_ns = subset(deli, with(deli, grepl(bname, non_striker))) %>% group_by(match_id) %>% summarise(balls_ns = n())\n",
    "    # merging the dataframes\n",
    "    balls = merge(balls_per_match, balls_ns, all=TRUE)\n",
    "    # filling the null values with 0\n",
    "    balls[is.na(balls)] = 0\n",
    "    \n",
    "    # total balls faced on the crease\n",
    "    balls$balls_on_crease = balls$balls + balls$balls_ns\n",
    "    # merging the dataframes\n",
    "    tmp = merge(runs, balls, all=TRUE)\n",
    "    # filling the null values with 0\n",
    "    tmp[is.na(tmp)] = 0\n",
    "    \n",
    "    # runs scored per match\n",
    "    runs_per_match = data %>% group_by(match_id) %>% summarise(runs = sum(batsman_runs))\n",
    "    \n",
    "    # merging to create the final dataframe\n",
    "    result = merge(runs_per_match, tmp, all=TRUE)\n",
    "    # filling the null values with 0\n",
    "    result[is.na(result)] = 0\n",
    "    # filtering out the matches in which the batsman scored less than 15 runs\n",
    "    result = subset(result, runs>15)\n",
    "    \n",
    "    # calculating the stamina score\n",
    "    result$stamina_score = ((result$runs123/result$runs_b) + (result$balls/result$balls_on_crease))/result$runs\n",
    "    # returning the median measure\n",
    "    return (median(result$stamina_score))\n",
    "}"
   ]
  },
  {
   "cell_type": "code",
   "execution_count": null,
   "metadata": {},
   "outputs": [],
   "source": [
    "# to store the stamina score for each of the batsmen\n",
    "stamina_score = numeric()\n",
    "\n",
    "# for loop to iterate over the batsman names\n",
    "for (b_name in batsmen){\n",
    "    # printing the batsman name\n",
    "    print(b_name)\n",
    "    # calculating and storing the stamina score\n",
    "    stamina_score = cbind(stamina_score, get_stamina_score(b_name))\n",
    "}"
   ]
  },
  {
   "cell_type": "code",
   "execution_count": null,
   "metadata": {},
   "outputs": [],
   "source": [
    "# final dataframe\n",
    "final = data.frame(batsman=batsmen, ss=c(stamina_score))\n",
    "\n",
    "# displaying the dataframe\n",
    "head(final)"
   ]
  },
  {
   "cell_type": "code",
   "execution_count": null,
   "metadata": {},
   "outputs": [],
   "source": [
    "# calculating the normalised stamina score\n",
    "final$ss_norm = (final$ss - min(final$ss))/(max(final$ss) - min(final$ss))\n",
    "\n",
    "# displaying the dataframe\n",
    "final"
   ]
  },
  {
   "cell_type": "markdown",
   "metadata": {},
   "source": [
    "# Question 3:"
   ]
  },
  {
   "cell_type": "code",
   "execution_count": null,
   "metadata": {},
   "outputs": [],
   "source": [
    "# function to calculate the smash rate, given the batsman name\n",
    "get_smash_rate = function(bname){\n",
    "    \n",
    "    # filtering out the deliveries faced by the batsman\n",
    "    data = subset(deli, with(deli, grepl(bname, batsman)))\n",
    "    # no. of boundaries hit per match\n",
    "    boundaries = subset(data, batsman_runs %in% c(4, 6)) %>% group_by(match_id) %>% summarise(num_b = n())\n",
    "    # balls faced per match\n",
    "    balls_per_match = data %>% group_by(match_id) %>% summarise(balls = n())\n",
    "    \n",
    "    # merging the dataframes\n",
    "    result = merge(boundaries, balls_per_match, all=TRUE)\n",
    "    # filling the null values with 0\n",
    "    result[is.na(result)] = 0\n",
    "    \n",
    "    # calculating the smash rate\n",
    "    result$smash_rate = (result$num_b/result$balls)*100\n",
    "    \n",
    "    # returning the statistical measures\n",
    "    return(summary(result$smash_rate))\n",
    "}"
   ]
  },
  {
   "cell_type": "code",
   "execution_count": null,
   "metadata": {},
   "outputs": [],
   "source": [
    "# for loop to iterate over the batsman names\n",
    "for (b_name in batsmen){\n",
    "    # print batsman name\n",
    "    print(b_name)\n",
    "    # printing the statistical measures \n",
    "    print(get_smash_rate(b_name))\n",
    "}"
   ]
  },
  {
   "cell_type": "markdown",
   "metadata": {},
   "source": [
    "# Question 4:"
   ]
  },
  {
   "cell_type": "code",
   "execution_count": null,
   "metadata": {},
   "outputs": [],
   "source": [
    "# all bowlers in today's match\n",
    "bowlers = c('JO Holder', 'Rashid Khan', 'S Nadeem', 'Sandeep Sharma', 'T Natarajan',\n",
    "           'KA Pollard', 'HH Pandya', 'KH Pandya', 'NM Coulter-Nile', 'RD Chahar', 'TA Boult', 'JJ Bumrah')"
   ]
  },
  {
   "cell_type": "code",
   "execution_count": null,
   "metadata": {},
   "outputs": [],
   "source": [
    "# function to get the boundary leaker value for each bowler\n",
    "get_boundary_leaker = function(bname){\n",
    "    \n",
    "    # filtering out the deliveries bowled by the bowler\n",
    "    data = subset(deli, with(deli, grepl(bname, bowler)))\n",
    "    # no. of boundaries hit per match\n",
    "    boundaries = subset(data, batsman_runs %in% c(4, 6)) %>% group_by(match_id) %>% summarise(num_b = n())\n",
    "    # balls faced per match\n",
    "    balls_per_match = data %>% group_by(match_id) %>% summarise(balls = n())\n",
    "    \n",
    "    # merging the dataframes\n",
    "    result = merge(boundaries, balls_per_match, all=TRUE)\n",
    "    # filling the null values with 0\n",
    "    result[is.na(result)] = 0\n",
    "    \n",
    "    # calculating the boundary leaker value\n",
    "    result$boundary_leaker = result$balls/(result$num_b + 1)\n",
    "    \n",
    "    # returning the statistical measures\n",
    "    return(summary(result$boundary_leaker))\n",
    "}"
   ]
  },
  {
   "cell_type": "code",
   "execution_count": null,
   "metadata": {},
   "outputs": [],
   "source": [
    "# for loop to iterate over the bowler names\n",
    "for (b_name in bowlers){\n",
    "    # print bowler name\n",
    "    print(b_name)\n",
    "    # printing the statistical measures \n",
    "    print(get_boundary_leaker(b_name))\n",
    "}"
   ]
  },
  {
   "cell_type": "markdown",
   "metadata": {},
   "source": [
    "# Question 5:"
   ]
  },
  {
   "cell_type": "code",
   "execution_count": null,
   "metadata": {},
   "outputs": [],
   "source": [
    "# total wickets taken in each IPL match\n",
    "total_wickets = subset(deli, player_dismissed != '') %>% group_by(match_id) %>% summarise(wickets = n())\n",
    "\n",
    "head(total_wickets)"
   ]
  },
  {
   "cell_type": "code",
   "execution_count": null,
   "metadata": {},
   "outputs": [],
   "source": [
    "# histogram\n",
    "hist(total_wickets$wickets, freq=TRUE, breaks=c(0, 5, 10, 15, max(total_wickets$wickets)))"
   ]
  },
  {
   "cell_type": "code",
   "execution_count": null,
   "metadata": {},
   "outputs": [],
   "source": [
    "# all deliveries in SRH vs MI matches\n",
    "srh_mi_deli = subset(deli, (bowling_team %in% teams & batting_team %in% teams))\n",
    "\n",
    "head(srh_mi_deli)"
   ]
  },
  {
   "cell_type": "code",
   "execution_count": null,
   "metadata": {},
   "outputs": [],
   "source": [
    "# total wickets taken in SRH vs MI matches\n",
    "wickets_srh_mi = subset(srh_mi_deli, player_dismissed != '') %>% group_by(match_id) %>% summarise(wickets = n())\n",
    "\n",
    "# histogram\n",
    "hist(wickets_srh_mi$wickets, freq=TRUE, breaks=c(0, 5, 10, 15, max(wickets_srh_mi$wickets)))"
   ]
  },
  {
   "cell_type": "code",
   "execution_count": null,
   "metadata": {},
   "outputs": [],
   "source": [
    "# all deliveries faced by MI\n",
    "mi_bat = subset(deli, batting_team == 'Mumbai Indians')\n",
    "\n",
    "# total wickets lost by MI in each match\n",
    "wickets_mi = subset(mi_bat, player_dismissed != '') %>% group_by(match_id) %>% summarise(wickets = n())\n",
    "\n",
    "#statistical measures\n",
    "summary(wickets_mi$wickets)"
   ]
  },
  {
   "cell_type": "code",
   "execution_count": null,
   "metadata": {},
   "outputs": [],
   "source": [
    "# all deliveries faced by SRH\n",
    "srh_bat = subset(deli, batting_team %in% c('Sunrisers Hyderabad', 'Deccan Chargers'))\n",
    "\n",
    "# total wickets lost by SRH in each match\n",
    "wickets_srh = subset(srh_bat, player_dismissed != '') %>% group_by(match_id) %>% summarise(wickets = n())\n",
    "\n",
    "#statistical measures\n",
    "summary(wickets_srh$wickets)"
   ]
  }
 ],
 "metadata": {
  "kernelspec": {
   "display_name": "R",
   "language": "R",
   "name": "ir"
  },
  "language_info": {
   "codemirror_mode": "r",
   "file_extension": ".r",
   "mimetype": "text/x-r-source",
   "name": "R",
   "pygments_lexer": "r",
   "version": "3.5.1"
  }
 },
 "nbformat": 4,
 "nbformat_minor": 4
}
