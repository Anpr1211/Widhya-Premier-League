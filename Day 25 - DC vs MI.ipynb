{
 "cells": [
  {
   "cell_type": "code",
   "execution_count": null,
   "metadata": {},
   "outputs": [],
   "source": [
    "# import library\n",
    "library(dplyr)"
   ]
  },
  {
   "cell_type": "code",
   "execution_count": null,
   "metadata": {},
   "outputs": [],
   "source": [
    "# read datasets\n",
    "matches = read.csv(\"matches.csv\")\n",
    "deli = read.csv(\"deliveries.csv\")"
   ]
  },
  {
   "cell_type": "markdown",
   "metadata": {},
   "source": [
    "# Question 1:"
   ]
  },
  {
   "cell_type": "code",
   "execution_count": null,
   "metadata": {},
   "outputs": [],
   "source": [
    "# teams playing today's match\n",
    "teams = c(\"Delhi Daredevils\", \"Delhi Capitals\", \"Mumbai Indians\")"
   ]
  },
  {
   "cell_type": "code",
   "execution_count": null,
   "metadata": {},
   "outputs": [],
   "source": [
    "# all matches between DC and MI\n",
    "dc_mi = subset(matches, (team1 %in% teams & team2 %in% teams))\n",
    "\n",
    "head(dc_mi)"
   ]
  },
  {
   "cell_type": "code",
   "execution_count": null,
   "metadata": {},
   "outputs": [],
   "source": [
    "dc_mi$winner"
   ]
  },
  {
   "cell_type": "code",
   "execution_count": null,
   "metadata": {},
   "outputs": [],
   "source": [
    "# victories of the teams against each other\n",
    "count(dc_mi, winner)"
   ]
  },
  {
   "cell_type": "code",
   "execution_count": null,
   "metadata": {},
   "outputs": [],
   "source": [
    "# matches of DC\n",
    "dc = subset(matches, (team1 %in% c('Delhi Capitals', 'Delhi Daredevils')| team2 %in% c('Delhi Capitals', 'Delhi Daredevils')))"
   ]
  },
  {
   "cell_type": "code",
   "execution_count": null,
   "metadata": {},
   "outputs": [],
   "source": [
    "# total no. of matches played by DC\n",
    "nrow(dc)"
   ]
  },
  {
   "cell_type": "code",
   "execution_count": null,
   "metadata": {},
   "outputs": [],
   "source": [
    "# winners in those matches\n",
    "count(dc, winner)"
   ]
  },
  {
   "cell_type": "code",
   "execution_count": null,
   "metadata": {},
   "outputs": [],
   "source": [
    "# win ratio of DC\n",
    "(10+67)/177"
   ]
  },
  {
   "cell_type": "code",
   "execution_count": null,
   "metadata": {},
   "outputs": [],
   "source": [
    "# matches of MI\n",
    "mi = subset(matches, (team1 == 'Mumbai Indians'| team2 == 'Mumbai Indians'))"
   ]
  },
  {
   "cell_type": "code",
   "execution_count": null,
   "metadata": {},
   "outputs": [],
   "source": [
    "# total no. of matches played by MI\n",
    "nrow(mi)"
   ]
  },
  {
   "cell_type": "code",
   "execution_count": null,
   "metadata": {},
   "outputs": [],
   "source": [
    "# winners in those matches\n",
    "count(mi, winner)"
   ]
  },
  {
   "cell_type": "code",
   "execution_count": null,
   "metadata": {},
   "outputs": [],
   "source": [
    "# win ratio of MI\n",
    "109/187"
   ]
  },
  {
   "cell_type": "markdown",
   "metadata": {},
   "source": [
    "# Question 2:"
   ]
  },
  {
   "cell_type": "code",
   "execution_count": null,
   "metadata": {},
   "outputs": [],
   "source": [
    "# total wickets taken in each IPL match in the powerplay overs\n",
    "total_wickets = subset(deli, (player_dismissed != '') & (over %in% seq(1, 6, 1))) %>% group_by(match_id) %>% summarise(wickets = n())\n",
    "\n",
    "head(total_wickets)"
   ]
  },
  {
   "cell_type": "code",
   "execution_count": null,
   "metadata": {},
   "outputs": [],
   "source": [
    "# histogram\n",
    "hist(total_wickets$wickets, freq=TRUE, breaks=c(0, 2, 4, 5, max(total_wickets$wickets)))"
   ]
  },
  {
   "cell_type": "code",
   "execution_count": null,
   "metadata": {},
   "outputs": [],
   "source": [
    "# all deliveries in DC vs MI matches\n",
    "dc_mi_deli = subset(deli, (bowling_team %in% teams & batting_team %in% teams))\n",
    "\n",
    "head(dc_mi_deli)"
   ]
  },
  {
   "cell_type": "code",
   "execution_count": null,
   "metadata": {},
   "outputs": [],
   "source": [
    "# total wickets taken in DC vs MI matches in the powerplay overs\n",
    "wickets_dc_mi = subset(dc_mi_deli, (player_dismissed != '') & (over %in% seq(1, 6, 1))) %>% group_by(match_id) %>% summarise(wickets = n())\n",
    "\n",
    "# histogram\n",
    "hist(wickets_dc_mi$wickets, freq=TRUE, breaks=c(0, 2, 4, 5, max(wickets_dc_mi$wickets)))"
   ]
  },
  {
   "cell_type": "code",
   "execution_count": null,
   "metadata": {},
   "outputs": [],
   "source": [
    "# all deliveries faced by MI\n",
    "mi_bat = subset(deli, batting_team == 'Mumbai Indians')\n",
    "\n",
    "# total wickets lost by MI in each match in the powerplay overs\n",
    "wickets_mi = subset(mi_bat, (player_dismissed != '') & (over %in% seq(1, 6, 1))) %>% group_by(match_id) %>% summarise(wickets = n())\n",
    "\n",
    "#statistical measures\n",
    "summary(wickets_mi$wickets)"
   ]
  },
  {
   "cell_type": "code",
   "execution_count": null,
   "metadata": {},
   "outputs": [],
   "source": [
    "# all deliveries faced by DC\n",
    "dc_bat = subset(deli, batting_team %in% c('Delhi Capitals', 'Delhi Daredevils'))\n",
    "\n",
    "# total wickets lost by DC in each match in the powerplay overs\n",
    "wickets_dc = subset(dc_bat, (player_dismissed != '') & (over %in% seq(1, 6, 1))) %>% group_by(match_id) %>% summarise(wickets = n())\n",
    "\n",
    "#statistical measures\n",
    "summary(wickets_dc$wickets)"
   ]
  },
  {
   "cell_type": "markdown",
   "metadata": {},
   "source": [
    "# Question 3:"
   ]
  },
  {
   "cell_type": "code",
   "execution_count": null,
   "metadata": {},
   "outputs": [],
   "source": [
    "# all bowlers playing today's match\n",
    "bowlers = c('K Rabada', 'AR Patel', 'R Ashwin', 'HV Patel', 'MP Stoinis',\n",
    "            'KA Pollard', 'HH Pandya', 'KH Pandya', 'NM Coulter-Nile', 'RD Chahar', 'TA Boult', 'JJ Bumrah')"
   ]
  },
  {
   "cell_type": "code",
   "execution_count": null,
   "metadata": {},
   "outputs": [],
   "source": [
    "# function to get the bowling details\n",
    "get_bowling_info = function(bname, df){\n",
    "    \n",
    "    # filtering out the deliveries bowled by each of the bowlers\n",
    "    data = subset(df, with(df, grepl(bname, bowler)))\n",
    "    \n",
    "    # runs given out in each of the match\n",
    "    runs_per_match = data %>% group_by(match_id) %>% summarise(runs = sum(batsman_runs))\n",
    "    # overs bowled in each of the match\n",
    "    overs_per_match = data %>%  group_by(match_id) %>% summarise(overs=length(unique(over)))\n",
    "    # merging the dataframes\n",
    "    econ = merge(runs_per_match, overs_per_match)\n",
    "    # filtering out the matches in which the bowler bowled only one over\n",
    "    econ = subset(econ, overs > 1)\n",
    "    # calculating economy\n",
    "    econ$economy = econ$runs/econ$overs\n",
    "    \n",
    "    # no. of boundaries hit per match\n",
    "    boundaries = subset(data, batsman_runs %in% c(4, 6)) %>% group_by(match_id) %>% summarise(num_b = n())\n",
    "    # calculating 6s\n",
    "    runs_6 = subset(data, batsman_runs == 6) %>% group_by(match_id) %>% summarise(runs_6 = n())\n",
    "    # merging the dataframes\n",
    "    details = merge(boundaries, runs_6, all=TRUE)\n",
    "    \n",
    "    # final dataframe\n",
    "    final = merge(econ, details, all=TRUE)\n",
    "    # filling out the null values\n",
    "    final[is.na(final)] = 0\n",
    "    \n",
    "    # returning the results\n",
    "    return (summary(final[, 4:6]))\n",
    "}"
   ]
  },
  {
   "cell_type": "markdown",
   "metadata": {},
   "source": [
    "## Performance throughout IPL"
   ]
  },
  {
   "cell_type": "code",
   "execution_count": null,
   "metadata": {},
   "outputs": [],
   "source": [
    "# for loop to iterate over the bowler names\n",
    "for (b_name in bowlers){\n",
    "    # print bowler name\n",
    "    print(b_name)\n",
    "    # printing the statistical measures \n",
    "    print(get_bowling_info(b_name, deli))\n",
    "}"
   ]
  },
  {
   "cell_type": "markdown",
   "metadata": {},
   "source": [
    "## Performance in IPL 2019"
   ]
  },
  {
   "cell_type": "code",
   "execution_count": null,
   "metadata": {},
   "outputs": [],
   "source": [
    "# for loop to iterate over the bowler names\n",
    "for (b_name in bowlers){\n",
    "    # print bowler name\n",
    "    print(b_name)\n",
    "    # printing the statistical measures \n",
    "    print(get_bowling_info(b_name, subset(deli, match_id > 11000)))\n",
    "}"
   ]
  },
  {
   "cell_type": "markdown",
   "metadata": {},
   "source": [
    "# Question 4:"
   ]
  },
  {
   "cell_type": "code",
   "execution_count": null,
   "metadata": {},
   "outputs": [],
   "source": [
    "# DC batsmen playing today's match\n",
    "dc_batsmen = c('S Dhawan', 'AM Rahane', 'SS Iyer', 'RR Pant', 'S Hetmyer', 'AR Patel', 'MP Stoinis')\n",
    "# MI batsmen playing today's match\n",
    "mi_batsmen = c('Q de Kock', 'RG Sharma', 'Ishan Kishan', 'SA Yadav', 'SS Tiwary', 'KA Pollard', 'HH Pandya', 'KH Pandya')"
   ]
  },
  {
   "cell_type": "code",
   "execution_count": null,
   "metadata": {},
   "outputs": [],
   "source": [
    "# function to get the % of matches in which the batsman scores above 30 and below 30\n",
    "get_matches = function(bname, df){\n",
    "    \n",
    "    # filtering out the deliveries faced by each of the batsman\n",
    "    data = subset(df, with(df, grepl(bname, batsman)))\n",
    "    # runs scored per match\n",
    "    runs_per_match = data %>% group_by(match_id) %>% summarise(runs = sum(batsman_runs))\n",
    "    # no. of matches played by the batsman\n",
    "    matches = length(unique(runs_per_match$match_id))\n",
    "    # matches in which he scored above 30 runs\n",
    "    score_above30 = nrow(subset(runs_per_match, runs > 30))/matches * 100\n",
    "    # matches in which he scored below 30 runs\n",
    "    score_below30 = nrow(subset(runs_per_match, runs < 30))/matches * 100\n",
    "    # returning the percentages\n",
    "    return (c(score_above30, score_below30))\n",
    "}"
   ]
  },
  {
   "cell_type": "markdown",
   "metadata": {},
   "source": [
    "## Performance of DC batsmen in all the seasons of IPL"
   ]
  },
  {
   "cell_type": "code",
   "execution_count": null,
   "metadata": {},
   "outputs": [],
   "source": [
    "# for loop to iterate over the bowler names\n",
    "for (b_name in dc_batsmen){\n",
    "    # print bowler name\n",
    "    print(b_name)\n",
    "    # printing the statistical measures \n",
    "    print(get_matches(b_name, deli))\n",
    "}"
   ]
  },
  {
   "cell_type": "markdown",
   "metadata": {},
   "source": [
    "## Performance of DC batsmen in IPL 2019"
   ]
  },
  {
   "cell_type": "code",
   "execution_count": null,
   "metadata": {},
   "outputs": [],
   "source": [
    "# for loop to iterate over the bowler names\n",
    "for (b_name in dc_batsmen){\n",
    "    # print bowler name\n",
    "    print(b_name)\n",
    "    # printing the statistical measures \n",
    "    print(get_matches(b_name, subset(deli, match_id > 11000)))\n",
    "}"
   ]
  },
  {
   "cell_type": "markdown",
   "metadata": {},
   "source": [
    "## Performance of DC batsmen against Mumbai Indians"
   ]
  },
  {
   "cell_type": "code",
   "execution_count": null,
   "metadata": {},
   "outputs": [],
   "source": [
    "# for loop to iterate over the bowler names\n",
    "for (b_name in dc_batsmen){\n",
    "    # print bowler name\n",
    "    print(b_name)\n",
    "    # printing the statistical measures \n",
    "    print(get_matches(b_name, subset(deli, bowling_team == 'Mumbai Indians')))\n",
    "}"
   ]
  },
  {
   "cell_type": "markdown",
   "metadata": {},
   "source": [
    "## Performance of MI batsmen in all the seasons of IPL"
   ]
  },
  {
   "cell_type": "code",
   "execution_count": null,
   "metadata": {},
   "outputs": [],
   "source": [
    "# for loop to iterate over the bowler names\n",
    "for (b_name in mi_batsmen){\n",
    "    # print bowler name\n",
    "    print(b_name)\n",
    "    # printing the statistical measures \n",
    "    print(get_matches(b_name, deli))\n",
    "}"
   ]
  },
  {
   "cell_type": "markdown",
   "metadata": {},
   "source": [
    "## Performance of MI batsmen in IPL 2019"
   ]
  },
  {
   "cell_type": "code",
   "execution_count": null,
   "metadata": {},
   "outputs": [],
   "source": [
    "# for loop to iterate over the bowler names\n",
    "for (b_name in mi_batsmen){\n",
    "    # print bowler name\n",
    "    print(b_name)\n",
    "    # printing the statistical measures \n",
    "    print(get_matches(b_name, subset(deli, match_id > 11000)))\n",
    "}"
   ]
  },
  {
   "cell_type": "markdown",
   "metadata": {},
   "source": [
    "## Performance of MI batsmen against DC"
   ]
  },
  {
   "cell_type": "code",
   "execution_count": null,
   "metadata": {},
   "outputs": [],
   "source": [
    "# for loop to iterate over the bowler names\n",
    "for (b_name in mi_batsmen){\n",
    "    # print bowler name\n",
    "    print(b_name)\n",
    "    # printing the statistical measures \n",
    "    print(get_matches(b_name, subset(deli, bowling_team %in% c('Delhi Capitals', 'Delhi Daredevils'))))\n",
    "}"
   ]
  },
  {
   "cell_type": "markdown",
   "metadata": {},
   "source": [
    "# Question 5:"
   ]
  },
  {
   "cell_type": "code",
   "execution_count": null,
   "metadata": {},
   "outputs": [],
   "source": [
    "# function to get the economy of Jasprit Bumrah\n",
    "get_economy = function(df){\n",
    "    # filtering out the deliveries bowled by him in the death overs\n",
    "    data = subset(df, with(df, grepl('JJ Bumrah', bowler) & (over %in% seq(16, 20))))\n",
    "    \n",
    "    # runs given out in each of the match\n",
    "    runs_per_match = data %>% group_by(match_id) %>% summarise(runs = sum(batsman_runs))\n",
    "    # overs bowled in each of the match\n",
    "    overs_per_match = data %>%  group_by(match_id) %>% summarise(overs=length(unique(over)))\n",
    "    # merging the dataframes\n",
    "    econ = merge(runs_per_match, overs_per_match)\n",
    "    # calculating economy\n",
    "    econ$economy = econ$runs/econ$overs\n",
    "    \n",
    "    # returning the statistical measures\n",
    "    return (summary(econ$economy))\n",
    "}"
   ]
  },
  {
   "cell_type": "code",
   "execution_count": null,
   "metadata": {},
   "outputs": [],
   "source": [
    "# performance in all the seasons of IPL\n",
    "get_economy(deli)"
   ]
  },
  {
   "cell_type": "code",
   "execution_count": null,
   "metadata": {},
   "outputs": [],
   "source": [
    "# performance in IPL 2019\n",
    "get_economy(subset(deli, match_id > 11000))"
   ]
  },
  {
   "cell_type": "code",
   "execution_count": null,
   "metadata": {},
   "outputs": [],
   "source": [
    "# performance against Delhi Daredevils\n",
    "get_economy(subset(deli, batting_team %in% c('Delhi Capitals', 'Delhi Daredevils')))"
   ]
  }
 ],
 "metadata": {
  "kernelspec": {
   "display_name": "R",
   "language": "R",
   "name": "ir"
  },
  "language_info": {
   "codemirror_mode": "r",
   "file_extension": ".r",
   "mimetype": "text/x-r-source",
   "name": "R",
   "pygments_lexer": "r",
   "version": "3.5.1"
  }
 },
 "nbformat": 4,
 "nbformat_minor": 4
}
