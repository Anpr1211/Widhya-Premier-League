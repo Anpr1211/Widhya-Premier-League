{
 "cells": [
  {
   "cell_type": "code",
   "execution_count": 1,
   "metadata": {},
   "outputs": [],
   "source": [
    "# importing libraries\n",
    "import pandas as pd\n",
    "import matplotlib.pyplot as plt\n",
    "import seaborn as sns"
   ]
  },
  {
   "cell_type": "code",
   "execution_count": 2,
   "metadata": {},
   "outputs": [],
   "source": [
    "# read datasets\n",
    "matches = pd.read_csv(\"matches.csv\")\n",
    "deli = pd.read_csv(\"deliveries.csv\")"
   ]
  },
  {
   "cell_type": "markdown",
   "metadata": {},
   "source": [
    "# Question 1:"
   ]
  },
  {
   "cell_type": "code",
   "execution_count": null,
   "metadata": {},
   "outputs": [],
   "source": [
    "# all matches between MI and KKR\n",
    "mi_kkr = matches.query(\"team1.isin(['Mumbai Indians', 'Kolkata Knight Riders']) and team2.isin(['Mumbai Indians', 'Kolkata Knight Riders'])\")"
   ]
  },
  {
   "cell_type": "code",
   "execution_count": null,
   "metadata": {},
   "outputs": [],
   "source": [
    "# victories of the two teams against each other\n",
    "mi_kkr.winner.value_counts()"
   ]
  },
  {
   "cell_type": "code",
   "execution_count": null,
   "metadata": {},
   "outputs": [],
   "source": [
    "# victories of the two teams against each other at Eden Garden Stadium\n",
    "mi_kkr.query(\"city == 'Kolkata'\").winner.value_counts()"
   ]
  },
  {
   "cell_type": "markdown",
   "metadata": {},
   "source": [
    "MI has had an overwhelming upper hand over the team of KKR, even at Eden Gardens."
   ]
  },
  {
   "cell_type": "code",
   "execution_count": null,
   "metadata": {},
   "outputs": [],
   "source": [
    "# matches of MI\n",
    "mi = matches.query(\"team1 == 'Mumbai Indians' or team2 == 'Mumbai Indians'\")"
   ]
  },
  {
   "cell_type": "code",
   "execution_count": null,
   "metadata": {},
   "outputs": [],
   "source": [
    "# MI win ratio\n",
    "len(mi[mi.winner == \"Mumbai Indians\"])/len(mi)"
   ]
  },
  {
   "cell_type": "code",
   "execution_count": null,
   "metadata": {},
   "outputs": [],
   "source": [
    "# matches of KKR\n",
    "kkr = matches.query(\"team1 == 'Kolkata Knight Riders' or team2 == 'Kolkata Knight Riders'\")"
   ]
  },
  {
   "cell_type": "code",
   "execution_count": null,
   "metadata": {},
   "outputs": [],
   "source": [
    "# KKR win ratio\n",
    "len(kkr[kkr.winner == \"Kolkata Knight Riders\"])/len(kkr)"
   ]
  },
  {
   "cell_type": "markdown",
   "metadata": {},
   "source": [
    "MI has a higher win ratio in IPL history compared to KKR."
   ]
  },
  {
   "cell_type": "code",
   "execution_count": null,
   "metadata": {},
   "outputs": [],
   "source": [
    "# filtering on venue\n",
    "venue = matches.query(\"city == 'Kolkata'\")\n",
    "\n",
    "venue.head()"
   ]
  },
  {
   "cell_type": "code",
   "execution_count": null,
   "metadata": {},
   "outputs": [],
   "source": [
    "# count of victories at Eden Gardens Stadium by the different teams\n",
    "venue.winner.value_counts()"
   ]
  },
  {
   "cell_type": "code",
   "execution_count": null,
   "metadata": {},
   "outputs": [],
   "source": [
    "# matches played by MI at the Eden Gardens Stadium\n",
    "len(venue.query(\"team1 == 'Mumbai Indians' or team2 == 'Mumbai Indians'\"))"
   ]
  },
  {
   "cell_type": "code",
   "execution_count": null,
   "metadata": {},
   "outputs": [],
   "source": [
    "# matches played by KKR at the Eden Gardens Stadium\n",
    "len(venue.query(\"team1 == 'Kolkata Knight Riders' or team2 == 'Kolkata Knight Riders'\"))"
   ]
  },
  {
   "cell_type": "code",
   "execution_count": null,
   "metadata": {},
   "outputs": [],
   "source": [
    "# win ratio of KKR at Eden Gardens Stadium\n",
    "print(45/74)\n",
    "\n",
    "# win ratio of MI at Eden Gardens Stadium\n",
    "print(10/13)"
   ]
  },
  {
   "cell_type": "markdown",
   "metadata": {},
   "source": [
    "## Explanation:\n",
    "\n",
    "Considering the past records of IPL, MI has a better chance than KKR to win today's match. The venue of Kolkata offers a bowling pitch, like Abu Dhabi, hence the performance of the teams at the Eden Gardens has also been studied. It is also to be noted that the average score in an innings at the Abu Dhabi stadium in this current season has been around 150-160, but MI is the only team that has managed to score above 190, and that too, three times. "
   ]
  },
  {
   "cell_type": "markdown",
   "metadata": {},
   "source": [
    "# Question 2:"
   ]
  },
  {
   "cell_type": "code",
   "execution_count": 3,
   "metadata": {},
   "outputs": [],
   "source": [
    "# all deliveries faced by MI\n",
    "mi_bat = deli.query(\"batting_team == 'Mumbai Indians'\")"
   ]
  },
  {
   "cell_type": "code",
   "execution_count": null,
   "metadata": {},
   "outputs": [],
   "source": [
    "# mi deliveries between 6-15 overs\n",
    "mi_6_15 = mi_bat.query(\"over.isin([6, 7, 8, 9, 10, 11, 12, 13, 14, 15])\")"
   ]
  },
  {
   "cell_type": "code",
   "execution_count": null,
   "metadata": {},
   "outputs": [],
   "source": [
    "# mi wickets between 6-15 overs\n",
    "wickets_ipl = mi_6_15[mi_6_15.player_dismissed.notnull()].groupby(\"match_id\").count().player_dismissed"
   ]
  },
  {
   "cell_type": "code",
   "execution_count": null,
   "metadata": {},
   "outputs": [],
   "source": [
    "# histogram\n",
    "sns.countplot(wickets_ipl)\n",
    "plt.title(\"Wickets lost per match by MI in IPL history in 6-15 overs\")\n",
    "plt.xlabel(\"No. of wickets\")\n",
    "plt.ylabel(\"Frequency\")\n",
    "plt.show()"
   ]
  },
  {
   "cell_type": "code",
   "execution_count": null,
   "metadata": {},
   "outputs": [],
   "source": [
    "# count of mi wickets between 6-15 overs\n",
    "wickets_ipl.value_counts()"
   ]
  },
  {
   "cell_type": "code",
   "execution_count": null,
   "metadata": {},
   "outputs": [],
   "source": [
    "# measures of central tendency\n",
    "print(wickets_ipl.mean())\n",
    "print(wickets_ipl.median())"
   ]
  },
  {
   "cell_type": "code",
   "execution_count": null,
   "metadata": {},
   "outputs": [],
   "source": [
    "# mi wickets between 6-15 overs against KKR\n",
    "mi_6_15.query(\"bowling_team == 'Kolkata Knight Riders'\").groupby(\"match_id\").count().player_dismissed.value_counts()"
   ]
  },
  {
   "cell_type": "code",
   "execution_count": null,
   "metadata": {},
   "outputs": [],
   "source": [
    "# batsmen of MI\n",
    "batsmen = mi_6_15.query(\" batsman.isin(['RG Sharma', 'Q de Kock', 'SA Yadav','KA Pollard', 'Ishan Kishan', 'KH Pandya', 'HH Pandya'])\")"
   ]
  },
  {
   "cell_type": "code",
   "execution_count": null,
   "metadata": {},
   "outputs": [],
   "source": [
    "# count of times MI batsmen were dismissed in 6-15 overs\n",
    "batsmen[batsmen.player_dismissed.notnull()].groupby(\"match_id\").count().player_dismissed.value_counts()"
   ]
  },
  {
   "cell_type": "code",
   "execution_count": null,
   "metadata": {},
   "outputs": [],
   "source": [
    "# renaming the column\n",
    "venue = venue.rename(columns={\"id\":\"match_id\"})"
   ]
  },
  {
   "cell_type": "code",
   "execution_count": null,
   "metadata": {},
   "outputs": [],
   "source": [
    "# mi wickets between 6-15 overs at Kolkata\n",
    "wickets_ipl.reset_index().merge(venue, on=\"match_id\")[\"player_dismissed\"].value_counts()"
   ]
  },
  {
   "cell_type": "markdown",
   "metadata": {},
   "source": [
    "## Explanation:\n",
    "\n",
    "0-2 wickets of MI will fall in the overs 6-15 in today's match. This value has been reached just on the basis of the past performances of this team in IPL."
   ]
  },
  {
   "cell_type": "markdown",
   "metadata": {},
   "source": [
    "# Question 3:"
   ]
  },
  {
   "cell_type": "code",
   "execution_count": null,
   "metadata": {},
   "outputs": [],
   "source": [
    "# all deliveries faced by KKR\n",
    "kkr_deli = deli[deli.batting_team == \"Kolkata Knight Riders\"]\n",
    "\n",
    "len(kkr_deli)"
   ]
  },
  {
   "cell_type": "code",
   "execution_count": null,
   "metadata": {},
   "outputs": [],
   "source": [
    "# all 4s by KKR\n",
    "runs_4 = kkr_deli[kkr_deli.batsman_runs == 4].groupby(\"match_id\").count()[\"batsman_runs\"]"
   ]
  },
  {
   "cell_type": "code",
   "execution_count": null,
   "metadata": {},
   "outputs": [],
   "source": [
    "# histogram\n",
    "plt.hist(runs_4, bins=[0, 4, 8, 12, 25])\n",
    "plt.title(\"No. of 4s per match by KKR in IPL history\")\n",
    "plt.xlabel(\"No. of 4s\")\n",
    "plt.ylabel(\"Frequency\")\n",
    "plt.show()"
   ]
  },
  {
   "cell_type": "code",
   "execution_count": null,
   "metadata": {},
   "outputs": [],
   "source": [
    "# all 4s by KKR against MI\n",
    "runs_4_mi = kkr_deli.query(\"bowling_team == 'Mumbai Indians' and batsman_runs == 4\").groupby(\"match_id\").count()[\"batsman_runs\"]"
   ]
  },
  {
   "cell_type": "code",
   "execution_count": null,
   "metadata": {},
   "outputs": [],
   "source": [
    "# histogram\n",
    "plt.hist(runs_4_mi, bins=[0, 4, 8, 12, 25])\n",
    "plt.title(\"No. of 4s per match by KKR against MI\")\n",
    "plt.xlabel(\"No. of 4s\")\n",
    "plt.ylabel(\"Frequency\")\n",
    "plt.show()"
   ]
  },
  {
   "cell_type": "markdown",
   "metadata": {},
   "source": [
    "## Explanation:\n",
    "\n",
    "KKR has managed to hit more than 13 4s in majority of the IPL matches it has played, even against MI. Hence, it can be expected that KKR will hit more than 13 4s today."
   ]
  },
  {
   "cell_type": "markdown",
   "metadata": {},
   "source": [
    "# Question 4:"
   ]
  },
  {
   "cell_type": "code",
   "execution_count": null,
   "metadata": {},
   "outputs": [],
   "source": [
    "# all deliveries in MI vs KKR matches\n",
    "mi_kkr_deli = deli.query(\"bowling_team.isin(['Mumbai Indians', 'Kolkata Knight Riders']) and batting_team.isin(['Mumbai Indians', 'Kolkata Knight Riders'])\")\n",
    "print(len(mi_kkr_deli))"
   ]
  },
  {
   "cell_type": "code",
   "execution_count": null,
   "metadata": {},
   "outputs": [],
   "source": [
    "# total runs made in each MI vs KKR match\n",
    "total_runs_match = mi_kkr_deli.groupby(\"match_id\").sum()[\"batsman_runs\"]\n",
    "\n",
    "total_runs_match.mean()"
   ]
  },
  {
   "cell_type": "code",
   "execution_count": null,
   "metadata": {},
   "outputs": [],
   "source": [
    "# histogram\n",
    "plt.hist(total_runs_match, bins=[min(total_runs_match), 320, 340, 360, 370])\n",
    "plt.title(\"Total runs per MI vs KKR match in IPL history\")\n",
    "plt.xlabel(\"No. of runs\")\n",
    "plt.ylabel(\"Frequency\")\n",
    "plt.show()"
   ]
  },
  {
   "cell_type": "code",
   "execution_count": null,
   "metadata": {},
   "outputs": [],
   "source": [
    "# average runs scored by KKR in a match\n",
    "total_runs_kkr = kkr_deli.groupby(\"match_id\").sum()[\"batsman_runs\"]\n",
    "\n",
    "total_runs_kkr.median()"
   ]
  },
  {
   "cell_type": "code",
   "execution_count": null,
   "metadata": {},
   "outputs": [],
   "source": [
    "# all deliveries of MI\n",
    "mi_deli = deli[deli.batting_team == \"Mumbai Indians\"]\n",
    "\n",
    "len(mi_deli)"
   ]
  },
  {
   "cell_type": "code",
   "execution_count": null,
   "metadata": {},
   "outputs": [],
   "source": [
    "# average runs scored by MI in a match\n",
    "total_runs_mi = mi_deli.groupby(\"match_id\").sum()[\"batsman_runs\"]\n",
    "\n",
    "total_runs_mi.median()"
   ]
  },
  {
   "cell_type": "code",
   "execution_count": null,
   "metadata": {},
   "outputs": [],
   "source": [
    "# runs at the venue of Kolkata\n",
    "runs_at_kol = pd.DataFrame(deli.groupby(\"match_id\").sum()[\"batsman_runs\"]).merge(venue, on=\"match_id\")[\"batsman_runs\"]"
   ]
  },
  {
   "cell_type": "code",
   "execution_count": null,
   "metadata": {},
   "outputs": [],
   "source": [
    "# histogram\n",
    "plt.hist(runs_at_kol, bins=[min(total_runs_match), 320, 340, 360, 370])\n",
    "plt.title(\"Total runs per match at the venue of Kolkata\")\n",
    "plt.xlabel(\"No. of runs\")\n",
    "plt.ylabel(\"Frequency\")\n",
    "plt.show()"
   ]
  },
  {
   "cell_type": "markdown",
   "metadata": {},
   "source": [
    "## Explanation:\n",
    "\n",
    "Considering the fact that Abu Dhabi offers a bowling pitch, the total no. of matches should not be expected to cross 320."
   ]
  },
  {
   "cell_type": "markdown",
   "metadata": {},
   "source": [
    "# Question 5:"
   ]
  },
  {
   "cell_type": "code",
   "execution_count": null,
   "metadata": {},
   "outputs": [],
   "source": [
    "# all deliveries faced by Rohit Sharma\n",
    "rohit = deli[deli.batsman == \"RG Sharma\"]\n",
    "rohit_out = rohit[rohit.player_dismissed.notnull()]"
   ]
  },
  {
   "cell_type": "code",
   "execution_count": null,
   "metadata": {},
   "outputs": [],
   "source": [
    "sns.countplot(rohit_out.dismissal_kind)\n",
    "plt.title(\"Dismissals of Rohit Sharma\")\n",
    "plt.xticks(rotation=90)\n",
    "plt.show()"
   ]
  },
  {
   "cell_type": "code",
   "execution_count": null,
   "metadata": {},
   "outputs": [],
   "source": [
    "sns.countplot(rohit.query(\"bowling_team == 'Kolkata Knight Riders' and player_dismissed.notnull()\").dismissal_kind)\n",
    "plt.title(\"Dismissals of Rohit Sharma against KKR\")\n",
    "plt.xticks(rotation=90)\n",
    "plt.show()"
   ]
  },
  {
   "cell_type": "code",
   "execution_count": null,
   "metadata": {},
   "outputs": [],
   "source": [
    "sns.countplot(rohit_out.dismissal_kind[-20:])\n",
    "plt.title(\"Dismissals of Rohit Sharma in the last 50 matches\")\n",
    "plt.xticks(rotation=90)\n",
    "plt.show()"
   ]
  },
  {
   "cell_type": "markdown",
   "metadata": {},
   "source": [
    "## Explanation:\n",
    "\n",
    "Rohit Sharma has been caught out majority of the times. Even in his most recent 20 IPL matches, he has been caught out 15 times. Hence, even today, Rohit Sharma can be expected to be caught out. "
   ]
  },
  {
   "cell_type": "code",
   "execution_count": 6,
   "metadata": {},
   "outputs": [],
   "source": [
    "df = mi_bat.groupby([\"match_id\", \"batsman\"], as_index=False).sum()"
   ]
  },
  {
   "cell_type": "code",
   "execution_count": 20,
   "metadata": {},
   "outputs": [
    {
     "data": {
      "text/plain": [
       "batsman\n",
       "MK Pandey            0\n",
       "R McLaren            0\n",
       "DJ Thornely          1\n",
       "RD Chahar            1\n",
       "Z Khan               2\n",
       "BB Sran              3\n",
       "MEK Hussey           3\n",
       "RP Singh             3\n",
       "AJ Finch             5\n",
       "TL Suman             6\n",
       "STR Binny            8\n",
       "SL Malinga           8\n",
       "MG Johnson          10\n",
       "AM Nayar            13\n",
       "AM Rahane           14\n",
       "GR Napier           15\n",
       "CM Gautam           15\n",
       "MJ McClenaghan      20\n",
       "BCJ Cutting         25\n",
       "LMP Simmons         29\n",
       "R Sathish           32\n",
       "Q de Kock           32\n",
       "AP Tare             34\n",
       "S Dhawan            45\n",
       "RV Uthappa          46\n",
       "N Rana              50\n",
       "AC Blizzard         51\n",
       "KD Karthik          62\n",
       "Ishan Kishan        63\n",
       "DJ Bravo            72\n",
       "JEC Franklin        74\n",
       "Harbhajan Singh     74\n",
       "CJ Anderson         75\n",
       "E Lewis             77\n",
       "HH Gibbs            79\n",
       "JC Buttler          84\n",
       "PA Patel            89\n",
       "JP Duminy          104\n",
       "KH Pandya          108\n",
       "DR Smith           109\n",
       "ST Jayasuriya      124\n",
       "SS Tiwary          132\n",
       "AS Yadav           171\n",
       "KA Pollard         233\n",
       "HH Pandya          253\n",
       "AT Rayudu          264\n",
       "SR Tendulkar       326\n",
       "RG Sharma          711\n",
       "Name: batsman_runs, dtype: int64"
      ]
     },
     "execution_count": 20,
     "metadata": {},
     "output_type": "execute_result"
    }
   ],
   "source": [
    "deli.query(\"batting_team=='Mumbai Indians' and bowling_team=='Kolkata Knight Riders'\").groupby(\"batsman\").sum()[\"batsman_runs\"].sort_values()"
   ]
  },
  {
   "cell_type": "code",
   "execution_count": 12,
   "metadata": {},
   "outputs": [
    {
     "data": {
      "text/html": [
       "<div>\n",
       "<style scoped>\n",
       "    .dataframe tbody tr th:only-of-type {\n",
       "        vertical-align: middle;\n",
       "    }\n",
       "\n",
       "    .dataframe tbody tr th {\n",
       "        vertical-align: top;\n",
       "    }\n",
       "\n",
       "    .dataframe thead th {\n",
       "        text-align: right;\n",
       "    }\n",
       "</style>\n",
       "<table border=\"1\" class=\"dataframe\">\n",
       "  <thead>\n",
       "    <tr style=\"text-align: right;\">\n",
       "      <th></th>\n",
       "      <th>match_id</th>\n",
       "      <th>batsman</th>\n",
       "      <th>inning</th>\n",
       "      <th>over</th>\n",
       "      <th>ball</th>\n",
       "      <th>is_super_over</th>\n",
       "      <th>wide_runs</th>\n",
       "      <th>bye_runs</th>\n",
       "      <th>legbye_runs</th>\n",
       "      <th>noball_runs</th>\n",
       "      <th>penalty_runs</th>\n",
       "      <th>batsman_runs</th>\n",
       "      <th>extra_runs</th>\n",
       "      <th>total_runs</th>\n",
       "    </tr>\n",
       "  </thead>\n",
       "  <tbody>\n",
       "    <tr>\n",
       "      <th>0</th>\n",
       "      <td>2</td>\n",
       "      <td>AT Rayudu</td>\n",
       "      <td>12</td>\n",
       "      <td>113</td>\n",
       "      <td>38</td>\n",
       "      <td>0</td>\n",
       "      <td>0</td>\n",
       "      <td>0</td>\n",
       "      <td>1</td>\n",
       "      <td>0</td>\n",
       "      <td>0</td>\n",
       "      <td>10</td>\n",
       "      <td>1</td>\n",
       "      <td>11</td>\n",
       "    </tr>\n",
       "    <tr>\n",
       "      <th>1</th>\n",
       "      <td>2</td>\n",
       "      <td>HH Pandya</td>\n",
       "      <td>17</td>\n",
       "      <td>316</td>\n",
       "      <td>62</td>\n",
       "      <td>0</td>\n",
       "      <td>2</td>\n",
       "      <td>1</td>\n",
       "      <td>0</td>\n",
       "      <td>0</td>\n",
       "      <td>0</td>\n",
       "      <td>35</td>\n",
       "      <td>3</td>\n",
       "      <td>38</td>\n",
       "    </tr>\n",
       "    <tr>\n",
       "      <th>2</th>\n",
       "      <td>2</td>\n",
       "      <td>JC Buttler</td>\n",
       "      <td>19</td>\n",
       "      <td>75</td>\n",
       "      <td>75</td>\n",
       "      <td>0</td>\n",
       "      <td>0</td>\n",
       "      <td>0</td>\n",
       "      <td>0</td>\n",
       "      <td>0</td>\n",
       "      <td>0</td>\n",
       "      <td>38</td>\n",
       "      <td>0</td>\n",
       "      <td>38</td>\n",
       "    </tr>\n",
       "    <tr>\n",
       "      <th>3</th>\n",
       "      <td>2</td>\n",
       "      <td>KA Pollard</td>\n",
       "      <td>17</td>\n",
       "      <td>277</td>\n",
       "      <td>62</td>\n",
       "      <td>0</td>\n",
       "      <td>0</td>\n",
       "      <td>0</td>\n",
       "      <td>0</td>\n",
       "      <td>0</td>\n",
       "      <td>0</td>\n",
       "      <td>27</td>\n",
       "      <td>0</td>\n",
       "      <td>27</td>\n",
       "    </tr>\n",
       "    <tr>\n",
       "      <th>4</th>\n",
       "      <td>2</td>\n",
       "      <td>KH Pandya</td>\n",
       "      <td>6</td>\n",
       "      <td>77</td>\n",
       "      <td>20</td>\n",
       "      <td>0</td>\n",
       "      <td>2</td>\n",
       "      <td>0</td>\n",
       "      <td>0</td>\n",
       "      <td>0</td>\n",
       "      <td>0</td>\n",
       "      <td>3</td>\n",
       "      <td>2</td>\n",
       "      <td>5</td>\n",
       "    </tr>\n",
       "    <tr>\n",
       "      <th>...</th>\n",
       "      <td>...</td>\n",
       "      <td>...</td>\n",
       "      <td>...</td>\n",
       "      <td>...</td>\n",
       "      <td>...</td>\n",
       "      <td>...</td>\n",
       "      <td>...</td>\n",
       "      <td>...</td>\n",
       "      <td>...</td>\n",
       "      <td>...</td>\n",
       "      <td>...</td>\n",
       "      <td>...</td>\n",
       "      <td>...</td>\n",
       "      <td>...</td>\n",
       "    </tr>\n",
       "    <tr>\n",
       "      <th>1407</th>\n",
       "      <td>11415</td>\n",
       "      <td>KH Pandya</td>\n",
       "      <td>7</td>\n",
       "      <td>87</td>\n",
       "      <td>24</td>\n",
       "      <td>0</td>\n",
       "      <td>0</td>\n",
       "      <td>0</td>\n",
       "      <td>0</td>\n",
       "      <td>0</td>\n",
       "      <td>0</td>\n",
       "      <td>7</td>\n",
       "      <td>0</td>\n",
       "      <td>7</td>\n",
       "    </tr>\n",
       "    <tr>\n",
       "      <th>1408</th>\n",
       "      <td>11415</td>\n",
       "      <td>MJ McClenaghan</td>\n",
       "      <td>2</td>\n",
       "      <td>38</td>\n",
       "      <td>11</td>\n",
       "      <td>0</td>\n",
       "      <td>0</td>\n",
       "      <td>0</td>\n",
       "      <td>0</td>\n",
       "      <td>0</td>\n",
       "      <td>0</td>\n",
       "      <td>0</td>\n",
       "      <td>0</td>\n",
       "      <td>0</td>\n",
       "    </tr>\n",
       "    <tr>\n",
       "      <th>1409</th>\n",
       "      <td>11415</td>\n",
       "      <td>Q de Kock</td>\n",
       "      <td>18</td>\n",
       "      <td>54</td>\n",
       "      <td>64</td>\n",
       "      <td>0</td>\n",
       "      <td>1</td>\n",
       "      <td>0</td>\n",
       "      <td>0</td>\n",
       "      <td>0</td>\n",
       "      <td>0</td>\n",
       "      <td>30</td>\n",
       "      <td>1</td>\n",
       "      <td>31</td>\n",
       "    </tr>\n",
       "    <tr>\n",
       "      <th>1410</th>\n",
       "      <td>11415</td>\n",
       "      <td>RD Chahar</td>\n",
       "      <td>2</td>\n",
       "      <td>38</td>\n",
       "      <td>7</td>\n",
       "      <td>0</td>\n",
       "      <td>0</td>\n",
       "      <td>0</td>\n",
       "      <td>0</td>\n",
       "      <td>0</td>\n",
       "      <td>0</td>\n",
       "      <td>0</td>\n",
       "      <td>0</td>\n",
       "      <td>0</td>\n",
       "    </tr>\n",
       "    <tr>\n",
       "      <th>1411</th>\n",
       "      <td>11415</td>\n",
       "      <td>RG Sharma</td>\n",
       "      <td>14</td>\n",
       "      <td>46</td>\n",
       "      <td>45</td>\n",
       "      <td>0</td>\n",
       "      <td>0</td>\n",
       "      <td>0</td>\n",
       "      <td>0</td>\n",
       "      <td>0</td>\n",
       "      <td>0</td>\n",
       "      <td>15</td>\n",
       "      <td>0</td>\n",
       "      <td>15</td>\n",
       "    </tr>\n",
       "  </tbody>\n",
       "</table>\n",
       "<p>1412 rows × 14 columns</p>\n",
       "</div>"
      ],
      "text/plain": [
       "      match_id         batsman  inning  over  ball  is_super_over  wide_runs  \\\n",
       "0            2       AT Rayudu      12   113    38              0          0   \n",
       "1            2       HH Pandya      17   316    62              0          2   \n",
       "2            2      JC Buttler      19    75    75              0          0   \n",
       "3            2      KA Pollard      17   277    62              0          0   \n",
       "4            2       KH Pandya       6    77    20              0          2   \n",
       "...        ...             ...     ...   ...   ...            ...        ...   \n",
       "1407     11415       KH Pandya       7    87    24              0          0   \n",
       "1408     11415  MJ McClenaghan       2    38    11              0          0   \n",
       "1409     11415       Q de Kock      18    54    64              0          1   \n",
       "1410     11415       RD Chahar       2    38     7              0          0   \n",
       "1411     11415       RG Sharma      14    46    45              0          0   \n",
       "\n",
       "      bye_runs  legbye_runs  noball_runs  penalty_runs  batsman_runs  \\\n",
       "0            0            1            0             0            10   \n",
       "1            1            0            0             0            35   \n",
       "2            0            0            0             0            38   \n",
       "3            0            0            0             0            27   \n",
       "4            0            0            0             0             3   \n",
       "...        ...          ...          ...           ...           ...   \n",
       "1407         0            0            0             0             7   \n",
       "1408         0            0            0             0             0   \n",
       "1409         0            0            0             0            30   \n",
       "1410         0            0            0             0             0   \n",
       "1411         0            0            0             0            15   \n",
       "\n",
       "      extra_runs  total_runs  \n",
       "0              1          11  \n",
       "1              3          38  \n",
       "2              0          38  \n",
       "3              0          27  \n",
       "4              2           5  \n",
       "...          ...         ...  \n",
       "1407           0           7  \n",
       "1408           0           0  \n",
       "1409           1          31  \n",
       "1410           0           0  \n",
       "1411           0          15  \n",
       "\n",
       "[1412 rows x 14 columns]"
      ]
     },
     "execution_count": 12,
     "metadata": {},
     "output_type": "execute_result"
    }
   ],
   "source": [
    "df"
   ]
  },
  {
   "cell_type": "code",
   "execution_count": null,
   "metadata": {},
   "outputs": [],
   "source": []
  }
 ],
 "metadata": {
  "kernelspec": {
   "display_name": "Python 3",
   "language": "python",
   "name": "python3"
  },
  "language_info": {
   "codemirror_mode": {
    "name": "ipython",
    "version": 3
   },
   "file_extension": ".py",
   "mimetype": "text/x-python",
   "name": "python",
   "nbconvert_exporter": "python",
   "pygments_lexer": "ipython3",
   "version": "3.7.6"
  }
 },
 "nbformat": 4,
 "nbformat_minor": 4
}
