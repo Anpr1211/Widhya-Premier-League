{
 "cells": [
  {
   "cell_type": "code",
   "execution_count": null,
   "metadata": {},
   "outputs": [],
   "source": [
    "# import library\n",
    "library(dplyr)"
   ]
  },
  {
   "cell_type": "code",
   "execution_count": null,
   "metadata": {},
   "outputs": [],
   "source": [
    "# read datasets\n",
    "matches = read.csv(\"matches.csv\")\n",
    "deli = read.csv(\"deliveries.csv\")"
   ]
  },
  {
   "cell_type": "markdown",
   "metadata": {},
   "source": [
    "# Question 1:"
   ]
  },
  {
   "cell_type": "code",
   "execution_count": null,
   "metadata": {},
   "outputs": [],
   "source": [
    "# teams playing today's match\n",
    "teams = c(\"Kings XI Punjab\", \"Rajasthan Royals\")"
   ]
  },
  {
   "cell_type": "code",
   "execution_count": null,
   "metadata": {},
   "outputs": [],
   "source": [
    "# all matches between KXIP and RR\n",
    "kxip_rr= subset(matches, (team1 %in% teams & team2 %in% teams))\n",
    "\n",
    "head(kxip_rr)"
   ]
  },
  {
   "cell_type": "code",
   "execution_count": null,
   "metadata": {},
   "outputs": [],
   "source": [
    "kxip_rr$winner"
   ]
  },
  {
   "cell_type": "code",
   "execution_count": null,
   "metadata": {},
   "outputs": [],
   "source": [
    "# victories of the teams against each other\n",
    "count(kxip_rr, winner)"
   ]
  },
  {
   "cell_type": "code",
   "execution_count": null,
   "metadata": {},
   "outputs": [],
   "source": [
    "# matches of KXIP\n",
    "kxip = subset(matches, (team1 == 'Kings XI Punjab'| team2 == 'Kings XI Punjab' ))"
   ]
  },
  {
   "cell_type": "code",
   "execution_count": null,
   "metadata": {},
   "outputs": [],
   "source": [
    "# total no. of matches played by KXIP\n",
    "nrow(kxip)"
   ]
  },
  {
   "cell_type": "code",
   "execution_count": null,
   "metadata": {},
   "outputs": [],
   "source": [
    "# winners in those matches\n",
    "count(kxip, winner)"
   ]
  },
  {
   "cell_type": "code",
   "execution_count": null,
   "metadata": {},
   "outputs": [],
   "source": [
    "# win ratio of KXIP\n",
    "82/176"
   ]
  },
  {
   "cell_type": "code",
   "execution_count": null,
   "metadata": {},
   "outputs": [],
   "source": [
    "# matches of RR\n",
    "rr = subset(matches, (team1 == 'Rajasthan Royals'| team2 == 'Rajasthan Royals' ))"
   ]
  },
  {
   "cell_type": "code",
   "execution_count": null,
   "metadata": {},
   "outputs": [],
   "source": [
    "# total no. of matches played by RR\n",
    "nrow(rr)"
   ]
  },
  {
   "cell_type": "code",
   "execution_count": null,
   "metadata": {},
   "outputs": [],
   "source": [
    "# winners in those matches\n",
    "count(rr, winner)"
   ]
  },
  {
   "cell_type": "code",
   "execution_count": null,
   "metadata": {},
   "outputs": [],
   "source": [
    "# win ratio of RR\n",
    "75/147"
   ]
  },
  {
   "cell_type": "markdown",
   "metadata": {},
   "source": [
    "# Question 2:"
   ]
  },
  {
   "cell_type": "code",
   "execution_count": null,
   "metadata": {},
   "outputs": [],
   "source": [
    "# batsmen playing in today's match\n",
    "batsman = c('KL Rahul', 'Mandeep Singh', 'CH Gayle', 'N Pooran', 'GJ Maxwell', 'DJ Hooda',\n",
    "           'RV Uthappa', 'BA Stokes', 'SV Samson', 'JC Buttler', 'SPD Smith', 'R Parag')"
   ]
  },
  {
   "cell_type": "code",
   "execution_count": null,
   "metadata": {},
   "outputs": [],
   "source": [
    "# function to get the runs through boundaries to total runs ratio\n",
    "get_boundary_ratio = function(b_name){\n",
    "    # grouping by matches and calculating the balls played and total runs scored per match\n",
    "    runs = subset(deli, with(deli, grepl(b_name, batsman))) %>% group_by(match_id) %>% summarise(balls = n(), \n",
    "                                                                                             total_runs = sum(batsman_runs))\n",
    "\n",
    "    # calculating the runs scored through boundaries per match\n",
    "    boundaries = subset(deli, with(deli, grepl(b_name, batsman)) & batsman_runs %in% c(4, 6) ) %>% group_by(match_id) %>% summarise(boundary_runs = sum(batsman_runs))\n",
    "    \n",
    "    # merging the two dataframes\n",
    "    data = merge(runs, boundaries)\n",
    "\n",
    "    # filtering out the matches in which the batsman played less than 10 balls\n",
    "    data = subset(data, balls >= 10)\n",
    "\n",
    "    # calculating the ratio\n",
    "    data$ratio = data$boundary_runs/data$total_runs\n",
    "    \n",
    "    # returning the statistical measures\n",
    "    return (summary(data$ratio))\n",
    "}"
   ]
  },
  {
   "cell_type": "code",
   "execution_count": null,
   "metadata": {},
   "outputs": [],
   "source": [
    "# for loop to iterate over the batsman names\n",
    "for (b_name in batsman){\n",
    "    # print batsman name\n",
    "    print(b_name)\n",
    "    # printing the statistical measures \n",
    "    print(get_boundary_ratio(b_name))\n",
    "}"
   ]
  },
  {
   "cell_type": "markdown",
   "metadata": {},
   "source": [
    "# Question 4:"
   ]
  },
  {
   "cell_type": "code",
   "execution_count": null,
   "metadata": {},
   "outputs": [],
   "source": [
    "# all dot balls per match in IPL\n",
    "dots = subset(deli, total_runs == 0) %>% group_by(match_id) %>% summarise(dot_balls=n())\n",
    "\n",
    "# histogram\n",
    "hist(dots$dot_balls, freq=TRUE, breaks=c(0, 60, 90, 120, max(dots$dot_balls)))"
   ]
  },
  {
   "cell_type": "code",
   "execution_count": null,
   "metadata": {},
   "outputs": [],
   "source": [
    "# all deliveries in KXIP vs RR matches\n",
    "deli_kxip_rr = subset(deli, bowling_team %in% teams & batting_team %in% teams)\n",
    "\n",
    "# all dot balls in KXIP vs RR matches\n",
    "dots_kxip_rr = subset(deli_kxip_rr, total_runs == 0) %>% group_by(match_id) %>% summarise(dot_balls=n())\n",
    "\n",
    "# histogram\n",
    "hist(dots_kxip_rr$dot_balls, freq=TRUE, breaks=c(0, 60, 90, 120, max(dots_kxip_rr$dot_balls)))"
   ]
  },
  {
   "cell_type": "code",
   "execution_count": null,
   "metadata": {},
   "outputs": [],
   "source": [
    "# all deliveries faced by KXIP\n",
    "deli_kxip_bat = subset(deli, batting_team == 'Kings XI Punjab')\n",
    "\n",
    "# all dot balls by KXIP\n",
    "dots_kxip = subset(deli_kxip_bat, total_runs == 0) %>% group_by(match_id) %>% summarise(dot_balls=n())\n",
    "\n",
    "# statistical measures\n",
    "summary(dots_kxip$dot_balls)"
   ]
  },
  {
   "cell_type": "code",
   "execution_count": null,
   "metadata": {},
   "outputs": [],
   "source": [
    "# all deliveries faced by RR\n",
    "deli_rr_bat = subset(deli, batting_team == 'Rajasthan Royals')\n",
    "\n",
    "# all dot balls by RR\n",
    "dots_rr = subset(deli_rr_bat, total_runs == 0) %>% group_by(match_id) %>% summarise(dot_balls=n())\n",
    "\n",
    "# statistical measures\n",
    "summary(dots_rr$dot_balls)"
   ]
  },
  {
   "cell_type": "markdown",
   "metadata": {},
   "source": [
    "# Question 5:"
   ]
  },
  {
   "cell_type": "code",
   "execution_count": null,
   "metadata": {},
   "outputs": [],
   "source": [
    "# all deliveries bowled by Shami\n",
    "shami = subset(deli, with(deli, grepl(\"Shami\", bowler)) )\n",
    "\n",
    "head(shami)"
   ]
  },
  {
   "cell_type": "code",
   "execution_count": null,
   "metadata": {},
   "outputs": [],
   "source": [
    "# function to get the balls taken for the first wicket\n",
    "get_balls_for_wicket = function(data){\n",
    "    \n",
    "    # empty list to store the number of balls taken to get the 1st wicket\n",
    "    wickets = numeric()\n",
    "    \n",
    "    # iterating over all the matches\n",
    "    for (m_id in unique(data$match_id)){\n",
    "        # making a dataframe of all the balls bowled in the match and storing the index \n",
    "        # to directly find the number of balls\n",
    "        balls = row.names(subset(data, (match_id == m_id)))\n",
    "\n",
    "        # get the index of the 1st wicket taken by Rashid\n",
    "        first_wicket_df = subset(data, (match_id == m_id & player_dismissed != \"\"))\n",
    "        first_wicket = as.integer(row.names(first_wicket_df)[1])\n",
    "        \n",
    "        # append the value to the list\n",
    "        if (!is.null(first_wicket)){\n",
    "            wickets = c(wickets, balls %>% match(x=first_wicket))\n",
    "        }\n",
    "    }\n",
    "    # in case of matches, where he did not get any wicket, add a 0\n",
    "    wickets[is.na(wickets)] = 0\n",
    "    \n",
    "    # return the result\n",
    "    return (wickets)\n",
    "    }"
   ]
  },
  {
   "cell_type": "code",
   "execution_count": null,
   "metadata": {},
   "outputs": [],
   "source": [
    "# balls taken to get the 1st wicket in all IPL matches\n",
    "wickets = get_balls_for_wicket(shami)\n",
    "\n",
    "wickets"
   ]
  },
  {
   "cell_type": "code",
   "execution_count": null,
   "metadata": {},
   "outputs": [],
   "source": [
    "# Shami did not take a wicket in 14 out of 49 matches\n",
    "table(wickets)"
   ]
  },
  {
   "cell_type": "code",
   "execution_count": null,
   "metadata": {},
   "outputs": [],
   "source": [
    "# histogram\n",
    "hist(wickets[wickets!=0], freq=TRUE, breaks=c(0, 6, 12, 18, max(wickets)))"
   ]
  },
  {
   "cell_type": "code",
   "execution_count": null,
   "metadata": {},
   "outputs": [],
   "source": [
    "# all deliveries bowled against RR\n",
    "shami_rr = subset(shami, batting_team == 'Rajasthan Royals')"
   ]
  },
  {
   "cell_type": "code",
   "execution_count": null,
   "metadata": {},
   "outputs": [],
   "source": [
    "# balls taken to get the 1st wicket in matches against RR\n",
    "wickets_rr = get_balls_for_wicket(shami_rr)\n",
    "\n",
    "wickets_rr"
   ]
  }
 ],
 "metadata": {
  "kernelspec": {
   "display_name": "R",
   "language": "R",
   "name": "ir"
  },
  "language_info": {
   "codemirror_mode": "r",
   "file_extension": ".r",
   "mimetype": "text/x-r-source",
   "name": "R",
   "pygments_lexer": "r",
   "version": "3.5.1"
  }
 },
 "nbformat": 4,
 "nbformat_minor": 4
}
