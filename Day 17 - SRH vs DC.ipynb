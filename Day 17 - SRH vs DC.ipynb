{
 "cells": [
  {
   "cell_type": "code",
   "execution_count": null,
   "metadata": {},
   "outputs": [],
   "source": [
    "# import library\n",
    "library(dplyr)"
   ]
  },
  {
   "cell_type": "code",
   "execution_count": null,
   "metadata": {},
   "outputs": [],
   "source": [
    "# read datasets\n",
    "matches = read.csv(\"matches.csv\")\n",
    "deli = read.csv(\"deliveries.csv\")"
   ]
  },
  {
   "cell_type": "markdown",
   "metadata": {},
   "source": [
    "# Question 1:"
   ]
  },
  {
   "cell_type": "code",
   "execution_count": null,
   "metadata": {},
   "outputs": [],
   "source": [
    "# teams playing today's match\n",
    "teams = c(\"Sunrisers Hyderabad\", \"Deccan Chargers\", \"Delhi Capitals\", \"Delhi Daredevils\")"
   ]
  },
  {
   "cell_type": "code",
   "execution_count": null,
   "metadata": {},
   "outputs": [],
   "source": [
    "# all matches between SRH and DC\n",
    "srh_dc = subset(matches, (team1 %in% teams & team2 %in% teams))"
   ]
  },
  {
   "cell_type": "code",
   "execution_count": null,
   "metadata": {},
   "outputs": [],
   "source": [
    "srh_dc$winner"
   ]
  },
  {
   "cell_type": "code",
   "execution_count": null,
   "metadata": {},
   "outputs": [],
   "source": [
    "# victories of the teams against each other\n",
    "count(srh_dc, winner)"
   ]
  },
  {
   "cell_type": "code",
   "execution_count": null,
   "metadata": {},
   "outputs": [],
   "source": [
    "# matches of SRH\n",
    "srh = subset(matches, (team1 %in% c(\"Sunrisers Hyderabad\", \"Deccan Chargers\") | team2 %in% c(\"Sunrisers Hyderabad\", \"Deccan Chargers\") ))"
   ]
  },
  {
   "cell_type": "code",
   "execution_count": null,
   "metadata": {},
   "outputs": [],
   "source": [
    "# total no. of matches played by SRH\n",
    "nrow(srh)"
   ]
  },
  {
   "cell_type": "code",
   "execution_count": null,
   "metadata": {},
   "outputs": [],
   "source": [
    "# winners in those matches\n",
    "count(srh, winner)"
   ]
  },
  {
   "cell_type": "code",
   "execution_count": null,
   "metadata": {},
   "outputs": [],
   "source": [
    "# win ratio of SRH\n",
    "(29+58)/183"
   ]
  },
  {
   "cell_type": "code",
   "execution_count": null,
   "metadata": {},
   "outputs": [],
   "source": [
    "# matches of DC\n",
    "dc = subset(matches, (team1 %in% c(\"Delhi Daredevils\", \"Delhi Capitals\") | team2 %in% c(\"Delhi Daredevils\", \"Delhi Capitals\") ))"
   ]
  },
  {
   "cell_type": "code",
   "execution_count": null,
   "metadata": {},
   "outputs": [],
   "source": [
    "# total no. of matches played by DC\n",
    "nrow(dc)"
   ]
  },
  {
   "cell_type": "code",
   "execution_count": null,
   "metadata": {},
   "outputs": [],
   "source": [
    "# winners in those matches\n",
    "count(dc, winner)"
   ]
  },
  {
   "cell_type": "code",
   "execution_count": null,
   "metadata": {},
   "outputs": [],
   "source": [
    "# win ratio of DC\n",
    "(67+10)/177"
   ]
  },
  {
   "cell_type": "markdown",
   "metadata": {},
   "source": [
    "# Question 2:"
   ]
  },
  {
   "cell_type": "code",
   "execution_count": null,
   "metadata": {},
   "outputs": [],
   "source": [
    "# total runs made in each IPL match\n",
    "total_runs = deli %>% group_by(match_id) %>% summarise(runs = sum(total_runs))\n",
    "\n",
    "head(total_runs)"
   ]
  },
  {
   "cell_type": "code",
   "execution_count": null,
   "metadata": {},
   "outputs": [],
   "source": [
    "# histogram\n",
    "hist(total_runs$runs, freq=TRUE, breaks=c(0, 320, 340, 360, max(total_runs$runs)))"
   ]
  },
  {
   "cell_type": "code",
   "execution_count": null,
   "metadata": {},
   "outputs": [],
   "source": [
    "# all deliveries in SRH vs DC matches\n",
    "srh_dc_deli = subset(deli, (bowling_team %in% teams & batting_team %in% teams))\n",
    "\n",
    "head(srh_dc_deli)"
   ]
  },
  {
   "cell_type": "code",
   "execution_count": null,
   "metadata": {},
   "outputs": [],
   "source": [
    "# total runs in SRH vs DC matches\n",
    "runs_srh_dc = srh_dc_deli %>% group_by(match_id) %>% summarise(runs = sum(total_runs))\n",
    "\n",
    "head(runs_srh_dc)"
   ]
  },
  {
   "cell_type": "code",
   "execution_count": null,
   "metadata": {},
   "outputs": [],
   "source": [
    "# histogram\n",
    "hist(runs_srh_dc$runs, freq=TRUE, breaks=c(0, 320, 340, 360, max(runs_srh_dc$runs)))"
   ]
  },
  {
   "cell_type": "code",
   "execution_count": null,
   "metadata": {},
   "outputs": [],
   "source": [
    "# all deliveries faced by SRH\n",
    "srh_bat = subset(deli, batting_team %in% c('Sunrisers Hyderabad', 'Deccan Chargers'))\n",
    "\n",
    "head(srh_bat)"
   ]
  },
  {
   "cell_type": "code",
   "execution_count": null,
   "metadata": {},
   "outputs": [],
   "source": [
    "# runs scored by SRH per match\n",
    "runs_srh = srh_bat %>% group_by(match_id) %>% summarise(runs = sum(total_runs))\n",
    "\n",
    "head(runs_srh)"
   ]
  },
  {
   "cell_type": "code",
   "execution_count": null,
   "metadata": {},
   "outputs": [],
   "source": [
    "# statistical measures\n",
    "summary(runs_srh$runs)"
   ]
  },
  {
   "cell_type": "code",
   "execution_count": null,
   "metadata": {},
   "outputs": [],
   "source": [
    "# all deliveries faced by DC\n",
    "dc_bat = subset(deli, batting_team %in% c('Delhi Daredevils', 'Delhi Capitals'))\n",
    "\n",
    "head(dc_bat)"
   ]
  },
  {
   "cell_type": "code",
   "execution_count": null,
   "metadata": {},
   "outputs": [],
   "source": [
    "# runs scored by DC per match\n",
    "runs_dc = dc_bat %>% group_by(match_id) %>% summarise(runs = sum(total_runs))\n",
    "\n",
    "head(runs_dc)"
   ]
  },
  {
   "cell_type": "code",
   "execution_count": null,
   "metadata": {},
   "outputs": [],
   "source": [
    "# statistical measures\n",
    "summary(runs_dc$runs)"
   ]
  },
  {
   "cell_type": "markdown",
   "metadata": {},
   "source": [
    "# Question 3:"
   ]
  },
  {
   "cell_type": "code",
   "execution_count": null,
   "metadata": {},
   "outputs": [],
   "source": [
    "# frequency table of wickets that SRH loses in a match as caught\n",
    "count(subset(srh_bat, (player_dismissed != \"\" & dismissal_kind %in% c('caught', 'caught and bowled'))) %>% group_by(match_id) %>% summarise(wickets = n()), wickets)"
   ]
  },
  {
   "cell_type": "code",
   "execution_count": null,
   "metadata": {},
   "outputs": [],
   "source": [
    "# frequency table of wickets that DC loses in a match as caught\n",
    "count(subset(dc_bat, (player_dismissed != \"\" & dismissal_kind %in% c('caught', 'caught and bowled'))) %>% group_by(match_id) %>% summarise(wickets = n()), wickets)"
   ]
  },
  {
   "cell_type": "code",
   "execution_count": null,
   "metadata": {},
   "outputs": [],
   "source": [
    "# frequency table of wickets that are lost in an IPL match as caught\n",
    "count(subset(deli, (player_dismissed != \"\" & dismissal_kind %in% c('caught', 'caught and bowled'))) %>% group_by(match_id) %>% summarise(wickets = n()), wickets)"
   ]
  },
  {
   "cell_type": "markdown",
   "metadata": {},
   "source": [
    "# Question 4:"
   ]
  },
  {
   "cell_type": "code",
   "execution_count": null,
   "metadata": {},
   "outputs": [],
   "source": [
    "# all deliveries faced by SRH in the 1-6 overs\n",
    "srh_deli_bat = subset(deli, (batting_team %in% c('Sunrisers Hyderabad', 'Deccan Chargers')  & over %in% c(1:6)))\n",
    "\n",
    "head(srh_deli_bat)"
   ]
  },
  {
   "cell_type": "code",
   "execution_count": null,
   "metadata": {},
   "outputs": [],
   "source": [
    "# statistical measures\n",
    "summary(srh_deli_bat %>% group_by(match_id) %>% summarise(runs = sum(total_runs)))"
   ]
  },
  {
   "cell_type": "code",
   "execution_count": null,
   "metadata": {},
   "outputs": [],
   "source": [
    "# all deliveries faced by DC in the 1-6 overs\n",
    "dc_deli_bat = subset(deli, (batting_team %in% c('Delhi Daredevils', 'Delhi Capitals')  & over %in% c(1:6)))\n",
    "\n",
    "head(dc_deli_bat)"
   ]
  },
  {
   "cell_type": "code",
   "execution_count": null,
   "metadata": {},
   "outputs": [],
   "source": [
    "# statistical measures\n",
    "summary(dc_deli_bat %>% group_by(match_id) %>% summarise(runs = sum(total_runs)))"
   ]
  },
  {
   "cell_type": "code",
   "execution_count": null,
   "metadata": {},
   "outputs": [],
   "source": [
    "# runs scored by DC against SRH\n",
    "dc_runs = subset(srh_dc_deli, (batting_team %in% c('Delhi Daredevils', 'Delhi Capitals')  & over %in% c(1:6))) %>% group_by(match_id) %>% summarise(runs_dc = sum(total_runs))"
   ]
  },
  {
   "cell_type": "code",
   "execution_count": null,
   "metadata": {},
   "outputs": [],
   "source": [
    "# runs scored by SRH against DC\n",
    "srh_runs = subset(srh_dc_deli, (batting_team %in% c('Sunrisers Hyderabad', 'Deccan Chargers')  & over %in% c(1:6))) %>% group_by(match_id) %>% summarise(runs_srh = sum(total_runs))"
   ]
  },
  {
   "cell_type": "code",
   "execution_count": null,
   "metadata": {},
   "outputs": [],
   "source": [
    "# merging the two dataframes\n",
    "data = merge(srh_runs, dc_runs)\n",
    "\n",
    "# calculating the differences in scores\n",
    "data$diff = abs(data$runs_srh - data$runs_dc)"
   ]
  },
  {
   "cell_type": "code",
   "execution_count": null,
   "metadata": {},
   "outputs": [],
   "source": [
    "# displaying the dataframe\n",
    "tail(data)"
   ]
  },
  {
   "cell_type": "code",
   "execution_count": null,
   "metadata": {},
   "outputs": [],
   "source": [
    "# histogram\n",
    "hist(data$diff, freq=TRUE, breaks=c(0, 5, 14, 23, max(data$diff)))"
   ]
  },
  {
   "cell_type": "markdown",
   "metadata": {},
   "source": [
    "# Question 5:"
   ]
  },
  {
   "cell_type": "code",
   "execution_count": null,
   "metadata": {},
   "outputs": [],
   "source": [
    "# extras in each IPL match\n",
    "extras = subset(deli, (extra_runs!=0)) %>% group_by(match_id) %>% summarise(extras = n())"
   ]
  },
  {
   "cell_type": "code",
   "execution_count": null,
   "metadata": {},
   "outputs": [],
   "source": [
    "# histogram\n",
    "hist(extras$extras, freq=TRUE, breaks=c(0, 8, 12, 18, max(extras$extras)))"
   ]
  },
  {
   "cell_type": "code",
   "execution_count": null,
   "metadata": {},
   "outputs": [],
   "source": [
    "# extras in SRH vs DC matches\n",
    "extras_srh_dc = subset(srh_dc_deli, (extra_runs!=0)) %>% group_by(match_id) %>% summarise(extras = n())"
   ]
  },
  {
   "cell_type": "code",
   "execution_count": null,
   "metadata": {},
   "outputs": [],
   "source": [
    "# histogram\n",
    "hist(extras_srh_dc $extras, freq=TRUE, breaks=c(0, 8, 12, 18, max(extras_srh_dc$extras)))"
   ]
  },
  {
   "cell_type": "code",
   "execution_count": null,
   "metadata": {},
   "outputs": [],
   "source": [
    "# all deliveries bowled by SRH\n",
    "srh_bowl = subset(deli, (bowling_team %in% c('Sunrisers Hyderabad', 'Deccan Chargers')))\n",
    "\n",
    "head(srh_bowl)"
   ]
  },
  {
   "cell_type": "code",
   "execution_count": null,
   "metadata": {},
   "outputs": [],
   "source": [
    "# extras bowled by SRH\n",
    "extras_srh = subset(srh_bowl, (extra_runs!=0)) %>% group_by(match_id) %>% summarise(extras = n())\n",
    "\n",
    "summary(extras_srh$extras)"
   ]
  },
  {
   "cell_type": "code",
   "execution_count": null,
   "metadata": {},
   "outputs": [],
   "source": [
    "# all deliveries bowled by DC\n",
    "dc_bowl = subset(deli, (bowling_team %in% c('Delhi Daredevils', 'Delhi Capitals')))\n",
    "\n",
    "head(dc_bowl)"
   ]
  },
  {
   "cell_type": "code",
   "execution_count": null,
   "metadata": {},
   "outputs": [],
   "source": [
    "# extras bowled by DC\n",
    "extras_dc = subset(dc_bowl, (extra_runs!=0)) %>% group_by(match_id) %>% summarise(extras = n())\n",
    "\n",
    "summary(extras_dc$extras)"
   ]
  }
 ],
 "metadata": {
  "kernelspec": {
   "display_name": "R",
   "language": "R",
   "name": "ir"
  },
  "language_info": {
   "codemirror_mode": "r",
   "file_extension": ".r",
   "mimetype": "text/x-r-source",
   "name": "R",
   "pygments_lexer": "r",
   "version": "3.5.1"
  }
 },
 "nbformat": 4,
 "nbformat_minor": 4
}
