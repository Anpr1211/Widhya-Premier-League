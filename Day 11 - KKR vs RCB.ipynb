{
 "cells": [
  {
   "cell_type": "code",
   "execution_count": null,
   "metadata": {},
   "outputs": [],
   "source": [
    "# import libraries\n",
    "import pandas as pd\n",
    "import numpy as np\n",
    "import matplotlib.pyplot as plt\n",
    "import seaborn as sns"
   ]
  },
  {
   "cell_type": "code",
   "execution_count": null,
   "metadata": {},
   "outputs": [],
   "source": [
    "# read dataset\n",
    "matches = pd.read_csv(\"matches.csv\")\n",
    "deli = pd.read_csv(\"deliveries.csv\")"
   ]
  },
  {
   "cell_type": "markdown",
   "metadata": {},
   "source": [
    "# Question 1:"
   ]
  },
  {
   "cell_type": "code",
   "execution_count": null,
   "metadata": {},
   "outputs": [],
   "source": [
    "# all matches between KKR and RCB\n",
    "kkr_rcb = matches.query(\"team1.isin(['Kolkata Knight Riders', 'Royal Challengers Bangalore']) and team2.isin(['Kolkata Knight Riders', 'Royal Challengers Bangalore'])\")"
   ]
  },
  {
   "cell_type": "code",
   "execution_count": null,
   "metadata": {},
   "outputs": [],
   "source": [
    "# victories of the two teams against each other \n",
    "kkr_rcb.winner.value_counts()"
   ]
  },
  {
   "cell_type": "code",
   "execution_count": null,
   "metadata": {},
   "outputs": [],
   "source": [
    "# matches of KKR\n",
    "kkr = matches.query(\"team1 == 'Kolkata Knight Riders' or team2 == 'Kolkata Knight Riders'\")\n",
    "len(kkr)"
   ]
  },
  {
   "cell_type": "code",
   "execution_count": null,
   "metadata": {},
   "outputs": [],
   "source": [
    "# count of winners in KKR matches\n",
    "kkr.winner.value_counts()"
   ]
  },
  {
   "cell_type": "code",
   "execution_count": null,
   "metadata": {},
   "outputs": [],
   "source": [
    "# KKR win ratio\n",
    "92/178"
   ]
  },
  {
   "cell_type": "code",
   "execution_count": null,
   "metadata": {},
   "outputs": [],
   "source": [
    "# matches of RCB\n",
    "rcb = matches.query(\"team1 == 'Royal Challengers Bangalore' or team2 == 'Royal Challengers Bangalore'\")\n",
    "len(rcb)"
   ]
  },
  {
   "cell_type": "code",
   "execution_count": null,
   "metadata": {},
   "outputs": [],
   "source": [
    "# count of winners in RCB matches\n",
    "rcb.winner.value_counts()"
   ]
  },
  {
   "cell_type": "code",
   "execution_count": null,
   "metadata": {},
   "outputs": [],
   "source": [
    "# RCB win ratio\n",
    "84/180"
   ]
  },
  {
   "cell_type": "markdown",
   "metadata": {},
   "source": [
    "# Explanation:\n",
    "\n",
    "Based on historical data alone, it seems that KKR will be the winner of today's match."
   ]
  },
  {
   "cell_type": "markdown",
   "metadata": {},
   "source": [
    "# Question 2:"
   ]
  },
  {
   "cell_type": "code",
   "execution_count": null,
   "metadata": {},
   "outputs": [],
   "source": [
    "# all deliveries faced by RCB in the 6th-20th overs\n",
    "rcb_bat = deli[deli.batting_team == \"Royal Challengers Bangalore\"].query(\"over.isin([6, 7, 8, 9, 10, 11, 12, 13, 14, 15, 16, 17, 18, 19, 20])\")"
   ]
  },
  {
   "cell_type": "code",
   "execution_count": null,
   "metadata": {},
   "outputs": [],
   "source": [
    "# wickets lost by RCB in the 6th-20th overs \n",
    "wickets = rcb_bat.groupby(\"match_id\", as_index=False).count()[[\"match_id\", \"player_dismissed\"]]"
   ]
  },
  {
   "cell_type": "code",
   "execution_count": null,
   "metadata": {},
   "outputs": [],
   "source": [
    "# histogram\n",
    "plt.hist(wickets[\"player_dismissed\"], bins=[0, 2, 4, 5, 10])\n",
    "plt.title(\"Wickets lost by RCB in the 6th-20th overs\")\n",
    "plt.xlabel(\"No. of wickets\")\n",
    "plt.ylabel(\"Frequency\")\n",
    "plt.show()"
   ]
  },
  {
   "cell_type": "code",
   "execution_count": null,
   "metadata": {},
   "outputs": [],
   "source": [
    "# renaming column\n",
    "matches = matches.rename(columns={\"id\":\"match_id\"})"
   ]
  },
  {
   "cell_type": "code",
   "execution_count": null,
   "metadata": {},
   "outputs": [],
   "source": [
    "# merging the wickets dataframe with the matches dataframe\n",
    "merge_data = wickets.merge(matches, on=\"match_id\")\n",
    "\n",
    "# histogram\n",
    "plt.hist(merge_data[merge_data.season.isin([2018, 2019])][\"player_dismissed\"], bins=[0, 2, 4, 5, 10])\n",
    "plt.title(\"Wickets lost by RCB in the 6th-20th overs in the last two seasons\")\n",
    "plt.xlabel(\"No. of wickets\")\n",
    "plt.ylabel(\"Frequency\")\n",
    "plt.show()"
   ]
  },
  {
   "cell_type": "code",
   "execution_count": null,
   "metadata": {},
   "outputs": [],
   "source": [
    "# wickets lost by RCB in the 16th-20th overs ag. KKR\n",
    "wickets_kkr = merge_data.query(\"team1 == 'Kolkata Knight Riders' or team2 == 'Kolkata Knight Riders'\")\n",
    "\n",
    "# histogram\n",
    "plt.hist(wickets_kkr[\"player_dismissed\"], bins=[0, 2, 4, 5, 10])\n",
    "plt.title(\"Wickets lost by RCB ag. KKR in the 6th-20th overs\")\n",
    "plt.xlabel(\"No. of wickets\")\n",
    "plt.ylabel(\"Frequency\")\n",
    "plt.show()"
   ]
  },
  {
   "cell_type": "markdown",
   "metadata": {},
   "source": [
    "# Explanation:\n",
    "\n",
    "Considering the previous years' data, RCB tend to lose 5 or wickets in the 6th to 20th overs, and this patterned has been followed in the last two seasons and against KKR as well. Hence RCB can be expected to lose 5 or more wickets in the 6th to 20th overs today."
   ]
  },
  {
   "cell_type": "markdown",
   "metadata": {},
   "source": [
    "# Question 3:"
   ]
  },
  {
   "cell_type": "code",
   "execution_count": null,
   "metadata": {},
   "outputs": [],
   "source": [
    "# deliveries faced by AB de Villiers\n",
    "abd = deli[deli.batsman == \"AB de Villiers\"]"
   ]
  },
  {
   "cell_type": "code",
   "execution_count": null,
   "metadata": {},
   "outputs": [],
   "source": [
    "# no. of matches played by him in IPL\n",
    "len(abd.match_id.unique())"
   ]
  },
  {
   "cell_type": "code",
   "execution_count": null,
   "metadata": {},
   "outputs": [],
   "source": [
    "# total runs made by him in each of the matches\n",
    "abd_30 = abd.groupby(\"match_id\", as_index=False).sum()[[\"match_id\", \"batsman_runs\"]]"
   ]
  },
  {
   "cell_type": "code",
   "execution_count": null,
   "metadata": {},
   "outputs": [],
   "source": [
    "# no. of matches in which he did not cross the score of 30\n",
    "len(abd_30[abd_30.batsman_runs <= 30])"
   ]
  },
  {
   "cell_type": "code",
   "execution_count": null,
   "metadata": {},
   "outputs": [],
   "source": [
    "# % of matches in which he did not cross the score of 30\n",
    "86/142"
   ]
  },
  {
   "cell_type": "markdown",
   "metadata": {},
   "source": [
    "AB de Villiers does not cross the score of 30 in 60% of the matches."
   ]
  },
  {
   "cell_type": "code",
   "execution_count": null,
   "metadata": {},
   "outputs": [],
   "source": [
    "# merging the deliveries with the matches dataframe and filtering for KKR\n",
    "abd_30.merge(matches, on=\"match_id\").query(\"team1 == 'Kolkata Knight Riders' or team2 == 'Kolkata Knight Riders'\")"
   ]
  },
  {
   "cell_type": "markdown",
   "metadata": {},
   "source": [
    "Against KKR as well, he has not been able to cross the score of 30 majority of the times."
   ]
  },
  {
   "cell_type": "code",
   "execution_count": null,
   "metadata": {},
   "outputs": [],
   "source": [
    "# filtering out the matches in which he crossed the score of 30\n",
    "abd_deli = deli[deli.match_id.isin(abd_30[abd_30.batsman_runs >= 30].match_id)]"
   ]
  },
  {
   "cell_type": "code",
   "execution_count": null,
   "metadata": {},
   "outputs": [],
   "source": [
    "# function to calculate balls taken to score 30 runs\n",
    "def get_balls_for_30(df):\n",
    "    \n",
    "    # empty list to store the number of balls\n",
    "    num_balls = []\n",
    "\n",
    "    # iterating over all the matches in the dataframe\n",
    "    for m_id in df.match_id.unique():\n",
    "\n",
    "        # getting the record of one match using the match id\n",
    "        data = df[df.match_id == m_id]\n",
    "        \n",
    "        # calculating cumulative sum of the score\n",
    "        cumsum = np.cumsum(data[\"total_runs\"])\n",
    "        \n",
    "        # finding the index position of the ball on which the score of 100 is crossed\n",
    "        end_pos = pd.DataFrame(cumsum >= 30).idxmax()[0]\n",
    "\n",
    "        # dataframe which stores the details of the balls below the score of 100\n",
    "        balls_taken_df = data.loc[:end_pos][:]\n",
    "\n",
    "        # total balls taken\n",
    "        total_balls = len(balls_taken_df)\n",
    "        # extra balls like wide, no ball, etc. \n",
    "        extra_balls = len(balls_taken_df[balls_taken_df.extra_runs != 0])\n",
    "\n",
    "        # final number of balls\n",
    "        final_balls = total_balls - extra_balls\n",
    "        num_balls.append(final_balls)\n",
    "        \n",
    "        # removing the cases where the score of 100 was not crossed\n",
    "        final = [val for val in num_balls if val>1]\n",
    "        \n",
    "    return final"
   ]
  },
  {
   "cell_type": "code",
   "execution_count": null,
   "metadata": {},
   "outputs": [],
   "source": [
    "# histogram\n",
    "plt.hist(get_balls_for_30(abd_deli), bins=[0, 18, 24, max(get_balls_for_30(abd_deli))])\n",
    "plt.title(\"No. of balls taken to cross the score of 30 in IPL\")\n",
    "plt.xlabel(\"No. of balls\")\n",
    "plt.ylabel(\"Frequency\")\n",
    "plt.show()"
   ]
  },
  {
   "cell_type": "code",
   "execution_count": null,
   "metadata": {},
   "outputs": [],
   "source": [
    "# No. of balls taken to cross the score of 30 in 2019\n",
    "get_balls_for_30(abd_deli[abd_deli.match_id > 11000])"
   ]
  },
  {
   "cell_type": "code",
   "execution_count": null,
   "metadata": {},
   "outputs": [],
   "source": [
    "# no. of times he has been dismissed by KKR bowlers\n",
    "abd.query(\"bowling_team == 'Kolkata Knight Riders' & player_dismissed.notnull()\").bowler.value_counts()"
   ]
  },
  {
   "cell_type": "markdown",
   "metadata": {},
   "source": [
    "Explanation:\n",
    "\n",
    "AB de Villiers does not seem to cross the score of 30 in today's match."
   ]
  },
  {
   "cell_type": "markdown",
   "metadata": {},
   "source": [
    "# Question 4:"
   ]
  },
  {
   "cell_type": "code",
   "execution_count": null,
   "metadata": {},
   "outputs": [],
   "source": [
    "# all deliveries faced by Eoin Morgan\n",
    "morgan = deli[deli.batsman == \"EJG Morgan\"]"
   ]
  },
  {
   "cell_type": "code",
   "execution_count": null,
   "metadata": {},
   "outputs": [],
   "source": [
    "# balls per inning faced by him\n",
    "balls_per_inning = morgan.groupby(\"match_id\", as_index=False).count()[[\"match_id\", \"ball\"]]"
   ]
  },
  {
   "cell_type": "code",
   "execution_count": null,
   "metadata": {},
   "outputs": [],
   "source": [
    "# matches in which he has played more than 7 balls\n",
    "more_than_7 = balls_per_inning[balls_per_inning.ball > 7]"
   ]
  },
  {
   "cell_type": "code",
   "execution_count": null,
   "metadata": {},
   "outputs": [],
   "source": [
    "# dataframe of deliveries in the matches in which he has played more than 7 balls\n",
    "morgan_df = morgan[morgan.match_id.isin(more_than_7.match_id)]"
   ]
  },
  {
   "cell_type": "code",
   "execution_count": null,
   "metadata": {},
   "outputs": [],
   "source": [
    "# runs scored per match\n",
    "runs = pd.DataFrame(morgan_df.groupby(\"match_id\", as_index=False).sum()[[\"match_id\", \"batsman_runs\"]])"
   ]
  },
  {
   "cell_type": "code",
   "execution_count": null,
   "metadata": {},
   "outputs": [],
   "source": [
    "# total balls faced per match\n",
    "ball = pd.DataFrame(morgan_df.groupby(\"match_id\", as_index=False).count()[[\"match_id\", \"ball\"]])"
   ]
  },
  {
   "cell_type": "code",
   "execution_count": null,
   "metadata": {},
   "outputs": [],
   "source": [
    "# extra balls\n",
    "extra = pd.DataFrame(morgan_df[morgan_df.extra_runs != 0].groupby(\"match_id\", as_index=False).count()[[\"match_id\", \"over\"]])"
   ]
  },
  {
   "cell_type": "code",
   "execution_count": null,
   "metadata": {},
   "outputs": [],
   "source": [
    "# valid balls faced per match\n",
    "balls = ball.set_index('match_id').join(extra.set_index('match_id')).fillna(0)\n",
    "\n",
    "balls['final'] = balls[\"ball\"] - balls[\"over\"]"
   ]
  },
  {
   "cell_type": "code",
   "execution_count": null,
   "metadata": {},
   "outputs": [],
   "source": [
    "balls = balls.reset_index()"
   ]
  },
  {
   "cell_type": "code",
   "execution_count": null,
   "metadata": {},
   "outputs": [],
   "source": [
    "# creating dataframe to store strike rate\n",
    "sr = runs.merge(balls, on=\"match_id\")"
   ]
  },
  {
   "cell_type": "code",
   "execution_count": null,
   "metadata": {},
   "outputs": [],
   "source": [
    "# calculating strike rate\n",
    "sr[\"strike_rate\"] = sr[\"batsman_runs\"]/sr[\"final\"]*100\n",
    "\n",
    "sr.head()"
   ]
  },
  {
   "cell_type": "code",
   "execution_count": null,
   "metadata": {},
   "outputs": [],
   "source": [
    "plt.hist(sr[\"strike_rate\"])\n",
    "plt.title(\"Strike Rate of Eoin Morgan in IPL matches\")\n",
    "plt.xlabel(\"Strike Rate\")\n",
    "plt.ylabel(\"Frequency\")\n",
    "plt.show()"
   ]
  },
  {
   "cell_type": "code",
   "execution_count": null,
   "metadata": {},
   "outputs": [],
   "source": [
    "# median strike rate\n",
    "sr[\"strike_rate\"].median()"
   ]
  },
  {
   "cell_type": "code",
   "execution_count": null,
   "metadata": {},
   "outputs": [],
   "source": [
    "# calculating strike rate in the last 7 balls\n",
    "sr_7 = []             # list to store strike rate\n",
    "\n",
    "# iterating over the matches\n",
    "for m_id in morgan_df.match_id.unique():\n",
    "    \n",
    "    # dataframe for each match\n",
    "    d_ = morgan_df[morgan_df.match_id == m_id]\n",
    "    # last 7 balls excluding extras\n",
    "    data = d_[d_.extra_runs == 0].iloc[-7:]\n",
    "    \n",
    "    # runs on the last 7 balls\n",
    "    runs = data.batsman_runs.sum()\n",
    "    # no. of balls\n",
    "    balls = len(data)\n",
    "    \n",
    "    # appending the value\n",
    "    sr_7.append(runs/balls*100)"
   ]
  },
  {
   "cell_type": "code",
   "execution_count": null,
   "metadata": {},
   "outputs": [],
   "source": [
    "# median strike rate\n",
    "np.median(sr_7)"
   ]
  },
  {
   "cell_type": "code",
   "execution_count": null,
   "metadata": {},
   "outputs": [],
   "source": [
    "# difference in strike rates\n",
    "diff = np.abs(sr[\"strike_rate\"] - sr_7)\n",
    "\n",
    "# histogram\n",
    "plt.hist(diff, bins=[0, 75, 125, 150, max(diff)])\n",
    "plt.title(\"Difference in the strike rates\")\n",
    "plt.xlabel(\"Difference\")\n",
    "plt.ylabel(\"Frequency\")\n",
    "plt.show()"
   ]
  },
  {
   "cell_type": "markdown",
   "metadata": {},
   "source": [
    "# Explanation:\n",
    "\n",
    "The strike rate for Eoin Morgan will stay below 75 in today's match."
   ]
  },
  {
   "cell_type": "markdown",
   "metadata": {},
   "source": [
    "# Question 5:"
   ]
  },
  {
   "cell_type": "code",
   "execution_count": null,
   "metadata": {},
   "outputs": [],
   "source": [
    "# all deliveries faced by RCB\n",
    "rcb = deli[deli.batting_team == \"Royal Challengers Bangalore\"]"
   ]
  },
  {
   "cell_type": "code",
   "execution_count": null,
   "metadata": {},
   "outputs": [],
   "source": [
    "# deliveries faced by RCB in the 16th-20th overs\n",
    "rcb_16_20 = rcb.query(\"over.isin([16, 17, 18, 19, 20])\")"
   ]
  },
  {
   "cell_type": "code",
   "execution_count": null,
   "metadata": {},
   "outputs": [],
   "source": [
    "# runcs scored in those overs\n",
    "runs = rcb_16_20.groupby(\"match_id\").sum()[\"total_runs\"]"
   ]
  },
  {
   "cell_type": "code",
   "execution_count": null,
   "metadata": {},
   "outputs": [],
   "source": [
    "# histogram\n",
    "plt.hist(runs, bins=[0, 35, 45, 60, max(runs)])\n",
    "plt.title(\"Runs scored by RCB in the 16th-20th overs in IPL\")\n",
    "plt.xlabel(\"No. of runs\")\n",
    "plt.ylabel(\"Frequency\")\n",
    "plt.show()"
   ]
  },
  {
   "cell_type": "code",
   "execution_count": null,
   "metadata": {},
   "outputs": [],
   "source": [
    "# runs scored in those overs against KKR\n",
    "runs_kkr = rcb_16_20.query(\"bowling_team == 'Kolkata Knight Riders'\").groupby(\"match_id\").sum()[\"total_runs\"]"
   ]
  },
  {
   "cell_type": "code",
   "execution_count": null,
   "metadata": {},
   "outputs": [],
   "source": [
    "# histogram\n",
    "plt.hist(runs_kkr, bins=[0, 35, 45, 60, max(runs)])\n",
    "plt.title(\"Runs scored by RCB in the 16th-20th overs against KKR\")\n",
    "plt.xlabel(\"No. of runs\")\n",
    "plt.ylabel(\"Frequency\")\n",
    "plt.show()"
   ]
  },
  {
   "cell_type": "code",
   "execution_count": null,
   "metadata": {},
   "outputs": [],
   "source": [
    "# runs scored in those overs in 2019\n",
    "runs_2019 = rcb_16_20.query(\"match_id > 11000\").groupby(\"match_id\").sum()[\"total_runs\"]"
   ]
  },
  {
   "cell_type": "code",
   "execution_count": null,
   "metadata": {},
   "outputs": [],
   "source": [
    "# histogram\n",
    "plt.hist(runs_2019, bins=[0, 35, 45, 60, max(runs)])\n",
    "plt.title(\"Runs scored by RCB in the 16th-20th overs in 2019\")\n",
    "plt.xlabel(\"No. of runs\")\n",
    "plt.ylabel(\"Frequency\")\n",
    "plt.show()"
   ]
  },
  {
   "cell_type": "markdown",
   "metadata": {},
   "source": [
    "# Explanation:\n",
    "\n",
    "RCB will score 46-60 runs in the death overs in today's match."
   ]
  }
 ],
 "metadata": {
  "kernelspec": {
   "display_name": "Python 3",
   "language": "python",
   "name": "python3"
  },
  "language_info": {
   "codemirror_mode": {
    "name": "ipython",
    "version": 3
   },
   "file_extension": ".py",
   "mimetype": "text/x-python",
   "name": "python",
   "nbconvert_exporter": "python",
   "pygments_lexer": "ipython3",
   "version": "3.7.6"
  }
 },
 "nbformat": 4,
 "nbformat_minor": 4
}
