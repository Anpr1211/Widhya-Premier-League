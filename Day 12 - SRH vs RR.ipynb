{
 "cells": [
  {
   "cell_type": "code",
   "execution_count": null,
   "metadata": {},
   "outputs": [],
   "source": [
    "# importing libraries\n",
    "import pandas as pd\n",
    "import numpy as np\n",
    "import matplotlib.pyplot as plt\n",
    "import seaborn as sns"
   ]
  },
  {
   "cell_type": "code",
   "execution_count": null,
   "metadata": {},
   "outputs": [],
   "source": [
    "# reading datasets\n",
    "matches = pd.read_csv(\"matches.csv\")\n",
    "deli = pd.read_csv(\"deliveries.csv\")"
   ]
  },
  {
   "cell_type": "markdown",
   "metadata": {},
   "source": [
    "# Question 1:"
   ]
  },
  {
   "cell_type": "code",
   "execution_count": null,
   "metadata": {},
   "outputs": [],
   "source": [
    "# all matches between SRH and RR\n",
    "srh_rr = matches.query(\"team1.isin(['Sunrisers Hyderabad', 'Deccan Chargers', 'Rajasthan Royals']) and team2.isin(['Sunrisers Hyderabad', 'Deccan Chargers', 'Rajasthan Royals'])\")"
   ]
  },
  {
   "cell_type": "code",
   "execution_count": null,
   "metadata": {},
   "outputs": [],
   "source": [
    "# victories of the two teams against each other \n",
    "srh_rr.winner.value_counts()"
   ]
  },
  {
   "cell_type": "code",
   "execution_count": null,
   "metadata": {},
   "outputs": [],
   "source": [
    "# matches of SRH\n",
    "srh = matches.query(\"team1.isin(['Sunrisers Hyderabad', 'Deccan Chargers']) or team2.isin(['Sunrisers Hyderabad', 'Deccan Chargers'])\")\n",
    "\n",
    "len(srh)"
   ]
  },
  {
   "cell_type": "code",
   "execution_count": null,
   "metadata": {},
   "outputs": [],
   "source": [
    "# count of winners in SRH matches\n",
    "srh.winner.value_counts()"
   ]
  },
  {
   "cell_type": "code",
   "execution_count": null,
   "metadata": {},
   "outputs": [],
   "source": [
    "# SRH win ratio\n",
    "(58+29)/183"
   ]
  },
  {
   "cell_type": "code",
   "execution_count": null,
   "metadata": {},
   "outputs": [],
   "source": [
    "# matches of RR\n",
    "rr = matches.query(\"team1 == 'Rajasthan Royals' or team2 == 'Rajasthan Royals'\")\n",
    "\n",
    "len(rr)"
   ]
  },
  {
   "cell_type": "code",
   "execution_count": null,
   "metadata": {},
   "outputs": [],
   "source": [
    "# counts of winners in RR matches\n",
    "rr.winner.value_counts()"
   ]
  },
  {
   "cell_type": "code",
   "execution_count": null,
   "metadata": {},
   "outputs": [],
   "source": [
    "# RR win ratio\n",
    "75/147"
   ]
  },
  {
   "cell_type": "markdown",
   "metadata": {},
   "source": [
    "# Question 2:"
   ]
  },
  {
   "cell_type": "code",
   "execution_count": null,
   "metadata": {},
   "outputs": [],
   "source": [
    "# all balls bowled by Rashid Khan\n",
    "rashid = deli[deli.bowler == \"Rashid Khan\"]"
   ]
  },
  {
   "cell_type": "code",
   "execution_count": null,
   "metadata": {},
   "outputs": [],
   "source": [
    "# empty list to store the number of balls taken to get the 1st wicket\n",
    "wicket_balls = []"
   ]
  },
  {
   "cell_type": "code",
   "execution_count": null,
   "metadata": {},
   "outputs": [],
   "source": [
    "# iterating over all the matches\n",
    "for m_id in rashid.match_id.unique():\n",
    "    # making a dataframe of all the balls bowled in the match\n",
    "    # resetting the index will help directly find the number of balls\n",
    "    balls = list(rashid[rashid.match_id == m_id].reset_index()[\"index\"])\n",
    "   \n",
    "    try:\n",
    "        # get the index of the 1st wicket taken by Rashid\n",
    "        first_wicket = rashid[(rashid.match_id == m_id) & rashid.player_dismissed.notnull()].index[0]\n",
    "        # append the value to the list\n",
    "        wicket_balls.append(balls.index(first_wicket))\n",
    "    except:\n",
    "        # in case of matches, where he did not get any wicket, add the value of 30 to the list\n",
    "        # this value is impossible since a bowler bowls only 4 overs at max and will be removed later\n",
    "        wicket_balls.append(100)"
   ]
  },
  {
   "cell_type": "code",
   "execution_count": null,
   "metadata": {},
   "outputs": [],
   "source": [
    "# filtering out the edge cases\n",
    "wicket_balls1 = [b for b in wicket_balls if b<100]"
   ]
  },
  {
   "cell_type": "code",
   "execution_count": null,
   "metadata": {},
   "outputs": [],
   "source": [
    "# histogram\n",
    "plt.hist(wicket_balls1, bins=[0, 9, 17, 25])\n",
    "plt.title(\"Balls taken to get the 1st wicket in IPL\")\n",
    "plt.xlabel(\"No. of balls\")\n",
    "plt.ylabel(\"Frequency\")\n",
    "plt.show()"
   ]
  },
  {
   "cell_type": "code",
   "execution_count": null,
   "metadata": {},
   "outputs": [],
   "source": [
    "# getting the records for IPL 2019\n",
    "wicket_balls2 = [b for b in wicket_balls[-15:] if b<30]"
   ]
  },
  {
   "cell_type": "code",
   "execution_count": null,
   "metadata": {},
   "outputs": [],
   "source": [
    "# histogram\n",
    "plt.hist(wicket_balls2, bins=[0, 9, 17, 25]);\n",
    "plt.title(\"Balls taken to get the 1st wicket in IPL 2019\")\n",
    "plt.xlabel(\"No. of balls\")\n",
    "plt.ylabel(\"Frequency\")\n",
    "plt.show()"
   ]
  },
  {
   "cell_type": "markdown",
   "metadata": {},
   "source": [
    "# Question 3:"
   ]
  },
  {
   "cell_type": "code",
   "execution_count": null,
   "metadata": {},
   "outputs": [],
   "source": [
    "# all deliveries faced by David Warner\n",
    "warner = deli[deli.batsman == \"DA Warner\"]\n",
    "warner_out = warner[warner.player_dismissed.notnull()]"
   ]
  },
  {
   "cell_type": "code",
   "execution_count": null,
   "metadata": {},
   "outputs": [],
   "source": [
    "# barplot\n",
    "sns.countplot(warner_out.dismissal_kind)\n",
    "plt.title(\"Dismissals of David Warner\")\n",
    "plt.xticks(rotation=90)\n",
    "plt.show()"
   ]
  },
  {
   "cell_type": "code",
   "execution_count": null,
   "metadata": {},
   "outputs": [],
   "source": [
    "# barplot\n",
    "sns.countplot(warner.query(\"bowling_team == 'Rajasthan Royals' and player_dismissed.notnull()\").dismissal_kind)\n",
    "plt.title(\"Dismissals of David Warner against RR\")\n",
    "plt.xticks(rotation=90)\n",
    "plt.show()"
   ]
  },
  {
   "cell_type": "code",
   "execution_count": null,
   "metadata": {},
   "outputs": [],
   "source": [
    "# barplot\n",
    "sns.countplot(warner_out.dismissal_kind[-20:])\n",
    "plt.title(\"Dismissals of David Warner in the last 20 matches\")\n",
    "plt.xticks(rotation=90)\n",
    "plt.show()"
   ]
  },
  {
   "cell_type": "markdown",
   "metadata": {},
   "source": [
    "# Question 4:"
   ]
  },
  {
   "cell_type": "code",
   "execution_count": null,
   "metadata": {},
   "outputs": [],
   "source": [
    "# batsmen of RR along with their batting positions\n",
    "batsmen = {\"BA Stokes\":[0, 1], \"RV Uthappa\":[0, 1], \"SV Samson\":[2], \"SPD Smith\":[3], \"JC Buttler\":[4],\n",
    "           \"R Tewatia\":[5]}"
   ]
  },
  {
   "cell_type": "code",
   "execution_count": null,
   "metadata": {},
   "outputs": [],
   "source": [
    "# disctionary to store the runs in IPL by each batsman\n",
    "b_runs = {}\n",
    "\n",
    "# iterating over the batsmen\n",
    "for b in batsmen.keys():\n",
    "    \n",
    "    # getting the runs scored in each match\n",
    "    runs = list(deli[deli.batsman == b].groupby(\"match_id\").sum()[\"batsman_runs\"])\n",
    "    # adding to the dictionary\n",
    "    b_runs.update({b:runs})"
   ]
  },
  {
   "cell_type": "code",
   "execution_count": null,
   "metadata": {},
   "outputs": [],
   "source": [
    "# displaying the dictionary\n",
    "b_runs"
   ]
  },
  {
   "cell_type": "code",
   "execution_count": null,
   "metadata": {},
   "outputs": [],
   "source": [
    "# measures of central tendency\n",
    "for key in b_runs.keys():\n",
    "    print(key)                         # batsman\n",
    "    print(np.median(b_runs[key]))      # median score\n",
    "    print(np.mean(b_runs[key]))        # mean score"
   ]
  },
  {
   "cell_type": "code",
   "execution_count": null,
   "metadata": {},
   "outputs": [],
   "source": [
    "# function to get the runs made by the batsmen at their current batting position\n",
    "def get_runs(inn):\n",
    "    \n",
    "    # empty dictionary to store the runs\n",
    "    b_runs = {}\n",
    "    \n",
    "    # iterating over the batsmen\n",
    "    for batsman in batsmen.keys():\n",
    "        runs = []                  # empty list to store the runs of the specific batsman\n",
    "        print(batsman)             # name of the batsman\n",
    "        # filtering out the deliveries faced by him in the given innings (1 or 2)\n",
    "        b_m_id = deli[(deli.batsman == batsman) & (deli.inning == inn)].match_id.unique()\n",
    "        \n",
    "        # iterating over all the matches\n",
    "        for m_id in b_m_id:\n",
    "            \n",
    "            # getting the indexes of all the wicket deliveries\n",
    "            index = list(deli[(deli.match_id == m_id)  & (deli.inning == inn) & (deli.player_dismissed.notnull())].index)\n",
    "            # adding another delivery to get the names of the batsmen who remained not out in the innings\n",
    "            index.append(index[-1]+1)\n",
    "            \n",
    "            b = []            # to store the names of all the batsmen whi batted in the match in their order\n",
    "            \n",
    "            # iterating over the deliveries\n",
    "            for i in index:\n",
    "                # getting the row corresponding to that delivery\n",
    "                d = deli.iloc[i]\n",
    "                bat1 = d[\"batsman\"]           # name of the batsman\n",
    "                bat2 = d[\"non_striker\"]       # name of the non striker\n",
    "\n",
    "                # in case the batsman name is not in the list, add it\n",
    "                if bat1 not in b:\n",
    "                    b.append(bat1)\n",
    "                # in case the non striker name is not in the list, add it\n",
    "                if bat2 not in b:\n",
    "                    b.append(bat2)\n",
    "                # this ensures that the batsmen are added to the list in order of their batting position\n",
    "\n",
    "            # if the batsman has batted at the given position, add his runs\n",
    "            if b.index(batsman) in batsmen[batsman]:\n",
    "                runs.append(deli[(deli.match_id == m_id) &(deli.batsman == batsman)].batsman_runs.sum())\n",
    "\n",
    "        # add the data to the dictionary\n",
    "        tmp = {batsman:runs}\n",
    "        b_runs.update(tmp)\n",
    "    \n",
    "    # return the dictionary\n",
    "    return b_runs"
   ]
  },
  {
   "cell_type": "code",
   "execution_count": null,
   "metadata": {},
   "outputs": [],
   "source": [
    "# get the runs made by the batsmen at their current batting position in the 1st innings\n",
    "b_runs1 = get_runs(1)"
   ]
  },
  {
   "cell_type": "code",
   "execution_count": null,
   "metadata": {
    "scrolled": true
   },
   "outputs": [],
   "source": [
    "b_runs1"
   ]
  },
  {
   "cell_type": "code",
   "execution_count": null,
   "metadata": {},
   "outputs": [],
   "source": [
    "# measures of central tendency\n",
    "for key in b_runs1.keys():\n",
    "    print(key)\n",
    "    print(np.median(b_runs1[key]))\n",
    "    print(np.mean(b_runs1[key]))"
   ]
  },
  {
   "cell_type": "code",
   "execution_count": null,
   "metadata": {},
   "outputs": [],
   "source": [
    "# get the runs made by the batsmen at their current batting position in the 1st innings\n",
    "b_runs2 = get_runs(2)"
   ]
  },
  {
   "cell_type": "code",
   "execution_count": null,
   "metadata": {
    "scrolled": true
   },
   "outputs": [],
   "source": [
    "b_runs2"
   ]
  },
  {
   "cell_type": "code",
   "execution_count": null,
   "metadata": {},
   "outputs": [],
   "source": [
    "# measures of central tendency\n",
    "for key in b_runs2.keys():\n",
    "    print(key)\n",
    "    print(np.median(b_runs2[key]))\n",
    "    print(np.mean(b_runs2[key]))"
   ]
  },
  {
   "cell_type": "markdown",
   "metadata": {},
   "source": [
    "# Question 5:"
   ]
  },
  {
   "cell_type": "code",
   "execution_count": null,
   "metadata": {},
   "outputs": [],
   "source": [
    "# Total no. of no balls in IPL history\n",
    "len(deli[deli.noball_runs != 0])"
   ]
  },
  {
   "cell_type": "code",
   "execution_count": null,
   "metadata": {},
   "outputs": [],
   "source": [
    "# Total no. of matches in IPL history\n",
    "len(deli.match_id.unique())"
   ]
  },
  {
   "cell_type": "code",
   "execution_count": null,
   "metadata": {},
   "outputs": [],
   "source": [
    "# average no. of no balls per match\n",
    "714/756"
   ]
  },
  {
   "cell_type": "code",
   "execution_count": null,
   "metadata": {},
   "outputs": [],
   "source": [
    "# finding out the no. of no balls bowled by SRH and RR\n",
    "noballs_srh_rr = deli[deli.noball_runs != 0].query(\"bowling_team.isin(['Sunrisers Hyderabad', 'Deccan Chargers', 'Rajasthan Royals'])\")"
   ]
  },
  {
   "cell_type": "code",
   "execution_count": null,
   "metadata": {},
   "outputs": [],
   "source": [
    "# no balls bowled by SRH and RR\n",
    "len(noballs_srh_rr)"
   ]
  },
  {
   "cell_type": "code",
   "execution_count": null,
   "metadata": {},
   "outputs": [],
   "source": [
    "# no. of matches in which SRH and RR have bowled\n",
    "len(noballs_srh_rr.match_id.unique())"
   ]
  },
  {
   "cell_type": "code",
   "execution_count": null,
   "metadata": {},
   "outputs": [],
   "source": [
    "# average no. of no balls per match by SRH and RR\n",
    "108/147"
   ]
  },
  {
   "cell_type": "code",
   "execution_count": null,
   "metadata": {},
   "outputs": [],
   "source": [
    "# no. of no balls per match by SRH and RR\n",
    "noballs_srh_rr.groupby(\"match_id\").count()[\"inning\"].value_counts()"
   ]
  }
 ],
 "metadata": {
  "kernelspec": {
   "display_name": "Python 3",
   "language": "python",
   "name": "python3"
  },
  "language_info": {
   "codemirror_mode": {
    "name": "ipython",
    "version": 3
   },
   "file_extension": ".py",
   "mimetype": "text/x-python",
   "name": "python",
   "nbconvert_exporter": "python",
   "pygments_lexer": "ipython3",
   "version": "3.7.6"
  }
 },
 "nbformat": 4,
 "nbformat_minor": 4
}
