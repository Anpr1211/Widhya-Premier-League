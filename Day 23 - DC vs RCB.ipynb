{
 "cells": [
  {
   "cell_type": "code",
   "execution_count": null,
   "metadata": {},
   "outputs": [],
   "source": [
    "# import library\n",
    "library(dplyr)"
   ]
  },
  {
   "cell_type": "code",
   "execution_count": null,
   "metadata": {},
   "outputs": [],
   "source": [
    "# read datasets\n",
    "matches = read.csv(\"matches.csv\")\n",
    "deli = read.csv(\"deliveries.csv\")"
   ]
  },
  {
   "cell_type": "markdown",
   "metadata": {},
   "source": [
    "# Question 1:"
   ]
  },
  {
   "cell_type": "code",
   "execution_count": null,
   "metadata": {},
   "outputs": [],
   "source": [
    "# teams playing today's match\n",
    "teams = c(\"Delhi Daredevils\", \"Delhi Capitals\", \"Royal Challengers Bangalore\")"
   ]
  },
  {
   "cell_type": "code",
   "execution_count": null,
   "metadata": {},
   "outputs": [],
   "source": [
    "# all matches between DC and RCB\n",
    "dc_rcb = subset(matches, (team1 %in% teams & team2 %in% teams))\n",
    "\n",
    "head(dc_rcb)"
   ]
  },
  {
   "cell_type": "code",
   "execution_count": null,
   "metadata": {},
   "outputs": [],
   "source": [
    "dc_rcb$winner"
   ]
  },
  {
   "cell_type": "code",
   "execution_count": null,
   "metadata": {},
   "outputs": [],
   "source": [
    "# victories of the teams against each other\n",
    "count(dc_rcb, winner)"
   ]
  },
  {
   "cell_type": "code",
   "execution_count": null,
   "metadata": {},
   "outputs": [],
   "source": [
    "# matches of DC\n",
    "dc = subset(matches, (team1 %in% c('Delhi Capitals', 'Delhi Daredevils')| team2 %in% c('Delhi Capitals', 'Delhi Daredevils')))"
   ]
  },
  {
   "cell_type": "code",
   "execution_count": null,
   "metadata": {},
   "outputs": [],
   "source": [
    "# total no. of matches played by DC\n",
    "nrow(dc)"
   ]
  },
  {
   "cell_type": "code",
   "execution_count": null,
   "metadata": {},
   "outputs": [],
   "source": [
    "# winners in those matches\n",
    "count(dc, winner)"
   ]
  },
  {
   "cell_type": "code",
   "execution_count": null,
   "metadata": {},
   "outputs": [],
   "source": [
    "# win ratio of DC\n",
    "(10+67)/177"
   ]
  },
  {
   "cell_type": "code",
   "execution_count": null,
   "metadata": {},
   "outputs": [],
   "source": [
    "# matches of RCB\n",
    "rcb = subset(matches, (team1 == 'Royal Challengers Bangalore'| team2 == 'Royal Challengers Bangalore'))"
   ]
  },
  {
   "cell_type": "code",
   "execution_count": null,
   "metadata": {},
   "outputs": [],
   "source": [
    "# total no. of matches played by RCB\n",
    "nrow(rcb)"
   ]
  },
  {
   "cell_type": "code",
   "execution_count": null,
   "metadata": {},
   "outputs": [],
   "source": [
    "# winners in those matches\n",
    "count(rcb, winner)"
   ]
  },
  {
   "cell_type": "code",
   "execution_count": null,
   "metadata": {},
   "outputs": [],
   "source": [
    "# win ratio of RCB\n",
    "84/180"
   ]
  },
  {
   "cell_type": "markdown",
   "metadata": {},
   "source": [
    "# Question 2:"
   ]
  },
  {
   "cell_type": "code",
   "execution_count": null,
   "metadata": {},
   "outputs": [],
   "source": [
    "# batsmen playing today's match\n",
    "batsmen = c('S Dhawan', 'AM Rahane', 'SS Iyer', 'RR Pant', 'S Hetmyer', 'AR Patel', 'MP Stoinis',\n",
    "           'V Kohli', 'AB de Villiers', 'Gurkeerat Singh', 'CH Morris', 'Washington Sundar')"
   ]
  },
  {
   "cell_type": "code",
   "execution_count": null,
   "metadata": {},
   "outputs": [],
   "source": [
    "# function to get batting details\n",
    "get_batting_info = function(bname){\n",
    "    \n",
    "    # filtering out the deliveries for each batsman\n",
    "    data = subset(deli, with(deli, grepl(bname, batsman)))\n",
    "    # runs scored per match\n",
    "    runs_per_match = data %>% group_by(match_id) %>% summarise(runs = sum(batsman_runs))\n",
    "    # balls faced per match\n",
    "    balls_per_match = subset(data, extra_runs==0) %>% group_by(match_id) %>% summarise(balls = n())\n",
    "    # merging the dataframes\n",
    "    sr = merge(runs_per_match, balls_per_match)\n",
    "    # calculating the strike rate\n",
    "    sr$strike_rate = (sr$runs/sr$balls)*100\n",
    "    # 4s hit\n",
    "    runs_4 = subset(data, batsman_runs == 4) %>% group_by(match_id) %>% summarise(runs_4 = n())\n",
    "    # 6s hit\n",
    "    runs_6 = subset(data, batsman_runs == 6) %>% group_by(match_id) %>% summarise(runs_6 = n())\n",
    "    # merging the dataframes\n",
    "    boundaries = merge(runs_4, runs_6)\n",
    "    # final dataframe\n",
    "    final = merge(sr, boundaries)\n",
    "    # finding out the total number of boundaries\n",
    "    final$boundaries = final$runs_4 + final$runs_6\n",
    "    # returning the result\n",
    "    return (summary(final[, c('strike_rate', 'runs_4', 'boundaries')]))\n",
    "}"
   ]
  },
  {
   "cell_type": "code",
   "execution_count": null,
   "metadata": {},
   "outputs": [],
   "source": [
    "# for loop to iterate over the batsman names\n",
    "for (b_name in batsmen){\n",
    "    # print batsman name\n",
    "    print(b_name)\n",
    "    # printing the statistical measures \n",
    "    print(get_batting_info(b_name))\n",
    "}"
   ]
  },
  {
   "cell_type": "markdown",
   "metadata": {},
   "source": [
    "# Question 3:"
   ]
  },
  {
   "cell_type": "code",
   "execution_count": null,
   "metadata": {},
   "outputs": [],
   "source": [
    "# all deliveries bowled by Rabada\n",
    "rabada = subset(deli, with(deli, grepl(\"K Rabada\", bowler)) )\n",
    "\n",
    "head(rabada)"
   ]
  },
  {
   "cell_type": "code",
   "execution_count": null,
   "metadata": {},
   "outputs": [],
   "source": [
    "# function to get the balls taken for the first wicket\n",
    "get_balls_for_wicket = function(data){\n",
    "    \n",
    "    # empty list to store the number of balls taken to get the 1st wicket\n",
    "    wickets = numeric()\n",
    "    \n",
    "    # iterating over all the matches\n",
    "    for (m_id in unique(data$match_id)){\n",
    "        # making a dataframe of all the balls bowled in the match and storing the index \n",
    "        # to directly find the number of balls\n",
    "        balls = row.names(subset(data, (match_id == m_id)))\n",
    "\n",
    "        # get the index of the 1st wicket taken by Rabada\n",
    "        first_wicket_df = subset(data, (match_id == m_id & player_dismissed != \"\"))\n",
    "        first_wicket = as.integer(row.names(first_wicket_df)[1])\n",
    "        \n",
    "        # append the value to the list\n",
    "        if (!is.null(first_wicket)){\n",
    "            wickets = c(wickets, balls %>% match(x=first_wicket))\n",
    "        }\n",
    "    }\n",
    "    # in case of matches, where he did not get any wicket, add a 0\n",
    "    wickets[is.na(wickets)] = 0\n",
    "    \n",
    "    # return the result\n",
    "    return (wickets)\n",
    "    }"
   ]
  },
  {
   "cell_type": "code",
   "execution_count": null,
   "metadata": {},
   "outputs": [],
   "source": [
    "# balls taken to get the 1st wicket in all IPL matches\n",
    "wickets = get_balls_for_wicket(rabada)\n",
    "\n",
    "wickets"
   ]
  },
  {
   "cell_type": "code",
   "execution_count": null,
   "metadata": {},
   "outputs": [],
   "source": [
    "# Rabada did not take a wicket in 2 out of 18 matches\n",
    "table(wickets)"
   ]
  },
  {
   "cell_type": "code",
   "execution_count": null,
   "metadata": {},
   "outputs": [],
   "source": [
    "# histogram\n",
    "hist(wickets[wickets!=0], freq=TRUE, breaks=c(0, 6, 12, 18, max(wickets)))"
   ]
  },
  {
   "cell_type": "code",
   "execution_count": null,
   "metadata": {},
   "outputs": [],
   "source": [
    "# all deliveries bowled against RCB\n",
    "rabada_rcb = subset(rabada, batting_team == 'Royal Challengers Bangalore')"
   ]
  },
  {
   "cell_type": "code",
   "execution_count": null,
   "metadata": {},
   "outputs": [],
   "source": [
    "# balls taken to get the 1st wicket in matches against RCB\n",
    "wickets_rcb = get_balls_for_wicket(rabada_rcb)\n",
    "\n",
    "wickets_rcb"
   ]
  },
  {
   "cell_type": "markdown",
   "metadata": {},
   "source": [
    "# Question 4"
   ]
  },
  {
   "cell_type": "code",
   "execution_count": null,
   "metadata": {},
   "outputs": [],
   "source": [
    "# all bowlers playing today's match\n",
    "bowlers = c('K Rabada', 'AR Patel', 'R Ashwin', 'HV Patel', 'MP Stoinis',\n",
    "           'Washington Sundar', 'CH Morris', 'N Saini', 'Mohammed Siraj', 'YS Chahal')"
   ]
  },
  {
   "cell_type": "code",
   "execution_count": null,
   "metadata": {},
   "outputs": [],
   "source": [
    "# function to get the bowling details\n",
    "get_bowling_info = function(bname){\n",
    "    \n",
    "    # filtering out the deliveries bowled by each of the bowlers\n",
    "    data = subset(deli, with(deli, grepl(bname, bowler)))\n",
    "    # runs given out in each of the match\n",
    "    runs_per_match = data %>% group_by(match_id) %>% summarise(runs = sum(batsman_runs))\n",
    "    # overs bowled in each of the match\n",
    "    overs_per_match = data %>%  group_by(match_id) %>% summarise(overs=length(unique(over)))\n",
    "    # merging the dataframes\n",
    "    econ = merge(runs_per_match, overs_per_match)\n",
    "    # calculating economy\n",
    "    econ$economy = econ$runs/econ$overs\n",
    "    # calculating dots \n",
    "    dots = subset(data, total_runs==0) %>% group_by(match_id) %>% summarise(dots = n())\n",
    "    # calculating 4s\n",
    "    runs_4 = subset(data, batsman_runs == 4) %>% group_by(match_id) %>% summarise(runs_4 = n())\n",
    "\n",
    "    # merging the dataframes\n",
    "    details = merge(dots, runs_4, all=TRUE)\n",
    "    # final dataframe\n",
    "    final = merge(econ, details, all=TRUE)\n",
    "    # filling out the null values\n",
    "    final[is.na(final)] = 0\n",
    "    \n",
    "    # returning the results\n",
    "    return (summary(final[, 4:6]))\n",
    "}"
   ]
  },
  {
   "cell_type": "code",
   "execution_count": null,
   "metadata": {},
   "outputs": [],
   "source": [
    "# for loop to iterate over the bowler names\n",
    "for (b_name in bowlers){\n",
    "    # print bowler name\n",
    "    print(b_name)\n",
    "    # printing the statistical measures \n",
    "    print(get_bowling_info(b_name))\n",
    "}"
   ]
  }
 ],
 "metadata": {
  "kernelspec": {
   "display_name": "R",
   "language": "R",
   "name": "ir"
  },
  "language_info": {
   "codemirror_mode": "r",
   "file_extension": ".r",
   "mimetype": "text/x-r-source",
   "name": "R",
   "pygments_lexer": "r",
   "version": "3.5.1"
  }
 },
 "nbformat": 4,
 "nbformat_minor": 4
}
