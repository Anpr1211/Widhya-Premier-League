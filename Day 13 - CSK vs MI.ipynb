{
 "cells": [
  {
   "cell_type": "code",
   "execution_count": null,
   "metadata": {},
   "outputs": [],
   "source": [
    "# importing libraries\n",
    "import pandas as pd\n",
    "import numpy as np\n",
    "import matplotlib.pyplot as plt\n",
    "import seaborn as sns"
   ]
  },
  {
   "cell_type": "code",
   "execution_count": null,
   "metadata": {},
   "outputs": [],
   "source": [
    "# reading datasets\n",
    "matches = pd.read_csv(\"matches.csv\")\n",
    "deli = pd.read_csv(\"deliveries.csv\")"
   ]
  },
  {
   "cell_type": "markdown",
   "metadata": {},
   "source": [
    "# Question 1:"
   ]
  },
  {
   "cell_type": "code",
   "execution_count": null,
   "metadata": {},
   "outputs": [],
   "source": [
    "# all matches between CSK and MI\n",
    "csk_mi = matches.query(\"team1.isin(['Chennai Super Kings', 'Mumbai Indians']) and team2.isin(['Chennai Super Kings', 'Mumbai Indians'])\")"
   ]
  },
  {
   "cell_type": "code",
   "execution_count": null,
   "metadata": {},
   "outputs": [],
   "source": [
    "# victories of the two teams against each other \n",
    "csk_mi.winner.value_counts()"
   ]
  },
  {
   "cell_type": "code",
   "execution_count": null,
   "metadata": {},
   "outputs": [],
   "source": [
    "# matches of CSK\n",
    "csk = matches.query(\"team1.isin(['Chennai Super Kings']) or team2.isin(['Chennai Super Kings'])\")\n",
    "\n",
    "len(csk)"
   ]
  },
  {
   "cell_type": "code",
   "execution_count": null,
   "metadata": {},
   "outputs": [],
   "source": [
    "# count of winners in CSK matches\n",
    "csk.winner.value_counts()"
   ]
  },
  {
   "cell_type": "code",
   "execution_count": null,
   "metadata": {},
   "outputs": [],
   "source": [
    "# CSK win ratio\n",
    "100/164"
   ]
  },
  {
   "cell_type": "code",
   "execution_count": null,
   "metadata": {},
   "outputs": [],
   "source": [
    "# matches of MI\n",
    "mi = matches.query(\"team1 == 'Mumbai Indians' or team2 == 'Mumbai Indians'\")\n",
    "\n",
    "len(mi)"
   ]
  },
  {
   "cell_type": "code",
   "execution_count": null,
   "metadata": {},
   "outputs": [],
   "source": [
    "# counts of winners in RR matches\n",
    "mi.winner.value_counts()"
   ]
  },
  {
   "cell_type": "code",
   "execution_count": null,
   "metadata": {},
   "outputs": [],
   "source": [
    "# MI win ratio\n",
    "109/187"
   ]
  },
  {
   "cell_type": "markdown",
   "metadata": {},
   "source": [
    "# Question 2:"
   ]
  },
  {
   "cell_type": "code",
   "execution_count": null,
   "metadata": {},
   "outputs": [],
   "source": [
    "# all deliveries faced by De Kock\n",
    "de_kock = deli[deli.batsman == \"Q de Kock\"]"
   ]
  },
  {
   "cell_type": "code",
   "execution_count": null,
   "metadata": {},
   "outputs": [],
   "source": [
    "# empty list to store runs\n",
    "runs = []\n",
    "\n",
    "# iterating over all the matches played by him\n",
    "for m_id in de_kock.match_id.unique():\n",
    "    \n",
    "    # data on each match\n",
    "    match = de_kock[de_kock.match_id == m_id]\n",
    "    \n",
    "    # condition to check if he has played more than 10 balls\n",
    "    if len(match) >=10:\n",
    "        data = match.iloc[:10]               # getting the 1st 10 balls   \n",
    "    else:\n",
    "        data = match.copy()            # getting entire dataframe in case he did not play 10 balls\n",
    "    \n",
    "    # exception handling to handle the cases when he did not score a boundary in the 1st 10 balls\n",
    "    try:\n",
    "        # getting all the boundary runs\n",
    "        r = data[data.batsman_runs.isin([4, 6])].batsman_runs.sum()\n",
    "    except:\n",
    "        # 0 in case no boundaries\n",
    "        r = 0\n",
    "    \n",
    "    # add runs to the list\n",
    "    runs.append(r)"
   ]
  },
  {
   "cell_type": "code",
   "execution_count": null,
   "metadata": {},
   "outputs": [],
   "source": [
    "# runs in 50 matches\n",
    "len(runs)"
   ]
  },
  {
   "cell_type": "code",
   "execution_count": null,
   "metadata": {},
   "outputs": [],
   "source": [
    "# histogram\n",
    "plt.hist(runs, bins=[0, 10, 15, 20, max(runs)])\n",
    "plt.title(\"Runs scored off boundaries in the 1st 10 balls\")\n",
    "plt.xlabel(\"Runs\")\n",
    "plt.ylabel(\"Frequency\")\n",
    "plt.show()"
   ]
  },
  {
   "cell_type": "code",
   "execution_count": null,
   "metadata": {},
   "outputs": [],
   "source": [
    "plt.hist(runs[-16:], bins=[0, 10, 15, 20, max(runs)]);\n",
    "plt.title(\"Runs scored off boundaries in the 1st 10 balls in 2019\")\n",
    "plt.xlabel(\"Runs\")\n",
    "plt.ylabel(\"Frequency\")\n",
    "plt.show()"
   ]
  },
  {
   "cell_type": "markdown",
   "metadata": {},
   "source": [
    "# Question 3:"
   ]
  },
  {
   "cell_type": "code",
   "execution_count": null,
   "metadata": {},
   "outputs": [],
   "source": [
    "# bowlers of MI\n",
    "bowlers = ['JJ Bumrah', 'RD Chahar', 'TA Boult', 'KH Pandya', 'HH Pandya', 'KA Pollard', 'NM Coulter-Nile']"
   ]
  },
  {
   "cell_type": "code",
   "execution_count": null,
   "metadata": {},
   "outputs": [],
   "source": [
    "# function to get the ratio of dot balls\n",
    "def get_dots_ratio(bowlers):\n",
    "    \n",
    "    # dictionary to store values corresponding to each of the bowlers\n",
    "    dot_ratio = {}\n",
    "    \n",
    "    # iterating over all the bowlers\n",
    "    for b in bowlers:\n",
    "        print(b)           # print bowler name\n",
    "        d = deli[deli.bowler == b]       # all deliveries of that bowler\n",
    "        print(len(d.match_id.unique()))      # the number of matches played by him\n",
    "        \n",
    "        ratio = []        # empty list to store the ratio of dot balls in each match\n",
    "        \n",
    "        # iterating over all the matches of that bowler\n",
    "        for m_id in d.match_id.unique():\n",
    "            data = d[d.match_id == m_id]       # data on each match \n",
    "            balls = len(data)           # total balls bowled in the match\n",
    "            dots = len(data[data.total_runs == 0])          # all dot balls\n",
    "            ratio.append(dots/balls)        # ratio\n",
    "            \n",
    "        dot_ratio.update({b:ratio})        # updating the dictionary with the information of that bowler\n",
    "    \n",
    "    return dot_ratio       # return the dictionary\n",
    "    "
   ]
  },
  {
   "cell_type": "code",
   "execution_count": null,
   "metadata": {},
   "outputs": [],
   "source": [
    "# find the ratio of dot balls for each of the bowlers\n",
    "dot_ratio = get_dots_ratio(bowlers)"
   ]
  },
  {
   "cell_type": "code",
   "execution_count": null,
   "metadata": {},
   "outputs": [],
   "source": [
    "# measures of central tendency\n",
    "for key in dot_ratio.keys():\n",
    "    print(key)                         # batsman\n",
    "    print(np.median(dot_ratio[key]))      # median score\n",
    "    print(np.mean(dot_ratio[key]))        # mean score"
   ]
  },
  {
   "cell_type": "markdown",
   "metadata": {},
   "source": [
    "# Question 4:"
   ]
  },
  {
   "cell_type": "code",
   "execution_count": null,
   "metadata": {},
   "outputs": [],
   "source": [
    "def get_overs(df):\n",
    "    c = []\n",
    "\n",
    "    for m_id in df.match_id.unique():\n",
    "        count = 0\n",
    "\n",
    "        d = df[df.match_id == m_id]\n",
    "        for over in d.over.unique():\n",
    "\n",
    "            data = d[d.over == over]\n",
    "\n",
    "            if 4 in data.batsman_runs.values and 6 in data.batsman_runs.values:\n",
    "                count = count+1\n",
    "        c.append(count)\n",
    "    return c"
   ]
  },
  {
   "cell_type": "code",
   "execution_count": null,
   "metadata": {},
   "outputs": [],
   "source": [
    "mi_deli = deli[deli.batting_team == \"Mumbai Indians\"]"
   ]
  },
  {
   "cell_type": "code",
   "execution_count": null,
   "metadata": {},
   "outputs": [],
   "source": [
    "plt.hist(get_overs(mi_deli))\n",
    "plt.title(\"Overs with both a 4 and a 6\")\n",
    "plt.xlabel(\"No. of overs\")\n",
    "plt.ylabel(\"Frequency\")\n",
    "plt.show()"
   ]
  },
  {
   "cell_type": "code",
   "execution_count": null,
   "metadata": {},
   "outputs": [],
   "source": [
    "np.median(get_overs(mi_deli))"
   ]
  },
  {
   "cell_type": "code",
   "execution_count": null,
   "metadata": {},
   "outputs": [],
   "source": [
    "csk_deli = deli[deli.batting_team == \"Chennai Super Kings\"]"
   ]
  },
  {
   "cell_type": "code",
   "execution_count": null,
   "metadata": {},
   "outputs": [],
   "source": [
    "plt.hist(get_overs(csk_deli))\n",
    "plt.title(\"Overs with both a 4 and a 6\")\n",
    "plt.xlabel(\"No. of overs\")\n",
    "plt.ylabel(\"Frequency\")\n",
    "plt.show()"
   ]
  },
  {
   "cell_type": "code",
   "execution_count": null,
   "metadata": {},
   "outputs": [],
   "source": [
    "np.median(get_overs(csk_deli))"
   ]
  },
  {
   "cell_type": "markdown",
   "metadata": {},
   "source": [
    "# Question 5:"
   ]
  },
  {
   "cell_type": "code",
   "execution_count": null,
   "metadata": {},
   "outputs": [],
   "source": [
    "def get_bls(bowlers):\n",
    "    bls_bowlers = {}\n",
    "    \n",
    "    for b in bowlers:\n",
    "        print(b)\n",
    "        score = []\n",
    "        d = deli[deli.bowler == b]\n",
    "        print(len(d.match_id.unique()))\n",
    "        for m_id in d.match_id.unique():\n",
    "            \n",
    "            data = d[d.match_id == m_id]\n",
    "            balls = len(data)\n",
    "            dots = len(data[data.total_runs == 0])\n",
    "            wickets = len(data[data.player_dismissed.notnull()])\n",
    "            boundaries = len(data[data.batsman_runs.isin([4, 6])])\n",
    "            \n",
    "            bls = (wickets+dots-boundaries)/balls\n",
    "            \n",
    "        score.append(bls)\n",
    "        \n",
    "        bls_bowlers.update({b:score})\n",
    "    \n",
    "    return bls_bowlers"
   ]
  },
  {
   "cell_type": "code",
   "execution_count": null,
   "metadata": {},
   "outputs": [],
   "source": [
    "bowlers = ['JJ Bumrah', 'RD Chahar', 'TA Boult', 'KH Pandya', 'HH Pandya', 'KA Pollard', 'NM Coulter-Nile',\n",
    "          'DL Chahar', 'RA Jadeja', 'SN Thakur', 'S Curran', 'PP Chawla']"
   ]
  },
  {
   "cell_type": "code",
   "execution_count": null,
   "metadata": {
    "scrolled": true
   },
   "outputs": [],
   "source": [
    "result = get_bls(bowlers)"
   ]
  },
  {
   "cell_type": "code",
   "execution_count": null,
   "metadata": {
    "scrolled": true
   },
   "outputs": [],
   "source": [
    "# measures of central tendency\n",
    "for key in result.keys():\n",
    "    print(key)                         # batsman\n",
    "    print(np.median(result[key]))      # median score\n",
    "    print(np.mean(result[key]))        # mean score"
   ]
  }
 ],
 "metadata": {
  "kernelspec": {
   "display_name": "Python 3",
   "language": "python",
   "name": "python3"
  },
  "language_info": {
   "codemirror_mode": {
    "name": "ipython",
    "version": 3
   },
   "file_extension": ".py",
   "mimetype": "text/x-python",
   "name": "python",
   "nbconvert_exporter": "python",
   "pygments_lexer": "ipython3",
   "version": "3.7.6"
  }
 },
 "nbformat": 4,
 "nbformat_minor": 4
}
