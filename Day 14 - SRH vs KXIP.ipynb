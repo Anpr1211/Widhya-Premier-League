{
 "cells": [
  {
   "cell_type": "code",
   "execution_count": null,
   "metadata": {},
   "outputs": [],
   "source": [
    "# import libraries\n",
    "import pandas as pd\n",
    "import matplotlib.pyplot as plt\n",
    "import seaborn as sns\n",
    "import numpy as np"
   ]
  },
  {
   "cell_type": "code",
   "execution_count": null,
   "metadata": {},
   "outputs": [],
   "source": [
    "# read dataset\n",
    "matches = pd.read_csv(\"matches.csv\")\n",
    "deli = pd.read_csv(\"deliveries.csv\")"
   ]
  },
  {
   "cell_type": "markdown",
   "metadata": {},
   "source": [
    "# Question 1:"
   ]
  },
  {
   "cell_type": "code",
   "execution_count": null,
   "metadata": {},
   "outputs": [],
   "source": [
    "# all matches between SRH and KXIP\n",
    "srh_kxip = matches.query(\"team1.isin(['Deccan Chargers', 'Sunrisers Hyderabad', 'Kings XI Punjab']) and team2.isin(['Deccan Chargers', 'Sunrisers Hyderabad', 'Kings XI Punjab'])\")"
   ]
  },
  {
   "cell_type": "code",
   "execution_count": null,
   "metadata": {},
   "outputs": [],
   "source": [
    "# victories of the two teams against each other \n",
    "srh_kxip.winner.value_counts()"
   ]
  },
  {
   "cell_type": "code",
   "execution_count": null,
   "metadata": {},
   "outputs": [],
   "source": [
    "# matches of SRH\n",
    "srh = matches.query(\"team1.isin(['Deccan Chargers', 'Sunrisers Hyderabad']) or team2.isin(['Deccan Chargers', 'Sunrisers Hyderabad'])\")\n",
    "\n",
    "len(srh)"
   ]
  },
  {
   "cell_type": "code",
   "execution_count": null,
   "metadata": {},
   "outputs": [],
   "source": [
    "# count of winners in SRH matches\n",
    "srh.winner.value_counts()"
   ]
  },
  {
   "cell_type": "code",
   "execution_count": null,
   "metadata": {},
   "outputs": [],
   "source": [
    "# SRH win ratio\n",
    "(58+29)/183"
   ]
  },
  {
   "cell_type": "code",
   "execution_count": null,
   "metadata": {},
   "outputs": [],
   "source": [
    "# matches of KXIP\n",
    "kxip = matches.query(\"team1 == 'Kings XI Punjab' or team2 == 'Kings XI Punjab'\")"
   ]
  },
  {
   "cell_type": "code",
   "execution_count": null,
   "metadata": {},
   "outputs": [],
   "source": [
    "# KXIP win ratio\n",
    "len(kxip[kxip.winner == \"Kings XI Punjab\"])/len(kxip)"
   ]
  },
  {
   "cell_type": "markdown",
   "metadata": {},
   "source": [
    "# Question 2:"
   ]
  },
  {
   "cell_type": "code",
   "execution_count": null,
   "metadata": {},
   "outputs": [],
   "source": [
    "# all deliveries faced by David Warner\n",
    "warner = deli[deli.batsman == 'DA Warner']"
   ]
  },
  {
   "cell_type": "code",
   "execution_count": null,
   "metadata": {},
   "outputs": [],
   "source": [
    "# ratio of matches in which Warner got out\n",
    "len(warner[warner.player_dismissed == 'DA Warner'])/len(warner.match_id.unique())"
   ]
  },
  {
   "cell_type": "code",
   "execution_count": null,
   "metadata": {},
   "outputs": [],
   "source": [
    "# all deliveries faced by David Warner against KXIP\n",
    "warner_kxip = warner[warner.bowling_team == 'Kings XI Punjab']"
   ]
  },
  {
   "cell_type": "code",
   "execution_count": null,
   "metadata": {},
   "outputs": [],
   "source": [
    "# ratio of matches against KXIP in which Warner got out\n",
    "len(warner_kxip[warner_kxip.player_dismissed == 'DA Warner'])/len(warner_kxip.match_id.unique())"
   ]
  },
  {
   "cell_type": "code",
   "execution_count": null,
   "metadata": {},
   "outputs": [],
   "source": [
    "# runs scored by Warner per match\n",
    "runs = pd.DataFrame(warner.groupby(\"match_id\", as_index=False).sum()[[\"match_id\", \"batsman_runs\"]])"
   ]
  },
  {
   "cell_type": "code",
   "execution_count": null,
   "metadata": {},
   "outputs": [],
   "source": [
    "# balls faced, including extras, by Warner per match\n",
    "ball = pd.DataFrame(warner.groupby(\"match_id\", as_index=False).count()[[\"match_id\", \"ball\"]])"
   ]
  },
  {
   "cell_type": "code",
   "execution_count": null,
   "metadata": {},
   "outputs": [],
   "source": [
    "# extras faced by Warner per match\n",
    "extra = pd.DataFrame(warner[warner.extra_runs != 0].groupby(\"match_id\", as_index=False).count()[[\"match_id\", \"over\"]])"
   ]
  },
  {
   "cell_type": "code",
   "execution_count": null,
   "metadata": {},
   "outputs": [],
   "source": [
    "# merging the two dataframes\n",
    "balls = ball.set_index('match_id').join(extra.set_index('match_id')).fillna(0)\n",
    "\n",
    "# calculating the number of balls faced after removing extras\n",
    "balls['final'] = balls[\"ball\"] - balls[\"over\"]"
   ]
  },
  {
   "cell_type": "code",
   "execution_count": null,
   "metadata": {},
   "outputs": [],
   "source": [
    "# resetting index\n",
    "balls = balls.reset_index()"
   ]
  },
  {
   "cell_type": "code",
   "execution_count": null,
   "metadata": {},
   "outputs": [],
   "source": [
    "# dataframe to calculate and store strike rate\n",
    "sr = runs.merge(balls, on=\"match_id\")"
   ]
  },
  {
   "cell_type": "code",
   "execution_count": null,
   "metadata": {},
   "outputs": [],
   "source": [
    "# displaying the dataframe\n",
    "sr"
   ]
  },
  {
   "cell_type": "code",
   "execution_count": null,
   "metadata": {},
   "outputs": [],
   "source": [
    "# calculating the strike rate\n",
    "sr[\"strike_rate\"] = sr[\"batsman_runs\"]/sr[\"final\"]*100\n",
    "\n",
    "sr.head()"
   ]
  },
  {
   "cell_type": "code",
   "execution_count": null,
   "metadata": {},
   "outputs": [],
   "source": [
    "# histogram \n",
    "plt.hist(sr[\"strike_rate\"], bins=[min(sr[\"strike_rate\"]), 125, max(sr[\"strike_rate\"])])\n",
    "plt.title(\"Strike Rate of David Warner\")\n",
    "plt.xlabel(\"Strike Rate\")\n",
    "plt.ylabel(\"Frequency\")\n",
    "plt.show()"
   ]
  },
  {
   "cell_type": "code",
   "execution_count": null,
   "metadata": {},
   "outputs": [],
   "source": [
    "plt.hist(sr.iloc[-12:][:][\"strike_rate\"], bins=[min(sr.iloc[-12:][:][\"strike_rate\"]), 125, max(sr.iloc[-12:][:][\"strike_rate\"])]);\n",
    "plt.title(\"Strike Rate of David Warner in 2019\")\n",
    "plt.xlabel(\"Strike Rate\")\n",
    "plt.ylabel(\"Frequency\")\n",
    "plt.show()"
   ]
  },
  {
   "cell_type": "markdown",
   "metadata": {},
   "source": [
    "# Question 3:"
   ]
  },
  {
   "cell_type": "code",
   "execution_count": null,
   "metadata": {},
   "outputs": [],
   "source": [
    "# deliveries faced by KL Rahul\n",
    "rahul = deli[deli.batsman == \"KL Rahul\"]"
   ]
  },
  {
   "cell_type": "code",
   "execution_count": null,
   "metadata": {},
   "outputs": [],
   "source": [
    "# runs scored by KL Rahul\n",
    "rahul_runs = rahul.groupby(\"match_id\", as_index=False).sum()[[\"match_id\", \"batsman_runs\"]]"
   ]
  },
  {
   "cell_type": "code",
   "execution_count": null,
   "metadata": {},
   "outputs": [],
   "source": [
    "# deliveries faced by KXIP\n",
    "kxip = deli.query(\"batting_team.isin(['Kings XI Punjab'])\")"
   ]
  },
  {
   "cell_type": "code",
   "execution_count": null,
   "metadata": {},
   "outputs": [],
   "source": [
    "# runs scored by KXIP\n",
    "kxip_runs = kxip.groupby(\"match_id\", as_index=False).sum()[[\"match_id\", \"total_runs\"]]"
   ]
  },
  {
   "cell_type": "code",
   "execution_count": null,
   "metadata": {},
   "outputs": [],
   "source": [
    "# merging the two dataframes\n",
    "runs = rahul_runs.merge(kxip_runs, on=\"match_id\", how=\"inner\")"
   ]
  },
  {
   "cell_type": "code",
   "execution_count": null,
   "metadata": {},
   "outputs": [],
   "source": [
    "# displaying the dataframe\n",
    "runs.head()"
   ]
  },
  {
   "cell_type": "code",
   "execution_count": null,
   "metadata": {},
   "outputs": [],
   "source": [
    "# contribution of KL Rahul to the total score of KXIP\n",
    "runs[\"contrib\"] = runs[\"batsman_runs\"]/runs[\"total_runs\"] * 100"
   ]
  },
  {
   "cell_type": "code",
   "execution_count": null,
   "metadata": {},
   "outputs": [],
   "source": [
    "# histogram\n",
    "plt.hist(runs[\"contrib\"], bins=[0, 8, 15, 23, max(runs[\"contrib\"])]);\n",
    "plt.title(\"Contribution of KL Rahul to the total score of KXIP\")\n",
    "plt.xlabel(\"%\")\n",
    "plt.ylabel(\"Frequency\")\n",
    "plt.show()"
   ]
  },
  {
   "cell_type": "code",
   "execution_count": null,
   "metadata": {},
   "outputs": [],
   "source": [
    "with pd.option_context('display.max_rows', None, 'display.max_columns', None):  \n",
    "    print(runs)"
   ]
  },
  {
   "cell_type": "code",
   "execution_count": null,
   "metadata": {},
   "outputs": [],
   "source": [
    "plt.hist(runs.iloc[19:][\"contrib\"], bins=[0, 8, 15, 23, max(runs.iloc[19:][\"contrib\"])]);\n",
    "plt.title(\"Contribution of KL Rahul to the total score of KXIP in 2019\")\n",
    "plt.xlabel(\"%\")\n",
    "plt.ylabel(\"Frequency\")\n",
    "plt.show()"
   ]
  },
  {
   "cell_type": "code",
   "execution_count": null,
   "metadata": {
    "scrolled": true
   },
   "outputs": [],
   "source": [
    "# bowlers that KL Rahul has been dismissed by\n",
    "rahul[rahul.player_dismissed == \"KL Rahul\"].bowler.value_counts()"
   ]
  },
  {
   "cell_type": "markdown",
   "metadata": {},
   "source": [
    "# Question 4:"
   ]
  },
  {
   "cell_type": "code",
   "execution_count": null,
   "metadata": {},
   "outputs": [],
   "source": [
    "# function to calculate balls taken to score a fifty\n",
    "def get_balls_for_50(df):\n",
    "    \n",
    "    # empty list to store the number of balls\n",
    "    num_balls = []\n",
    "\n",
    "    # iterating over all the matches in the dataframe\n",
    "    for m_id in df.match_id.unique():\n",
    "\n",
    "        # getting the record of one match using the match id\n",
    "        data = df[df.match_id == m_id]\n",
    "        \n",
    "        # calculating cumulative sum of the score\n",
    "        cumsum = np.cumsum(data[\"total_runs\"])\n",
    "        \n",
    "        # finding the index position of the ball on which the score of 50 is crossed\n",
    "        end_pos = pd.DataFrame(cumsum >= 50).idxmax()[0]\n",
    "\n",
    "        # dataframe which stores the details of the balls below the score of 50\n",
    "        balls_taken_df = data.loc[:end_pos][:]\n",
    "\n",
    "        # total balls taken\n",
    "        total_balls = len(balls_taken_df)\n",
    "        # extra balls like wide, no ball, etc. \n",
    "        extra_balls = len(balls_taken_df[balls_taken_df.extra_runs != 0])\n",
    "\n",
    "        # final number of balls\n",
    "        final_balls = total_balls - extra_balls\n",
    "        num_balls.append(final_balls)\n",
    "        \n",
    "        # removing the cases where the score of 50 was not crossed\n",
    "        final = [val for val in num_balls if val>1]\n",
    "        \n",
    "    return final"
   ]
  },
  {
   "cell_type": "code",
   "execution_count": null,
   "metadata": {},
   "outputs": [],
   "source": [
    "# all deliveries faced by SRH\n",
    "srh = deli.query(\"batting_team.isin(['Deccan Chargers', 'Sunrisers Hyderabad'])\")"
   ]
  },
  {
   "cell_type": "code",
   "execution_count": null,
   "metadata": {},
   "outputs": [],
   "source": [
    "# balls taken to score a 50 considering all the matches of SRH\n",
    "num = get_balls_for_50(srh)"
   ]
  },
  {
   "cell_type": "code",
   "execution_count": null,
   "metadata": {},
   "outputs": [],
   "source": [
    "# displaying the results\n",
    "num"
   ]
  },
  {
   "cell_type": "code",
   "execution_count": null,
   "metadata": {},
   "outputs": [],
   "source": [
    "# histogram\n",
    "plt.hist(num, bins=[0, 30, 37, 43, max(num)])\n",
    "plt.title(\"Balls taken to score 50 runs\")\n",
    "plt.xlabel(\"No. of runs\")\n",
    "plt.ylabel(\"Frequency\")\n",
    "plt.show()"
   ]
  },
  {
   "cell_type": "code",
   "execution_count": null,
   "metadata": {},
   "outputs": [],
   "source": [
    "# balls taken to score a 50 considering all the matches of SRH against KXIP\n",
    "num_srh = get_balls_for_50(srh.query(\"bowling_team.isin(['Kings XI Punjab'])\"))\n",
    "\n",
    "# histogram\n",
    "plt.hist(num_srh, bins=[0, 30, 37, 43, max(num)])\n",
    "plt.title(\"Balls taken to score 50 runs\")\n",
    "plt.xlabel(\"No. of runs\")\n",
    "plt.ylabel(\"Frequency\")\n",
    "plt.show()"
   ]
  },
  {
   "cell_type": "code",
   "execution_count": null,
   "metadata": {},
   "outputs": [],
   "source": [
    "# balls taken to score a 50 considering all the matches of 2019\n",
    "num_srh_2019 = get_balls_for_50(srh.query(\"match_id > 11000 & inning==1\"))\n",
    "\n",
    "# histogram\n",
    "plt.hist(num_srh_2019, bins=[0, 30, 37, 43, max(num)])\n",
    "plt.title(\"Balls taken to score 50 runs\")\n",
    "plt.xlabel(\"No. of runs\")\n",
    "plt.ylabel(\"Frequency\")\n",
    "plt.show()"
   ]
  },
  {
   "cell_type": "code",
   "execution_count": null,
   "metadata": {},
   "outputs": [],
   "source": [
    "# balls taken to score a 50 considering all the matches of 2019\n",
    "num_srh_2019 = get_balls_for_50(srh.query(\"match_id > 11000 & inning==2\"))\n",
    "\n",
    "# histogram\n",
    "plt.hist(num_srh_2019, bins=[0, 30, 37, 43, max(num)])\n",
    "plt.title(\"Balls taken to score 50 runs\")\n",
    "plt.xlabel(\"No. of runs\")\n",
    "plt.ylabel(\"Frequency\")\n",
    "plt.show()"
   ]
  },
  {
   "cell_type": "markdown",
   "metadata": {},
   "source": [
    "# Question 5:"
   ]
  },
  {
   "cell_type": "code",
   "execution_count": null,
   "metadata": {},
   "outputs": [],
   "source": [
    "# all deliveries faced by Chris Gayle\n",
    "gayle = deli[deli.batsman == \"CH Gayle\"]"
   ]
  },
  {
   "cell_type": "code",
   "execution_count": null,
   "metadata": {},
   "outputs": [],
   "source": [
    "# empty list to store runs\n",
    "runs = []\n",
    "\n",
    "# iterating over all the matches played by him\n",
    "for m_id in gayle.match_id.unique():\n",
    "    \n",
    "    # data on each match\n",
    "    match = gayle[gayle.match_id == m_id]\n",
    "    \n",
    "    # condition to check if he has played more than 10 balls\n",
    "    if len(match) >=10:\n",
    "        data = match.iloc[:10]               # getting the 1st 10 balls   \n",
    "    else:\n",
    "        data = match.copy()            # getting entire dataframe in case he did not play 10 balls\n",
    "    \n",
    "    r = data.batsman_runs.sum()\n",
    "    \n",
    "    # add runs to the list\n",
    "    runs.append(r)"
   ]
  },
  {
   "cell_type": "code",
   "execution_count": null,
   "metadata": {},
   "outputs": [],
   "source": [
    "len(runs)"
   ]
  },
  {
   "cell_type": "code",
   "execution_count": null,
   "metadata": {},
   "outputs": [],
   "source": [
    "# histogram\n",
    "plt.hist(runs, bins=[0, 10, 18, 26, max(runs)])\n",
    "plt.title(\"Runs scored in the 1st 10 balls\")\n",
    "plt.xlabel(\"Runs\")\n",
    "plt.ylabel(\"Frequency\")\n",
    "plt.show()"
   ]
  },
  {
   "cell_type": "code",
   "execution_count": null,
   "metadata": {},
   "outputs": [],
   "source": [
    "plt.hist(runs[-13:], bins=[0, 10, 15, 20, max(runs)]);\n",
    "plt.title(\"Runs scored in the 1st 10 balls in 2019\")\n",
    "plt.xlabel(\"Runs\")\n",
    "plt.ylabel(\"Frequency\")\n",
    "plt.show()"
   ]
  }
 ],
 "metadata": {
  "kernelspec": {
   "display_name": "Python 3",
   "language": "python",
   "name": "python3"
  },
  "language_info": {
   "codemirror_mode": {
    "name": "ipython",
    "version": 3
   },
   "file_extension": ".py",
   "mimetype": "text/x-python",
   "name": "python",
   "nbconvert_exporter": "python",
   "pygments_lexer": "ipython3",
   "version": "3.7.6"
  }
 },
 "nbformat": 4,
 "nbformat_minor": 4
}
