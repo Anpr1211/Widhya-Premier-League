{
 "cells": [
  {
   "cell_type": "code",
   "execution_count": null,
   "metadata": {},
   "outputs": [],
   "source": [
    "# import library\n",
    "library(dplyr)"
   ]
  },
  {
   "cell_type": "code",
   "execution_count": null,
   "metadata": {},
   "outputs": [],
   "source": [
    "# read datasets\n",
    "matches = read.csv(\"matches.csv\")\n",
    "deli = read.csv(\"deliveries.csv\")"
   ]
  },
  {
   "cell_type": "markdown",
   "metadata": {},
   "source": [
    "# Question 1:"
   ]
  },
  {
   "cell_type": "code",
   "execution_count": null,
   "metadata": {},
   "outputs": [],
   "source": [
    "# teams playing today's match\n",
    "teams = c(\"Royal Challengers Bangalore\", \"Sunrisers Hyderabad\", \"Deccan Chargers\")"
   ]
  },
  {
   "cell_type": "code",
   "execution_count": null,
   "metadata": {},
   "outputs": [],
   "source": [
    "# all matches between SRH and RCB\n",
    "srh_rcb = subset(matches, (team1 %in% teams & team2 %in% teams))\n",
    "\n",
    "head(srh_rcb)"
   ]
  },
  {
   "cell_type": "code",
   "execution_count": null,
   "metadata": {},
   "outputs": [],
   "source": [
    "srh_rcb$winner"
   ]
  },
  {
   "cell_type": "code",
   "execution_count": null,
   "metadata": {},
   "outputs": [],
   "source": [
    "# victories of the teams against each other\n",
    "count(srh_rcb, winner)"
   ]
  },
  {
   "cell_type": "code",
   "execution_count": null,
   "metadata": {},
   "outputs": [],
   "source": [
    "# matches of RCB\n",
    "rcb = subset(matches, (team1 == 'Royal Challengers Bangalore'| team2 == 'Royal Challengers Bangalore' ))"
   ]
  },
  {
   "cell_type": "code",
   "execution_count": null,
   "metadata": {},
   "outputs": [],
   "source": [
    "# total no. of matches played by RCB\n",
    "nrow(rcb)"
   ]
  },
  {
   "cell_type": "code",
   "execution_count": null,
   "metadata": {},
   "outputs": [],
   "source": [
    "# winners in those matches\n",
    "count(rcb, winner)"
   ]
  },
  {
   "cell_type": "code",
   "execution_count": null,
   "metadata": {},
   "outputs": [],
   "source": [
    "# win ratio of RCB\n",
    "84/180"
   ]
  },
  {
   "cell_type": "code",
   "execution_count": null,
   "metadata": {},
   "outputs": [],
   "source": [
    "# matches of SRH\n",
    "srh = subset(matches, (team1 %in% c('Sunrisers Hyderabad', 'Deccan Chargers')| team2 %in% c('Sunrisers Hyderabad', 'Deccan Chargers')))"
   ]
  },
  {
   "cell_type": "code",
   "execution_count": null,
   "metadata": {},
   "outputs": [],
   "source": [
    "# total no. of matches played by SRH\n",
    "nrow(srh)"
   ]
  },
  {
   "cell_type": "code",
   "execution_count": null,
   "metadata": {},
   "outputs": [],
   "source": [
    "# winners in those matches\n",
    "count(srh, winner)"
   ]
  },
  {
   "cell_type": "code",
   "execution_count": null,
   "metadata": {},
   "outputs": [],
   "source": [
    "# win ratio of SRH\n",
    "(29+58)/183"
   ]
  },
  {
   "cell_type": "markdown",
   "metadata": {},
   "source": [
    "# Question 2:"
   ]
  },
  {
   "cell_type": "code",
   "execution_count": null,
   "metadata": {},
   "outputs": [],
   "source": [
    "# total runs made in each IPL match\n",
    "total_runs = deli %>% group_by(match_id) %>% summarise(runs = sum(total_runs))\n",
    "\n",
    "head(total_runs)"
   ]
  },
  {
   "cell_type": "code",
   "execution_count": null,
   "metadata": {},
   "outputs": [],
   "source": [
    "# histogram\n",
    "hist(total_runs$runs, freq=TRUE, breaks=c(0, 320, 340, 360, max(total_runs$runs)))"
   ]
  },
  {
   "cell_type": "code",
   "execution_count": null,
   "metadata": {},
   "outputs": [],
   "source": [
    "# all deliveries in SRH vs RCB matches\n",
    "srh_rcb_deli = subset(deli, (bowling_team %in% teams & batting_team %in% teams))\n",
    "\n",
    "head(srh_rcb_deli)"
   ]
  },
  {
   "cell_type": "code",
   "execution_count": null,
   "metadata": {},
   "outputs": [],
   "source": [
    "# total runs in SRH vs DC matches\n",
    "runs_srh_rcb = srh_rcb_deli %>% group_by(match_id) %>% summarise(runs = sum(total_runs))\n",
    "\n",
    "head(runs_srh_rcb)"
   ]
  },
  {
   "cell_type": "code",
   "execution_count": null,
   "metadata": {},
   "outputs": [],
   "source": [
    "# histogram\n",
    "hist(runs_srh_rcb$runs, freq=TRUE, breaks=c(0, 320, 340, 360, max(runs_srh_rcb$runs)))"
   ]
  },
  {
   "cell_type": "code",
   "execution_count": null,
   "metadata": {},
   "outputs": [],
   "source": [
    "# all deliveries faced by SRH\n",
    "srh_bat = subset(deli, batting_team %in% c('Sunrisers Hyderabad', 'Deccan Chargers'))\n",
    "\n",
    "head(srh_bat)"
   ]
  },
  {
   "cell_type": "code",
   "execution_count": null,
   "metadata": {},
   "outputs": [],
   "source": [
    "# runs scored by SRH per match\n",
    "runs_srh = srh_bat %>% group_by(match_id) %>% summarise(runs = sum(total_runs))\n",
    "\n",
    "head(runs_srh)"
   ]
  },
  {
   "cell_type": "code",
   "execution_count": null,
   "metadata": {},
   "outputs": [],
   "source": [
    "# statistical measures\n",
    "summary(runs_srh$runs)"
   ]
  },
  {
   "cell_type": "code",
   "execution_count": null,
   "metadata": {},
   "outputs": [],
   "source": [
    "# all deliveries faced by RCB\n",
    "rcb_bat = subset(deli, batting_team == 'Royal Challengers Bangalore')\n",
    "\n",
    "head(rcb_bat)"
   ]
  },
  {
   "cell_type": "code",
   "execution_count": null,
   "metadata": {},
   "outputs": [],
   "source": [
    "# runs scored by RCB per match\n",
    "runs_rcb = rcb_bat %>% group_by(match_id) %>% summarise(runs = sum(total_runs))\n",
    "\n",
    "head(runs_rcb)"
   ]
  },
  {
   "cell_type": "code",
   "execution_count": null,
   "metadata": {},
   "outputs": [],
   "source": [
    "# statistical measures\n",
    "summary(runs_rcb$runs)"
   ]
  },
  {
   "cell_type": "markdown",
   "metadata": {},
   "source": [
    "# Question 3:"
   ]
  },
  {
   "cell_type": "code",
   "execution_count": null,
   "metadata": {},
   "outputs": [],
   "source": [
    "# function to calculate balls taken to score the given runs\n",
    "get_balls_for_runs = function(df, runs){\n",
    "    \n",
    "    # empty list to store the number of balls\n",
    "    num_balls = numeric()\n",
    "    \n",
    "    # iterating over all the matches\n",
    "    for (m_id in unique(df$match_id)){\n",
    "        \n",
    "        # getting the record of one match using the match id\n",
    "        data = subset(df, (match_id == m_id))\n",
    "        \n",
    "        # calculating cumulative sum of the score\n",
    "        cumsum = cumsum(data$total_runs)\n",
    "        \n",
    "        # finding the index position of the ball on which the score of runs is crossed\n",
    "        end_pos = which.max(data.frame(cumsum >= runs)$cumsum....runs)\n",
    "        \n",
    "        # dataframe which stores the details of the balls below the score of 100\n",
    "        balls_taken_df = data[1:end_pos, ]\n",
    "        \n",
    "        # total balls taken\n",
    "        total_balls = nrow(balls_taken_df)\n",
    "        # extra balls like wide, no ball, etc. \n",
    "        extra_balls = nrow(subset(balls_taken_df, (extra_runs != 0)))\n",
    "        \n",
    "        # final number of balls\n",
    "        final_balls = total_balls - extra_balls\n",
    "        num_balls = c(num_balls, final_balls)\n",
    "        \n",
    "        # removing the cases where the score of given runs was not crossed\n",
    "        final = num_balls[num_balls>1]\n",
    "        \n",
    "        \n",
    "    }\n",
    "    return (final)\n",
    "}"
   ]
  },
  {
   "cell_type": "code",
   "execution_count": null,
   "metadata": {},
   "outputs": [],
   "source": [
    "# balls taken to score a 50 considering all the matches of RCB\n",
    "num_50 = get_balls_for_runs(rcb_bat, 50)\n",
    "\n",
    "summary(num_50)\n",
    "\n",
    "# balls taken to score a 80 considering all the matches of RCB\n",
    "num_80 = get_balls_for_runs(rcb_bat, 80)\n",
    "\n",
    "summary(num_80)"
   ]
  },
  {
   "cell_type": "code",
   "execution_count": null,
   "metadata": {},
   "outputs": [],
   "source": [
    "# balls taken to score a 50 considering all the matches of SRH\n",
    "num_50 = get_balls_for_runs(srh_bat, 50)\n",
    "\n",
    "summary(num_50)\n",
    "\n",
    "# balls taken to score a 80 considering all the matches of SRH\n",
    "num_80 = get_balls_for_runs(srh_bat, 80)\n",
    "\n",
    "summary(num_80)"
   ]
  },
  {
   "cell_type": "code",
   "execution_count": null,
   "metadata": {},
   "outputs": [],
   "source": [
    "# all deliveries faced by RCB against SRH\n",
    "rcb_bat_srh = subset(srh_rcb_deli, batting_team=='Royal Challengers Bangalore')\n",
    "\n",
    "# balls taken to score a 50 considering all the matches of RCB against SRH\n",
    "num_50 = get_balls_for_runs(rcb_bat_srh, 50)\n",
    "\n",
    "summary(num_50)\n",
    "\n",
    "# balls taken to score a 80 considering all the matches of RCB against SRH\n",
    "num_80 = get_balls_for_runs(rcb_bat_srh, 80)\n",
    "\n",
    "summary(num_80)"
   ]
  },
  {
   "cell_type": "code",
   "execution_count": null,
   "metadata": {},
   "outputs": [],
   "source": [
    "# all deliveries faced by SRH against RCB\n",
    "srh_bat_rcb = subset(srh_rcb_deli, batting_team %in% c('Sunrisers Hyderabad', 'Deccan Chargers'))\n",
    "\n",
    "# balls taken to score a 50 considering all the matches of SRH against RCB\n",
    "num_50 = get_balls_for_runs(srh_bat_rcb, 50)\n",
    "\n",
    "summary(num_50)\n",
    "\n",
    "# balls taken to score a 80 considering all the matches of SRH against RCB\n",
    "num_80 = get_balls_for_runs(srh_bat_rcb, 80)\n",
    "\n",
    "summary(num_80)"
   ]
  },
  {
   "cell_type": "markdown",
   "metadata": {},
   "source": [
    "# Question 4:"
   ]
  },
  {
   "cell_type": "code",
   "execution_count": null,
   "metadata": {},
   "outputs": [],
   "source": [
    "# all wickets lost by SRH in the 1-6 overs\n",
    "srh_wickets = subset(deli, (batting_team %in% c('Sunrisers Hyderabad', 'Deccan Chargers')  & over %in% c(1:6) & player_dismissed!=''))\n",
    "\n",
    "head(srh_wickets)"
   ]
  },
  {
   "cell_type": "code",
   "execution_count": null,
   "metadata": {},
   "outputs": [],
   "source": [
    "# statistical measures\n",
    "summary(srh_wickets %>% group_by(match_id) %>% summarise(wickets = n()))"
   ]
  },
  {
   "cell_type": "code",
   "execution_count": null,
   "metadata": {},
   "outputs": [],
   "source": [
    "# all wickets lost by RCB in the 1-6 overs\n",
    "rcb_wickets = subset(deli, (batting_team == 'Royal Challengers Bangalore'  & over %in% c(1:6) & player_dismissed!=''))\n",
    "\n",
    "head(rcb_wickets)"
   ]
  },
  {
   "cell_type": "code",
   "execution_count": null,
   "metadata": {},
   "outputs": [],
   "source": [
    "# statistical measures\n",
    "summary(rcb_wickets %>% group_by(match_id) %>% summarise(wickets = n()))"
   ]
  },
  {
   "cell_type": "markdown",
   "metadata": {},
   "source": [
    "# Question 5:"
   ]
  },
  {
   "cell_type": "code",
   "execution_count": null,
   "metadata": {},
   "outputs": [],
   "source": [
    "# all dot balls per match in IPL\n",
    "dots = subset(deli, total_runs == 0) %>% group_by(match_id) %>% summarise(dot_balls=n())\n",
    "\n",
    "# histogram\n",
    "hist(dots$dot_balls, freq=TRUE, breaks=c(0, 60, 80, 110, max(dots$dot_balls)))"
   ]
  },
  {
   "cell_type": "code",
   "execution_count": null,
   "metadata": {},
   "outputs": [],
   "source": [
    "# all deliveries in SRH vs RCB matches\n",
    "deli_srh_rcb = subset(deli, bowling_team %in% teams & batting_team %in% teams)\n",
    "\n",
    "# all dot balls in SRH vs RCB matches\n",
    "dots_srh_rcb = subset(deli_srh_rcb, total_runs == 0) %>% group_by(match_id) %>% summarise(dot_balls=n())\n",
    "\n",
    "# histogram\n",
    "hist(dots_srh_rcb$dot_balls, freq=TRUE, breaks=c(0, 60, 80, 110, max(dots_srh_rcb$dot_balls)))"
   ]
  },
  {
   "cell_type": "code",
   "execution_count": null,
   "metadata": {},
   "outputs": [],
   "source": [
    "# all deliveries faced by SRH\n",
    "deli_srh_bat = subset(deli, batting_team %in% c('Sunrisers Hyderabad', 'Deccan Chargers'))\n",
    "\n",
    "# all dot balls by SRH\n",
    "dots_srh = subset(deli_srh_bat, total_runs == 0) %>% group_by(match_id) %>% summarise(dot_balls=n())\n",
    "\n",
    "# statistical measures\n",
    "summary(dots_srh$dot_balls)"
   ]
  },
  {
   "cell_type": "code",
   "execution_count": null,
   "metadata": {},
   "outputs": [],
   "source": [
    "# all deliveries faced by RCB\n",
    "deli_rcb_bat = subset(deli, batting_team == 'Royal Challengers Bangalore')\n",
    "\n",
    "# all dot balls by RCB\n",
    "dots_rcb = subset(deli_rcb_bat, total_runs == 0) %>% group_by(match_id) %>% summarise(dot_balls=n())\n",
    "\n",
    "# statistical measures\n",
    "summary(dots_rcb$dot_balls)"
   ]
  }
 ],
 "metadata": {
  "kernelspec": {
   "display_name": "R",
   "language": "R",
   "name": "ir"
  },
  "language_info": {
   "codemirror_mode": "r",
   "file_extension": ".r",
   "mimetype": "text/x-r-source",
   "name": "R",
   "pygments_lexer": "r",
   "version": "3.5.1"
  }
 },
 "nbformat": 4,
 "nbformat_minor": 4
}
