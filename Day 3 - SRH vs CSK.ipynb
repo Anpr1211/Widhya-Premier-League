{
 "cells": [
  {
   "cell_type": "code",
   "execution_count": null,
   "metadata": {},
   "outputs": [],
   "source": [
    "# import libraries\n",
    "import pandas as pd\n",
    "import matplotlib.pyplot as plt"
   ]
  },
  {
   "cell_type": "code",
   "execution_count": null,
   "metadata": {},
   "outputs": [],
   "source": [
    "# read datasets\n",
    "matches = pd.read_csv(\"matches.csv\")\n",
    "deli = pd.read_csv(\"deliveries.csv\")"
   ]
  },
  {
   "cell_type": "markdown",
   "metadata": {},
   "source": [
    "The two teams playing today's match are SRH and CSK. For filtering out the appropriate matches between these two teams, the names 'Sunrisers Hyderabad' and 'Deccan Chargers' are considered for the SRH franchise. It is to be noted that CSK did not play two seasons of the IPL. For that duration, the team Rising Pune Supergiants has been considered in the analysis owing to the presence of M. S. Dhoni in the team, who plays as the captain of CSK and has been instrumental in the outcome of many matches. \n",
    "\n",
    "The teams 'Sunrisers Hyderabad' and 'Deccan Chargers' are considered as the SRH franchise and 'Chennai Super Kings', 'Rising Pune Supergiant' and 'Rising Pune Supergiants' are considered as the CSK franchise."
   ]
  },
  {
   "cell_type": "markdown",
   "metadata": {},
   "source": [
    "# Question 1:"
   ]
  },
  {
   "cell_type": "code",
   "execution_count": null,
   "metadata": {},
   "outputs": [],
   "source": [
    "# list of franchises\n",
    "franchise = ['Sunrisers Hyderabad', 'Deccan Chargers', 'Chennai Super Kings', 'Rising Pune Supergiant', 'Rising Pune Supergiants']"
   ]
  },
  {
   "cell_type": "code",
   "execution_count": null,
   "metadata": {},
   "outputs": [],
   "source": [
    "# all matches between CSK and SRH\n",
    "srh_csk = matches[matches[\"team1\"].isin(franchise)]\n",
    "print(len(srh_csk))\n",
    "srh_csk = srh_csk[srh_csk[\"team2\"].isin(franchise)]\n",
    "print(len(srh_csk))"
   ]
  },
  {
   "cell_type": "code",
   "execution_count": null,
   "metadata": {},
   "outputs": [],
   "source": [
    "# victories of the two teams against each other \n",
    "srh_csk.winner.value_counts()"
   ]
  },
  {
   "cell_type": "markdown",
   "metadata": {},
   "source": [
    "The two franchises have played 26 games against each other, CSK having won an overwhelming majority of them."
   ]
  },
  {
   "cell_type": "code",
   "execution_count": null,
   "metadata": {},
   "outputs": [],
   "source": [
    "# matches of SRH\n",
    "srh = matches.query(\"team1.isin(['Sunrisers Hyderabad', 'Deccan Chargers']) or team2.isin(['Sunrisers Hyderabad', 'Deccan Chargers'])\")\n",
    "\n",
    "len(srh)"
   ]
  },
  {
   "cell_type": "code",
   "execution_count": null,
   "metadata": {},
   "outputs": [],
   "source": [
    "# count of winners in SRH matches\n",
    "srh.winner.value_counts()"
   ]
  },
  {
   "cell_type": "code",
   "execution_count": null,
   "metadata": {},
   "outputs": [],
   "source": [
    "# SRH win ratio\n",
    "(58+29)/183"
   ]
  },
  {
   "cell_type": "code",
   "execution_count": null,
   "metadata": {},
   "outputs": [],
   "source": [
    "# matches of CSK\n",
    "csk = matches.query(\"team1.isin(['Chennai Super Kings', 'Rising Pune Supergiant', 'Rising Pune Supergiants']) or team2.isin(['Chennai Super Kings', 'Rising Pune Supergiant', 'Rising Pune Supergiants'])\")\n",
    "\n",
    "len(csk)"
   ]
  },
  {
   "cell_type": "code",
   "execution_count": null,
   "metadata": {},
   "outputs": [],
   "source": [
    "# count of winners in CSK matches\n",
    "csk.winner.value_counts()"
   ]
  },
  {
   "cell_type": "code",
   "execution_count": null,
   "metadata": {},
   "outputs": [],
   "source": [
    "# CSK win ratio\n",
    "(100+10+5)/194"
   ]
  },
  {
   "cell_type": "markdown",
   "metadata": {},
   "source": [
    "CSK also has a higher win ratio compared to SRH."
   ]
  },
  {
   "cell_type": "markdown",
   "metadata": {},
   "source": [
    "## Explanation:\n",
    "\n",
    "Purely on the basis of historical data, it seems that CSK will win today's match as it has always displayed a better performance compared to SRH."
   ]
  },
  {
   "cell_type": "markdown",
   "metadata": {},
   "source": [
    "# Question 2:"
   ]
  },
  {
   "cell_type": "code",
   "execution_count": null,
   "metadata": {},
   "outputs": [],
   "source": [
    "# Total no. of wides in IPL history\n",
    "len(deli[deli.wide_runs != 0]) "
   ]
  },
  {
   "cell_type": "code",
   "execution_count": null,
   "metadata": {},
   "outputs": [],
   "source": [
    "# Total no. of matches in IPL history\n",
    "len(deli.match_id.unique())"
   ]
  },
  {
   "cell_type": "code",
   "execution_count": null,
   "metadata": {},
   "outputs": [],
   "source": [
    "# average no. of wides per match\n",
    "5405/756"
   ]
  },
  {
   "cell_type": "code",
   "execution_count": null,
   "metadata": {},
   "outputs": [],
   "source": [
    "# all deliveries in CSK vs SRH matches\n",
    "srh_csk_deli = srh_csk_deli[srh_csk_deli[\"bowling_team\"].isin(franchise)]\n",
    "print(len(srh_csk_deli))"
   ]
  },
  {
   "cell_type": "code",
   "execution_count": null,
   "metadata": {},
   "outputs": [],
   "source": [
    "# all wide balls in CSK vs SRH matches\n",
    "wides = srh_csk_deli[srh_csk_deli.wide_runs != 0].groupby('match_id').count()['wide_runs']\n",
    "\n",
    "wides.plot(kind=\"hist\")"
   ]
  },
  {
   "cell_type": "code",
   "execution_count": null,
   "metadata": {},
   "outputs": [],
   "source": [
    "# median \n",
    "wides.median()"
   ]
  },
  {
   "cell_type": "code",
   "execution_count": null,
   "metadata": {},
   "outputs": [],
   "source": [
    "# all deliveries of SRH\n",
    "srh_deli = deli.query(\"bowling_team.isin(['Sunrisers Hyderabad', 'Deccan Chargers'])\")\n",
    "\n",
    "len(srh_deli)"
   ]
  },
  {
   "cell_type": "code",
   "execution_count": null,
   "metadata": {},
   "outputs": [],
   "source": [
    "# all wide balls by SRH in an innings\n",
    "wides_srh = srh_deli[srh_deli.wide_runs != 0].groupby('match_id').count()['wide_runs']\n",
    "\n",
    "wides_srh.plot(kind=\"hist\")"
   ]
  },
  {
   "cell_type": "code",
   "execution_count": null,
   "metadata": {},
   "outputs": [],
   "source": [
    "# Median\n",
    "wides_srh.median()"
   ]
  },
  {
   "cell_type": "code",
   "execution_count": null,
   "metadata": {},
   "outputs": [],
   "source": [
    "# all deliveries of CSK\n",
    "csk_deli = deli.query(\"bowling_team.isin(['Chennai Super Kings', 'Rising Pune Supergiant', 'Rising Pune Supergiants'])\")\n",
    "\n",
    "len(csk_deli)"
   ]
  },
  {
   "cell_type": "code",
   "execution_count": null,
   "metadata": {},
   "outputs": [],
   "source": [
    "# all wide balls by CSK in an innings\n",
    "wides_csk = csk_deli[csk_deli.wide_runs != 0].groupby('match_id').count()['wide_runs']\n",
    "\n",
    "wides_csk.plot(kind=\"hist\")"
   ]
  },
  {
   "cell_type": "code",
   "execution_count": null,
   "metadata": {},
   "outputs": [],
   "source": [
    "# median\n",
    "wides_csk.median()"
   ]
  },
  {
   "cell_type": "markdown",
   "metadata": {},
   "source": [
    "## Explanation:\n",
    "\n",
    "The average no. of wide balls bowled in an IPL match is 7. However, it is observed that in CSK vs SRH matches, the median measure comes down to 6.5, and on analysis of the deliveries by the team individually, CSK and SRH both throw 3 wide balls per innings. Hence, it can be said that there will be 6-8 wide balls thrown in today's match."
   ]
  },
  {
   "cell_type": "markdown",
   "metadata": {},
   "source": [
    "# Question 3:"
   ]
  },
  {
   "cell_type": "code",
   "execution_count": null,
   "metadata": {},
   "outputs": [],
   "source": [
    "# filtering for David Warner\n",
    "warner = deli[deli.batsman == \"DA Warner\"]\n",
    "\n",
    "len(warner)"
   ]
  },
  {
   "cell_type": "code",
   "execution_count": null,
   "metadata": {},
   "outputs": [],
   "source": [
    "# average no. of runs scored by Warner in IPL history\n",
    "warner.total_runs.sum()/len(warner.match_id.unique())"
   ]
  },
  {
   "cell_type": "code",
   "execution_count": null,
   "metadata": {},
   "outputs": [],
   "source": [
    "# average no. of runs scored by Warner against CSK\n",
    "\n",
    "total_runs = warner.query(\"bowling_team.isin(['Chennai Super Kings', 'Rising Pune Supergiant', 'Rising Pune Supergiants'])\").total_runs.sum()\n",
    "total_matches = len(warner.query(\"bowling_team.isin(['Chennai Super Kings', 'Rising Pune Supergiant', 'Rising Pune Supergiants'])\").match_id.unique())\n",
    "\n",
    "total_runs/total_matches"
   ]
  },
  {
   "cell_type": "code",
   "execution_count": null,
   "metadata": {},
   "outputs": [],
   "source": [
    "# runs scored by Warner against CSK\n",
    "\n",
    "runs = warner.query(\"bowling_team.isin(['Chennai Super Kings', 'Rising Pune Supergiant', 'Rising Pune Supergiants'])\").groupby(\"match_id\").sum().total_runs\n",
    "\n",
    "runs"
   ]
  },
  {
   "cell_type": "code",
   "execution_count": null,
   "metadata": {},
   "outputs": [],
   "source": [
    "# No. of instances when Warner scored runs in the range 0-10 against CSK\n",
    "len(runs[runs <= 10])"
   ]
  },
  {
   "cell_type": "code",
   "execution_count": null,
   "metadata": {},
   "outputs": [],
   "source": [
    "# No. of instances when Warner scored runs in the range 11-25 against CSK\n",
    "len(runs[runs.isin(range(11, 26))])"
   ]
  },
  {
   "cell_type": "code",
   "execution_count": null,
   "metadata": {},
   "outputs": [],
   "source": [
    "# No. of instances when Warner scored runs in the range 15-40 against CSK\n",
    "len(runs[runs.isin(range(26, 40))])"
   ]
  },
  {
   "cell_type": "code",
   "execution_count": null,
   "metadata": {},
   "outputs": [],
   "source": [
    "# No. of instances when Karthik scored runs in the range 40 or more against CSK\n",
    "len(runs[runs > 40])"
   ]
  },
  {
   "cell_type": "markdown",
   "metadata": {},
   "source": [
    "## Explanation:\n",
    "\n",
    "Although Warner has a lower average score against CSK when compared to other teams, it is observed that in matches against CSK, he either gets out early at a single digit score, and if he isn't dismissed at that time, he goes on to score big. Considering the performance of CSK bowlers in the current season and Warner's form, it can be concluded that Warner will score more than 40 runs today."
   ]
  },
  {
   "cell_type": "markdown",
   "metadata": {},
   "source": [
    "# Question 4:"
   ]
  },
  {
   "cell_type": "code",
   "execution_count": null,
   "metadata": {},
   "outputs": [],
   "source": [
    "# deliveries in CSK vs SRH matches where CSK was the batting team\n",
    "wickets_csk = srh_csk_deli[srh_csk_deli[\"batting_team\"].isin(['Chennai Super Kings', 'Rising Pune Supergiant', 'Rising Pune Supergiants'])]"
   ]
  },
  {
   "cell_type": "code",
   "execution_count": null,
   "metadata": {},
   "outputs": [],
   "source": [
    "len(wickets_csk)"
   ]
  },
  {
   "cell_type": "code",
   "execution_count": null,
   "metadata": {},
   "outputs": [],
   "source": [
    "# median wickets that CSK loses in a match vs SRH\n",
    "wickets_csk[wickets_csk.player_dismissed.notnull()].groupby(\"match_id\").count().player_dismissed.median()"
   ]
  },
  {
   "cell_type": "code",
   "execution_count": null,
   "metadata": {},
   "outputs": [],
   "source": [
    "# deliveries in CSK matches where CSK was the batting team\n",
    "csk_bat = deli.query(\"batting_team.isin(['Chennai Super Kings', 'Rising Pune Supergiant', 'Rising Pune Supergiants'])\")\n",
    "\n",
    "len(csk_bat)"
   ]
  },
  {
   "cell_type": "code",
   "execution_count": null,
   "metadata": {},
   "outputs": [],
   "source": [
    "# median wickets that CSK loses in a match\n",
    "csk_bat[csk_bat.player_dismissed.notnull()].groupby(\"match_id\").count().player_dismissed.median()"
   ]
  },
  {
   "cell_type": "markdown",
   "metadata": {},
   "source": [
    "# Explanation:\n",
    "\n",
    "Since the no. of wickets lost by CSK per match against SRH or all teams is 5, it seems that CSK will also lose 5 wickets in today's match. But due to the fact that SRH has a really strong bowling line up and CSK batsmen are out of form, this number can be higher."
   ]
  },
  {
   "cell_type": "markdown",
   "metadata": {},
   "source": [
    "# Question 5:"
   ]
  },
  {
   "cell_type": "code",
   "execution_count": null,
   "metadata": {},
   "outputs": [],
   "source": [
    "# total runs made in each CSK vs SRH match\n",
    "total_runs_match = srh_csk_deli.groupby(\"match_id\").sum()[\"batsman_runs\"]\n",
    "\n",
    "total_runs_match.mean()"
   ]
  },
  {
   "cell_type": "code",
   "execution_count": null,
   "metadata": {},
   "outputs": [],
   "source": [
    "# histogram\n",
    "plt.hist(total_runs_match, bins=[min(total_runs_match), 320, 340, 360, 370]); "
   ]
  },
  {
   "cell_type": "markdown",
   "metadata": {},
   "source": [
    "In 16 out of 26 matches, the total score made by both the teams remained below 320."
   ]
  },
  {
   "cell_type": "code",
   "execution_count": null,
   "metadata": {},
   "outputs": [],
   "source": [
    "# average runs scored by SRH in a match\n",
    "total_runs_srh = srh_deli.groupby(\"match_id\").sum()[\"batsman_runs\"]\n",
    "\n",
    "total_runs_srh.mean()"
   ]
  },
  {
   "cell_type": "code",
   "execution_count": null,
   "metadata": {},
   "outputs": [],
   "source": [
    "# average runs scored by CSK in a match\n",
    "total_runs_csk = csk_deli.groupby(\"match_id\").sum()[\"batsman_runs\"]\n",
    "\n",
    "total_runs_csk.mean()"
   ]
  },
  {
   "cell_type": "markdown",
   "metadata": {},
   "source": [
    "## Explanation:"
   ]
  },
  {
   "cell_type": "markdown",
   "metadata": {},
   "source": [
    "The individual average score of CSK and SRH lie below 150. Hence, it can inferred that the total score in the match will be below 320."
   ]
  }
 ],
 "metadata": {
  "kernelspec": {
   "display_name": "Python 3",
   "language": "python",
   "name": "python3"
  },
  "language_info": {
   "codemirror_mode": {
    "name": "ipython",
    "version": 3
   },
   "file_extension": ".py",
   "mimetype": "text/x-python",
   "name": "python",
   "nbconvert_exporter": "python",
   "pygments_lexer": "ipython3",
   "version": "3.7.6"
  }
 },
 "nbformat": 4,
 "nbformat_minor": 4
}
